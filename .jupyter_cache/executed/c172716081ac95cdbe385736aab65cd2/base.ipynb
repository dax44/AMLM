{
 "cells": [
  {
   "cell_type": "code",
   "execution_count": 1,
   "id": "2d90e366",
   "metadata": {},
   "outputs": [
    {
     "name": "stdout",
     "output_type": "stream",
     "text": [
      "{\"/Users/majerek/miniconda3/envs/tensorflow/lib/python3.10/importlib/_bootstrap.py\": 1679689197.4496322, \"/Users/majerek/miniconda3/envs/tensorflow/lib/python3.10/importlib/_bootstrap_external.py\": 1679689197.4561486, \"/Users/majerek/miniconda3/envs/tensorflow/lib/python3.10/codecs.py\": 1679689193.856249, \"/Users/majerek/miniconda3/envs/tensorflow/lib/python3.10/encodings/aliases.py\": 1679689196.08886, \"/Users/majerek/miniconda3/envs/tensorflow/lib/python3.10/encodings/__init__.py\": 1679689196.0828786, \"/Users/majerek/miniconda3/envs/tensorflow/lib/python3.10/encodings/utf_8.py\": 1679689196.805846, \"/Users/majerek/miniconda3/envs/tensorflow/lib/python3.10/abc.py\": 1679689193.7490916, \"/Users/majerek/miniconda3/envs/tensorflow/lib/python3.10/io.py\": 1679689194.1649137, \"/Users/majerek/miniconda3/envs/tensorflow/lib/python3.10/warnings.py\": 1679689194.8453767, \"/Users/majerek/miniconda3/envs/tensorflow/lib/python3.10/stat.py\": 1679689194.5637498, \"/Users/majerek/miniconda3/envs/tensorflow/lib/python3.10/_collections_abc.py\": 1679689193.6452239, \"/Users/majerek/miniconda3/envs/tensorflow/lib/python3.10/genericpath.py\": 1679689194.0569434, \"/Users/majerek/miniconda3/envs/tensorflow/lib/python3.10/posixpath.py\": 1679689194.323576, \"/Users/majerek/miniconda3/envs/tensorflow/lib/python3.10/os.py\": 1679689194.267877, \"/Users/majerek/miniconda3/envs/tensorflow/lib/python3.10/_sitebuiltins.py\": 1679689193.7280986, \"/Users/majerek/miniconda3/envs/tensorflow/lib/python3.10/site-packages/_distutils_hack/__init__.py\": 1698837523.0797603, \"/Users/majerek/miniconda3/envs/tensorflow/lib/python3.10/types.py\": 1679689194.8163028, \"/Users/majerek/miniconda3/envs/tensorflow/lib/python3.10/importlib/__init__.py\": 1679689197.433036, \"/Users/majerek/miniconda3/envs/tensorflow/lib/python3.10/importlib/_abc.py\": 1679689197.4377773, \"/Users/majerek/miniconda3/envs/tensorflow/lib/python3.10/keyword.py\": 1679689194.1774828, \"/Users/majerek/miniconda3/envs/tensorflow/lib/python3.10/operator.py\": 1679689194.2548048, \"/Users/majerek/miniconda3/envs/tensorflow/lib/python3.10/reprlib.py\": 1679689194.414363, \"/Users/majerek/miniconda3/envs/tensorflow/lib/python3.10/collections/__init__.py\": 1679689195.1549215, \"/Users/majerek/miniconda3/envs/tensorflow/lib/python3.10/functools.py\": 1679689194.0505655, \"/Users/majerek/miniconda3/envs/tensorflow/lib/python3.10/contextlib.py\": 1679689193.8937435, \"/Users/majerek/miniconda3/envs/tensorflow/lib/python3.10/importlib/util.py\": 1679689197.5779898, \"/Users/majerek/miniconda3/envs/tensorflow/lib/python3.10/importlib/machinery.py\": 1679689197.5338817, \"/Users/majerek/miniconda3/envs/tensorflow/lib/python3.10/site.py\": 1679689194.5161076, \"/Users/majerek/miniconda3/envs/tensorflow/lib/python3.10/runpy.py\": 1679689194.426458, \"/Users/majerek/miniconda3/envs/tensorflow/lib/python3.10/enum.py\": 1679689194.0014584, \"/Users/majerek/miniconda3/envs/tensorflow/lib/python3.10/sre_constants.py\": 1679689194.5486429, \"/Users/majerek/miniconda3/envs/tensorflow/lib/python3.10/sre_parse.py\": 1679689194.5536733, \"/Users/majerek/miniconda3/envs/tensorflow/lib/python3.10/sre_compile.py\": 1679689194.5436919, \"/Users/majerek/miniconda3/envs/tensorflow/lib/python3.10/copyreg.py\": 1679689193.9543667, \"/Users/majerek/miniconda3/envs/tensorflow/lib/python3.10/re.py\": 1679689194.4021344, \"/Users/majerek/miniconda3/envs/tensorflow/lib/python3.10/collections/abc.py\": 1679689195.1620202, \"/Users/majerek/miniconda3/envs/tensorflow/lib/python3.10/typing.py\": 1679689194.8236418, \"/Users/majerek/miniconda3/envs/tensorflow/lib/python3.10/site-packages/ipykernel/_version.py\": 1679336876.686551, \"/Users/majerek/miniconda3/envs/tensorflow/lib/python3.10/lib-dynload/_json.cpython-310-darwin.so\": 1679689266.5907793, \"/Users/majerek/miniconda3/envs/tensorflow/lib/python3.10/json/scanner.py\": 1679689197.6753325, \"/Users/majerek/miniconda3/envs/tensorflow/lib/python3.10/json/decoder.py\": 1679689197.6643999, \"/Users/majerek/miniconda3/envs/tensorflow/lib/python3.10/json/encoder.py\": 1679689197.6699402, \"/Users/majerek/miniconda3/envs/tensorflow/lib/python3.10/json/__init__.py\": 1679689197.6603308, \"/Users/majerek/miniconda3/envs/tensorflow/lib/python3.10/signal.py\": 1679689194.4798462, \"/Users/majerek/miniconda3/envs/tensorflow/lib/python3.10/_weakrefset.py\": 1679689193.744396, \"/Users/majerek/miniconda3/envs/tensorflow/lib/python3.10/threading.py\": 1679689194.7354052, \"/Users/majerek/miniconda3/envs/tensorflow/lib/python3.10/lib-dynload/fcntl.cpython-310-darwin.so\": 1679689261.066497, \"/Users/majerek/miniconda3/envs/tensorflow/lib/python3.10/lib-dynload/_posixsubprocess.cpython-310-darwin.so\": 1679689251.4825122, \"/Users/majerek/miniconda3/envs/tensorflow/lib/python3.10/lib-dynload/select.cpython-310-darwin.so\": 1679689268.8152385, \"/Users/majerek/miniconda3/envs/tensorflow/lib/python3.10/lib-dynload/math.cpython-310-darwin.so\": 1679689256.0588536, \"/Users/majerek/miniconda3/envs/tensorflow/lib/python3.10/selectors.py\": 1679689194.4461899, \"/Users/majerek/miniconda3/envs/tensorflow/lib/python3.10/subprocess.py\": 1679689194.6592505, \"/Users/majerek/miniconda3/envs/tensorflow/lib/python3.10/site-packages/jupyter_client/_version.py\": 1681432567.9620438, \"/Users/majerek/miniconda3/envs/tensorflow/lib/python3.10/platform.py\": 1679689194.3064916, \"/Users/majerek/miniconda3/envs/tensorflow/lib/python3.10/lib-dynload/_ctypes.cpython-310-darwin.so\": 1679689267.4322486, \"/Users/majerek/miniconda3/envs/tensorflow/lib/python3.10/lib-dynload/_struct.cpython-310-darwin.so\": 1679689250.2451, \"/Users/majerek/miniconda3/envs/tensorflow/lib/python3.10/struct.py\": 1679689194.587606, \"/Users/majerek/miniconda3/envs/tensorflow/lib/python3.10/ctypes/_endian.py\": 1679689195.2584212, \"/Users/majerek/miniconda3/envs/tensorflow/lib/python3.10/ctypes/__init__.py\": 1679689195.2437885, \"/Users/majerek/miniconda3/envs/tensorflow/lib/python3.10/site-packages/zmq/backend/select.py\": 1679317399.8426642, \"/Users/majerek/miniconda3/envs/tensorflow/lib/python3.10/site-packages/zmq/error.py\": 1679317399.83716, \"/Users/majerek/miniconda3/envs/tensorflow/lib/python3.10/site-packages/zmq/backend/cython/context.cpython-310-darwin.so\": 1679317408.4165595, \"/Users/majerek/miniconda3/envs/tensorflow/lib/python3.10/weakref.py\": 1679689194.8588438, \"/Users/majerek/miniconda3/envs/tensorflow/lib/python3.10/site-packages/zmq/backend/cython/message.cpython-310-darwin.so\": 1679317407.3413131, \"/Users/majerek/miniconda3/envs/tensorflow/lib/python3.10/copy.py\": 1679689193.9472973, \"/Users/majerek/miniconda3/envs/tensorflow/lib/python3.10/lib-dynload/_bisect.cpython-310-darwin.so\": 1679689247.1206615, \"/Users/majerek/miniconda3/envs/tensorflow/lib/python3.10/bisect.py\": 1679689193.8063896, \"/Users/majerek/miniconda3/envs/tensorflow/lib/python3.10/lib-dynload/_random.cpython-310-darwin.so\": 1679689247.4215186, \"/Users/majerek/miniconda3/envs/tensorflow/lib/python3.10/lib-dynload/_sha512.cpython-310-darwin.so\": 1679689246.8307354, \"/Users/majerek/miniconda3/envs/tensorflow/lib/python3.10/random.py\": 1679689194.3953722, \"/Users/majerek/miniconda3/envs/tensorflow/lib/python3.10/_compat_pickle.py\": 1679689193.6495733, \"/Users/majerek/miniconda3/envs/tensorflow/lib/python3.10/lib-dynload/_pickle.cpython-310-darwin.so\": 1679689249.1197267, \"/Users/majerek/miniconda3/envs/tensorflow/lib/python3.10/pickle.py\": 1679689194.2860851, \"/Users/majerek/miniconda3/envs/tensorflow/lib/python3.10/site-packages/zmq/constants.py\": 1679317399.8358316, \"/Users/majerek/miniconda3/envs/tensorflow/lib/python3.10/site-packages/zmq/backend/cython/socket.cpython-310-darwin.so\": 1679317407.662778, \"/Users/majerek/miniconda3/envs/tensorflow/lib/python3.10/site-packages/zmq/backend/cython/_device.cpython-310-darwin.so\": 1679317406.670382, \"/Users/majerek/miniconda3/envs/tensorflow/lib/python3.10/site-packages/zmq/backend/cython/_poll.cpython-310-darwin.so\": 1679317406.3672538, \"/Users/majerek/miniconda3/envs/tensorflow/lib/python3.10/site-packages/zmq/backend/cython/_proxy_steerable.cpython-310-darwin.so\": 1679317406.0485196, \"/Users/majerek/miniconda3/envs/tensorflow/lib/python3.10/site-packages/zmq/backend/cython/_version.cpython-310-darwin.so\": 1679317408.7107584, \"/Users/majerek/miniconda3/envs/tensorflow/lib/python3.10/site-packages/zmq/backend/cython/error.cpython-310-darwin.so\": 1679317408.0799105, \"/Users/majerek/miniconda3/envs/tensorflow/lib/python3.10/site-packages/zmq/backend/cython/utils.cpython-310-darwin.so\": 1679317406.965467, \"/Users/majerek/miniconda3/envs/tensorflow/lib/python3.10/site-packages/zmq/backend/cython/__init__.py\": 1679317399.849232, \"/Users/majerek/miniconda3/envs/tensorflow/lib/python3.10/site-packages/zmq/backend/__init__.py\": 1679317399.8415146, \"/Users/majerek/miniconda3/envs/tensorflow/lib/python3.10/site-packages/zmq/utils/__init__.py\": 1679317399.9125223, \"/Users/majerek/miniconda3/envs/tensorflow/lib/python3.10/site-packages/zmq/utils/interop.py\": 1679317399.916299, \"/Users/majerek/miniconda3/envs/tensorflow/lib/python3.10/site-packages/zmq/sugar/attrsettr.py\": 1679317399.8783448, \"/Users/majerek/miniconda3/envs/tensorflow/lib/python3.10/site-packages/zmq/_typing.py\": 1679317399.8347414, \"/Users/majerek/miniconda3/envs/tensorflow/lib/python3.10/site-packages/zmq/utils/jsonapi.py\": 1679317399.91717, \"/Users/majerek/miniconda3/envs/tensorflow/lib/python3.10/site-packages/zmq/sugar/poll.py\": 1679317399.879903, \"/Users/majerek/miniconda3/envs/tensorflow/lib/python3.10/site-packages/zmq/sugar/socket.py\": 1679317399.8810809, \"/Users/majerek/miniconda3/envs/tensorflow/lib/python3.10/site-packages/zmq/sugar/context.py\": 1679317399.8788984, \"/Users/majerek/miniconda3/envs/tensorflow/lib/python3.10/site-packages/zmq/sugar/frame.py\": 1679317399.879408, \"/Users/majerek/miniconda3/envs/tensorflow/lib/python3.10/site-packages/zmq/sugar/tracker.py\": 1679317399.8827686, \"/Users/majerek/miniconda3/envs/tensorflow/lib/python3.10/site-packages/zmq/sugar/version.py\": 1679317399.8834279, \"/Users/majerek/miniconda3/envs/tensorflow/lib/python3.10/site-packages/zmq/sugar/stopwatch.py\": 1679317399.8820975, \"/Users/majerek/miniconda3/envs/tensorflow/lib/python3.10/site-packages/zmq/sugar/__init__.py\": 1679317399.8772542, \"/Users/majerek/miniconda3/envs/tensorflow/lib/python3.10/site-packages/zmq/__init__.py\": 1679317399.833256, \"/Users/majerek/miniconda3/envs/tensorflow/lib/python3.10/concurrent/__init__.py\": 1679689195.1807728, \"/Users/majerek/miniconda3/envs/tensorflow/lib/python3.10/token.py\": 1679689194.7512565, \"/Users/majerek/miniconda3/envs/tensorflow/lib/python3.10/tokenize.py\": 1679689194.7580223, \"/Users/majerek/miniconda3/envs/tensorflow/lib/python3.10/linecache.py\": 1679689194.182431, \"/Users/majerek/miniconda3/envs/tensorflow/lib/python3.10/traceback.py\": 1679689194.773386, \"/Users/majerek/miniconda3/envs/tensorflow/lib/python3.10/string.py\": 1679689194.573043, \"/Users/majerek/miniconda3/envs/tensorflow/lib/python3.10/logging/__init__.py\": 1679689198.060058, \"/Users/majerek/miniconda3/envs/tensorflow/lib/python3.10/concurrent/futures/_base.py\": 1679689195.208138, \"/Users/majerek/miniconda3/envs/tensorflow/lib/python3.10/concurrent/futures/__init__.py\": 1679689195.200462, \"/Users/majerek/miniconda3/envs/tensorflow/lib/python3.10/lib-dynload/_heapq.cpython-310-darwin.so\": 1679689261.3733945, \"/Users/majerek/miniconda3/envs/tensorflow/lib/python3.10/heapq.py\": 1679689194.1125376, \"/Users/majerek/miniconda3/envs/tensorflow/lib/python3.10/lib-dynload/_socket.cpython-310-darwin.so\": 1679689254.8267126, \"/Users/majerek/miniconda3/envs/tensorflow/lib/python3.10/lib-dynload/array.cpython-310-darwin.so\": 1679689250.875244, \"/Users/majerek/miniconda3/envs/tensorflow/lib/python3.10/socket.py\": 1679689194.534784, \"/Users/majerek/miniconda3/envs/tensorflow/lib/python3.10/lib-dynload/_ssl.cpython-310-darwin.so\": 1679689256.3905523, \"/Users/majerek/miniconda3/envs/tensorflow/lib/python3.10/lib-dynload/binascii.cpython-310-darwin.so\": 1679689262.7530003, \"/Users/majerek/miniconda3/envs/tensorflow/lib/python3.10/base64.py\": 1679689193.7907696, \"/Users/majerek/miniconda3/envs/tensorflow/lib/python3.10/ssl.py\": 1679689194.5586247, \"/Users/majerek/miniconda3/envs/tensorflow/lib/python3.10/asyncio/constants.py\": 1679689194.9642165, \"/Users/majerek/miniconda3/envs/tensorflow/lib/python3.10/ast.py\": 1679689193.7727218, \"/Users/majerek/miniconda3/envs/tensorflow/lib/python3.10/lib-dynload/_opcode.cpython-310-darwin.so\": 1679689259.3118894, \"/Users/majerek/miniconda3/envs/tensorflow/lib/python3.10/opcode.py\": 1679689194.2483487, \"/Users/majerek/miniconda3/envs/tensorflow/lib/python3.10/dis.py\": 1679689193.9907377, \"/Users/majerek/miniconda3/envs/tensorflow/lib/python3.10/inspect.py\": 1679689194.1524947, \"/Users/majerek/miniconda3/envs/tensorflow/lib/python3.10/asyncio/format_helpers.py\": 1679689194.9921577, \"/Users/majerek/miniconda3/envs/tensorflow/lib/python3.10/asyncio/base_futures.py\": 1679689194.9433286, \"/Users/majerek/miniconda3/envs/tensorflow/lib/python3.10/asyncio/log.py\": 1679689195.0109076, \"/Users/majerek/miniconda3/envs/tensorflow/lib/python3.10/asyncio/coroutines.py\": 1679689194.9714067, \"/Users/majerek/miniconda3/envs/tensorflow/lib/python3.10/lib-dynload/_contextvars.cpython-310-darwin.so\": 1679689255.447509, \"/Users/majerek/miniconda3/envs/tensorflow/lib/python3.10/contextvars.py\": 1679689193.9416788, \"/Users/majerek/miniconda3/envs/tensorflow/lib/python3.10/asyncio/exceptions.py\": 1679689194.9851172, \"/Users/majerek/miniconda3/envs/tensorflow/lib/python3.10/asyncio/base_tasks.py\": 1679689194.95762, \"/Users/majerek/miniconda3/envs/tensorflow/lib/python3.10/lib-dynload/_asyncio.cpython-310-darwin.so\": 1679689266.0093007, \"/Users/majerek/miniconda3/envs/tensorflow/lib/python3.10/asyncio/events.py\": 1679689194.9784238, \"/Users/majerek/miniconda3/envs/tensorflow/lib/python3.10/asyncio/futures.py\": 1679689194.9987154, \"/Users/majerek/miniconda3/envs/tensorflow/lib/python3.10/asyncio/protocols.py\": 1679689195.0328646, \"/Users/majerek/miniconda3/envs/tensorflow/lib/python3.10/asyncio/transports.py\": 1679689195.1072245, \"/Users/majerek/miniconda3/envs/tensorflow/lib/python3.10/asyncio/sslproto.py\": 1679689195.0616734, \"/Users/majerek/miniconda3/envs/tensorflow/lib/python3.10/asyncio/mixins.py\": 1679689195.0191905, \"/Users/majerek/miniconda3/envs/tensorflow/lib/python3.10/asyncio/tasks.py\": 1679689195.092976, \"/Users/majerek/miniconda3/envs/tensorflow/lib/python3.10/asyncio/locks.py\": 1679689195.0048947, \"/Users/majerek/miniconda3/envs/tensorflow/lib/python3.10/asyncio/staggered.py\": 1679689195.070173, \"/Users/majerek/miniconda3/envs/tensorflow/lib/python3.10/asyncio/trsock.py\": 1679689195.1139274, \"/Users/majerek/miniconda3/envs/tensorflow/lib/python3.10/asyncio/base_events.py\": 1679689194.9367852, \"/Users/majerek/miniconda3/envs/tensorflow/lib/python3.10/asyncio/runners.py\": 1679689195.0468326, \"/Users/majerek/miniconda3/envs/tensorflow/lib/python3.10/asyncio/queues.py\": 1679689195.0396736, \"/Users/majerek/miniconda3/envs/tensorflow/lib/python3.10/asyncio/streams.py\": 1679689195.07772, \"/Users/majerek/miniconda3/envs/tensorflow/lib/python3.10/asyncio/subprocess.py\": 1679689195.0853314, \"/Users/majerek/miniconda3/envs/tensorflow/lib/python3.10/asyncio/threads.py\": 1679689195.100619, \"/Users/majerek/miniconda3/envs/tensorflow/lib/python3.10/asyncio/base_subprocess.py\": 1679689194.9507966, \"/Users/majerek/miniconda3/envs/tensorflow/lib/python3.10/asyncio/selector_events.py\": 1679689195.0539305, \"/Users/majerek/miniconda3/envs/tensorflow/lib/python3.10/asyncio/unix_events.py\": 1679689195.120836, \"/Users/majerek/miniconda3/envs/tensorflow/lib/python3.10/asyncio/__init__.py\": 1679689194.9237044, \"/Users/majerek/miniconda3/envs/tensorflow/lib/python3.10/site-packages/zmq/_future.py\": 1679317399.8342826, \"/Users/majerek/miniconda3/envs/tensorflow/lib/python3.10/site-packages/zmq/asyncio.py\": 1679317399.8352664, \"/Users/majerek/miniconda3/envs/tensorflow/lib/python3.10/fnmatch.py\": 1679689194.017627, \"/Users/majerek/miniconda3/envs/tensorflow/lib/python3.10/ntpath.py\": 1679689194.2320204, \"/Users/majerek/miniconda3/envs/tensorflow/lib/python3.10/urllib/__init__.py\": 1679689198.547833, \"/Users/majerek/miniconda3/envs/tensorflow/lib/python3.10/urllib/parse.py\": 1679689198.5565732, \"/Users/majerek/miniconda3/envs/tensorflow/lib/python3.10/pathlib.py\": 1679689194.2738266, \"/Users/majerek/miniconda3/envs/tensorflow/lib/python3.10/site-packages/traitlets/utils/__init__.py\": 1675110675.4835947, \"/Users/majerek/miniconda3/envs/tensorflow/lib/python3.10/site-packages/traitlets/utils/bunch.py\": 1675110675.4835947, \"/Users/majerek/miniconda3/envs/tensorflow/lib/python3.10/site-packages/traitlets/utils/descriptions.py\": 1675110675.4835947, \"/Users/majerek/miniconda3/envs/tensorflow/lib/python3.10/site-packages/traitlets/utils/getargspec.py\": 1675110675.4835947, \"/Users/majerek/miniconda3/envs/tensorflow/lib/python3.10/site-packages/traitlets/utils/importstring.py\": 1675110675.4835947, \"/Users/majerek/miniconda3/envs/tensorflow/lib/python3.10/site-packages/traitlets/utils/sentinel.py\": 1675110675.4835947, \"/Users/majerek/miniconda3/envs/tensorflow/lib/python3.10/site-packages/traitlets/traitlets.py\": 1675110675.4795947, \"/Users/majerek/miniconda3/envs/tensorflow/lib/python3.10/site-packages/traitlets/_version.py\": 1675110675.4755948, \"/Users/majerek/miniconda3/envs/tensorflow/lib/python3.10/site-packages/traitlets/utils/decorators.py\": 1675110675.4835947, \"/Users/majerek/miniconda3/envs/tensorflow/lib/python3.10/site-packages/traitlets/__init__.py\": 1675110675.4755948, \"/Users/majerek/miniconda3/envs/tensorflow/lib/python3.10/lib-dynload/_queue.cpython-310-darwin.so\": 1679689263.6854856, \"/Users/majerek/miniconda3/envs/tensorflow/lib/python3.10/queue.py\": 1679689194.3807824, \"/Users/majerek/miniconda3/envs/tensorflow/lib/python3.10/site-packages/jupyter_core/version.py\": 1678994627.843863, \"/Users/majerek/miniconda3/envs/tensorflow/lib/python3.10/site-packages/jupyter_core/__init__.py\": 1678994627.8389754, \"/Users/majerek/miniconda3/envs/tensorflow/lib/python3.10/site-packages/jupyter_core/utils/__init__.py\": 1678994627.8690522, \"/Users/majerek/miniconda3/envs/tensorflow/lib/python3.10/site-packages/jupyter_client/channelsabc.py\": 1681432567.9660437, \"/Users/majerek/miniconda3/envs/tensorflow/lib/python3.10/lib-dynload/_hashlib.cpython-310-darwin.so\": 1679689256.70328, \"/Users/majerek/miniconda3/envs/tensorflow/lib/python3.10/lib-dynload/_blake2.cpython-310-darwin.so\": 1679689264.0094955, \"/Users/majerek/miniconda3/envs/tensorflow/lib/python3.10/hashlib.py\": 1679689194.105532, \"/Users/majerek/miniconda3/envs/tensorflow/lib/python3.10/hmac.py\": 1679689194.1189334, \"/Users/majerek/miniconda3/envs/tensorflow/lib/python3.10/dataclasses.py\": 1679689193.9686198, \"/Users/majerek/miniconda3/envs/tensorflow/lib/python3.10/pprint.py\": 1679689194.3304355, \"/Users/majerek/miniconda3/envs/tensorflow/lib/python3.10/lib-dynload/_datetime.cpython-310-darwin.so\": 1679689253.696405, \"/Users/majerek/miniconda3/envs/tensorflow/lib/python3.10/datetime.py\": 1679689193.9734254, \"/Users/majerek/miniconda3/envs/tensorflow/lib/python3.10/site-packages/tornado/__init__.py\": 1681817940.2610562, \"/Users/majerek/miniconda3/envs/tensorflow/lib/python3.10/numbers.py\": 1679689194.242948, \"/Users/majerek/miniconda3/envs/tensorflow/lib/python3.10/logging/handlers.py\": 1679689198.0703607, \"/Users/majerek/miniconda3/envs/tensorflow/lib/python3.10/html/entities.py\": 1679689196.8985827, \"/Users/majerek/miniconda3/envs/tensorflow/lib/python3.10/html/__init__.py\": 1679689196.8937497, \"/Users/majerek/miniconda3/envs/tensorflow/lib/python3.10/lib-dynload/zlib.cpython-310-darwin.so\": 1679689259.6174185, \"/Users/majerek/miniconda3/envs/tensorflow/lib/python3.10/site-packages/tornado/speedups.abi3.so\": 1681817944.3284569, \"/Users/majerek/miniconda3/envs/tensorflow/lib/python3.10/site-packages/tornado/util.py\": 1681817940.2790246, \"/Users/majerek/miniconda3/envs/tensorflow/lib/python3.10/site-packages/tornado/escape.py\": 1681817940.264614, \"/Users/majerek/miniconda3/envs/tensorflow/lib/python3.10/site-packages/colorama/ansi.py\": 1666700775.0, \"/Users/majerek/miniconda3/envs/tensorflow/lib/python3.10/site-packages/colorama/win32.py\": 1666700775.0, \"/Users/majerek/miniconda3/envs/tensorflow/lib/python3.10/site-packages/colorama/winterm.py\": 1666700775.0, \"/Users/majerek/miniconda3/envs/tensorflow/lib/python3.10/site-packages/colorama/ansitowin32.py\": 1666700775.0, \"/Users/majerek/miniconda3/envs/tensorflow/lib/python3.10/site-packages/colorama/initialise.py\": 1666700775.0, \"/Users/majerek/miniconda3/envs/tensorflow/lib/python3.10/site-packages/colorama/__init__.py\": 1666700775.0, \"/Users/majerek/miniconda3/envs/tensorflow/lib/python3.10/lib-dynload/_curses.cpython-310-darwin.so\": 1679689252.146412, \"/Users/majerek/miniconda3/envs/tensorflow/lib/python3.10/curses/__init__.py\": 1679689195.3531704, \"/Users/majerek/miniconda3/envs/tensorflow/lib/python3.10/site-packages/tornado/log.py\": 1681817940.271171, \"/Users/majerek/miniconda3/envs/tensorflow/lib/python3.10/site-packages/tornado/concurrent.py\": 1681817940.263478, \"/Users/majerek/miniconda3/envs/tensorflow/lib/python3.10/site-packages/tornado/ioloop.py\": 1681817940.268635, \"/Users/majerek/miniconda3/envs/tensorflow/lib/python3.10/socketserver.py\": 1679689194.539405, \"/Users/majerek/miniconda3/envs/tensorflow/lib/python3.10/logging/config.py\": 1679689198.0651906, \"/Users/majerek/miniconda3/envs/tensorflow/lib/python3.10/textwrap.py\": 1679689194.7194853, \"/Users/majerek/miniconda3/envs/tensorflow/lib/python3.10/site-packages/traitlets/utils/text.py\": 1675110675.4835947, \"/Users/majerek/miniconda3/envs/tensorflow/lib/python3.10/gettext.py\": 1679689194.0756123, \"/Users/majerek/miniconda3/envs/tensorflow/lib/python3.10/argparse.py\": 1679689193.7673845, \"/Users/majerek/miniconda3/envs/tensorflow/lib/python3.10/site-packages/traitlets/config/loader.py\": 1675110675.4795947, \"/Users/majerek/miniconda3/envs/tensorflow/lib/python3.10/site-packages/traitlets/config/configurable.py\": 1675110675.4795947, \"/Users/majerek/miniconda3/envs/tensorflow/lib/python3.10/site-packages/traitlets/utils/nested_update.py\": 1675110675.4835947, \"/Users/majerek/miniconda3/envs/tensorflow/lib/python3.10/site-packages/traitlets/config/application.py\": 1675110675.4795947, \"/Users/majerek/miniconda3/envs/tensorflow/lib/python3.10/site-packages/traitlets/config/__init__.py\": 1675110675.4795947, \"/Users/majerek/miniconda3/envs/tensorflow/lib/python3.10/site-packages/traitlets/log.py\": 1675110675.4755948, \"/Users/majerek/miniconda3/envs/tensorflow/lib/python3.10/site-packages/zmq/eventloop/__init__.py\": 1679317399.867569, \"/Users/majerek/miniconda3/envs/tensorflow/lib/python3.10/site-packages/zmq/eventloop/zmqstream.py\": 1679317399.869705, \"/Users/majerek/miniconda3/envs/tensorflow/lib/python3.10/site-packages/jupyter_client/adapter.py\": 1681432567.9660437, \"/Users/majerek/miniconda3/envs/tensorflow/lib/python3.10/site-packages/dateutil/_version.py\": 1626286447.0, \"/Users/majerek/miniconda3/envs/tensorflow/lib/python3.10/site-packages/dateutil/__init__.py\": 1626286447.0, \"/Users/majerek/miniconda3/envs/tensorflow/lib/python3.10/__future__.py\": 1679689193.6256497, \"/Users/majerek/miniconda3/envs/tensorflow/lib/python3.10/locale.py\": 1679689194.193416, \"/Users/majerek/miniconda3/envs/tensorflow/lib/python3.10/calendar.py\": 1679689193.8234553, \"/Users/majerek/miniconda3/envs/tensorflow/lib/python3.10/site-packages/six.py\": 1620240337.0, \"/Users/majerek/miniconda3/envs/tensorflow/lib/python3.10/lib-dynload/_decimal.cpython-310-darwin.so\": 1679689253.1940544, \"/Users/majerek/miniconda3/envs/tensorflow/lib/python3.10/decimal.py\": 1679689193.9787133, \"/Users/majerek/miniconda3/envs/tensorflow/lib/python3.10/site-packages/dateutil/_common.py\": 1626286447.0, \"/Users/majerek/miniconda3/envs/tensorflow/lib/python3.10/site-packages/dateutil/relativedelta.py\": 1626286447.0, \"/Users/majerek/miniconda3/envs/tensorflow/lib/python3.10/site-packages/dateutil/tz/_common.py\": 1626286447.0, \"/Users/majerek/miniconda3/envs/tensorflow/lib/python3.10/site-packages/dateutil/tz/_factories.py\": 1626286447.0, \"/Users/majerek/miniconda3/envs/tensorflow/lib/python3.10/site-packages/dateutil/tz/tz.py\": 1626286447.0, \"/Users/majerek/miniconda3/envs/tensorflow/lib/python3.10/site-packages/dateutil/tz/__init__.py\": 1626286447.0, \"/Users/majerek/miniconda3/envs/tensorflow/lib/python3.10/site-packages/dateutil/parser/_parser.py\": 1626286447.0, \"/Users/majerek/miniconda3/envs/tensorflow/lib/python3.10/site-packages/dateutil/parser/isoparser.py\": 1626286447.0, \"/Users/majerek/miniconda3/envs/tensorflow/lib/python3.10/site-packages/dateutil/parser/__init__.py\": 1626286447.0, \"/Users/majerek/miniconda3/envs/tensorflow/lib/python3.10/_strptime.py\": 1679689193.7347658, \"/Users/majerek/miniconda3/envs/tensorflow/lib/python3.10/site-packages/jupyter_client/jsonutil.py\": 1681432567.9660437, \"/Users/majerek/miniconda3/envs/tensorflow/lib/python3.10/site-packages/jupyter_client/session.py\": 1681432567.9700437, \"/Users/majerek/miniconda3/envs/tensorflow/lib/python3.10/site-packages/jupyter_client/channels.py\": 1681432567.9660437, \"/Users/majerek/miniconda3/envs/tensorflow/lib/python3.10/lib-dynload/termios.cpython-310-darwin.so\": 1679689268.5282004, \"/Users/majerek/miniconda3/envs/tensorflow/lib/python3.10/getpass.py\": 1679689194.069962, \"/Users/majerek/miniconda3/envs/tensorflow/lib/python3.10/site-packages/jupyter_client/clientabc.py\": 1681432567.9660437, \"/Users/majerek/miniconda3/envs/tensorflow/lib/python3.10/glob.py\": 1679689194.0826793, \"/Users/majerek/miniconda3/envs/tensorflow/lib/python3.10/_compression.py\": 1679689193.6554518, \"/Users/majerek/miniconda3/envs/tensorflow/lib/python3.10/lib-dynload/_bz2.cpython-310-darwin.so\": 1679689252.7898848, \"/Users/majerek/miniconda3/envs/tensorflow/lib/python3.10/bz2.py\": 1679689193.8120098, \"/Users/majerek/miniconda3/envs/tensorflow/lib/python3.10/lib-dynload/_lzma.cpython-310-darwin.so\": 1679689269.0952346, \"/Users/majerek/miniconda3/envs/tensorflow/lib/python3.10/lzma.py\": 1679689194.1984963, \"/Users/majerek/miniconda3/envs/tensorflow/lib/python3.10/shutil.py\": 1679689194.4637902, \"/Users/majerek/miniconda3/envs/tensorflow/lib/python3.10/tempfile.py\": 1679689194.71185, \"/Users/majerek/miniconda3/envs/tensorflow/lib/python3.10/site-packages/platformdirs/api.py\": 1679871490.1669636, \"/Users/majerek/miniconda3/envs/tensorflow/lib/python3.10/site-packages/platformdirs/version.py\": 1679871490.1669636, \"/Users/majerek/miniconda3/envs/tensorflow/lib/python3.10/site-packages/platformdirs/macos.py\": 1679871490.1669636, \"/Users/majerek/miniconda3/envs/tensorflow/lib/python3.10/site-packages/platformdirs/__init__.py\": 1679871490.1669636, \"/Users/majerek/miniconda3/envs/tensorflow/lib/python3.10/site-packages/jupyter_core/paths.py\": 1678994627.8423898, \"/Users/majerek/miniconda3/envs/tensorflow/lib/python3.10/site-packages/jupyter_client/localinterfaces.py\": 1681432567.9660437, \"/Users/majerek/miniconda3/envs/tensorflow/lib/python3.10/site-packages/jupyter_client/utils.py\": 1681432567.9700437, \"/Users/majerek/miniconda3/envs/tensorflow/lib/python3.10/site-packages/jupyter_client/connect.py\": 1681432567.9660437, \"/Users/majerek/miniconda3/envs/tensorflow/lib/python3.10/site-packages/jupyter_client/client.py\": 1681432567.9660437, \"/Users/majerek/miniconda3/envs/tensorflow/lib/python3.10/site-packages/jupyter_client/asynchronous/client.py\": 1681432567.9700437, \"/Users/majerek/miniconda3/envs/tensorflow/lib/python3.10/site-packages/jupyter_client/asynchronous/__init__.py\": 1681432567.9700437, \"/Users/majerek/miniconda3/envs/tensorflow/lib/python3.10/site-packages/jupyter_client/blocking/client.py\": 1681432567.9700437, \"/Users/majerek/miniconda3/envs/tensorflow/lib/python3.10/site-packages/jupyter_client/blocking/__init__.py\": 1681432567.9700437, \"/Users/majerek/miniconda3/envs/tensorflow/lib/python3.10/site-packages/jupyter_client/launcher.py\": 1681432567.9660437, \"/Users/majerek/miniconda3/envs/tensorflow/lib/python3.10/lib-dynload/_uuid.cpython-310-darwin.so\": 1679689262.3646865, \"/Users/majerek/miniconda3/envs/tensorflow/lib/python3.10/uuid.py\": 1679689194.8391495, \"/Users/majerek/miniconda3/envs/tensorflow/lib/python3.10/lib-dynload/_csv.cpython-310-darwin.so\": 1679689249.538463, \"/Users/majerek/miniconda3/envs/tensorflow/lib/python3.10/csv.py\": 1679689193.9636765, \"/Users/majerek/miniconda3/envs/tensorflow/lib/python3.10/email/__init__.py\": 1679689195.8582036, \"/Users/majerek/miniconda3/envs/tensorflow/lib/python3.10/zipfile.py\": 1679689194.8848221, \"/Users/majerek/miniconda3/envs/tensorflow/lib/python3.10/uu.py\": 1679689194.8304868, \"/Users/majerek/miniconda3/envs/tensorflow/lib/python3.10/quopri.py\": 1679689194.3896737, \"/Users/majerek/miniconda3/envs/tensorflow/lib/python3.10/email/_parseaddr.py\": 1679689195.8769815, \"/Users/majerek/miniconda3/envs/tensorflow/lib/python3.10/email/base64mime.py\": 1679689195.895576, \"/Users/majerek/miniconda3/envs/tensorflow/lib/python3.10/email/quoprimime.py\": 1679689195.981284, \"/Users/majerek/miniconda3/envs/tensorflow/lib/python3.10/email/errors.py\": 1679689195.9209676, \"/Users/majerek/miniconda3/envs/tensorflow/lib/python3.10/email/encoders.py\": 1679689195.914129, \"/Users/majerek/miniconda3/envs/tensorflow/lib/python3.10/email/charset.py\": 1679689195.9012933, \"/Users/majerek/miniconda3/envs/tensorflow/lib/python3.10/email/utils.py\": 1679689195.987369, \"/Users/majerek/miniconda3/envs/tensorflow/lib/python3.10/email/header.py\": 1679689195.9398677, \"/Users/majerek/miniconda3/envs/tensorflow/lib/python3.10/email/_policybase.py\": 1679689195.8829868, \"/Users/majerek/miniconda3/envs/tensorflow/lib/python3.10/email/_encoded_words.py\": 1679689195.8638623, \"/Users/majerek/miniconda3/envs/tensorflow/lib/python3.10/email/iterators.py\": 1679689195.9560697, \"/Users/majerek/miniconda3/envs/tensorflow/lib/python3.10/email/message.py\": 1679689195.963013, \"/Users/majerek/miniconda3/envs/tensorflow/lib/python3.10/importlib/metadata/_functools.py\": 1679689197.6158595, \"/Users/majerek/miniconda3/envs/tensorflow/lib/python3.10/importlib/metadata/_text.py\": 1679689197.6417189, \"/Users/majerek/miniconda3/envs/tensorflow/lib/python3.10/importlib/metadata/_adapters.py\": 1679689197.6031725, \"/Users/majerek/miniconda3/envs/tensorflow/lib/python3.10/importlib/metadata/_meta.py\": 1679689197.6301382, \"/Users/majerek/miniconda3/envs/tensorflow/lib/python3.10/importlib/metadata/_collections.py\": 1679689197.6091585, \"/Users/majerek/miniconda3/envs/tensorflow/lib/python3.10/importlib/metadata/_itertools.py\": 1679689197.6224146, \"/Users/majerek/miniconda3/envs/tensorflow/lib/python3.10/importlib/abc.py\": 1679689197.486781, \"/Users/majerek/miniconda3/envs/tensorflow/lib/python3.10/importlib/metadata/__init__.py\": 1679689197.5968056, \"/Users/majerek/miniconda3/envs/tensorflow/lib/python3.10/site-packages/jupyter_client/provisioning/provisioner_base.py\": 1681432567.9700437, \"/Users/majerek/miniconda3/envs/tensorflow/lib/python3.10/site-packages/jupyter_client/provisioning/factory.py\": 1681432567.9700437, \"/Users/majerek/miniconda3/envs/tensorflow/lib/python3.10/site-packages/jupyter_client/provisioning/local_provisioner.py\": 1681432567.9700437, \"/Users/majerek/miniconda3/envs/tensorflow/lib/python3.10/site-packages/jupyter_client/provisioning/__init__.py\": 1681432567.9700437, \"/Users/majerek/miniconda3/envs/tensorflow/lib/python3.10/site-packages/jupyter_client/kernelspec.py\": 1681432567.9660437, \"/Users/majerek/miniconda3/envs/tensorflow/lib/python3.10/site-packages/jupyter_client/managerabc.py\": 1681432567.9660437, \"/Users/majerek/miniconda3/envs/tensorflow/lib/python3.10/site-packages/jupyter_client/manager.py\": 1681432567.9660437, \"/Users/majerek/miniconda3/envs/tensorflow/lib/python3.10/site-packages/jupyter_client/multikernelmanager.py\": 1681432567.9660437, \"/Users/majerek/miniconda3/envs/tensorflow/lib/python3.10/site-packages/jupyter_client/__init__.py\": 1681432567.9620438, \"/Users/majerek/miniconda3/envs/tensorflow/lib/python3.10/site-packages/ipykernel/connect.py\": 1679336876.6875527, \"/Users/majerek/miniconda3/envs/tensorflow/lib/python3.10/site-packages/ipykernel/__init__.py\": 1679336876.6849759, \"/Users/majerek/miniconda3/envs/tensorflow/lib/python3.10/site-packages/IPython/core/__init__.py\": 1680185784.0915427, \"/Users/majerek/miniconda3/envs/tensorflow/lib/python3.10/site-packages/IPython/core/getipython.py\": 1680185784.1026828, \"/Users/majerek/miniconda3/envs/tensorflow/lib/python3.10/site-packages/IPython/core/release.py\": 1680185784.115032, \"/Users/majerek/miniconda3/envs/tensorflow/lib/python3.10/pkgutil.py\": 1679689194.3017566, \"/Users/majerek/miniconda3/envs/tensorflow/lib/python3.10/sysconfig.py\": 1679689194.6818542, \"/Users/majerek/miniconda3/envs/tensorflow/lib/python3.10/_sysconfigdata__darwin_darwin.py\": 1682161419.3581388, \"/Users/majerek/miniconda3/envs/tensorflow/lib/python3.10/_osx_support.py\": 1679689193.6763246, \"/Users/majerek/miniconda3/envs/tensorflow/lib/python3.10/pydoc.py\": 1679689194.370545, \"/Users/majerek/miniconda3/envs/tensorflow/lib/python3.10/site-packages/executing/executing.py\": 1667317461.0, \"/Users/majerek/miniconda3/envs/tensorflow/lib/python3.10/site-packages/executing/version.py\": 1667317461.0, \"/Users/majerek/miniconda3/envs/tensorflow/lib/python3.10/site-packages/executing/__init__.py\": 1667317461.0, \"/Users/majerek/miniconda3/envs/tensorflow/lib/python3.10/site-packages/asttokens/line_numbers.py\": 1670264087.4568791, \"/Users/majerek/miniconda3/envs/tensorflow/lib/python3.10/site-packages/asttokens/util.py\": 1670264087.4568791, \"/Users/majerek/miniconda3/envs/tensorflow/lib/python3.10/site-packages/asttokens/asttokens.py\": 1670264087.4568791, \"/Users/majerek/miniconda3/envs/tensorflow/lib/python3.10/site-packages/asttokens/__init__.py\": 1670264087.4568791, \"/Users/majerek/miniconda3/envs/tensorflow/lib/python3.10/fractions.py\": 1679689194.0240686, \"/Users/majerek/miniconda3/envs/tensorflow/lib/python3.10/site-packages/pure_eval/utils.py\": 1642876053.0, \"/Users/majerek/miniconda3/envs/tensorflow/lib/python3.10/site-packages/pure_eval/my_getattr_static.py\": 1642876053.0, \"/Users/majerek/miniconda3/envs/tensorflow/lib/python3.10/site-packages/pure_eval/core.py\": 1642876053.0, \"/Users/majerek/miniconda3/envs/tensorflow/lib/python3.10/site-packages/pure_eval/version.py\": 1642876053.0, \"/Users/majerek/miniconda3/envs/tensorflow/lib/python3.10/site-packages/pure_eval/__init__.py\": 1642876053.0, \"/Users/majerek/miniconda3/envs/tensorflow/lib/python3.10/site-packages/stack_data/utils.py\": 1669632201.0, \"/Users/majerek/miniconda3/envs/tensorflow/lib/python3.10/site-packages/stack_data/core.py\": 1669632201.0, \"/Users/majerek/miniconda3/envs/tensorflow/lib/python3.10/site-packages/stack_data/formatting.py\": 1669632201.0, \"/Users/majerek/miniconda3/envs/tensorflow/lib/python3.10/site-packages/stack_data/serializing.py\": 1669632201.0, \"/Users/majerek/miniconda3/envs/tensorflow/lib/python3.10/site-packages/stack_data/version.py\": 1669632201.0, \"/Users/majerek/miniconda3/envs/tensorflow/lib/python3.10/site-packages/stack_data/__init__.py\": 1669632201.0, \"/Users/majerek/miniconda3/envs/tensorflow/lib/python3.10/site-packages/pygments/__init__.py\": 1681904331.1103606, \"/Users/majerek/miniconda3/envs/tensorflow/lib/python3.10/site-packages/pygments/formatters/_mapping.py\": 1681904331.1143606, \"/Users/majerek/miniconda3/envs/tensorflow/lib/python3.10/site-packages/pygments/plugin.py\": 1681904331.1103606, \"/Users/majerek/miniconda3/envs/tensorflow/lib/python3.10/site-packages/pygments/util.py\": 1681904331.1143606, \"/Users/majerek/miniconda3/envs/tensorflow/lib/python3.10/site-packages/pygments/formatters/__init__.py\": 1681904331.1143606, \"/Users/majerek/miniconda3/envs/tensorflow/lib/python3.10/site-packages/pygments/styles/__init__.py\": 1681904331.1983612, \"/Users/majerek/miniconda3/envs/tensorflow/lib/python3.10/site-packages/pygments/formatter.py\": 1681904331.1103606, \"/Users/majerek/miniconda3/envs/tensorflow/lib/python3.10/site-packages/pygments/console.py\": 1681904331.1103606, \"/Users/majerek/miniconda3/envs/tensorflow/lib/python3.10/site-packages/pygments/token.py\": 1681904331.1103606, \"/Users/majerek/miniconda3/envs/tensorflow/lib/python3.10/site-packages/pygments/style.py\": 1681904331.1103606, \"/Users/majerek/miniconda3/envs/tensorflow/lib/python3.10/site-packages/pygments/formatters/terminal256.py\": 1681904331.1183608, \"/Users/majerek/miniconda3/envs/tensorflow/lib/python3.10/site-packages/IPython/utils/__init__.py\": 1680185784.1943846, \"/Users/majerek/miniconda3/envs/tensorflow/lib/python3.10/site-packages/IPython/utils/ipstruct.py\": 1680185784.2045455, \"/Users/majerek/miniconda3/envs/tensorflow/lib/python3.10/site-packages/IPython/utils/coloransi.py\": 1680185784.1986814, \"/Users/majerek/miniconda3/envs/tensorflow/lib/python3.10/site-packages/IPython/utils/colorable.py\": 1680185784.1982183, \"/Users/majerek/miniconda3/envs/tensorflow/lib/python3.10/site-packages/IPython/utils/PyColorize.py\": 1680185784.1940625, \"/Users/majerek/miniconda3/envs/tensorflow/lib/python3.10/site-packages/IPython/utils/encoding.py\": 1680185784.2018507, \"/Users/majerek/miniconda3/envs/tensorflow/lib/python3.10/site-packages/IPython/utils/py3compat.py\": 1680185784.2081823, \"/Users/majerek/miniconda3/envs/tensorflow/lib/python3.10/site-packages/IPython/core/excolors.py\": 1680185784.101065, \"/Users/majerek/miniconda3/envs/tensorflow/lib/python3.10/cmd.py\": 1679689193.8451827, \"/Users/majerek/miniconda3/envs/tensorflow/lib/python3.10/bdb.py\": 1679689193.796355, \"/Users/majerek/miniconda3/envs/tensorflow/lib/python3.10/codeop.py\": 1679689193.8620467, \"/Users/majerek/miniconda3/envs/tensorflow/lib/python3.10/code.py\": 1679689193.850617, \"/Users/majerek/miniconda3/envs/tensorflow/lib/python3.10/pdb.py\": 1679689194.280071, \"/Users/majerek/miniconda3/envs/tensorflow/lib/python3.10/site-packages/IPython/core/debugger.py\": 1680185784.097156, \"/Users/majerek/miniconda3/envs/tensorflow/lib/python3.10/site-packages/IPython/core/display_trap.py\": 1680185784.0987773, \"/Users/majerek/miniconda3/envs/tensorflow/lib/python3.10/site-packages/pexpect/exceptions.py\": 1667297616.0, \"/Users/majerek/miniconda3/envs/tensorflow/lib/python3.10/site-packages/pexpect/utils.py\": 1667297616.0, \"/Users/majerek/miniconda3/envs/tensorflow/lib/python3.10/site-packages/pexpect/expect.py\": 1667297616.0, \"/Users/majerek/miniconda3/envs/tensorflow/lib/python3.10/tty.py\": 1679689194.7985098, \"/Users/majerek/miniconda3/envs/tensorflow/lib/python3.10/pty.py\": 1679689194.3497818, \"/Users/majerek/miniconda3/envs/tensorflow/lib/python3.10/lib-dynload/resource.cpython-310-darwin.so\": 1679689264.8443434, \"/Users/majerek/miniconda3/envs/tensorflow/lib/python3.10/site-packages/ptyprocess/util.py\": 1609419416.0, \"/Users/majerek/miniconda3/envs/tensorflow/lib/python3.10/site-packages/ptyprocess/ptyprocess.py\": 1609419416.0, \"/Users/majerek/miniconda3/envs/tensorflow/lib/python3.10/site-packages/ptyprocess/__init__.py\": 1609419416.0, \"/Users/majerek/miniconda3/envs/tensorflow/lib/python3.10/site-packages/pexpect/spawnbase.py\": 1667297616.0, \"/Users/majerek/miniconda3/envs/tensorflow/lib/python3.10/site-packages/pexpect/pty_spawn.py\": 1667297616.0, \"/Users/majerek/miniconda3/envs/tensorflow/lib/python3.10/site-packages/pexpect/run.py\": 1667297616.0, \"/Users/majerek/miniconda3/envs/tensorflow/lib/python3.10/site-packages/pexpect/__init__.py\": 1667297616.0, \"/Users/majerek/miniconda3/envs/tensorflow/lib/python3.10/shlex.py\": 1679689194.45786, \"/Users/majerek/miniconda3/envs/tensorflow/lib/python3.10/site-packages/IPython/utils/_process_common.py\": 1680185784.1952937, \"/Users/majerek/miniconda3/envs/tensorflow/lib/python3.10/site-packages/IPython/utils/_process_posix.py\": 1680185784.1957707, \"/Users/majerek/miniconda3/envs/tensorflow/lib/python3.10/site-packages/IPython/utils/process.py\": 1680185784.2077467, \"/Users/majerek/miniconda3/envs/tensorflow/lib/python3.10/site-packages/IPython/utils/path.py\": 1680185784.2073, \"/Users/majerek/miniconda3/envs/tensorflow/lib/python3.10/site-packages/IPython/utils/terminal.py\": 1680185784.21178, \"/Users/majerek/miniconda3/envs/tensorflow/lib/python3.10/site-packages/IPython/core/ultratb.py\": 1680185784.11671, \"/Users/majerek/miniconda3/envs/tensorflow/lib/python3.10/site-packages/IPython/utils/_sysinfo.py\": 1680185784.1973298, \"/Users/majerek/miniconda3/envs/tensorflow/lib/python3.10/site-packages/IPython/utils/sysinfo.py\": 1680185784.2104952, \"/Users/majerek/miniconda3/envs/tensorflow/lib/python3.10/site-packages/IPython/core/crashhandler.py\": 1680185784.0965815, \"/Users/majerek/miniconda3/envs/tensorflow/lib/python3.10/site-packages/IPython/utils/importstring.py\": 1680185784.2035515, \"/Users/majerek/miniconda3/envs/tensorflow/lib/python3.10/site-packages/IPython/paths.py\": 1680185784.0908437, \"/Users/majerek/miniconda3/envs/tensorflow/lib/python3.10/site-packages/IPython/core/profiledir.py\": 1680185784.1136756, \"/Users/majerek/miniconda3/envs/tensorflow/lib/python3.10/site-packages/IPython/core/application.py\": 1680185784.092494, \"/Users/majerek/miniconda3/envs/tensorflow/lib/python3.10/site-packages/IPython/terminal/__init__.py\": 1680185784.1679194, \"/Users/majerek/miniconda3/envs/tensorflow/lib/python3.10/site-packages/IPython/core/compilerop.py\": 1680185784.094404, \"/Users/majerek/miniconda3/envs/tensorflow/lib/python3.10/site-packages/IPython/core/error.py\": 1680185784.1001616, \"/Users/majerek/miniconda3/envs/tensorflow/lib/python3.10/site-packages/IPython/utils/docs.py\": 1680185784.2014234, \"/Users/majerek/miniconda3/envs/tensorflow/lib/python3.10/site-packages/IPython/utils/decorators.py\": 1680185784.2004461, \"/Users/majerek/miniconda3/envs/tensorflow/lib/python3.10/site-packages/IPython/utils/text.py\": 1680185784.2124143, \"/Users/majerek/miniconda3/envs/tensorflow/lib/python3.10/site-packages/IPython/core/magic_arguments.py\": 1680185784.1101475, \"/Users/majerek/miniconda3/envs/tensorflow/lib/python3.10/getopt.py\": 1679689194.063294, \"/Users/majerek/miniconda3/envs/tensorflow/lib/python3.10/site-packages/IPython/core/display_functions.py\": 1680185784.0982707, \"/Users/majerek/miniconda3/envs/tensorflow/lib/python3.10/mimetypes.py\": 1679689194.2121177, \"/Users/majerek/miniconda3/envs/tensorflow/lib/python3.10/site-packages/IPython/testing/__init__.py\": 1680185784.1829479, \"/Users/majerek/miniconda3/envs/tensorflow/lib/python3.10/site-packages/IPython/testing/skipdoctest.py\": 1680185784.1848848, \"/Users/majerek/miniconda3/envs/tensorflow/lib/python3.10/site-packages/IPython/core/display.py\": 1680185784.0977576, \"/Users/majerek/miniconda3/envs/tensorflow/lib/python3.10/site-packages/IPython/lib/__init__.py\": 1680185784.1547744, \"/Users/majerek/miniconda3/envs/tensorflow/lib/python3.10/site-packages/IPython/lib/display.py\": 1680185784.157379, \"/Users/majerek/miniconda3/envs/tensorflow/lib/python3.10/site-packages/IPython/display.py\": 1680185784.0904024, \"/Users/majerek/miniconda3/envs/tensorflow/lib/python3.10/site-packages/IPython/utils/data.py\": 1680185784.2000024, \"/Users/majerek/miniconda3/envs/tensorflow/lib/python3.10/site-packages/IPython/core/page.py\": 1680185784.111199, \"/Users/majerek/miniconda3/envs/tensorflow/lib/python3.10/site-packages/IPython/lib/pretty.py\": 1680185784.159816, \"/Users/majerek/miniconda3/envs/tensorflow/lib/python3.10/site-packages/IPython/utils/openpy.py\": 1680185784.2067976, \"/Users/majerek/miniconda3/envs/tensorflow/lib/python3.10/site-packages/IPython/utils/dir2.py\": 1680185784.2010024, \"/Users/majerek/miniconda3/envs/tensorflow/lib/python3.10/site-packages/IPython/utils/wildcard.py\": 1680185784.2154248, \"/Users/majerek/miniconda3/envs/tensorflow/lib/python3.10/site-packages/pygments/lexers/_mapping.py\": 1681904331.1223607, \"/Users/majerek/miniconda3/envs/tensorflow/lib/python3.10/site-packages/pygments/modeline.py\": 1681904331.1103606, \"/Users/majerek/miniconda3/envs/tensorflow/lib/python3.10/site-packages/pygments/lexers/__init__.py\": 1681904331.1183608, \"/Users/majerek/miniconda3/envs/tensorflow/lib/python3.10/site-packages/pygments/filter.py\": 1681904331.1103606, \"/Users/majerek/miniconda3/envs/tensorflow/lib/python3.10/site-packages/pygments/filters/__init__.py\": 1681904331.1143606, \"/Users/majerek/miniconda3/envs/tensorflow/lib/python3.10/site-packages/pygments/regexopt.py\": 1681904331.1103606, \"/Users/majerek/miniconda3/envs/tensorflow/lib/python3.10/site-packages/pygments/lexer.py\": 1681904331.1103606, \"/Users/majerek/miniconda3/envs/tensorflow/lib/python3.10/site-packages/pygments/unistring.py\": 1681904331.1143606, \"/Users/majerek/miniconda3/envs/tensorflow/lib/python3.10/site-packages/pygments/lexers/python.py\": 1681904331.1823611, \"/Users/majerek/miniconda3/envs/tensorflow/lib/python3.10/site-packages/pygments/formatters/html.py\": 1681904331.1143606, \"/Users/majerek/miniconda3/envs/tensorflow/lib/python3.10/site-packages/IPython/core/oinspect.py\": 1680185784.1107237, \"/Users/majerek/miniconda3/envs/tensorflow/lib/python3.10/site-packages/IPython/core/inputtransformer2.py\": 1680185784.106416, \"/Users/majerek/miniconda3/envs/tensorflow/lib/python3.10/site-packages/IPython/core/magic.py\": 1680185784.1096852, \"/Users/majerek/miniconda3/envs/tensorflow/lib/python3.10/site-packages/pickleshare.py\": 1602536311.0, \"/Users/majerek/miniconda3/envs/tensorflow/lib/python3.10/site-packages/IPython/core/hooks.py\": 1680185784.1047611, \"/Users/majerek/miniconda3/envs/tensorflow/lib/python3.10/site-packages/IPython/core/autocall.py\": 1680185784.0933826, \"/Users/majerek/miniconda3/envs/tensorflow/lib/python3.10/site-packages/IPython/core/macro.py\": 1680185784.109146, \"/Users/majerek/miniconda3/envs/tensorflow/lib/python3.10/site-packages/IPython/core/splitinput.py\": 1680185784.115987, \"/Users/majerek/miniconda3/envs/tensorflow/lib/python3.10/site-packages/IPython/core/prefilter.py\": 1680185784.1127553, \"/Users/majerek/miniconda3/envs/tensorflow/lib/python3.10/site-packages/IPython/core/alias.py\": 1680185784.0920067, \"/Users/majerek/miniconda3/envs/tensorflow/lib/python3.10/site-packages/IPython/core/builtin_trap.py\": 1680185784.0939312, \"/Users/majerek/miniconda3/envs/tensorflow/lib/python3.10/site-packages/IPython/core/displayhook.py\": 1680185784.0992804, \"/Users/majerek/miniconda3/envs/tensorflow/lib/python3.10/site-packages/IPython/core/displaypub.py\": 1680185784.0997283, \"/Users/majerek/miniconda3/envs/tensorflow/lib/python3.10/site-packages/backcall/backcall.py\": 1592338489.0, \"/Users/majerek/miniconda3/envs/tensorflow/lib/python3.10/site-packages/backcall/__init__.py\": 1592338489.0, \"/Users/majerek/miniconda3/envs/tensorflow/lib/python3.10/site-packages/IPython/core/events.py\": 1680185784.1005976, \"/Users/majerek/miniconda3/envs/tensorflow/lib/python3.10/site-packages/IPython/core/extensions.py\": 1680185784.1015038, \"/Users/majerek/miniconda3/envs/tensorflow/lib/python3.10/site-packages/decorator.py\": 1641555713.0, \"/Users/majerek/miniconda3/envs/tensorflow/lib/python3.10/site-packages/IPython/utils/sentinel.py\": 1680185784.208758, \"/Users/majerek/miniconda3/envs/tensorflow/lib/python3.10/site-packages/IPython/core/formatters.py\": 1680185784.1022134, \"/Users/majerek/miniconda3/envs/tensorflow/lib/python3.10/lib-dynload/_sqlite3.cpython-310-darwin.so\": 1679689254.1146326, \"/Users/majerek/miniconda3/envs/tensorflow/lib/python3.10/sqlite3/dbapi2.py\": 1679689198.244998, \"/Users/majerek/miniconda3/envs/tensorflow/lib/python3.10/sqlite3/__init__.py\": 1679689198.2410686, \"/Users/majerek/miniconda3/envs/tensorflow/lib/python3.10/site-packages/IPython/core/history.py\": 1680185784.103801, \"/Users/majerek/miniconda3/envs/tensorflow/lib/python3.10/site-packages/IPython/core/logger.py\": 1680185784.1087148, \"/Users/majerek/miniconda3/envs/tensorflow/lib/python3.10/site-packages/IPython/core/payload.py\": 1680185784.111671, \"/Users/majerek/miniconda3/envs/tensorflow/lib/python3.10/site-packages/IPython/core/usage.py\": 1680185784.1172829, \"/Users/majerek/miniconda3/envs/tensorflow/lib/python3.10/site-packages/IPython/utils/capture.py\": 1680185784.1977828, \"/Users/majerek/miniconda3/envs/tensorflow/lib/python3.10/site-packages/IPython/utils/io.py\": 1680185784.2040007, \"/Users/majerek/miniconda3/envs/tensorflow/lib/python3.10/site-packages/IPython/utils/strdispatch.py\": 1680185784.2100627, \"/Users/majerek/miniconda3/envs/tensorflow/lib/python3.10/site-packages/IPython/utils/syspathcontext.py\": 1680185784.2109263, \"/Users/majerek/miniconda3/envs/tensorflow/lib/python3.10/site-packages/IPython/core/async_helpers.py\": 1680185784.0929406, \"/Users/majerek/miniconda3/envs/tensorflow/lib/python3.10/site-packages/IPython/core/interactiveshell.py\": 1680185784.1076853, \"/Users/majerek/miniconda3/envs/tensorflow/lib/python3.10/site-packages/prompt_toolkit/application/current.py\": 1677601101.561416, \"/Users/majerek/miniconda3/envs/tensorflow/lib/python3.10/site-packages/prompt_toolkit/eventloop/utils.py\": 1677601101.569416, \"/Users/majerek/miniconda3/envs/tensorflow/lib/python3.10/site-packages/prompt_toolkit/eventloop/async_generator.py\": 1677601101.569416, \"/Users/majerek/miniconda3/envs/tensorflow/lib/python3.10/site-packages/prompt_toolkit/eventloop/inputhook.py\": 1677601101.569416, \"/Users/majerek/miniconda3/envs/tensorflow/lib/python3.10/site-packages/prompt_toolkit/eventloop/__init__.py\": 1677601101.569416, \"/Users/majerek/miniconda3/envs/tensorflow/lib/python3.10/site-packages/prompt_toolkit/application/run_in_terminal.py\": 1677601101.561416, \"/Users/majerek/miniconda3/envs/tensorflow/lib/python3.10/site-packages/prompt_toolkit/selection.py\": 1677601101.557416, \"/Users/majerek/miniconda3/envs/tensorflow/lib/python3.10/site-packages/prompt_toolkit/clipboard/base.py\": 1677601101.561416, \"/Users/majerek/miniconda3/envs/tensorflow/lib/python3.10/site-packages/prompt_toolkit/clipboard/in_memory.py\": 1677601101.561416, \"/Users/majerek/miniconda3/envs/tensorflow/lib/python3.10/site-packages/prompt_toolkit/clipboard/__init__.py\": 1677601101.561416, \"/Users/majerek/miniconda3/envs/tensorflow/lib/python3.10/site-packages/prompt_toolkit/cache.py\": 1677601101.5534158, \"/Users/majerek/miniconda3/envs/tensorflow/lib/python3.10/site-packages/prompt_toolkit/enums.py\": 1677601101.557416, \"/Users/majerek/miniconda3/envs/tensorflow/lib/python3.10/site-packages/prompt_toolkit/filters/base.py\": 1677601101.569416, \"/Users/majerek/miniconda3/envs/tensorflow/lib/python3.10/site-packages/prompt_toolkit/filters/app.py\": 1677601101.569416, \"/Users/majerek/miniconda3/envs/tensorflow/lib/python3.10/site-packages/prompt_toolkit/filters/cli.py\": 1677601101.569416, \"/Users/majerek/miniconda3/envs/tensorflow/lib/python3.10/site-packages/prompt_toolkit/filters/utils.py\": 1677601101.569416, \"/Users/majerek/miniconda3/envs/tensorflow/lib/python3.10/site-packages/prompt_toolkit/filters/__init__.py\": 1677601101.569416, \"/Users/majerek/miniconda3/envs/tensorflow/lib/python3.10/site-packages/prompt_toolkit/document.py\": 1677601101.557416, \"/Users/majerek/miniconda3/envs/tensorflow/lib/python3.10/site-packages/prompt_toolkit/auto_suggest.py\": 1677601101.5534158, \"/Users/majerek/miniconda3/envs/tensorflow/lib/python3.10/site-packages/prompt_toolkit/keys.py\": 1677601101.557416, \"/Users/majerek/miniconda3/envs/tensorflow/lib/python3.10/site-packages/prompt_toolkit/key_binding/key_bindings.py\": 1677601101.577416, \"/Users/majerek/miniconda3/envs/tensorflow/lib/python3.10/site-packages/wcwidth/table_wide.py\": 1673864745.090817, \"/Users/majerek/miniconda3/envs/tensorflow/lib/python3.10/site-packages/wcwidth/table_zero.py\": 1673864745.090817, \"/Users/majerek/miniconda3/envs/tensorflow/lib/python3.10/site-packages/wcwidth/unicode_versions.py\": 1673864745.090817, \"/Users/majerek/miniconda3/envs/tensorflow/lib/python3.10/site-packages/wcwidth/wcwidth.py\": 1673864745.090817, \"/Users/majerek/miniconda3/envs/tensorflow/lib/python3.10/site-packages/wcwidth/__init__.py\": 1673864745.090817, \"/Users/majerek/miniconda3/envs/tensorflow/lib/python3.10/site-packages/prompt_toolkit/utils.py\": 1677601101.561416, \"/Users/majerek/miniconda3/envs/tensorflow/lib/python3.10/site-packages/prompt_toolkit/key_binding/key_processor.py\": 1677601101.577416, \"/Users/majerek/miniconda3/envs/tensorflow/lib/python3.10/site-packages/prompt_toolkit/key_binding/__init__.py\": 1677601101.573416, \"/Users/majerek/miniconda3/envs/tensorflow/lib/python3.10/site-packages/prompt_toolkit/key_binding/vi_state.py\": 1677601101.577416, \"/Users/majerek/miniconda3/envs/tensorflow/lib/python3.10/site-packages/prompt_toolkit/cursor_shapes.py\": 1677601101.557416, \"/Users/majerek/miniconda3/envs/tensorflow/lib/python3.10/site-packages/prompt_toolkit/data_structures.py\": 1677601101.557416, \"/Users/majerek/miniconda3/envs/tensorflow/lib/python3.10/site-packages/prompt_toolkit/styles/base.py\": 1677601101.5894163, \"/Users/majerek/miniconda3/envs/tensorflow/lib/python3.10/site-packages/prompt_toolkit/styles/named_colors.py\": 1677601101.5894163, \"/Users/majerek/miniconda3/envs/tensorflow/lib/python3.10/site-packages/prompt_toolkit/styles/style.py\": 1677601101.5934162, \"/Users/majerek/miniconda3/envs/tensorflow/lib/python3.10/site-packages/prompt_toolkit/styles/defaults.py\": 1677601101.5894163, \"/Users/majerek/miniconda3/envs/tensorflow/lib/python3.10/site-packages/prompt_toolkit/styles/pygments.py\": 1677601101.5894163, \"/Users/majerek/miniconda3/envs/tensorflow/lib/python3.10/colorsys.py\": 1679689193.8690386, \"/Users/majerek/miniconda3/envs/tensorflow/lib/python3.10/site-packages/prompt_toolkit/styles/style_transformation.py\": 1677601101.5934162, \"/Users/majerek/miniconda3/envs/tensorflow/lib/python3.10/site-packages/prompt_toolkit/styles/__init__.py\": 1677601101.5894163, \"/Users/majerek/miniconda3/envs/tensorflow/lib/python3.10/site-packages/prompt_toolkit/output/color_depth.py\": 1677601101.585416, \"/Users/majerek/miniconda3/envs/tensorflow/lib/python3.10/site-packages/prompt_toolkit/output/base.py\": 1677601101.585416, \"/Users/majerek/miniconda3/envs/tensorflow/lib/python3.10/site-packages/prompt_toolkit/output/flush_stdout.py\": 1677601101.585416, \"/Users/majerek/miniconda3/envs/tensorflow/lib/python3.10/site-packages/prompt_toolkit/output/plain_text.py\": 1677601101.585416, \"/Users/majerek/miniconda3/envs/tensorflow/lib/python3.10/site-packages/prompt_toolkit/output/defaults.py\": 1677601101.585416, \"/Users/majerek/miniconda3/envs/tensorflow/lib/python3.10/site-packages/prompt_toolkit/output/__init__.py\": 1677601101.585416, \"/Users/majerek/miniconda3/envs/tensorflow/lib/python3.10/site-packages/prompt_toolkit/output/vt100.py\": 1677601101.585416, \"/Users/majerek/miniconda3/envs/tensorflow/lib/python3.10/site-packages/prompt_toolkit/mouse_events.py\": 1677601101.557416, \"/Users/majerek/miniconda3/envs/tensorflow/lib/python3.10/site-packages/prompt_toolkit/formatted_text/base.py\": 1677601101.569416, \"/Users/majerek/miniconda3/envs/tensorflow/lib/python3.10/site-packages/prompt_toolkit/formatted_text/ansi.py\": 1677601101.569416, \"/Users/majerek/miniconda3/envs/tensorflow/lib/python3.10/xml/__init__.py\": 1679689198.6941395, \"/Users/majerek/miniconda3/envs/tensorflow/lib/python3.10/xml/dom/domreg.py\": 1679689198.7244675, \"/Users/majerek/miniconda3/envs/tensorflow/lib/python3.10/xml/dom/__init__.py\": 1679689198.719652, \"/Users/majerek/miniconda3/envs/tensorflow/lib/python3.10/xml/dom/minicompat.py\": 1679689198.7333739, \"/Users/majerek/miniconda3/envs/tensorflow/lib/python3.10/xml/dom/NodeFilter.py\": 1679689198.7151167, \"/Users/majerek/miniconda3/envs/tensorflow/lib/python3.10/xml/dom/xmlbuilder.py\": 1679689198.7492073, \"/Users/majerek/miniconda3/envs/tensorflow/lib/python3.10/xml/dom/minidom.py\": 1679689198.738434, \"/Users/majerek/miniconda3/envs/tensorflow/lib/python3.10/site-packages/prompt_toolkit/formatted_text/html.py\": 1677601101.569416, \"/Users/majerek/miniconda3/envs/tensorflow/lib/python3.10/site-packages/prompt_toolkit/formatted_text/pygments.py\": 1677601101.569416, \"/Users/majerek/miniconda3/envs/tensorflow/lib/python3.10/site-packages/prompt_toolkit/formatted_text/utils.py\": 1677601101.573416, \"/Users/majerek/miniconda3/envs/tensorflow/lib/python3.10/site-packages/prompt_toolkit/formatted_text/__init__.py\": 1677601101.569416, \"/Users/majerek/miniconda3/envs/tensorflow/lib/python3.10/site-packages/prompt_toolkit/completion/base.py\": 1677601101.561416, \"/Users/majerek/miniconda3/envs/tensorflow/lib/python3.10/site-packages/prompt_toolkit/completion/deduplicate.py\": 1677601101.561416, \"/Users/majerek/miniconda3/envs/tensorflow/lib/python3.10/site-packages/prompt_toolkit/completion/filesystem.py\": 1677601101.5654159, \"/Users/majerek/miniconda3/envs/tensorflow/lib/python3.10/site-packages/prompt_toolkit/completion/word_completer.py\": 1677601101.5654159, \"/Users/majerek/miniconda3/envs/tensorflow/lib/python3.10/site-packages/prompt_toolkit/completion/fuzzy_completer.py\": 1677601101.5654159, \"/Users/majerek/miniconda3/envs/tensorflow/lib/python3.10/site-packages/prompt_toolkit/completion/nested.py\": 1677601101.5654159, \"/Users/majerek/miniconda3/envs/tensorflow/lib/python3.10/site-packages/prompt_toolkit/completion/__init__.py\": 1677601101.561416, \"/Users/majerek/miniconda3/envs/tensorflow/lib/python3.10/site-packages/prompt_toolkit/history.py\": 1677601101.557416, \"/Users/majerek/miniconda3/envs/tensorflow/lib/python3.10/site-packages/prompt_toolkit/search.py\": 1677601101.557416, \"/Users/majerek/miniconda3/envs/tensorflow/lib/python3.10/site-packages/prompt_toolkit/validation.py\": 1677601101.561416, \"/Users/majerek/miniconda3/envs/tensorflow/lib/python3.10/site-packages/prompt_toolkit/buffer.py\": 1677601101.5534158, \"/Users/majerek/miniconda3/envs/tensorflow/lib/python3.10/site-packages/prompt_toolkit/input/base.py\": 1677601101.573416, \"/Users/majerek/miniconda3/envs/tensorflow/lib/python3.10/site-packages/prompt_toolkit/input/defaults.py\": 1677601101.573416, \"/Users/majerek/miniconda3/envs/tensorflow/lib/python3.10/site-packages/prompt_toolkit/input/__init__.py\": 1677601101.573416, \"/Users/majerek/miniconda3/envs/tensorflow/lib/python3.10/site-packages/prompt_toolkit/input/typeahead.py\": 1677601101.573416, \"/Users/majerek/miniconda3/envs/tensorflow/lib/python3.10/site-packages/prompt_toolkit/key_binding/bindings/__init__.py\": 1677601101.577416, \"/Users/majerek/miniconda3/envs/tensorflow/lib/python3.10/site-packages/prompt_toolkit/key_binding/bindings/scroll.py\": 1677601101.577416, \"/Users/majerek/miniconda3/envs/tensorflow/lib/python3.10/site-packages/prompt_toolkit/key_binding/bindings/page_navigation.py\": 1677601101.577416, \"/Users/majerek/miniconda3/envs/tensorflow/lib/python3.10/site-packages/prompt_toolkit/lexers/base.py\": 1677601101.585416, \"/Users/majerek/miniconda3/envs/tensorflow/lib/python3.10/site-packages/prompt_toolkit/lexers/pygments.py\": 1677601101.585416, \"/Users/majerek/miniconda3/envs/tensorflow/lib/python3.10/site-packages/prompt_toolkit/lexers/__init__.py\": 1677601101.585416, \"/Users/majerek/miniconda3/envs/tensorflow/lib/python3.10/site-packages/prompt_toolkit/layout/utils.py\": 1677601101.585416, \"/Users/majerek/miniconda3/envs/tensorflow/lib/python3.10/site-packages/prompt_toolkit/layout/processors.py\": 1677601101.585416, \"/Users/majerek/miniconda3/envs/tensorflow/lib/python3.10/site-packages/prompt_toolkit/layout/controls.py\": 1677601101.5814161, \"/Users/majerek/miniconda3/envs/tensorflow/lib/python3.10/site-packages/prompt_toolkit/layout/dimension.py\": 1677601101.5814161, \"/Users/majerek/miniconda3/envs/tensorflow/lib/python3.10/site-packages/prompt_toolkit/layout/margins.py\": 1677601101.5814161, \"/Users/majerek/miniconda3/envs/tensorflow/lib/python3.10/site-packages/prompt_toolkit/layout/mouse_handlers.py\": 1677601101.5814161, \"/Users/majerek/miniconda3/envs/tensorflow/lib/python3.10/site-packages/prompt_toolkit/layout/screen.py\": 1677601101.585416, \"/Users/majerek/miniconda3/envs/tensorflow/lib/python3.10/site-packages/prompt_toolkit/layout/containers.py\": 1677601101.5814161, \"/Users/majerek/miniconda3/envs/tensorflow/lib/python3.10/site-packages/prompt_toolkit/layout/layout.py\": 1677601101.5814161, \"/Users/majerek/miniconda3/envs/tensorflow/lib/python3.10/site-packages/prompt_toolkit/layout/menus.py\": 1677601101.5814161, \"/Users/majerek/miniconda3/envs/tensorflow/lib/python3.10/site-packages/prompt_toolkit/layout/scrollable_pane.py\": 1677601101.585416, \"/Users/majerek/miniconda3/envs/tensorflow/lib/python3.10/site-packages/prompt_toolkit/layout/__init__.py\": 1677601101.5814161, \"/Users/majerek/miniconda3/envs/tensorflow/lib/python3.10/site-packages/prompt_toolkit/key_binding/bindings/completion.py\": 1677601101.577416, \"/Users/majerek/miniconda3/envs/tensorflow/lib/python3.10/site-packages/prompt_toolkit/key_binding/bindings/named_commands.py\": 1677601101.577416, \"/Users/majerek/miniconda3/envs/tensorflow/lib/python3.10/site-packages/prompt_toolkit/key_binding/bindings/basic.py\": 1677601101.577416, \"/Users/majerek/miniconda3/envs/tensorflow/lib/python3.10/site-packages/prompt_toolkit/key_binding/bindings/cpr.py\": 1677601101.577416, \"/Users/majerek/miniconda3/envs/tensorflow/lib/python3.10/site-packages/prompt_toolkit/key_binding/bindings/emacs.py\": 1677601101.577416, \"/Users/majerek/miniconda3/envs/tensorflow/lib/python3.10/site-packages/prompt_toolkit/key_binding/bindings/mouse.py\": 1677601101.577416, \"/Users/majerek/miniconda3/envs/tensorflow/lib/python3.10/site-packages/prompt_toolkit/input/ansi_escape_sequences.py\": 1677601101.573416, \"/Users/majerek/miniconda3/envs/tensorflow/lib/python3.10/site-packages/prompt_toolkit/input/vt100_parser.py\": 1677601101.573416, \"/Users/majerek/miniconda3/envs/tensorflow/lib/python3.10/site-packages/prompt_toolkit/key_binding/digraphs.py\": 1677601101.573416, \"/Users/majerek/miniconda3/envs/tensorflow/lib/python3.10/site-packages/prompt_toolkit/key_binding/bindings/vi.py\": 1677601101.5814161, \"/Users/majerek/miniconda3/envs/tensorflow/lib/python3.10/site-packages/prompt_toolkit/key_binding/defaults.py\": 1677601101.573416, \"/Users/majerek/miniconda3/envs/tensorflow/lib/python3.10/site-packages/prompt_toolkit/key_binding/emacs_state.py\": 1677601101.577416, \"/Users/majerek/miniconda3/envs/tensorflow/lib/python3.10/site-packages/prompt_toolkit/layout/dummy.py\": 1677601101.5814161, \"/Users/majerek/miniconda3/envs/tensorflow/lib/python3.10/site-packages/prompt_toolkit/renderer.py\": 1677601101.557416, \"/Users/majerek/miniconda3/envs/tensorflow/lib/python3.10/site-packages/prompt_toolkit/application/application.py\": 1677601101.561416, \"/Users/majerek/miniconda3/envs/tensorflow/lib/python3.10/site-packages/prompt_toolkit/application/dummy.py\": 1677601101.561416, \"/Users/majerek/miniconda3/envs/tensorflow/lib/python3.10/site-packages/prompt_toolkit/application/__init__.py\": 1677601101.561416, \"/Users/majerek/miniconda3/envs/tensorflow/lib/python3.10/site-packages/prompt_toolkit/key_binding/bindings/focus.py\": 1677601101.577416, \"/Users/majerek/miniconda3/envs/tensorflow/lib/python3.10/site-packages/prompt_toolkit/widgets/toolbars.py\": 1677601101.5934162, \"/Users/majerek/miniconda3/envs/tensorflow/lib/python3.10/site-packages/prompt_toolkit/widgets/base.py\": 1677601101.5934162, \"/Users/majerek/miniconda3/envs/tensorflow/lib/python3.10/site-packages/prompt_toolkit/widgets/dialogs.py\": 1677601101.5934162, \"/Users/majerek/miniconda3/envs/tensorflow/lib/python3.10/site-packages/prompt_toolkit/widgets/menus.py\": 1677601101.5934162, \"/Users/majerek/miniconda3/envs/tensorflow/lib/python3.10/site-packages/prompt_toolkit/widgets/__init__.py\": 1677601101.5934162, \"/Users/majerek/miniconda3/envs/tensorflow/lib/python3.10/site-packages/prompt_toolkit/shortcuts/dialogs.py\": 1677601101.5894163, \"/Users/majerek/miniconda3/envs/tensorflow/lib/python3.10/site-packages/prompt_toolkit/shortcuts/progress_bar/formatters.py\": 1677601101.5894163, \"/Users/majerek/miniconda3/envs/tensorflow/lib/python3.10/site-packages/prompt_toolkit/shortcuts/progress_bar/base.py\": 1677601101.5894163, \"/Users/majerek/miniconda3/envs/tensorflow/lib/python3.10/site-packages/prompt_toolkit/shortcuts/progress_bar/__init__.py\": 1677601101.5894163, \"/Users/majerek/miniconda3/envs/tensorflow/lib/python3.10/site-packages/prompt_toolkit/key_binding/bindings/auto_suggest.py\": 1677601101.577416, \"/Users/majerek/miniconda3/envs/tensorflow/lib/python3.10/site-packages/prompt_toolkit/key_binding/bindings/open_in_editor.py\": 1677601101.577416, \"/Users/majerek/miniconda3/envs/tensorflow/lib/python3.10/site-packages/prompt_toolkit/shortcuts/prompt.py\": 1677601101.5894163, \"/Users/majerek/miniconda3/envs/tensorflow/lib/python3.10/site-packages/prompt_toolkit/shortcuts/utils.py\": 1677601101.5894163, \"/Users/majerek/miniconda3/envs/tensorflow/lib/python3.10/site-packages/prompt_toolkit/shortcuts/__init__.py\": 1677601101.5894163, \"/Users/majerek/miniconda3/envs/tensorflow/lib/python3.10/site-packages/prompt_toolkit/__init__.py\": 1677601101.5534158, \"/Users/majerek/miniconda3/envs/tensorflow/lib/python3.10/site-packages/prompt_toolkit/patch_stdout.py\": 1677601101.557416, \"/Users/majerek/miniconda3/envs/tensorflow/lib/python3.10/lib-dynload/unicodedata.cpython-310-darwin.so\": 1679689270.9343204, \"/Users/majerek/miniconda3/envs/tensorflow/lib/python3.10/site-packages/IPython/core/guarded_eval.py\": 1680185784.103225, \"/Users/majerek/miniconda3/envs/tensorflow/lib/python3.10/site-packages/IPython/core/latex_symbols.py\": 1680185784.1082463, \"/Users/majerek/miniconda3/envs/tensorflow/lib/python3.10/site-packages/IPython/utils/generics.py\": 1680185784.2031384, \"/Users/majerek/miniconda3/envs/tensorflow/lib/python3.10/site-packages/parso/utils.py\": 1638335053.0, \"/Users/majerek/miniconda3/envs/tensorflow/lib/python3.10/site-packages/parso/tree.py\": 1638335053.0, \"/Users/majerek/miniconda3/envs/tensorflow/lib/python3.10/site-packages/parso/python/__init__.py\": 1638335053.0, \"/Users/majerek/miniconda3/envs/tensorflow/lib/python3.10/site-packages/parso/python/token.py\": 1638335053.0, \"/Users/majerek/miniconda3/envs/tensorflow/lib/python3.10/site-packages/parso/python/tokenize.py\": 1638335053.0, \"/Users/majerek/miniconda3/envs/tensorflow/lib/python3.10/site-packages/parso/pgen2/grammar_parser.py\": 1638335053.0, \"/Users/majerek/miniconda3/envs/tensorflow/lib/python3.10/site-packages/parso/pgen2/generator.py\": 1638335053.0, \"/Users/majerek/miniconda3/envs/tensorflow/lib/python3.10/site-packages/parso/pgen2/__init__.py\": 1638335053.0, \"/Users/majerek/miniconda3/envs/tensorflow/lib/python3.10/site-packages/parso/parser.py\": 1638335053.0, \"/Users/majerek/miniconda3/envs/tensorflow/lib/python3.10/site-packages/parso/_compatibility.py\": 1638335053.0, \"/Users/majerek/miniconda3/envs/tensorflow/lib/python3.10/difflib.py\": 1679689193.985112, \"/Users/majerek/miniconda3/envs/tensorflow/lib/python3.10/site-packages/parso/python/prefix.py\": 1638335053.0, \"/Users/majerek/miniconda3/envs/tensorflow/lib/python3.10/site-packages/parso/python/tree.py\": 1638335053.0, \"/Users/majerek/miniconda3/envs/tensorflow/lib/python3.10/site-packages/parso/python/parser.py\": 1638335053.0, \"/Users/majerek/miniconda3/envs/tensorflow/lib/python3.10/site-packages/parso/python/diff.py\": 1638335053.0, \"/Users/majerek/miniconda3/envs/tensorflow/lib/python3.10/site-packages/parso/cache.py\": 1638335053.0, \"/Users/majerek/miniconda3/envs/tensorflow/lib/python3.10/site-packages/parso/normalizer.py\": 1638335053.0, \"/Users/majerek/miniconda3/envs/tensorflow/lib/python3.10/site-packages/parso/python/errors.py\": 1638335053.0, \"/Users/majerek/miniconda3/envs/tensorflow/lib/python3.10/site-packages/parso/python/pep8.py\": 1638335053.0, \"/Users/majerek/miniconda3/envs/tensorflow/lib/python3.10/site-packages/parso/file_io.py\": 1638335053.0, \"/Users/majerek/miniconda3/envs/tensorflow/lib/python3.10/site-packages/parso/grammar.py\": 1638335053.0, \"/Users/majerek/miniconda3/envs/tensorflow/lib/python3.10/site-packages/parso/__init__.py\": 1638335053.0, \"/Users/majerek/miniconda3/envs/tensorflow/lib/python3.10/site-packages/jedi/parser_utils.py\": 1669134426.0, \"/Users/majerek/miniconda3/envs/tensorflow/lib/python3.10/site-packages/jedi/debug.py\": 1669134426.0, \"/Users/majerek/miniconda3/envs/tensorflow/lib/python3.10/site-packages/jedi/settings.py\": 1669134426.0, \"/Users/majerek/miniconda3/envs/tensorflow/lib/python3.10/site-packages/jedi/cache.py\": 1669134426.0, \"/Users/majerek/miniconda3/envs/tensorflow/lib/python3.10/site-packages/jedi/file_io.py\": 1669134426.0, \"/Users/majerek/miniconda3/envs/tensorflow/lib/python3.10/site-packages/jedi/inference/cache.py\": 1669134426.0, \"/Users/majerek/miniconda3/envs/tensorflow/lib/python3.10/site-packages/jedi/inference/helpers.py\": 1669134426.0, \"/Users/majerek/miniconda3/envs/tensorflow/lib/python3.10/site-packages/jedi/inference/utils.py\": 1669134426.0, \"/Users/majerek/miniconda3/envs/tensorflow/lib/python3.10/site-packages/jedi/inference/base_value.py\": 1669134426.0, \"/Users/majerek/miniconda3/envs/tensorflow/lib/python3.10/site-packages/jedi/inference/sys_path.py\": 1669134426.0, \"/Users/majerek/miniconda3/envs/tensorflow/lib/python3.10/site-packages/jedi/inference/recursion.py\": 1669134426.0, \"/Users/majerek/miniconda3/envs/tensorflow/lib/python3.10/site-packages/jedi/inference/flow_analysis.py\": 1669134426.0, \"/Users/majerek/miniconda3/envs/tensorflow/lib/python3.10/site-packages/jedi/common.py\": 1669134426.0, \"/Users/majerek/miniconda3/envs/tensorflow/lib/python3.10/site-packages/jedi/inference/lazy_value.py\": 1669134426.0, \"/Users/majerek/miniconda3/envs/tensorflow/lib/python3.10/site-packages/jedi/inference/docstrings.py\": 1669134426.0, \"/Users/majerek/miniconda3/envs/tensorflow/lib/python3.10/site-packages/jedi/plugins/__init__.py\": 1669134426.0, \"/Users/majerek/miniconda3/envs/tensorflow/lib/python3.10/site-packages/jedi/inference/names.py\": 1669134426.0, \"/Users/majerek/miniconda3/envs/tensorflow/lib/python3.10/site-packages/jedi/inference/filters.py\": 1669134426.0, \"/Users/majerek/miniconda3/envs/tensorflow/lib/python3.10/site-packages/jedi/inference/compiled/getattr_static.py\": 1669134426.0, \"/Users/majerek/miniconda3/envs/tensorflow/lib/python3.10/site-packages/jedi/inference/compiled/access.py\": 1669134426.0, \"/Users/majerek/miniconda3/envs/tensorflow/lib/python3.10/site-packages/jedi/inference/signature.py\": 1669134426.0, \"/Users/majerek/miniconda3/envs/tensorflow/lib/python3.10/site-packages/jedi/inference/context.py\": 1669134426.0, \"/Users/majerek/miniconda3/envs/tensorflow/lib/python3.10/site-packages/jedi/inference/compiled/value.py\": 1669134426.0, \"/Users/majerek/miniconda3/envs/tensorflow/lib/python3.10/site-packages/jedi/inference/compiled/__init__.py\": 1669134426.0, \"/Users/majerek/miniconda3/envs/tensorflow/lib/python3.10/site-packages/jedi/inference/analysis.py\": 1669134426.0, \"/Users/majerek/miniconda3/envs/tensorflow/lib/python3.10/site-packages/jedi/inference/gradual/__init__.py\": 1669134426.0, \"/Users/majerek/miniconda3/envs/tensorflow/lib/python3.10/site-packages/jedi/inference/value/module.py\": 1669134426.0, \"/Users/majerek/miniconda3/envs/tensorflow/lib/python3.10/site-packages/jedi/inference/value/dynamic_arrays.py\": 1669134426.0, \"/Users/majerek/miniconda3/envs/tensorflow/lib/python3.10/site-packages/jedi/inference/value/iterable.py\": 1669134426.0, \"/Users/majerek/miniconda3/envs/tensorflow/lib/python3.10/site-packages/jedi/inference/arguments.py\": 1669134426.0, \"/Users/majerek/miniconda3/envs/tensorflow/lib/python3.10/site-packages/jedi/inference/parser_cache.py\": 1669134426.0, \"/Users/majerek/miniconda3/envs/tensorflow/lib/python3.10/site-packages/jedi/inference/gradual/generics.py\": 1669134426.0, \"/Users/majerek/miniconda3/envs/tensorflow/lib/python3.10/site-packages/jedi/inference/value/function.py\": 1669134426.0, \"/Users/majerek/miniconda3/envs/tensorflow/lib/python3.10/site-packages/jedi/inference/value/klass.py\": 1669134426.0, \"/Users/majerek/miniconda3/envs/tensorflow/lib/python3.10/site-packages/jedi/inference/value/instance.py\": 1669134426.0, \"/Users/majerek/miniconda3/envs/tensorflow/lib/python3.10/site-packages/jedi/inference/value/__init__.py\": 1669134426.0, \"/Users/majerek/miniconda3/envs/tensorflow/lib/python3.10/site-packages/jedi/inference/gradual/base.py\": 1669134426.0, \"/Users/majerek/miniconda3/envs/tensorflow/lib/python3.10/site-packages/jedi/inference/gradual/type_var.py\": 1669134426.0, \"/Users/majerek/miniconda3/envs/tensorflow/lib/python3.10/site-packages/jedi/inference/gradual/typing.py\": 1669134426.0, \"/Users/majerek/miniconda3/envs/tensorflow/lib/python3.10/site-packages/jedi/inference/gradual/stub_value.py\": 1669134426.0, \"/Users/majerek/miniconda3/envs/tensorflow/lib/python3.10/site-packages/jedi/inference/gradual/typeshed.py\": 1669134426.0, \"/Users/majerek/miniconda3/envs/tensorflow/lib/python3.10/site-packages/jedi/_compatibility.py\": 1669134426.0, \"/Users/majerek/miniconda3/envs/tensorflow/lib/python3.10/site-packages/jedi/inference/compiled/subprocess/functions.py\": 1669134426.0, \"/Users/majerek/miniconda3/envs/tensorflow/lib/python3.10/site-packages/jedi/api/exceptions.py\": 1669134426.0, \"/Users/majerek/miniconda3/envs/tensorflow/lib/python3.10/site-packages/jedi/inference/compiled/subprocess/__init__.py\": 1669134426.0, \"/Users/majerek/miniconda3/envs/tensorflow/lib/python3.10/site-packages/jedi/inference/imports.py\": 1669134426.0, \"/Users/majerek/miniconda3/envs/tensorflow/lib/python3.10/site-packages/jedi/inference/param.py\": 1669134426.0, \"/Users/majerek/miniconda3/envs/tensorflow/lib/python3.10/site-packages/jedi/inference/gradual/annotation.py\": 1669134426.0, \"/Users/majerek/miniconda3/envs/tensorflow/lib/python3.10/site-packages/jedi/inference/value/decorator.py\": 1669134426.0, \"/Users/majerek/miniconda3/envs/tensorflow/lib/python3.10/site-packages/jedi/inference/syntax_tree.py\": 1669134426.0, \"/Users/majerek/miniconda3/envs/tensorflow/lib/python3.10/site-packages/jedi/inference/__init__.py\": 1669134426.0, \"/Users/majerek/miniconda3/envs/tensorflow/lib/python3.10/site-packages/jedi/inference/gradual/conversion.py\": 1669134426.0, \"/Users/majerek/miniconda3/envs/tensorflow/lib/python3.10/site-packages/jedi/inference/compiled/mixed.py\": 1669134426.0, \"/Users/majerek/miniconda3/envs/tensorflow/lib/python3.10/pydoc_data/__init__.py\": 1679689198.211188, \"/Users/majerek/miniconda3/envs/tensorflow/lib/python3.10/pydoc_data/topics.py\": 1679689198.2204301, \"/Users/majerek/miniconda3/envs/tensorflow/lib/python3.10/site-packages/jedi/api/keywords.py\": 1669134426.0, \"/Users/majerek/miniconda3/envs/tensorflow/lib/python3.10/site-packages/jedi/api/completion_cache.py\": 1669134426.0, \"/Users/majerek/miniconda3/envs/tensorflow/lib/python3.10/site-packages/jedi/api/helpers.py\": 1669134426.0, \"/Users/majerek/miniconda3/envs/tensorflow/lib/python3.10/site-packages/jedi/api/classes.py\": 1669134426.0, \"/Users/majerek/miniconda3/envs/tensorflow/lib/python3.10/site-packages/jedi/api/interpreter.py\": 1669134426.0, \"/Users/majerek/miniconda3/envs/tensorflow/lib/python3.10/site-packages/jedi/api/strings.py\": 1669134426.0, \"/Users/majerek/miniconda3/envs/tensorflow/lib/python3.10/site-packages/jedi/api/file_name.py\": 1669134426.0, \"/Users/majerek/miniconda3/envs/tensorflow/lib/python3.10/site-packages/jedi/inference/docstring_utils.py\": 1669134426.0, \"/Users/majerek/miniconda3/envs/tensorflow/lib/python3.10/site-packages/jedi/api/completion.py\": 1669134426.0, \"/Users/majerek/miniconda3/envs/tensorflow/lib/python3.10/filecmp.py\": 1679689194.007307, \"/Users/majerek/miniconda3/envs/tensorflow/lib/python3.10/site-packages/jedi/api/environment.py\": 1669134426.0, \"/Users/majerek/miniconda3/envs/tensorflow/lib/python3.10/site-packages/jedi/inference/references.py\": 1669134426.0, \"/Users/majerek/miniconda3/envs/tensorflow/lib/python3.10/site-packages/jedi/api/project.py\": 1669134426.0, \"/Users/majerek/miniconda3/envs/tensorflow/lib/python3.10/site-packages/jedi/api/errors.py\": 1669134426.0, \"/Users/majerek/miniconda3/envs/tensorflow/lib/python3.10/site-packages/jedi/api/refactoring/__init__.py\": 1669134426.0, \"/Users/majerek/miniconda3/envs/tensorflow/lib/python3.10/site-packages/jedi/api/refactoring/extract.py\": 1669134426.0, \"/Users/majerek/miniconda3/envs/tensorflow/lib/python3.10/site-packages/jedi/inference/gradual/utils.py\": 1669134426.0, \"/Users/majerek/miniconda3/envs/tensorflow/lib/python3.10/site-packages/jedi/api/__init__.py\": 1669134426.0, \"/Users/majerek/miniconda3/envs/tensorflow/lib/python3.10/site-packages/jedi/plugins/stdlib.py\": 1669134426.0, \"/Users/majerek/miniconda3/envs/tensorflow/lib/python3.10/site-packages/jedi/plugins/flask.py\": 1669134426.0, \"/Users/majerek/miniconda3/envs/tensorflow/lib/python3.10/site-packages/jedi/plugins/pytest.py\": 1669134426.0, \"/Users/majerek/miniconda3/envs/tensorflow/lib/python3.10/site-packages/jedi/plugins/django.py\": 1669134426.0, \"/Users/majerek/miniconda3/envs/tensorflow/lib/python3.10/site-packages/jedi/plugins/registry.py\": 1669134426.0, \"/Users/majerek/miniconda3/envs/tensorflow/lib/python3.10/site-packages/jedi/__init__.py\": 1669134426.0, \"/Users/majerek/miniconda3/envs/tensorflow/lib/python3.10/site-packages/IPython/core/completer.py\": 1680185784.0955036, \"/Users/majerek/miniconda3/envs/tensorflow/lib/python3.10/site-packages/IPython/terminal/ptutils.py\": 1680185784.1718705, \"/Users/majerek/miniconda3/envs/tensorflow/lib/python3.10/site-packages/IPython/terminal/shortcuts/auto_match.py\": 1680185784.1781104, \"/Users/majerek/miniconda3/envs/tensorflow/lib/python3.10/site-packages/IPython/utils/tokenutil.py\": 1680185784.213346, \"/Users/majerek/miniconda3/envs/tensorflow/lib/python3.10/site-packages/IPython/terminal/shortcuts/auto_suggest.py\": 1680185784.1786823, \"/Users/majerek/miniconda3/envs/tensorflow/lib/python3.10/site-packages/IPython/terminal/shortcuts/filters.py\": 1680185784.1791844, \"/Users/majerek/miniconda3/envs/tensorflow/lib/python3.10/site-packages/IPython/terminal/shortcuts/__init__.py\": 1680185784.1776664, \"/Users/majerek/miniconda3/envs/tensorflow/lib/python3.10/concurrent/futures/thread.py\": 1679689195.2239785, \"/Users/majerek/miniconda3/envs/tensorflow/lib/python3.10/site-packages/IPython/terminal/debugger.py\": 1680185784.1688073, \"/Users/majerek/miniconda3/envs/tensorflow/lib/python3.10/site-packages/IPython/lib/clipboard.py\": 1680185784.1557105, \"/Users/majerek/miniconda3/envs/tensorflow/lib/python3.10/site-packages/IPython/terminal/magics.py\": 1680185784.1709225, \"/Users/majerek/miniconda3/envs/tensorflow/lib/python3.10/site-packages/IPython/terminal/pt_inputhooks/__init__.py\": 1680185784.1724012, \"/Users/majerek/miniconda3/envs/tensorflow/lib/python3.10/site-packages/IPython/terminal/prompts.py\": 1680185784.1713958, \"/Users/majerek/miniconda3/envs/tensorflow/lib/python3.10/site-packages/IPython/terminal/interactiveshell.py\": 1680185784.169886, \"/Users/majerek/miniconda3/envs/tensorflow/lib/python3.10/site-packages/IPython/core/magics/auto.py\": 1680185784.1182945, \"/Users/majerek/miniconda3/envs/tensorflow/lib/python3.10/site-packages/IPython/core/magics/basic.py\": 1680185784.1188328, \"/Users/majerek/miniconda3/envs/tensorflow/lib/python3.10/http/__init__.py\": 1679689196.913754, \"/Users/majerek/miniconda3/envs/tensorflow/lib/python3.10/email/feedparser.py\": 1679689195.9273674, \"/Users/majerek/miniconda3/envs/tensorflow/lib/python3.10/email/parser.py\": 1679689195.9690053, \"/Users/majerek/miniconda3/envs/tensorflow/lib/python3.10/http/client.py\": 1679689196.9176307, \"/Users/majerek/miniconda3/envs/tensorflow/lib/python3.10/urllib/response.py\": 1679689198.5667686, \"/Users/majerek/miniconda3/envs/tensorflow/lib/python3.10/urllib/error.py\": 1679689198.5520923, \"/Users/majerek/miniconda3/envs/tensorflow/lib/python3.10/lib-dynload/_scproxy.cpython-310-darwin.so\": 1679689269.7063599, \"/Users/majerek/miniconda3/envs/tensorflow/lib/python3.10/urllib/request.py\": 1679689198.5620632, \"/Users/majerek/miniconda3/envs/tensorflow/lib/python3.10/site-packages/IPython/utils/contexts.py\": 1680185784.1991317, \"/Users/majerek/miniconda3/envs/tensorflow/lib/python3.10/site-packages/IPython/core/magics/code.py\": 1680185784.1194048, \"/Users/majerek/miniconda3/envs/tensorflow/lib/python3.10/site-packages/IPython/core/magics/config.py\": 1680185784.119882, \"/Users/majerek/miniconda3/envs/tensorflow/lib/python3.10/site-packages/IPython/core/magics/display.py\": 1680185784.1203406, \"/Users/majerek/miniconda3/envs/tensorflow/lib/python3.10/lib-dynload/_lsprof.cpython-310-darwin.so\": 1679689260.354508, \"/Users/majerek/miniconda3/envs/tensorflow/lib/python3.10/profile.py\": 1679689194.337298, \"/Users/majerek/miniconda3/envs/tensorflow/lib/python3.10/cProfile.py\": 1679689193.8169827, \"/Users/majerek/miniconda3/envs/tensorflow/lib/python3.10/pstats.py\": 1679689194.3426068, \"/Users/majerek/miniconda3/envs/tensorflow/lib/python3.10/timeit.py\": 1679689194.7423668, \"/Users/majerek/miniconda3/envs/tensorflow/lib/python3.10/site-packages/IPython/utils/module_paths.py\": 1680185784.206337, \"/Users/majerek/miniconda3/envs/tensorflow/lib/python3.10/site-packages/IPython/utils/timing.py\": 1680185784.2129014, \"/Users/majerek/miniconda3/envs/tensorflow/lib/python3.10/site-packages/IPython/core/magics/execution.py\": 1680185784.1210825, \"/Users/majerek/miniconda3/envs/tensorflow/lib/python3.10/site-packages/IPython/core/magics/extension.py\": 1680185784.1215403, \"/Users/majerek/miniconda3/envs/tensorflow/lib/python3.10/site-packages/IPython/core/magics/history.py\": 1680185784.1220152, \"/Users/majerek/miniconda3/envs/tensorflow/lib/python3.10/site-packages/IPython/core/magics/logging.py\": 1680185784.1225061, \"/Users/majerek/miniconda3/envs/tensorflow/lib/python3.10/site-packages/IPython/core/magics/namespace.py\": 1680185784.1231778, \"/Users/majerek/miniconda3/envs/tensorflow/lib/python3.10/site-packages/IPython/core/magics/osm.py\": 1680185784.123768, \"/Users/majerek/miniconda3/envs/tensorflow/lib/python3.10/site-packages/IPython/core/magics/packaging.py\": 1680185784.1242347, \"/Users/majerek/miniconda3/envs/tensorflow/lib/python3.10/site-packages/IPython/core/pylabtools.py\": 1680185784.1145933, \"/Users/majerek/miniconda3/envs/tensorflow/lib/python3.10/site-packages/IPython/core/magics/pylab.py\": 1680185784.1247258, \"/Users/majerek/miniconda3/envs/tensorflow/lib/python3.10/site-packages/IPython/core/magics/script.py\": 1680185784.1252708, \"/Users/majerek/miniconda3/envs/tensorflow/lib/python3.10/site-packages/IPython/core/magics/__init__.py\": 1680185784.1178308, \"/Users/majerek/miniconda3/envs/tensorflow/lib/python3.10/site-packages/IPython/core/shellapp.py\": 1680185784.1155245, \"/Users/majerek/miniconda3/envs/tensorflow/lib/python3.10/site-packages/IPython/extensions/__init__.py\": 1680185784.1498218, \"/Users/majerek/miniconda3/envs/tensorflow/lib/python3.10/site-packages/IPython/extensions/storemagic.py\": 1680185784.150793, \"/Users/majerek/miniconda3/envs/tensorflow/lib/python3.10/site-packages/IPython/terminal/ipapp.py\": 1680185784.1703784, \"/Users/majerek/miniconda3/envs/tensorflow/lib/python3.10/site-packages/IPython/terminal/embed.py\": 1680185784.1692965, \"/Users/majerek/miniconda3/envs/tensorflow/lib/python3.10/site-packages/IPython/utils/frame.py\": 1680185784.2027044, \"/Users/majerek/miniconda3/envs/tensorflow/lib/python3.10/site-packages/IPython/__init__.py\": 1680185784.0884423, \"/Users/majerek/miniconda3/envs/tensorflow/lib/python3.10/site-packages/ipykernel/control.py\": 1679336876.6880517, \"/Users/majerek/miniconda3/envs/tensorflow/lib/python3.10/site-packages/ipykernel/heartbeat.py\": 1679336876.691593, \"/Users/majerek/miniconda3/envs/tensorflow/lib/python3.10/site-packages/ipykernel/iostream.py\": 1679336876.6922176, \"/Users/majerek/miniconda3/envs/tensorflow/lib/python3.10/site-packages/comm/base_comm.py\": 1679481449.8251498, \"/Users/majerek/miniconda3/envs/tensorflow/lib/python3.10/site-packages/comm/__init__.py\": 1679481449.8251498, \"/Users/majerek/miniconda3/envs/tensorflow/lib/python3.10/site-packages/ipykernel/jsonutil.py\": 1679336876.6933954, \"/Users/majerek/miniconda3/envs/tensorflow/lib/python3.10/site-packages/psutil/_common.py\": 1681775507.7871902, \"/Users/majerek/miniconda3/envs/tensorflow/lib/python3.10/site-packages/psutil/_compat.py\": 1681775507.7878392, \"/Users/majerek/miniconda3/envs/tensorflow/lib/python3.10/site-packages/psutil/_psutil_osx.abi3.so\": 1681775512.9088876, \"/Users/majerek/miniconda3/envs/tensorflow/lib/python3.10/site-packages/psutil/_psposix.py\": 1681775507.7917044, \"/Users/majerek/miniconda3/envs/tensorflow/lib/python3.10/site-packages/psutil/_psutil_posix.abi3.so\": 1681775513.1995513, \"/Users/majerek/miniconda3/envs/tensorflow/lib/python3.10/site-packages/psutil/_psosx.py\": 1681775507.7910304, \"/Users/majerek/miniconda3/envs/tensorflow/lib/python3.10/site-packages/psutil/__init__.py\": 1681775507.786239, \"/Users/majerek/miniconda3/envs/tensorflow/lib/python3.10/site-packages/tornado/gen.py\": 1681817940.2652268, \"/Users/majerek/miniconda3/envs/tensorflow/lib/python3.10/site-packages/tornado/locks.py\": 1681817940.2705078, \"/Users/majerek/miniconda3/envs/tensorflow/lib/python3.10/site-packages/tornado/queues.py\": 1681817940.2738507, \"/Users/majerek/miniconda3/envs/tensorflow/lib/python3.10/site-packages/ipykernel/kernelbase.py\": 1679336876.6948597, \"/Users/majerek/miniconda3/envs/tensorflow/lib/python3.10/site-packages/ipykernel/comm/comm.py\": 1679336876.7000659, \"/Users/majerek/miniconda3/envs/tensorflow/lib/python3.10/site-packages/ipykernel/comm/manager.py\": 1679336876.7005699, \"/Users/majerek/miniconda3/envs/tensorflow/lib/python3.10/site-packages/ipykernel/comm/__init__.py\": 1679336876.6995525, \"/Users/majerek/miniconda3/envs/tensorflow/lib/python3.10/site-packages/ipykernel/compiler.py\": 1679336876.6870522, \"/Users/majerek/miniconda3/envs/tensorflow/lib/python3.10/site-packages/debugpy/_version.py\": 1680756012.2051697, \"/Users/majerek/miniconda3/envs/tensorflow/lib/python3.10/site-packages/debugpy/public_api.py\": 1680756012.2057042, \"/Users/majerek/miniconda3/envs/tensorflow/lib/python3.10/site-packages/debugpy/__init__.py\": 1680756012.2041492, \"/Users/majerek/miniconda3/envs/tensorflow/lib/python3.10/site-packages/debugpy/_vendored/_util.py\": 1680756012.2074957, \"/Users/majerek/miniconda3/envs/tensorflow/lib/python3.10/site-packages/debugpy/_vendored/__init__.py\": 1680756012.2063105, \"/Users/majerek/miniconda3/envs/tensorflow/lib/python3.10/site-packages/debugpy/_vendored/pydevd/_pydevd_bundle/__init__.py\": 1680756012.237991, \"/Users/majerek/miniconda3/envs/tensorflow/lib/python3.10/encodings/ascii.py\": 1679689196.0945082, \"/Users/majerek/miniconda3/envs/tensorflow/lib/python3.10/encodings/latin_1.py\": 1679689196.617236, \"/Users/majerek/miniconda3/envs/tensorflow/lib/python3.10/stringprep.py\": 1679689194.5785089, \"/Users/majerek/miniconda3/envs/tensorflow/lib/python3.10/encodings/idna.py\": 1679689196.4411137, \"/Users/majerek/miniconda3/envs/tensorflow/lib/python3.10/site-packages/debugpy/_vendored/pydevd/_pydevd_bundle/pydevd_vm_type.py\": 1680756012.2917824, \"/Users/majerek/miniconda3/envs/tensorflow/lib/python3.10/site-packages/debugpy/_vendored/pydevd/_pydev_bundle/__init__.py\": 1680756012.2155797, \"/Users/majerek/miniconda3/envs/tensorflow/lib/python3.10/xmlrpc/__init__.py\": 1679689198.8735113, \"/Users/majerek/miniconda3/envs/tensorflow/lib/python3.10/xml/parsers/__init__.py\": 1679689198.7950604, \"/Users/majerek/miniconda3/envs/tensorflow/lib/python3.10/lib-dynload/pyexpat.cpython-310-darwin.so\": 1679689257.3702824, \"/Users/majerek/miniconda3/envs/tensorflow/lib/python3.10/xml/parsers/expat.py\": 1679689198.8007925, \"/Users/majerek/miniconda3/envs/tensorflow/lib/python3.10/gzip.py\": 1679689194.0992699, \"/Users/majerek/miniconda3/envs/tensorflow/lib/python3.10/xmlrpc/client.py\": 1679689198.8788707, \"/Users/majerek/miniconda3/envs/tensorflow/lib/python3.10/http/server.py\": 1679689196.9298625, \"/Users/majerek/miniconda3/envs/tensorflow/lib/python3.10/xmlrpc/server.py\": 1679689198.8845243, \"/Users/majerek/miniconda3/envs/tensorflow/lib/python3.10/site-packages/debugpy/_vendored/pydevd/_pydev_bundle/_pydev_saved_modules.py\": 1680756012.2208233, \"/Users/majerek/miniconda3/envs/tensorflow/lib/python3.10/site-packages/debugpy/_vendored/pydevd/_pydevd_bundle/pydevd_constants.py\": 1680756012.2458158, \"/Users/majerek/miniconda3/envs/tensorflow/lib/python3.10/site-packages/debugpy/_vendored/pydevd/_pydev_runfiles/__init__.py\": 1680756012.2325418, \"/Users/majerek/miniconda3/envs/tensorflow/lib/python3.10/site-packages/debugpy/_vendored/pydevd/_pydevd_frame_eval/__init__.py\": 1680756012.3083675, \"/Users/majerek/miniconda3/envs/tensorflow/lib/python3.10/site-packages/debugpy/_vendored/pydevd/pydev_ipython/__init__.py\": 1680756012.343508, \"/Users/majerek/miniconda3/envs/tensorflow/lib/python3.10/plistlib.py\": 1679689194.3119829, \"/Users/majerek/miniconda3/envs/tensorflow/lib/python3.10/site-packages/pkg_resources/extern/__init__.py\": 1698837523.0870128, \"/Users/majerek/miniconda3/envs/tensorflow/lib/python3.10/site-packages/pkg_resources/_vendor/__init__.py\": 1698837523.0804508, \"/Users/majerek/miniconda3/envs/tensorflow/lib/python3.10/site-packages/pkg_resources/_vendor/jaraco/__init__.py\": 1698837523.0821798, \"/Users/majerek/miniconda3/envs/tensorflow/lib/python3.10/importlib/_adapters.py\": 1679689197.4441953, \"/Users/majerek/miniconda3/envs/tensorflow/lib/python3.10/importlib/_common.py\": 1679689197.4732618, \"/Users/majerek/miniconda3/envs/tensorflow/lib/python3.10/importlib/resources.py\": 1679689197.568915, \"/Users/majerek/miniconda3/envs/tensorflow/lib/python3.10/site-packages/pkg_resources/_vendor/more_itertools/recipes.py\": 1698837523.0836303, \"/Users/majerek/miniconda3/envs/tensorflow/lib/python3.10/site-packages/pkg_resources/_vendor/more_itertools/more.py\": 1698837523.0834038, \"/Users/majerek/miniconda3/envs/tensorflow/lib/python3.10/site-packages/pkg_resources/_vendor/more_itertools/__init__.py\": 1698837523.0829034, \"/Users/majerek/miniconda3/envs/tensorflow/lib/python3.10/site-packages/pkg_resources/_vendor/jaraco/functools.py\": 1698837523.0825355, \"/Users/majerek/miniconda3/envs/tensorflow/lib/python3.10/site-packages/pkg_resources/_vendor/jaraco/context.py\": 1698837523.082337, \"/Users/majerek/miniconda3/envs/tensorflow/lib/python3.10/site-packages/pkg_resources/_vendor/jaraco/text/__init__.py\": 1698837523.0827591, \"/Users/majerek/miniconda3/envs/tensorflow/lib/python3.10/site-packages/pkg_resources/_vendor/platformdirs/api.py\": 1698837523.086386, \"/Users/majerek/miniconda3/envs/tensorflow/lib/python3.10/site-packages/pkg_resources/_vendor/platformdirs/version.py\": 1698837523.086731, \"/Users/majerek/miniconda3/envs/tensorflow/lib/python3.10/site-packages/pkg_resources/_vendor/platformdirs/macos.py\": 1698837523.086496, \"/Users/majerek/miniconda3/envs/tensorflow/lib/python3.10/site-packages/pkg_resources/_vendor/platformdirs/__init__.py\": 1698837523.0860434, \"/Users/majerek/miniconda3/envs/tensorflow/lib/python3.10/site-packages/pkg_resources/_vendor/packaging/__init__.py\": 1698837523.0837717, \"/Users/majerek/miniconda3/envs/tensorflow/lib/python3.10/site-packages/pkg_resources/_vendor/packaging/_structures.py\": 1698837523.0844247, \"/Users/majerek/miniconda3/envs/tensorflow/lib/python3.10/site-packages/pkg_resources/_vendor/packaging/version.py\": 1698837523.0858312, \"/Users/majerek/miniconda3/envs/tensorflow/lib/python3.10/site-packages/pkg_resources/_vendor/packaging/_elffile.py\": 1698837523.083894, \"/Users/majerek/miniconda3/envs/tensorflow/lib/python3.10/site-packages/pkg_resources/_vendor/packaging/_manylinux.py\": 1698837523.084054, \"/Users/majerek/miniconda3/envs/tensorflow/lib/python3.10/site-packages/pkg_resources/_vendor/packaging/_musllinux.py\": 1698837523.0841777, \"/Users/majerek/miniconda3/envs/tensorflow/lib/python3.10/site-packages/pkg_resources/_vendor/packaging/tags.py\": 1698837523.0854614, \"/Users/majerek/miniconda3/envs/tensorflow/lib/python3.10/site-packages/pkg_resources/_vendor/packaging/utils.py\": 1698837523.085605, \"/Users/majerek/miniconda3/envs/tensorflow/lib/python3.10/site-packages/pkg_resources/_vendor/packaging/specifiers.py\": 1698837523.0852818, \"/Users/majerek/miniconda3/envs/tensorflow/lib/python3.10/site-packages/pkg_resources/_vendor/packaging/_tokenizer.py\": 1698837523.0845492, \"/Users/majerek/miniconda3/envs/tensorflow/lib/python3.10/site-packages/pkg_resources/_vendor/packaging/_parser.py\": 1698837523.0843248, \"/Users/majerek/miniconda3/envs/tensorflow/lib/python3.10/site-packages/pkg_resources/_vendor/packaging/markers.py\": 1698837523.084727, \"/Users/majerek/miniconda3/envs/tensorflow/lib/python3.10/site-packages/pkg_resources/_vendor/packaging/requirements.py\": 1698837523.0850458, \"/Users/majerek/miniconda3/envs/tensorflow/lib/python3.10/site-packages/pkg_resources/__init__.py\": 1698837523.0803034, \"/Users/majerek/miniconda3/envs/tensorflow/lib/python3.10/site-packages/debugpy/_vendored/pydevd/pydevd_plugins/__init__.py\": 1680756012.4381719, \"/Users/majerek/miniconda3/envs/tensorflow/lib/python3.10/site-packages/debugpy/_vendored/pydevd/_pydev_bundle/pydev_log.py\": 1680756012.2285085, \"/Users/majerek/miniconda3/envs/tensorflow/lib/python3.10/site-packages/debugpy/_vendored/pydevd/_pydev_bundle/_pydev_filesystem_encoding.py\": 1680756012.2178059, \"/Users/majerek/miniconda3/envs/tensorflow/lib/python3.10/site-packages/debugpy/_vendored/pydevd/_pydevd_bundle/pydevd_comm_constants.py\": 1680756012.2441177, \"/Users/majerek/miniconda3/envs/tensorflow/lib/python3.10/site-packages/debugpy/_vendored/pydevd/pydevd_file_utils.py\": 1680756012.2132041, \"/Users/majerek/miniconda3/envs/tensorflow/lib/python3.10/site-packages/debugpy/_vendored/pydevd/_pydev_bundle/_pydev_execfile.py\": 1680756012.2173035, \"/Users/majerek/miniconda3/envs/tensorflow/lib/python3.10/site-packages/debugpy/_vendored/pydevd/_pydevd_bundle/pydevd_exec2.py\": 1680756012.2661934, \"/Users/majerek/miniconda3/envs/tensorflow/lib/python3.10/site-packages/debugpy/_vendored/pydevd/_pydev_bundle/pydev_imports.py\": 1680756012.2233605, \"/Users/majerek/miniconda3/envs/tensorflow/lib/python3.10/site-packages/debugpy/_vendored/pydevd/_pydev_bundle/pydev_is_thread_alive.py\": 1680756012.227479, \"/Users/majerek/miniconda3/envs/tensorflow/lib/python3.10/site-packages/debugpy/_vendored/pydevd/_pydev_bundle/pydev_override.py\": 1680756012.230235, \"/Users/majerek/miniconda3/envs/tensorflow/lib/python3.10/site-packages/debugpy/_vendored/pydevd/pydevd_plugins/extensions/__init__.py\": 1680756012.4412444, \"/Users/majerek/miniconda3/envs/tensorflow/lib/python3.10/site-packages/debugpy/_vendored/pydevd/_pydevd_bundle/pydevd_extension_utils.py\": 1680756012.2673175, \"/Users/majerek/miniconda3/envs/tensorflow/lib/python3.10/site-packages/debugpy/_vendored/pydevd/_pydevd_bundle/pydevd_frame_utils.py\": 1680756012.270405, \"/Users/majerek/miniconda3/envs/tensorflow/lib/python3.10/site-packages/debugpy/_vendored/pydevd/_pydevd_bundle/pydevd_filtering.py\": 1680756012.2678633, \"/Users/majerek/miniconda3/envs/tensorflow/lib/python3.10/site-packages/debugpy/_vendored/pydevd/_pydevd_bundle/pydevd_io.py\": 1680756012.2734811, \"/Users/majerek/miniconda3/envs/tensorflow/lib/python3.10/site-packages/debugpy/_vendored/pydevd/_pydevd_bundle/pydevd_defaults.py\": 1680756012.2646432, \"/Users/majerek/miniconda3/envs/tensorflow/lib/python3.10/site-packages/debugpy/_vendored/pydevd/_pydevd_bundle/pydevd_utils.py\": 1680756012.2905962, \"/Users/majerek/miniconda3/envs/tensorflow/lib/python3.10/site-packages/debugpy/_vendored/pydevd/_pydevd_bundle/pydevd_runpy.py\": 1680756012.283195, \"/Users/majerek/miniconda3/envs/tensorflow/lib/python3.10/site-packages/debugpy/_vendored/pydevd/_pydev_bundle/_pydev_tipper_common.py\": 1680756012.2217817, \"/Users/majerek/miniconda3/envs/tensorflow/lib/python3.10/site-packages/debugpy/_vendored/pydevd/_pydev_bundle/_pydev_imports_tipper.py\": 1680756012.2190974, \"/Users/majerek/miniconda3/envs/tensorflow/lib/python3.10/site-packages/debugpy/_vendored/pydevd/_pydev_bundle/_pydev_calltip_util.py\": 1680756012.2161503, \"/Users/majerek/miniconda3/envs/tensorflow/lib/python3.10/site-packages/debugpy/_vendored/pydevd/_pydevd_bundle/pydevd_safe_repr.py\": 1680756012.2837567, \"/Users/majerek/miniconda3/envs/tensorflow/lib/python3.10/site-packages/debugpy/_vendored/pydevd/_pydevd_bundle/pydevd_resolver.py\": 1680756012.282625, \"/Users/majerek/miniconda3/envs/tensorflow/lib/python3.10/site-packages/debugpy/_vendored/pydevd/_pydevd_bundle/pydevd_extension_api.py\": 1680756012.2667, \"/Users/majerek/miniconda3/envs/tensorflow/lib/python3.10/site-packages/debugpy/_vendored/pydevd/_pydevd_bundle/pydevd_xml.py\": 1680756012.2923362, \"/Users/majerek/miniconda3/envs/tensorflow/lib/python3.10/site-packages/debugpy/_vendored/pydevd/_pydevd_bundle/pydevd_dont_trace.py\": 1680756012.265149, \"/Users/majerek/miniconda3/envs/tensorflow/lib/python3.10/site-packages/debugpy/_vendored/pydevd/_pydevd_frame_eval/vendored/__init__.py\": 1680756012.3280346, \"/Users/majerek/miniconda3/envs/tensorflow/lib/python3.10/site-packages/debugpy/_vendored/pydevd/_pydevd_frame_eval/vendored/bytecode/flags.py\": 1680756012.3321352, \"/Users/majerek/miniconda3/envs/tensorflow/lib/python3.10/site-packages/debugpy/_vendored/pydevd/_pydevd_frame_eval/vendored/bytecode/instr.py\": 1680756012.3326974, \"/Users/majerek/miniconda3/envs/tensorflow/lib/python3.10/site-packages/debugpy/_vendored/pydevd/_pydevd_frame_eval/vendored/bytecode/bytecode.py\": 1680756012.3302724, \"/Users/majerek/miniconda3/envs/tensorflow/lib/python3.10/site-packages/debugpy/_vendored/pydevd/_pydevd_frame_eval/vendored/bytecode/concrete.py\": 1680756012.3315253, \"/Users/majerek/miniconda3/envs/tensorflow/lib/python3.10/site-packages/debugpy/_vendored/pydevd/_pydevd_frame_eval/vendored/bytecode/cfg.py\": 1680756012.3309157, \"/Users/majerek/miniconda3/envs/tensorflow/lib/python3.10/site-packages/debugpy/_vendored/pydevd/_pydevd_frame_eval/vendored/bytecode/__init__.py\": 1680756012.329526, \"/Users/majerek/miniconda3/envs/tensorflow/lib/python3.10/site-packages/debugpy/_vendored/pydevd/_pydevd_bundle/pydevd_bytecode_utils.py\": 1680756012.2414339, \"/Users/majerek/miniconda3/envs/tensorflow/lib/python3.10/site-packages/debugpy/_vendored/pydevd/_pydevd_bundle/pydevd_cython.cpython-310-darwin.so\": 1680756024.8920686, \"/Users/majerek/miniconda3/envs/tensorflow/lib/python3.10/site-packages/debugpy/_vendored/pydevd/_pydevd_bundle/pydevd_cython_wrapper.py\": 1680756012.2635868, \"/Users/majerek/miniconda3/envs/tensorflow/lib/python3.10/site-packages/debugpy/_vendored/pydevd/_pydevd_bundle/pydevd_additional_thread_info.py\": 1680756012.2390912, \"/Users/majerek/miniconda3/envs/tensorflow/lib/python3.10/site-packages/debugpy/_vendored/pydevd/_pydevd_bundle/pydevd_thread_lifecycle.py\": 1680756012.287274, \"/Users/majerek/miniconda3/envs/tensorflow/lib/python3.10/site-packages/debugpy/_vendored/pydevd/_pydevd_bundle/pydevd_save_locals.py\": 1680756012.2843614, \"/Users/majerek/miniconda3/envs/tensorflow/lib/python3.10/site-packages/debugpy/_vendored/pydevd/_pydev_bundle/pydev_monkey.py\": 1680756012.2291746, \"/Users/majerek/miniconda3/envs/tensorflow/lib/python3.10/site-packages/debugpy/_vendored/pydevd/pydevd_tracing.py\": 1680756012.214334, \"/Users/majerek/miniconda3/envs/tensorflow/lib/python3.10/site-packages/debugpy/_vendored/pydevd/_pydevd_bundle/pydevd_collect_bytecode_info.py\": 1680756012.2426863, \"/Users/majerek/miniconda3/envs/tensorflow/lib/python3.10/site-packages/debugpy/_vendored/pydevd/_pydevd_bundle/pydevd_daemon_thread.py\": 1680756012.2641246, \"/Users/majerek/miniconda3/envs/tensorflow/lib/python3.10/site-packages/debugpy/_vendored/pydevd/_pydevd_bundle/pydevd_timeout.py\": 1680756012.2877977, \"/Users/majerek/miniconda3/envs/tensorflow/lib/python3.10/site-packages/debugpy/_vendored/pydevd/_pydevd_bundle/pydevd_vars.py\": 1680756012.2912617, \"/Users/majerek/miniconda3/envs/tensorflow/lib/python3.10/site-packages/debugpy/_vendored/pydevd/_pydev_bundle/pydev_console_utils.py\": 1680756012.222355, \"/Users/majerek/miniconda3/envs/tensorflow/lib/python3.10/site-packages/debugpy/_vendored/pydevd/_pydevd_bundle/pydevd_import_class.py\": 1680756012.2715461, \"/Users/majerek/miniconda3/envs/tensorflow/lib/python3.10/site-packages/debugpy/_vendored/pydevd/_pydevd_bundle/pydevd_breakpoints.py\": 1680756012.24083, \"/Users/majerek/miniconda3/envs/tensorflow/lib/python3.10/site-packages/debugpy/_vendored/pydevd/_pydevd_bundle/pydevd_custom_frames.py\": 1680756012.2463496, \"/Users/majerek/miniconda3/envs/tensorflow/lib/python3.10/site-packages/debugpy/_vendored/pydevd/_pydevd_bundle/pydevd_dont_trace_files.py\": 1680756012.2657049, \"/Users/majerek/miniconda3/envs/tensorflow/lib/python3.10/site-packages/debugpy/_vendored/pydevd/_pydevd_bundle/pydevd_net_command.py\": 1680756012.2762141, \"/Users/majerek/miniconda3/envs/tensorflow/lib/python3.10/site-packages/debugpy/_vendored/pydevd/_pydevd_bundle/pydevconsole_code.py\": 1680756012.238575, \"/Users/majerek/miniconda3/envs/tensorflow/lib/python3.10/site-packages/debugpy/_vendored/pydevd/_pydev_bundle/pydev_umd.py\": 1680756012.2307498, \"/Users/majerek/miniconda3/envs/tensorflow/lib/python3.10/site-packages/debugpy/_vendored/pydevd/pydevconsole.py\": 1680756012.2109103, \"/Users/majerek/miniconda3/envs/tensorflow/lib/python3.10/site-packages/debugpy/_vendored/pydevd/_pydev_bundle/_pydev_completer.py\": 1680756012.2167945, \"/Users/majerek/miniconda3/envs/tensorflow/lib/python3.10/site-packages/debugpy/_vendored/pydevd/_pydevd_bundle/pydevd_net_command_factory_xml.py\": 1680756012.2777138, \"/Users/majerek/miniconda3/envs/tensorflow/lib/python3.10/site-packages/debugpy/_vendored/pydevd/_pydevd_bundle/pydevd_frame.py\": 1680756012.2696898, \"/Users/majerek/miniconda3/envs/tensorflow/lib/python3.10/site-packages/debugpy/_vendored/pydevd/_pydevd_bundle/pydevd_additional_thread_info_regular.py\": 1680756012.239612, \"/Users/majerek/miniconda3/envs/tensorflow/lib/python3.10/site-packages/debugpy/_vendored/pydevd/_pydevd_bundle/pydevd_trace_dispatch.py\": 1680756012.2887921, \"/Users/majerek/miniconda3/envs/tensorflow/lib/python3.10/site-packages/debugpy/_vendored/pydevd/_pydevd_frame_eval/pydevd_frame_eval_main.py\": 1680756012.3094137, \"/Users/majerek/miniconda3/envs/tensorflow/lib/python3.10/site-packages/debugpy/_vendored/pydevd/_pydevd_bundle/pydevd_source_mapping.py\": 1680756012.2855494, \"/Users/majerek/miniconda3/envs/tensorflow/lib/python3.10/site-packages/debugpy/_vendored/pydevd/_pydevd_bundle/pydevd_concurrency_analyser/__init__.py\": 1680756012.3062627, \"/Users/majerek/miniconda3/envs/tensorflow/lib/python3.10/site-packages/debugpy/_vendored/pydevd/_pydevd_bundle/pydevd_concurrency_analyser/pydevd_thread_wrappers.py\": 1680756012.3073637, \"/Users/majerek/miniconda3/envs/tensorflow/lib/python3.10/site-packages/debugpy/_vendored/pydevd/_pydevd_bundle/pydevd_concurrency_analyser/pydevd_concurrency_logger.py\": 1680756012.3068163, \"/Users/majerek/miniconda3/envs/tensorflow/lib/python3.10/site-packages/debugpy/_vendored/pydevd/_pydevd_bundle/_debug_adapter/__init__.py\": 1680756012.2927904, \"/Users/majerek/miniconda3/envs/tensorflow/lib/python3.10/site-packages/debugpy/_vendored/pydevd/_pydevd_bundle/_debug_adapter/pydevd_schema_log.py\": 1680756012.3056602, \"/Users/majerek/miniconda3/envs/tensorflow/lib/python3.10/site-packages/debugpy/_vendored/pydevd/_pydevd_bundle/_debug_adapter/pydevd_base_schema.py\": 1680756012.3018694, \"/Users/majerek/miniconda3/envs/tensorflow/lib/python3.10/site-packages/debugpy/_vendored/pydevd/_pydevd_bundle/_debug_adapter/pydevd_schema.py\": 1680756012.304444, \"/Users/majerek/miniconda3/envs/tensorflow/lib/python3.10/site-packages/debugpy/_vendored/pydevd/_pydevd_bundle/pydevd_reload.py\": 1680756012.281998, \"/Users/majerek/miniconda3/envs/tensorflow/lib/python3.10/site-packages/debugpy/_vendored/pydevd/_pydev_bundle/fsnotify/__init__.py\": 1680756012.232028, \"/Users/majerek/miniconda3/envs/tensorflow/lib/python3.10/site-packages/debugpy/_vendored/pydevd/_pydevd_bundle/pydevd_console.py\": 1680756012.2451859, \"/Users/majerek/miniconda3/envs/tensorflow/lib/python3.10/site-packages/debugpy/_vendored/pydevd/_pydevd_bundle/pydevd_comm.py\": 1680756012.243519, \"/Users/majerek/miniconda3/envs/tensorflow/lib/python3.10/site-packages/debugpy/_vendored/pydevd/_pydevd_bundle/pydevd_net_command_factory_json.py\": 1680756012.277044, \"/Users/majerek/miniconda3/envs/tensorflow/lib/python3.10/site-packages/debugpy/_vendored/pydevd/_pydevd_bundle/pydevd_api.py\": 1680756012.24029, \"/Users/majerek/miniconda3/envs/tensorflow/lib/python3.10/site-packages/debugpy/_vendored/pydevd/_pydevd_bundle/pydevd_json_debug_options.py\": 1680756012.274086, \"/Users/majerek/miniconda3/envs/tensorflow/lib/python3.10/site-packages/debugpy/_vendored/pydevd/_pydevd_bundle/pydevd_process_net_command_json.py\": 1680756012.2808123, \"/Users/majerek/miniconda3/envs/tensorflow/lib/python3.10/site-packages/debugpy/_vendored/pydevd/_pydevd_bundle/pydevd_traceproperty.py\": 1680756012.28995, \"/Users/majerek/miniconda3/envs/tensorflow/lib/python3.10/site-packages/debugpy/_vendored/pydevd/_pydevd_bundle/pydevd_process_net_command.py\": 1680756012.2797904, \"/Users/majerek/miniconda3/envs/tensorflow/lib/python3.10/site-packages/debugpy/_vendored/pydevd/_pydevd_bundle/pydevd_suspended_frames.py\": 1680756012.2866888, \"/Users/majerek/miniconda3/envs/tensorflow/lib/python3.10/site-packages/debugpy/_vendored/pydevd/_pydevd_bundle/pydevd_trace_api.py\": 1680756012.2882967, \"/Users/majerek/miniconda3/envs/tensorflow/lib/python3.10/site-packages/debugpy/_vendored/pydevd/pydevd_plugins/pydevd_line_validation.py\": 1680756012.4401371, \"/Users/majerek/miniconda3/envs/tensorflow/lib/python3.10/site-packages/debugpy/_vendored/pydevd/pydevd_plugins/django_debug.py\": 1680756012.4388688, \"/Users/majerek/miniconda3/envs/tensorflow/lib/python3.10/site-packages/debugpy/_vendored/pydevd/pydevd_plugins/jinja2_debug.py\": 1680756012.4394915, \"/Users/majerek/miniconda3/envs/tensorflow/lib/python3.10/site-packages/debugpy/_vendored/pydevd/_pydevd_bundle/pydevd_plugin_utils.py\": 1680756012.278295, \"/Users/majerek/miniconda3/envs/tensorflow/lib/python3.10/site-packages/debugpy/_vendored/pydevd/pydevd_plugins/extensions/types/__init__.py\": 1680756012.4417818, \"/Users/majerek/miniconda3/envs/tensorflow/lib/python3.10/site-packages/debugpy/_vendored/pydevd/pydevd_plugins/extensions/types/pydevd_helpers.py\": 1680756012.4423664, \"/Users/majerek/miniconda3/envs/tensorflow/lib/python3.10/site-packages/debugpy/_vendored/pydevd/pydevd_plugins/extensions/types/pydevd_plugin_numpy_types.py\": 1680756012.4430208, \"/Users/majerek/miniconda3/envs/tensorflow/lib/python3.10/site-packages/debugpy/_vendored/pydevd/pydevd_plugins/extensions/types/pydevd_plugin_pandas_types.py\": 1680756012.44358, \"/Users/majerek/miniconda3/envs/tensorflow/lib/python3.10/site-packages/debugpy/_vendored/pydevd/pydevd_plugins/extensions/types/pydevd_plugins_django_form_str.py\": 1680756012.4441113, \"/Users/majerek/miniconda3/envs/tensorflow/lib/python3.10/site-packages/debugpy/_vendored/pydevd/pydevd.py\": 1680756012.212406, \"/Users/majerek/miniconda3/envs/tensorflow/lib/python3.10/site-packages/debugpy/_vendored/force_pydevd.py\": 1680756012.2082236, \"/Users/majerek/miniconda3/envs/tensorflow/lib/python3.10/site-packages/debugpy/server/__init__.py\": 1680756012.4602869, \"/Users/majerek/miniconda3/envs/tensorflow/lib/python3.10/site-packages/debugpy/adapter/__init__.py\": 1680756012.4446883, \"/Users/majerek/miniconda3/envs/tensorflow/lib/python3.10/site-packages/debugpy/common/__init__.py\": 1680756012.4518661, \"/Users/majerek/miniconda3/envs/tensorflow/lib/python3.10/site-packages/debugpy/common/json.py\": 1680756012.452392, \"/Users/majerek/miniconda3/envs/tensorflow/lib/python3.10/site-packages/debugpy/common/timestamp.py\": 1680756012.4558856, \"/Users/majerek/miniconda3/envs/tensorflow/lib/python3.10/site-packages/debugpy/common/util.py\": 1680756012.4563968, \"/Users/majerek/miniconda3/envs/tensorflow/lib/python3.10/site-packages/debugpy/common/log.py\": 1680756012.4529665, \"/Users/majerek/miniconda3/envs/tensorflow/lib/python3.10/site-packages/debugpy/common/sockets.py\": 1680756012.4547226, \"/Users/majerek/miniconda3/envs/tensorflow/lib/python3.10/site-packages/debugpy/server/api.py\": 1680756012.4608319, \"/Users/majerek/miniconda3/envs/tensorflow/lib/python3.10/site-packages/ipykernel/debugger.py\": 1679336876.6893957, \"/Users/majerek/miniconda3/envs/tensorflow/lib/python3.10/site-packages/packaging/__init__.py\": 1681337143.4327612, \"/Users/majerek/miniconda3/envs/tensorflow/lib/python3.10/site-packages/packaging/_structures.py\": 1681337143.4327612, \"/Users/majerek/miniconda3/envs/tensorflow/lib/python3.10/site-packages/packaging/version.py\": 1681337143.4327612, \"/Users/majerek/miniconda3/envs/tensorflow/lib/python3.10/site-packages/ipykernel/eventloops.py\": 1679336876.69102, \"/Users/majerek/miniconda3/envs/tensorflow/lib/python3.10/site-packages/IPython/core/payloadpage.py\": 1680185784.1121545, \"/Users/majerek/miniconda3/envs/tensorflow/lib/python3.10/site-packages/ipykernel/displayhook.py\": 1679336876.6899428, \"/Users/majerek/miniconda3/envs/tensorflow/lib/python3.10/site-packages/ipykernel/zmqshell.py\": 1679336876.6989527, \"/Users/majerek/miniconda3/envs/tensorflow/lib/python3.10/site-packages/ipykernel/ipkernel.py\": 1679336876.6928577, \"/Users/majerek/miniconda3/envs/tensorflow/lib/python3.10/site-packages/ipykernel/parentpoller.py\": 1679336876.696436, \"/Users/majerek/miniconda3/envs/tensorflow/lib/python3.10/site-packages/ipykernel/kernelapp.py\": 1679336876.6941135, \"/Users/majerek/miniconda3/envs/tensorflow/lib/python3.10/site-packages/tornado/platform/__init__.py\": 1681817940.282226, \"/Users/majerek/miniconda3/envs/tensorflow/lib/python3.10/site-packages/tornado/platform/asyncio.py\": 1681817940.2828302, \"/Users/majerek/miniconda3/envs/tensorflow/lib/python3.10/site-packages/IPython/core/completerlib.py\": 1680185784.0960803, \"/Users/majerek/miniconda3/envs/tensorflow/lib/python3.10/ctypes/macholib/__init__.py\": 1679689195.3008184, \"/Users/majerek/miniconda3/envs/tensorflow/lib/python3.10/ctypes/macholib/framework.py\": 1679689195.3360217, \"/Users/majerek/miniconda3/envs/tensorflow/lib/python3.10/ctypes/macholib/dylib.py\": 1679689195.314859, \"/Users/majerek/miniconda3/envs/tensorflow/lib/python3.10/ctypes/macholib/dyld.py\": 1679689195.3075876, \"/Users/majerek/miniconda3/envs/tensorflow/lib/python3.10/ctypes/util.py\": 1679689195.266357, \"/Users/majerek/miniconda3/envs/tensorflow/lib/python3.10/site-packages/appnope/_nope.py\": 1649077760.0, \"/Users/majerek/miniconda3/envs/tensorflow/lib/python3.10/site-packages/appnope/__init__.py\": 1649077760.0, \"/Users/majerek/miniconda3/envs/tensorflow/lib/python3.10/site-packages/numpy/_globals.py\": 1682210865.7110043, \"/Users/majerek/miniconda3/envs/tensorflow/lib/python3.10/site-packages/numpy/__config__.py\": 1685379036.9524693, \"/Users/majerek/miniconda3/envs/tensorflow/lib/python3.10/site-packages/numpy/_distributor_init.py\": 1682210865.7104437, \"/Users/majerek/miniconda3/envs/tensorflow/lib/python3.10/site-packages/numpy/_version.py\": 1682210865.712735, \"/Users/majerek/miniconda3/envs/tensorflow/lib/python3.10/site-packages/numpy/version.py\": 1682210865.7169635, \"/Users/majerek/miniconda3/envs/tensorflow/lib/python3.10/site-packages/numpy/core/_multiarray_umath.cpython-310-darwin.so\": 1682210884.6124053, \"/Users/majerek/miniconda3/envs/tensorflow/lib/python3.10/site-packages/numpy/compat/_inspect.py\": 1682210865.741976, \"/Users/majerek/miniconda3/envs/tensorflow/lib/python3.10/site-packages/numpy/compat/py3k.py\": 1682210865.7431355, \"/Users/majerek/miniconda3/envs/tensorflow/lib/python3.10/site-packages/numpy/compat/__init__.py\": 1682210865.7413232, \"/Users/majerek/miniconda3/envs/tensorflow/lib/python3.10/site-packages/numpy/core/overrides.py\": 1682210865.7975779, \"/Users/majerek/miniconda3/envs/tensorflow/lib/python3.10/site-packages/numpy/core/multiarray.py\": 1682210865.793138, \"/Users/majerek/miniconda3/envs/tensorflow/lib/python3.10/site-packages/numpy/core/umath.py\": 1682210865.8021798, \"/Users/majerek/miniconda3/envs/tensorflow/lib/python3.10/site-packages/numpy/core/_string_helpers.py\": 1682210865.7777352, \"/Users/majerek/miniconda3/envs/tensorflow/lib/python3.10/site-packages/numpy/core/_dtype.py\": 1682210865.7500312, \"/Users/majerek/miniconda3/envs/tensorflow/lib/python3.10/site-packages/numpy/core/_type_aliases.py\": 1682210865.7790806, \"/Users/majerek/miniconda3/envs/tensorflow/lib/python3.10/site-packages/numpy/core/numerictypes.py\": 1682210865.7960346, \"/Users/majerek/miniconda3/envs/tensorflow/lib/python3.10/site-packages/numpy/core/_exceptions.py\": 1682210865.7511005, \"/Users/majerek/miniconda3/envs/tensorflow/lib/python3.10/site-packages/numpy/core/_ufunc_config.py\": 1682210865.7803283, \"/Users/majerek/miniconda3/envs/tensorflow/lib/python3.10/site-packages/numpy/core/_methods.py\": 1682210865.7543643, \"/Users/majerek/miniconda3/envs/tensorflow/lib/python3.10/site-packages/numpy/core/fromnumeric.py\": 1682210865.787615, \"/Users/majerek/miniconda3/envs/tensorflow/lib/python3.10/site-packages/numpy/core/shape_base.py\": 1682210865.8010807, \"/Users/majerek/miniconda3/envs/tensorflow/lib/python3.10/site-packages/numpy/core/arrayprint.py\": 1682210865.7826076, \"/Users/majerek/miniconda3/envs/tensorflow/lib/python3.10/site-packages/numpy/core/_asarray.py\": 1682210865.748831, \"/Users/majerek/miniconda3/envs/tensorflow/lib/python3.10/site-packages/numpy/core/numeric.py\": 1682210865.794755, \"/Users/majerek/miniconda3/envs/tensorflow/lib/python3.10/site-packages/numpy/core/defchararray.py\": 1682210865.7846732, \"/Users/majerek/miniconda3/envs/tensorflow/lib/python3.10/site-packages/numpy/core/records.py\": 1682210865.7982728, \"/Users/majerek/miniconda3/envs/tensorflow/lib/python3.10/site-packages/numpy/core/memmap.py\": 1682210865.791914, \"/Users/majerek/miniconda3/envs/tensorflow/lib/python3.10/site-packages/numpy/core/function_base.py\": 1682210865.7889173, \"/Users/majerek/miniconda3/envs/tensorflow/lib/python3.10/site-packages/numpy/core/_machar.py\": 1682210865.7537642, \"/Users/majerek/miniconda3/envs/tensorflow/lib/python3.10/site-packages/numpy/core/getlimits.py\": 1682210865.790837, \"/Users/majerek/miniconda3/envs/tensorflow/lib/python3.10/site-packages/numpy/core/einsumfunc.py\": 1682210865.7860358, \"/Users/majerek/miniconda3/envs/tensorflow/lib/python3.10/site-packages/numpy/core/_multiarray_tests.cpython-310-darwin.so\": 1682210885.2476346, \"/Users/majerek/miniconda3/envs/tensorflow/lib/python3.10/site-packages/numpy/core/_add_newdocs.py\": 1682210865.7474244, \"/Users/majerek/miniconda3/envs/tensorflow/lib/python3.10/site-packages/numpy/core/_add_newdocs_scalars.py\": 1682210865.748277, \"/Users/majerek/miniconda3/envs/tensorflow/lib/python3.10/site-packages/numpy/core/_dtype_ctypes.py\": 1682210865.7505682, \"/Users/majerek/miniconda3/envs/tensorflow/lib/python3.10/site-packages/numpy/core/_internal.py\": 1682210865.7522423, \"/Users/majerek/miniconda3/envs/tensorflow/lib/python3.10/site-packages/numpy/_pytesttester.py\": 1682210865.711713, \"/Users/majerek/miniconda3/envs/tensorflow/lib/python3.10/site-packages/numpy/core/__init__.py\": 1682210865.7452815, \"/Users/majerek/miniconda3/envs/tensorflow/lib/python3.10/site-packages/numpy/lib/mixins.py\": 1682210866.0422983, \"/Users/majerek/miniconda3/envs/tensorflow/lib/python3.10/site-packages/numpy/lib/ufunclike.py\": 1682210866.05475, \"/Users/majerek/miniconda3/envs/tensorflow/lib/python3.10/site-packages/numpy/lib/type_check.py\": 1682210866.0537002, \"/Users/majerek/miniconda3/envs/tensorflow/lib/python3.10/site-packages/numpy/lib/scimath.py\": 1682210866.048408, \"/Users/majerek/miniconda3/envs/tensorflow/lib/python3.10/site-packages/numpy/lib/stride_tricks.py\": 1682210866.0513551, \"/Users/majerek/miniconda3/envs/tensorflow/lib/python3.10/site-packages/numpy/lib/twodim_base.py\": 1682210866.0526183, \"/Users/majerek/miniconda3/envs/tensorflow/lib/python3.10/site-packages/numpy/linalg/_umath_linalg.cpython-310-darwin.so\": 1682210887.974779, \"/Users/majerek/miniconda3/envs/tensorflow/lib/python3.10/site-packages/numpy/linalg/linalg.py\": 1682210866.086879, \"/Users/majerek/miniconda3/envs/tensorflow/lib/python3.10/site-packages/numpy/linalg/__init__.py\": 1682210866.0830812, \"/Users/majerek/miniconda3/envs/tensorflow/lib/python3.10/site-packages/numpy/matrixlib/defmatrix.py\": 1682210866.1061833, \"/Users/majerek/miniconda3/envs/tensorflow/lib/python3.10/site-packages/numpy/matrixlib/__init__.py\": 1682210866.105085, \"/Users/majerek/miniconda3/envs/tensorflow/lib/python3.10/site-packages/numpy/lib/histograms.py\": 1682210866.0400379, \"/Users/majerek/miniconda3/envs/tensorflow/lib/python3.10/site-packages/numpy/lib/function_base.py\": 1682210866.038688, \"/Users/majerek/miniconda3/envs/tensorflow/lib/python3.10/site-packages/numpy/lib/index_tricks.py\": 1682210866.041219, \"/Users/majerek/miniconda3/envs/tensorflow/lib/python3.10/site-packages/numpy/lib/nanfunctions.py\": 1682210866.0435667, \"/Users/majerek/miniconda3/envs/tensorflow/lib/python3.10/site-packages/numpy/lib/shape_base.py\": 1682210866.0501912, \"/Users/majerek/miniconda3/envs/tensorflow/lib/python3.10/site-packages/numpy/lib/polynomial.py\": 1682210866.046393, \"/Users/majerek/miniconda3/envs/tensorflow/lib/python3.10/site-packages/numpy/lib/utils.py\": 1682210866.0564704, \"/Users/majerek/miniconda3/envs/tensorflow/lib/python3.10/site-packages/numpy/lib/arraysetops.py\": 1682210866.034574, \"/Users/majerek/miniconda3/envs/tensorflow/lib/python3.10/site-packages/numpy/lib/format.py\": 1682210866.0368514, \"/Users/majerek/miniconda3/envs/tensorflow/lib/python3.10/site-packages/numpy/lib/_datasource.py\": 1682210866.031135, \"/Users/majerek/miniconda3/envs/tensorflow/lib/python3.10/site-packages/numpy/lib/_iotools.py\": 1682210866.031786, \"/Users/majerek/miniconda3/envs/tensorflow/lib/python3.10/site-packages/numpy/lib/npyio.py\": 1682210866.0450225, \"/Users/majerek/miniconda3/envs/tensorflow/lib/python3.10/site-packages/numpy/lib/arrayterator.py\": 1682210866.03571, \"/Users/majerek/miniconda3/envs/tensorflow/lib/python3.10/site-packages/numpy/lib/arraypad.py\": 1682210866.0334346, \"/Users/majerek/miniconda3/envs/tensorflow/lib/python3.10/site-packages/numpy/lib/_version.py\": 1682210866.0323136, \"/Users/majerek/miniconda3/envs/tensorflow/lib/python3.10/site-packages/numpy/lib/__init__.py\": 1682210866.0299368, \"/Users/majerek/miniconda3/envs/tensorflow/lib/python3.10/site-packages/numpy/fft/_pocketfft_internal.cpython-310-darwin.so\": 1682210888.243393, \"/Users/majerek/miniconda3/envs/tensorflow/lib/python3.10/site-packages/numpy/fft/_pocketfft.py\": 1682210866.0243902, \"/Users/majerek/miniconda3/envs/tensorflow/lib/python3.10/site-packages/numpy/fft/helper.py\": 1682210866.0268743, \"/Users/majerek/miniconda3/envs/tensorflow/lib/python3.10/site-packages/numpy/fft/__init__.py\": 1682210866.0232234, \"/Users/majerek/miniconda3/envs/tensorflow/lib/python3.10/site-packages/numpy/polynomial/polyutils.py\": 1682210866.1231887, \"/Users/majerek/miniconda3/envs/tensorflow/lib/python3.10/site-packages/numpy/polynomial/_polybase.py\": 1682210866.1141574, \"/Users/majerek/miniconda3/envs/tensorflow/lib/python3.10/site-packages/numpy/polynomial/polynomial.py\": 1682210866.1219752, \"/Users/majerek/miniconda3/envs/tensorflow/lib/python3.10/site-packages/numpy/polynomial/chebyshev.py\": 1682210866.1154797, \"/Users/majerek/miniconda3/envs/tensorflow/lib/python3.10/site-packages/numpy/polynomial/legendre.py\": 1682210866.1207669, \"/Users/majerek/miniconda3/envs/tensorflow/lib/python3.10/site-packages/numpy/polynomial/hermite.py\": 1682210866.1167564, \"/Users/majerek/miniconda3/envs/tensorflow/lib/python3.10/site-packages/numpy/polynomial/hermite_e.py\": 1682210866.11832, \"/Users/majerek/miniconda3/envs/tensorflow/lib/python3.10/site-packages/numpy/polynomial/laguerre.py\": 1682210866.1195524, \"/Users/majerek/miniconda3/envs/tensorflow/lib/python3.10/site-packages/numpy/polynomial/__init__.py\": 1682210866.1129487, \"/Users/majerek/miniconda3/envs/tensorflow/lib/python3.10/site-packages/numpy/random/_common.cpython-310-darwin.so\": 1682210888.5053356, \"/Users/majerek/miniconda3/envs/tensorflow/lib/python3.10/secrets.py\": 1679689194.4403946, \"/Users/majerek/miniconda3/envs/tensorflow/lib/python3.10/site-packages/numpy/random/bit_generator.cpython-310-darwin.so\": 1682210888.785621, \"/Users/majerek/miniconda3/envs/tensorflow/lib/python3.10/site-packages/numpy/random/_bounded_integers.cpython-310-darwin.so\": 1682210885.5664606, \"/Users/majerek/miniconda3/envs/tensorflow/lib/python3.10/site-packages/numpy/random/_mt19937.cpython-310-darwin.so\": 1682210889.5406907, \"/Users/majerek/miniconda3/envs/tensorflow/lib/python3.10/site-packages/numpy/random/mtrand.cpython-310-darwin.so\": 1682210886.8217924, \"/Users/majerek/miniconda3/envs/tensorflow/lib/python3.10/site-packages/numpy/random/_philox.cpython-310-darwin.so\": 1682210884.9549499, \"/Users/majerek/miniconda3/envs/tensorflow/lib/python3.10/site-packages/numpy/random/_pcg64.cpython-310-darwin.so\": 1682210889.781098, \"/Users/majerek/miniconda3/envs/tensorflow/lib/python3.10/site-packages/numpy/random/_sfc64.cpython-310-darwin.so\": 1682210887.143948, \"/Users/majerek/miniconda3/envs/tensorflow/lib/python3.10/site-packages/numpy/random/_generator.cpython-310-darwin.so\": 1682210886.2306643, \"/Users/majerek/miniconda3/envs/tensorflow/lib/python3.10/site-packages/numpy/random/_pickle.py\": 1682210866.1513858, \"/Users/majerek/miniconda3/envs/tensorflow/lib/python3.10/site-packages/numpy/random/__init__.py\": 1682210866.1318166, \"/Users/majerek/miniconda3/envs/tensorflow/lib/python3.10/site-packages/numpy/ctypeslib.py\": 1682210865.7138472, \"/Users/majerek/miniconda3/envs/tensorflow/lib/python3.10/site-packages/numpy/ma/core.py\": 1682210866.0937006, \"/Users/majerek/miniconda3/envs/tensorflow/lib/python3.10/site-packages/numpy/ma/extras.py\": 1682210866.095164, \"/Users/majerek/miniconda3/envs/tensorflow/lib/python3.10/site-packages/numpy/ma/__init__.py\": 1682210866.0909607, \"/Users/majerek/miniconda3/envs/tensorflow/lib/python3.10/site-packages/numpy/__init__.py\": 1682210865.708746, \"/Users/majerek/miniconda3/envs/tensorflow/lib/python3.10/site-packages/matplotlib/_api/deprecation.py\": 1678136257.3072717, \"/Users/majerek/miniconda3/envs/tensorflow/lib/python3.10/site-packages/matplotlib/_api/__init__.py\": 1678136257.3064876, \"/Users/majerek/miniconda3/envs/tensorflow/lib/python3.10/site-packages/matplotlib/_version.py\": 1678136257.257552, \"/Users/majerek/miniconda3/envs/tensorflow/lib/python3.10/site-packages/matplotlib/_c_internal_utils.cpython-310-darwin.so\": 1678136266.53881, \"/Users/majerek/miniconda3/envs/tensorflow/lib/python3.10/site-packages/matplotlib/cbook/__init__.py\": 1678136257.3524363, \"/Users/majerek/miniconda3/envs/tensorflow/lib/python3.10/site-packages/matplotlib/_docstring.py\": 1678136257.2378857, \"/Users/majerek/miniconda3/envs/tensorflow/lib/python3.10/site-packages/PIL/_version.py\": 1672618652.0, \"/Users/majerek/miniconda3/envs/tensorflow/lib/python3.10/site-packages/PIL/__init__.py\": 1672618652.0, \"/Users/majerek/miniconda3/envs/tensorflow/lib/python3.10/site-packages/defusedxml/common.py\": 1615232387.0, \"/Users/majerek/miniconda3/envs/tensorflow/lib/python3.10/site-packages/defusedxml/__init__.py\": 1615232387.0, \"/Users/majerek/miniconda3/envs/tensorflow/lib/python3.10/xml/etree/__init__.py\": 1679689198.7752235, \"/Users/majerek/miniconda3/envs/tensorflow/lib/python3.10/xml/etree/ElementPath.py\": 1679689198.7648096, \"/Users/majerek/miniconda3/envs/tensorflow/lib/python3.10/lib-dynload/_elementtree.cpython-310-darwin.so\": 1679689246.5237155, \"/Users/majerek/miniconda3/envs/tensorflow/lib/python3.10/xml/etree/ElementTree.py\": 1679689198.7708418, \"/Users/majerek/miniconda3/envs/tensorflow/lib/python3.10/site-packages/defusedxml/ElementTree.py\": 1615232387.0, \"/Users/majerek/miniconda3/envs/tensorflow/lib/python3.10/site-packages/PIL/ExifTags.py\": 1672618652.0, \"/Users/majerek/miniconda3/envs/tensorflow/lib/python3.10/site-packages/PIL/ImageMode.py\": 1672618652.0, \"/Users/majerek/miniconda3/envs/tensorflow/lib/python3.10/site-packages/PIL/TiffTags.py\": 1672618652.0, \"/Users/majerek/miniconda3/envs/tensorflow/lib/python3.10/site-packages/PIL/_binary.py\": 1672618652.0, \"/Users/majerek/miniconda3/envs/tensorflow/lib/python3.10/site-packages/PIL/_deprecate.py\": 1672618652.0, \"/Users/majerek/miniconda3/envs/tensorflow/lib/python3.10/site-packages/PIL/_util.py\": 1672618652.0, \"/Users/majerek/miniconda3/envs/tensorflow/lib/python3.10/site-packages/PIL/_imaging.cpython-310-darwin.so\": 1677510393.5291834, \"/Users/majerek/miniconda3/envs/tensorflow/lib/python3.10/site-packages/cffi/lock.py\": 1671180181.0, \"/Users/majerek/miniconda3/envs/tensorflow/lib/python3.10/site-packages/cffi/error.py\": 1671180181.0, \"/Users/majerek/miniconda3/envs/tensorflow/lib/python3.10/site-packages/cffi/model.py\": 1671180181.0, \"/Users/majerek/miniconda3/envs/tensorflow/lib/python3.10/site-packages/cffi/api.py\": 1671180181.0, \"/Users/majerek/miniconda3/envs/tensorflow/lib/python3.10/site-packages/cffi/__init__.py\": 1671180181.0, \"/Users/majerek/miniconda3/envs/tensorflow/lib/python3.10/site-packages/PIL/Image.py\": 1672618652.0, \"/Users/majerek/miniconda3/envs/tensorflow/lib/python3.10/site-packages/PIL/ImageChops.py\": 1672618652.0, \"/Users/majerek/miniconda3/envs/tensorflow/lib/python3.10/site-packages/PIL/ImageFile.py\": 1672618652.0, \"/Users/majerek/miniconda3/envs/tensorflow/lib/python3.10/site-packages/PIL/GimpGradientFile.py\": 1672618652.0, \"/Users/majerek/miniconda3/envs/tensorflow/lib/python3.10/site-packages/PIL/GimpPaletteFile.py\": 1672618652.0, \"/Users/majerek/miniconda3/envs/tensorflow/lib/python3.10/site-packages/PIL/ImageColor.py\": 1672618652.0, \"/Users/majerek/miniconda3/envs/tensorflow/lib/python3.10/site-packages/PIL/PaletteFile.py\": 1672618652.0, \"/Users/majerek/miniconda3/envs/tensorflow/lib/python3.10/site-packages/PIL/ImagePalette.py\": 1672618652.0, \"/Users/majerek/miniconda3/envs/tensorflow/lib/python3.10/site-packages/PIL/ImageSequence.py\": 1672618652.0, \"/Users/majerek/miniconda3/envs/tensorflow/lib/python3.10/site-packages/PIL/PngImagePlugin.py\": 1672618652.0, \"/Users/majerek/miniconda3/envs/tensorflow/lib/python3.10/site-packages/matplotlib/_cm.py\": 1678136257.2344234, \"/Users/majerek/miniconda3/envs/tensorflow/lib/python3.10/site-packages/matplotlib/_path.cpython-310-darwin.so\": 1678136265.0970101, \"/Users/majerek/miniconda3/envs/tensorflow/lib/python3.10/site-packages/matplotlib/bezier.py\": 1678136257.265053, \"/Users/majerek/miniconda3/envs/tensorflow/lib/python3.10/site-packages/matplotlib/path.py\": 1678136257.2887418, \"/Users/majerek/miniconda3/envs/tensorflow/lib/python3.10/site-packages/matplotlib/transforms.py\": 1678136257.3031006, \"/Users/majerek/miniconda3/envs/tensorflow/lib/python3.10/site-packages/matplotlib/ticker.py\": 1678136257.3009744, \"/Users/majerek/miniconda3/envs/tensorflow/lib/python3.10/site-packages/matplotlib/scale.py\": 1678136257.2943473, \"/Users/majerek/miniconda3/envs/tensorflow/lib/python3.10/site-packages/matplotlib/_color_data.py\": 1678136257.2366295, \"/Users/majerek/miniconda3/envs/tensorflow/lib/python3.10/site-packages/matplotlib/colors.py\": 1678136257.2692318, \"/Users/majerek/miniconda3/envs/tensorflow/lib/python3.10/site-packages/pyparsing/util.py\": 1652235494.0, \"/Users/majerek/miniconda3/envs/tensorflow/lib/python3.10/site-packages/pyparsing/unicode.py\": 1652235494.0, \"/Users/majerek/miniconda3/envs/tensorflow/lib/python3.10/site-packages/pyparsing/exceptions.py\": 1652235494.0, \"/Users/majerek/miniconda3/envs/tensorflow/lib/python3.10/site-packages/pyparsing/actions.py\": 1652235494.0, \"/Users/majerek/miniconda3/envs/tensorflow/lib/python3.10/site-packages/pyparsing/results.py\": 1652235494.0, \"/Users/majerek/miniconda3/envs/tensorflow/lib/python3.10/site-packages/pyparsing/core.py\": 1652235494.0, \"/Users/majerek/miniconda3/envs/tensorflow/lib/python3.10/site-packages/pyparsing/helpers.py\": 1652235494.0, \"/Users/majerek/miniconda3/envs/tensorflow/lib/python3.10/site-packages/pyparsing/testing.py\": 1652235494.0, \"/Users/majerek/miniconda3/envs/tensorflow/lib/python3.10/site-packages/pyparsing/common.py\": 1652235494.0, \"/Users/majerek/miniconda3/envs/tensorflow/lib/python3.10/site-packages/pyparsing/__init__.py\": 1652235494.0, \"/Users/majerek/miniconda3/envs/tensorflow/lib/python3.10/site-packages/matplotlib/_fontconfig_pattern.py\": 1678136257.2391312, \"/Users/majerek/miniconda3/envs/tensorflow/lib/python3.10/site-packages/matplotlib/_enums.py\": 1678136257.2384567, \"/Users/majerek/miniconda3/envs/tensorflow/lib/python3.10/site-packages/cycler.py\": 1635519554.0, \"/Users/majerek/miniconda3/envs/tensorflow/lib/python3.10/site-packages/matplotlib/rcsetup.py\": 1678136257.292738, \"/Users/majerek/miniconda3/envs/tensorflow/lib/python3.10/site-packages/matplotlib/ft2font.cpython-310-darwin.so\": 1678136265.68555, \"/Users/majerek/miniconda3/envs/tensorflow/lib/python3.10/site-packages/kiwisolver/_cext.cpython-310-darwin.so\": 1666806194.0, \"/Users/majerek/miniconda3/envs/tensorflow/lib/python3.10/site-packages/kiwisolver/__init__.py\": 1666806190.0, \"/Users/majerek/miniconda3/envs/tensorflow/lib/python3.10/site-packages/matplotlib/_cm_listed.py\": 1678136257.2358015, \"/Users/majerek/miniconda3/envs/tensorflow/lib/python3.10/site-packages/matplotlib/cm.py\": 1678136257.2662978, \"/Users/majerek/miniconda3/envs/tensorflow/lib/python3.10/site-packages/matplotlib/__init__.py\": 1678136257.2303517, \"/Users/majerek/miniconda3/envs/tensorflow/lib/python3.10/site-packages/matplotlib/artist.py\": 1678136257.260462, \"/Users/majerek/miniconda3/envs/tensorflow/lib/python3.10/site-packages/matplotlib/hatch.py\": 1678136257.2792766, \"/Users/majerek/miniconda3/envs/tensorflow/lib/python3.10/site-packages/matplotlib/markers.py\": 1678136257.2845218, \"/Users/majerek/miniconda3/envs/tensorflow/lib/python3.10/site-packages/matplotlib/lines.py\": 1678136257.2838063, \"/Users/majerek/miniconda3/envs/tensorflow/lib/python3.10/site-packages/matplotlib/collections.py\": 1678136257.267241, \"/Users/majerek/miniconda3/envs/tensorflow/lib/python3.10/site-packages/matplotlib/_pylab_helpers.py\": 1678136257.2466798, \"/Users/majerek/miniconda3/envs/tensorflow/lib/python3.10/site-packages/matplotlib/backend_tools.py\": 1678136257.2644353, \"/Users/majerek/miniconda3/envs/tensorflow/lib/python3.10/site-packages/matplotlib/_mathtext_data.py\": 1678136257.244275, \"/Users/majerek/miniconda3/envs/tensorflow/lib/python3.10/site-packages/matplotlib/_afm.py\": 1678136257.231111, \"/Users/majerek/miniconda3/envs/tensorflow/lib/python3.10/site-packages/matplotlib/font_manager.py\": 1678136257.2760608, \"/Users/majerek/miniconda3/envs/tensorflow/lib/python3.10/site-packages/matplotlib/patches.py\": 1678136257.2879016, \"/Users/majerek/miniconda3/envs/tensorflow/lib/python3.10/site-packages/matplotlib/_text_helpers.py\": 1678136257.2517102, \"/Users/majerek/miniconda3/envs/tensorflow/lib/python3.10/site-packages/matplotlib/dviread.py\": 1678136257.2737198, \"/Users/majerek/miniconda3/envs/tensorflow/lib/python3.10/site-packages/matplotlib/_mathtext.py\": 1678136257.243286, \"/Users/majerek/miniconda3/envs/tensorflow/lib/python3.10/site-packages/matplotlib/mathtext.py\": 1678136257.2851226, \"/Users/majerek/miniconda3/envs/tensorflow/lib/python3.10/site-packages/matplotlib/texmanager.py\": 1678136257.298388, \"/Users/majerek/miniconda3/envs/tensorflow/lib/python3.10/site-packages/matplotlib/textpath.py\": 1678136257.2999861, \"/Users/majerek/miniconda3/envs/tensorflow/lib/python3.10/site-packages/matplotlib/text.py\": 1678136257.2993166, \"/Users/majerek/miniconda3/envs/tensorflow/lib/python3.10/site-packages/matplotlib/_tight_bbox.py\": 1678136257.2523708, \"/Users/majerek/miniconda3/envs/tensorflow/lib/python3.10/site-packages/matplotlib/widgets.py\": 1678136257.3056698, \"/Users/majerek/miniconda3/envs/tensorflow/lib/python3.10/site-packages/matplotlib/backend_managers.py\": 1678136257.2637527, \"/Users/majerek/miniconda3/envs/tensorflow/lib/python3.10/site-packages/matplotlib/backend_bases.py\": 1678136257.2630496, \"/Users/majerek/miniconda3/envs/tensorflow/lib/python3.10/site-packages/matplotlib/contour.py\": 1678136257.271139, \"/Users/majerek/miniconda3/envs/tensorflow/lib/python3.10/site-packages/matplotlib/spines.py\": 1678136257.2949789, \"/Users/majerek/miniconda3/envs/tensorflow/lib/python3.10/site-packages/matplotlib/colorbar.py\": 1678136257.2680514, \"/Users/majerek/miniconda3/envs/tensorflow/lib/python3.10/site-packages/matplotlib/_image.cpython-310-darwin.so\": 1678136265.9696002, \"/Users/majerek/miniconda3/envs/tensorflow/lib/python3.10/site-packages/matplotlib/image.py\": 1678136257.2801342, \"/Users/majerek/miniconda3/envs/tensorflow/lib/python3.10/site-packages/matplotlib/style/core.py\": 1678136257.8070915, \"/Users/majerek/miniconda3/envs/tensorflow/lib/python3.10/site-packages/matplotlib/style/__init__.py\": 1678136257.8063726, \"/Users/majerek/miniconda3/envs/tensorflow/lib/python3.10/site-packages/matplotlib/_blocking_input.py\": 1678136257.2324834, \"/Users/majerek/miniconda3/envs/tensorflow/lib/python3.10/site-packages/matplotlib/offsetbox.py\": 1678136257.2866504, \"/Users/majerek/miniconda3/envs/tensorflow/lib/python3.10/site-packages/matplotlib/units.py\": 1678136257.3044994, \"/Users/majerek/miniconda3/envs/tensorflow/lib/python3.10/site-packages/matplotlib/axis.py\": 1678136257.2615893, \"/Users/majerek/miniconda3/envs/tensorflow/lib/python3.10/site-packages/matplotlib/_tight_layout.py\": 1678136257.2530298, \"/Users/majerek/miniconda3/envs/tensorflow/lib/python3.10/site-packages/matplotlib/gridspec.py\": 1678136257.2786934, \"/Users/majerek/miniconda3/envs/tensorflow/lib/python3.10/site-packages/matplotlib/table.py\": 1678136257.2976742, \"/Users/majerek/miniconda3/envs/tensorflow/lib/python3.10/site-packages/matplotlib/axes/_base.py\": 1678136257.3115206, \"/Users/majerek/miniconda3/envs/tensorflow/lib/python3.10/site-packages/matplotlib/category.py\": 1678136257.2656467, \"/Users/majerek/miniconda3/envs/tensorflow/lib/python3.10/site-packages/dateutil/rrule.py\": 1626286447.0, \"/Users/majerek/miniconda3/envs/tensorflow/lib/python3.10/site-packages/matplotlib/dates.py\": 1678136257.2722008, \"/Users/majerek/miniconda3/envs/tensorflow/lib/python3.10/site-packages/matplotlib/container.py\": 1678136257.2701542, \"/Users/majerek/miniconda3/envs/tensorflow/lib/python3.10/site-packages/matplotlib/legend_handler.py\": 1678136257.282789, \"/Users/majerek/miniconda3/envs/tensorflow/lib/python3.10/site-packages/matplotlib/legend.py\": 1678136257.281782, \"/Users/majerek/miniconda3/envs/tensorflow/lib/python3.10/site-packages/matplotlib/mlab.py\": 1678136257.2858849, \"/Users/majerek/miniconda3/envs/tensorflow/lib/python3.10/site-packages/matplotlib/quiver.py\": 1678136257.2918472, \"/Users/majerek/miniconda3/envs/tensorflow/lib/python3.10/site-packages/matplotlib/stackplot.py\": 1678136257.295856, \"/Users/majerek/miniconda3/envs/tensorflow/lib/python3.10/site-packages/matplotlib/streamplot.py\": 1678136257.2968705, \"/Users/majerek/miniconda3/envs/tensorflow/lib/python3.10/site-packages/matplotlib/tri/_triangulation.py\": 1678136257.8804498, \"/Users/majerek/miniconda3/envs/tensorflow/lib/python3.10/site-packages/matplotlib/tri/_tricontour.py\": 1678136257.8810387, \"/Users/majerek/miniconda3/envs/tensorflow/lib/python3.10/site-packages/matplotlib/tri/_trifinder.py\": 1678136257.8816228, \"/Users/majerek/miniconda3/envs/tensorflow/lib/python3.10/site-packages/matplotlib/tri/_tritools.py\": 1678136257.8846955, \"/Users/majerek/miniconda3/envs/tensorflow/lib/python3.10/site-packages/matplotlib/tri/_triinterpolate.py\": 1678136257.8824058, \"/Users/majerek/miniconda3/envs/tensorflow/lib/python3.10/site-packages/matplotlib/tri/_tripcolor.py\": 1678136257.8829954, \"/Users/majerek/miniconda3/envs/tensorflow/lib/python3.10/site-packages/matplotlib/tri/_triplot.py\": 1678136257.8835156, \"/Users/majerek/miniconda3/envs/tensorflow/lib/python3.10/site-packages/matplotlib/tri/_trirefine.py\": 1678136257.8841217, \"/Users/majerek/miniconda3/envs/tensorflow/lib/python3.10/site-packages/matplotlib/tri/__init__.py\": 1678136257.8796594, \"/Users/majerek/miniconda3/envs/tensorflow/lib/python3.10/site-packages/matplotlib/axes/_secondary_axes.py\": 1678136257.3123446, \"/Users/majerek/miniconda3/envs/tensorflow/lib/python3.10/site-packages/matplotlib/axes/_axes.py\": 1678136257.3099086, \"/Users/majerek/miniconda3/envs/tensorflow/lib/python3.10/site-packages/matplotlib/axes/__init__.py\": 1678136257.3079302, \"/Users/majerek/miniconda3/envs/tensorflow/lib/python3.10/site-packages/matplotlib/projections/geo.py\": 1678136257.8024101, \"/Users/majerek/miniconda3/envs/tensorflow/lib/python3.10/site-packages/matplotlib/projections/polar.py\": 1678136257.8034024, \"/Users/majerek/miniconda3/envs/tensorflow/lib/python3.10/site-packages/mpl_toolkits/mplot3d/proj3d.py\": 1678136257.91297, \"/Users/majerek/miniconda3/envs/tensorflow/lib/python3.10/site-packages/mpl_toolkits/mplot3d/art3d.py\": 1678136257.9105835, \"/Users/majerek/miniconda3/envs/tensorflow/lib/python3.10/site-packages/mpl_toolkits/mplot3d/axis3d.py\": 1678136257.9124413, \"/Users/majerek/miniconda3/envs/tensorflow/lib/python3.10/site-packages/mpl_toolkits/mplot3d/axes3d.py\": 1678136257.91175, \"/Users/majerek/miniconda3/envs/tensorflow/lib/python3.10/site-packages/mpl_toolkits/mplot3d/__init__.py\": 1678136257.9098952, \"/Users/majerek/miniconda3/envs/tensorflow/lib/python3.10/site-packages/matplotlib/projections/__init__.py\": 1678136257.8018074, \"/Users/majerek/miniconda3/envs/tensorflow/lib/python3.10/site-packages/matplotlib/_layoutgrid.py\": 1678136257.2420697, \"/Users/majerek/miniconda3/envs/tensorflow/lib/python3.10/site-packages/matplotlib/_constrained_layout.py\": 1678136257.237336, \"/Users/majerek/miniconda3/envs/tensorflow/lib/python3.10/site-packages/matplotlib/layout_engine.py\": 1678136257.280781, \"/Users/majerek/miniconda3/envs/tensorflow/lib/python3.10/site-packages/matplotlib/figure.py\": 1678136257.2750523, \"/Users/majerek/miniconda3/envs/tensorflow/lib/python3.10/site-packages/matplotlib/pyplot.py\": 1678136257.2910156, \"/Users/majerek/miniconda3/envs/tensorflow/lib/python3.10/site-packages/matplotlib/backends/__init__.py\": 1678136257.3130586, \"/Users/majerek/miniconda3/envs/tensorflow/lib/python3.10/site-packages/matplotlib/backends/_backend_agg.cpython-310-darwin.so\": 1678136267.4113877, \"/Users/majerek/miniconda3/envs/tensorflow/lib/python3.10/site-packages/matplotlib/backends/backend_agg.py\": 1678136257.3211389, \"/Users/majerek/miniconda3/envs/tensorflow/lib/python3.10/site-packages/matplotlib_inline/config.py\": 1660814911.0, \"/Users/majerek/miniconda3/envs/tensorflow/lib/python3.10/site-packages/matplotlib_inline/backend_inline.py\": 1660814911.0, \"/Users/majerek/miniconda3/envs/tensorflow/lib/python3.10/site-packages/matplotlib_inline/__init__.py\": 1660814911.0, \"/Users/majerek/miniconda3/envs/tensorflow/lib/python3.10/site-packages/_plotly_utils/__init__.py\": 1705054583.3775744, \"/Users/majerek/miniconda3/envs/tensorflow/lib/python3.10/site-packages/_plotly_utils/importers.py\": 1705054583.3792026, \"/Users/majerek/miniconda3/envs/tensorflow/lib/python3.10/site-packages/plotly/__init__.py\": 1705054583.422777, \"/Users/majerek/miniconda3/envs/tensorflow/lib/python3.10/site-packages/plotly/io/_templates.py\": 1705054583.770734, \"/Users/majerek/miniconda3/envs/tensorflow/lib/python3.10/site-packages/plotly/io/__init__.py\": 1705054583.768417, \"/Users/majerek/miniconda3/envs/tensorflow/lib/python3.10/site-packages/_plotly_utils/optional_imports.py\": 1705054583.379358, \"/Users/majerek/miniconda3/envs/tensorflow/lib/python3.10/site-packages/plotly/optional_imports.py\": 1705054583.4261703, \"/Users/majerek/miniconda3/envs/tensorflow/lib/python3.10/webbrowser.py\": 1679689194.8654127, \"/Users/majerek/miniconda3/envs/tensorflow/lib/python3.10/site-packages/_plotly_utils/basevalidators.py\": 1705054583.3784318, \"/Users/majerek/miniconda3/envs/tensorflow/lib/python3.10/site-packages/_plotly_utils/utils.py\": 1705054583.3802257, \"/Users/majerek/miniconda3/envs/tensorflow/lib/python3.10/site-packages/_plotly_utils/png.py\": 1705054583.3799186, \"/Users/majerek/miniconda3/envs/tensorflow/lib/python3.10/site-packages/_plotly_utils/data_utils.py\": 1705054583.3786883, \"/Users/majerek/miniconda3/envs/tensorflow/lib/python3.10/site-packages/plotly/utils.py\": 1705054583.4275017, \"/Users/majerek/miniconda3/envs/tensorflow/lib/python3.10/site-packages/plotly/graph_objs/__init__.py\": 1705054583.4365704, \"/Users/majerek/miniconda3/envs/tensorflow/lib/python3.10/site-packages/_plotly_utils/exceptions.py\": 1705054583.3788726, \"/Users/majerek/miniconda3/envs/tensorflow/lib/python3.10/site-packages/plotly/exceptions.py\": 1705054583.4256008, \"/Users/majerek/miniconda3/envs/tensorflow/lib/python3.10/site-packages/_plotly_utils/files.py\": 1705054583.3790417, \"/Users/majerek/miniconda3/envs/tensorflow/lib/python3.10/site-packages/plotly/files.py\": 1705054583.4257402, \"/Users/majerek/miniconda3/envs/tensorflow/lib/python3.10/site-packages/plotly/tools.py\": 1705054583.427304, \"/Users/majerek/miniconda3/envs/tensorflow/lib/python3.10/site-packages/plotly/offline/_plotlyjs_version.py\": 1705054583.7746475, \"/Users/majerek/miniconda3/envs/tensorflow/lib/python3.10/site-packages/plotly/offline/offline.py\": 1705054583.7749085, \"/Users/majerek/miniconda3/envs/tensorflow/lib/python3.10/site-packages/plotly/offline/__init__.py\": 1705054583.7744958, \"/Users/majerek/miniconda3/envs/tensorflow/lib/python3.10/site-packages/plotly/io/_utils.py\": 1705054583.770923, \"/Users/majerek/miniconda3/envs/tensorflow/lib/python3.10/site-packages/plotly/io/_json.py\": 1705054583.769268, \"/Users/majerek/miniconda3/envs/tensorflow/lib/python3.10/site-packages/plotly/io/_kaleido.py\": 1705054583.7695122, \"/Users/majerek/miniconda3/envs/tensorflow/lib/python3.10/site-packages/plotly/io/_html.py\": 1705054583.7689357, \"/Users/majerek/miniconda3/envs/tensorflow/lib/python3.10/site-packages/tenacity/retry.py\": 1705054579.0627108, \"/Users/majerek/miniconda3/envs/tensorflow/lib/python3.10/site-packages/tenacity/nap.py\": 1705054579.0623562, \"/Users/majerek/miniconda3/envs/tensorflow/lib/python3.10/site-packages/tenacity/_utils.py\": 1705054579.0616658, \"/Users/majerek/miniconda3/envs/tensorflow/lib/python3.10/site-packages/tenacity/stop.py\": 1705054579.0628798, \"/Users/majerek/miniconda3/envs/tensorflow/lib/python3.10/site-packages/tenacity/wait.py\": 1705054579.0632987, \"/Users/majerek/miniconda3/envs/tensorflow/lib/python3.10/site-packages/tenacity/before.py\": 1705054579.0620027, \"/Users/majerek/miniconda3/envs/tensorflow/lib/python3.10/site-packages/tenacity/after.py\": 1705054579.0618393, \"/Users/majerek/miniconda3/envs/tensorflow/lib/python3.10/site-packages/tenacity/before_sleep.py\": 1705054579.0621939, \"/Users/majerek/miniconda3/envs/tensorflow/lib/python3.10/site-packages/tenacity/_asyncio.py\": 1705054579.061473, \"/Users/majerek/miniconda3/envs/tensorflow/lib/python3.10/site-packages/tenacity/tornadoweb.py\": 1705054579.063039, \"/Users/majerek/miniconda3/envs/tensorflow/lib/python3.10/site-packages/tenacity/__init__.py\": 1705054579.0612571, \"/Users/majerek/miniconda3/envs/tensorflow/lib/python3.10/site-packages/plotly/io/_orca.py\": 1705054583.7698927, \"/Users/majerek/miniconda3/envs/tensorflow/lib/python3.10/site-packages/plotly/io/_base_renderers.py\": 1705054583.768676, \"/Users/majerek/miniconda3/envs/tensorflow/lib/python3.10/site-packages/nbformat/v1/convert.py\": 1679336953.6793811, \"/Users/majerek/miniconda3/envs/tensorflow/lib/python3.10/site-packages/nbformat/_struct.py\": 1679336953.6713812, \"/Users/majerek/miniconda3/envs/tensorflow/lib/python3.10/site-packages/nbformat/v1/nbbase.py\": 1679336953.6793811, \"/Users/majerek/miniconda3/envs/tensorflow/lib/python3.10/site-packages/nbformat/v1/rwbase.py\": 1679336953.6793811, \"/Users/majerek/miniconda3/envs/tensorflow/lib/python3.10/site-packages/nbformat/v1/nbjson.py\": 1679336953.6793811, \"/Users/majerek/miniconda3/envs/tensorflow/lib/python3.10/site-packages/nbformat/v1/__init__.py\": 1679336953.6793811, \"/Users/majerek/miniconda3/envs/tensorflow/lib/python3.10/site-packages/nbformat/v2/nbbase.py\": 1679336953.6793811, \"/Users/majerek/miniconda3/envs/tensorflow/lib/python3.10/site-packages/nbformat/v2/convert.py\": 1679336953.6793811, \"/Users/majerek/miniconda3/envs/tensorflow/lib/python3.10/site-packages/nbformat/v2/rwbase.py\": 1679336953.6793811, \"/Users/majerek/miniconda3/envs/tensorflow/lib/python3.10/site-packages/nbformat/v2/nbjson.py\": 1679336953.6793811, \"/Users/majerek/miniconda3/envs/tensorflow/lib/python3.10/site-packages/nbformat/v2/nbpy.py\": 1679336953.6793811, \"/Users/majerek/miniconda3/envs/tensorflow/lib/python3.10/site-packages/nbformat/v2/nbxml.py\": 1679336953.6793811, \"/Users/majerek/miniconda3/envs/tensorflow/lib/python3.10/site-packages/nbformat/v2/__init__.py\": 1679336953.6793811, \"/Users/majerek/miniconda3/envs/tensorflow/lib/python3.10/site-packages/nbformat/v3/nbbase.py\": 1679336953.6793811, \"/Users/majerek/miniconda3/envs/tensorflow/lib/python3.10/site-packages/nbformat/v3/convert.py\": 1679336953.6793811, \"/Users/majerek/miniconda3/envs/tensorflow/lib/python3.10/site-packages/nbformat/v3/rwbase.py\": 1679336953.6833813, \"/Users/majerek/miniconda3/envs/tensorflow/lib/python3.10/site-packages/nbformat/v3/nbjson.py\": 1679336953.6833813, \"/Users/majerek/miniconda3/envs/tensorflow/lib/python3.10/site-packages/nbformat/v3/nbpy.py\": 1679336953.6833813, \"/Users/majerek/miniconda3/envs/tensorflow/lib/python3.10/site-packages/nbformat/v3/__init__.py\": 1679336953.6793811, \"/Users/majerek/miniconda3/envs/tensorflow/lib/python3.10/site-packages/nbformat/_imports.py\": 1679336953.6713812, \"/Users/majerek/miniconda3/envs/tensorflow/lib/python3.10/site-packages/nbformat/corpus/__init__.py\": 1679336953.6753812, \"/Users/majerek/miniconda3/envs/tensorflow/lib/python3.10/site-packages/nbformat/corpus/words.py\": 1679336953.6753812, \"/Users/majerek/miniconda3/envs/tensorflow/lib/python3.10/site-packages/fastjsonschema/exceptions.py\": 1677336898.0656476, \"/Users/majerek/miniconda3/envs/tensorflow/lib/python3.10/site-packages/fastjsonschema/indent.py\": 1677336898.0656476, \"/Users/majerek/miniconda3/envs/tensorflow/lib/python3.10/site-packages/fastjsonschema/ref_resolver.py\": 1677336898.0656476, \"/Users/majerek/miniconda3/envs/tensorflow/lib/python3.10/site-packages/fastjsonschema/generator.py\": 1677336898.0656476, \"/Users/majerek/miniconda3/envs/tensorflow/lib/python3.10/site-packages/fastjsonschema/draft04.py\": 1677336898.0656476, \"/Users/majerek/miniconda3/envs/tensorflow/lib/python3.10/site-packages/fastjsonschema/draft06.py\": 1677336898.0656476, \"/Users/majerek/miniconda3/envs/tensorflow/lib/python3.10/site-packages/fastjsonschema/draft07.py\": 1677336898.0656476, \"/Users/majerek/miniconda3/envs/tensorflow/lib/python3.10/site-packages/fastjsonschema/version.py\": 1677336898.0656476, \"/Users/majerek/miniconda3/envs/tensorflow/lib/python3.10/site-packages/fastjsonschema/__init__.py\": 1677336898.0656476, \"/Users/majerek/miniconda3/envs/tensorflow/lib/python3.10/ipaddress.py\": 1679689194.1709776, \"/Users/majerek/miniconda3/envs/tensorflow/lib/python3.10/site-packages/attr/_compat.py\": 1671632708.303615, \"/Users/majerek/miniconda3/envs/tensorflow/lib/python3.10/site-packages/attr/_config.py\": 1671632708.303615, \"/Users/majerek/miniconda3/envs/tensorflow/lib/python3.10/site-packages/attr/exceptions.py\": 1671632708.3076153, \"/Users/majerek/miniconda3/envs/tensorflow/lib/python3.10/site-packages/attr/setters.py\": 1671632708.3076153, \"/Users/majerek/miniconda3/envs/tensorflow/lib/python3.10/site-packages/attr/_make.py\": 1671632708.303615, \"/Users/majerek/miniconda3/envs/tensorflow/lib/python3.10/site-packages/attr/converters.py\": 1671632708.3076153, \"/Users/majerek/miniconda3/envs/tensorflow/lib/python3.10/site-packages/attr/filters.py\": 1671632708.3076153, \"/Users/majerek/miniconda3/envs/tensorflow/lib/python3.10/site-packages/attr/validators.py\": 1671632708.3076153, \"/Users/majerek/miniconda3/envs/tensorflow/lib/python3.10/site-packages/attr/_cmp.py\": 1671632708.303615, \"/Users/majerek/miniconda3/envs/tensorflow/lib/python3.10/site-packages/attr/_funcs.py\": 1671632708.303615, \"/Users/majerek/miniconda3/envs/tensorflow/lib/python3.10/site-packages/attr/_next_gen.py\": 1671632708.303615, \"/Users/majerek/miniconda3/envs/tensorflow/lib/python3.10/site-packages/attr/_version_info.py\": 1671632708.303615, \"/Users/majerek/miniconda3/envs/tensorflow/lib/python3.10/site-packages/attr/__init__.py\": 1671632708.303615, \"/Users/majerek/miniconda3/envs/tensorflow/lib/python3.10/site-packages/jsonschema/_utils.py\": 1669810554.0, \"/Users/majerek/miniconda3/envs/tensorflow/lib/python3.10/site-packages/jsonschema/exceptions.py\": 1669810554.0, \"/Users/majerek/miniconda3/envs/tensorflow/lib/python3.10/site-packages/idna/package_data.py\": 1663625483.0, \"/Users/majerek/miniconda3/envs/tensorflow/lib/python3.10/site-packages/idna/idnadata.py\": 1663625483.0, \"/Users/majerek/miniconda3/envs/tensorflow/lib/python3.10/site-packages/idna/intranges.py\": 1663625483.0, \"/Users/majerek/miniconda3/envs/tensorflow/lib/python3.10/site-packages/idna/core.py\": 1663625483.0, \"/Users/majerek/miniconda3/envs/tensorflow/lib/python3.10/site-packages/idna/__init__.py\": 1663625483.0, \"/Users/majerek/miniconda3/envs/tensorflow/lib/python3.10/site-packages/rfc3986_validator.py\": 1598024296.0, \"/Users/majerek/miniconda3/envs/tensorflow/lib/python3.10/site-packages/rfc3339_validator.py\": 1638811836.0, \"/Users/majerek/miniconda3/envs/tensorflow/lib/python3.10/site-packages/jsonschema/_format.py\": 1669810554.0, \"/Users/majerek/miniconda3/envs/tensorflow/lib/python3.10/site-packages/pyrsistent/_transformations.py\": 1672681761.0, \"/Users/majerek/miniconda3/envs/tensorflow/lib/python3.10/site-packages/pvectorc.cpython-310-darwin.so\": 1672681764.0, \"/Users/majerek/miniconda3/envs/tensorflow/lib/python3.10/site-packages/pyrsistent/_pvector.py\": 1672681761.0, \"/Users/majerek/miniconda3/envs/tensorflow/lib/python3.10/site-packages/pyrsistent/_pmap.py\": 1672681761.0, \"/Users/majerek/miniconda3/envs/tensorflow/lib/python3.10/site-packages/pyrsistent/_pset.py\": 1672681761.0, \"/Users/majerek/miniconda3/envs/tensorflow/lib/python3.10/site-packages/pyrsistent/_pbag.py\": 1672681761.0, \"/Users/majerek/miniconda3/envs/tensorflow/lib/python3.10/site-packages/pyrsistent/_plist.py\": 1672681761.0, \"/Users/majerek/miniconda3/envs/tensorflow/lib/python3.10/site-packages/pyrsistent/_pdeque.py\": 1672681761.0, \"/Users/majerek/miniconda3/envs/tensorflow/lib/python3.10/site-packages/pyrsistent/_checked_types.py\": 1672681761.0, \"/Users/majerek/miniconda3/envs/tensorflow/lib/python3.10/site-packages/pyrsistent/_field_common.py\": 1672681761.0, \"/Users/majerek/miniconda3/envs/tensorflow/lib/python3.10/site-packages/pyrsistent/_precord.py\": 1672681761.0, \"/Users/majerek/miniconda3/envs/tensorflow/lib/python3.10/site-packages/pyrsistent/_pclass.py\": 1672681761.0, \"/Users/majerek/miniconda3/envs/tensorflow/lib/python3.10/site-packages/pyrsistent/_immutable.py\": 1672681761.0, \"/Users/majerek/miniconda3/envs/tensorflow/lib/python3.10/site-packages/pyrsistent/_helpers.py\": 1672681761.0, \"/Users/majerek/miniconda3/envs/tensorflow/lib/python3.10/site-packages/pyrsistent/_toolz.py\": 1672681761.0, \"/Users/majerek/miniconda3/envs/tensorflow/lib/python3.10/site-packages/pyrsistent/__init__.py\": 1672681761.0, \"/Users/majerek/miniconda3/envs/tensorflow/lib/python3.10/site-packages/pyrsistent/typing.py\": 1672681761.0, \"/Users/majerek/miniconda3/envs/tensorflow/lib/python3.10/site-packages/jsonschema/_types.py\": 1669810554.0, \"/Users/majerek/miniconda3/envs/tensorflow/lib/python3.10/site-packages/jsonschema/protocols.py\": 1669810554.0, \"/Users/majerek/miniconda3/envs/tensorflow/lib/python3.10/site-packages/jsonschema/_legacy_validators.py\": 1669810554.0, \"/Users/majerek/miniconda3/envs/tensorflow/lib/python3.10/site-packages/jsonschema/_validators.py\": 1669810554.0, \"/Users/majerek/miniconda3/envs/tensorflow/lib/python3.10/importlib/readers.py\": 1679689197.55763, \"/Users/majerek/miniconda3/envs/tensorflow/lib/python3.10/site-packages/jsonschema/validators.py\": 1669810554.0, \"/Users/majerek/miniconda3/envs/tensorflow/lib/python3.10/site-packages/jsonschema/__init__.py\": 1669810554.0, \"/Users/majerek/miniconda3/envs/tensorflow/lib/python3.10/site-packages/nbformat/json_compat.py\": 1679336953.6753812, \"/Users/majerek/miniconda3/envs/tensorflow/lib/python3.10/site-packages/nbformat/reader.py\": 1679336953.6753812, \"/Users/majerek/miniconda3/envs/tensorflow/lib/python3.10/site-packages/nbformat/warnings.py\": 1679336953.6753812, \"/Users/majerek/miniconda3/envs/tensorflow/lib/python3.10/site-packages/nbformat/validator.py\": 1679336953.6753812, \"/Users/majerek/miniconda3/envs/tensorflow/lib/python3.10/site-packages/nbformat/notebooknode.py\": 1679336953.6753812, \"/Users/majerek/miniconda3/envs/tensorflow/lib/python3.10/site-packages/nbformat/v4/nbbase.py\": 1679336953.6833813, \"/Users/majerek/miniconda3/envs/tensorflow/lib/python3.10/site-packages/nbformat/v4/convert.py\": 1679336953.6833813, \"/Users/majerek/miniconda3/envs/tensorflow/lib/python3.10/site-packages/nbformat/v4/rwbase.py\": 1679336953.6833813, \"/Users/majerek/miniconda3/envs/tensorflow/lib/python3.10/site-packages/nbformat/v4/nbjson.py\": 1679336953.6833813, \"/Users/majerek/miniconda3/envs/tensorflow/lib/python3.10/site-packages/nbformat/v4/__init__.py\": 1679336953.6833813, \"/Users/majerek/miniconda3/envs/tensorflow/lib/python3.10/site-packages/nbformat/_version.py\": 1679336953.6713812, \"/Users/majerek/miniconda3/envs/tensorflow/lib/python3.10/site-packages/nbformat/sentinel.py\": 1679336953.6753812, \"/Users/majerek/miniconda3/envs/tensorflow/lib/python3.10/site-packages/nbformat/converter.py\": 1679336953.6713812, \"/Users/majerek/miniconda3/envs/tensorflow/lib/python3.10/site-packages/nbformat/__init__.py\": 1679336953.6713812, \"/Users/majerek/miniconda3/envs/tensorflow/lib/python3.10/site-packages/plotly/io/_renderers.py\": 1705054583.770214, \"/Users/majerek/miniconda3/envs/tensorflow/lib/python3.10/site-packages/plotly/graph_objs/layout/__init__.py\": 1705054583.5668116, \"/Users/majerek/miniconda3/envs/tensorflow/lib/python3.10/site-packages/plotly/shapeannotation.py\": 1705054583.4268224, \"/Users/majerek/miniconda3/envs/tensorflow/lib/python3.10/site-packages/plotly/_subplots.py\": 1705054583.4231372, \"/Users/majerek/miniconda3/envs/tensorflow/lib/python3.10/site-packages/plotly/basedatatypes.py\": 1705054583.4245079, \"/Users/majerek/miniconda3/envs/tensorflow/lib/python3.10/site-packages/plotly/graph_objs/layout/_template.py\": 1705054583.5725605, \"/Users/majerek/miniconda3/envs/tensorflow/lib/python3.10/site-packages/plotly/validator_cache.py\": 1705054583.4276552, \"/Users/majerek/miniconda3/envs/tensorflow/lib/python3.10/site-packages/plotly/validators/__init__.py\": 1705054583.796553, \"/Users/majerek/miniconda3/envs/tensorflow/lib/python3.10/site-packages/plotly/validators/layout/__init__.py\": 1705054584.4321704, \"/Users/majerek/miniconda3/envs/tensorflow/lib/python3.10/site-packages/plotly/validators/layout/template/__init__.py\": 1705054584.6481493, \"/Users/majerek/miniconda3/envs/tensorflow/lib/python3.10/site-packages/plotly/validators/layout/template/_layout.py\": 1705054584.6484947, \"/Users/majerek/miniconda3/envs/tensorflow/lib/python3.10/site-packages/plotly/graph_objs/_layout.py\": 1705054583.453059, \"/Users/majerek/miniconda3/envs/tensorflow/lib/python3.10/site-packages/plotly/graph_objects/__init__.py\": 1705054583.4363165, \"/Users/majerek/miniconda3/envs/tensorflow/lib/python3.10/site-packages/plotly/validators/layout/_margin.py\": 1705054584.4415402, \"/Users/majerek/miniconda3/envs/tensorflow/lib/python3.10/site-packages/plotly/graph_objs/layout/_margin.py\": 1705054583.569751, \"/Users/majerek/miniconda3/envs/tensorflow/lib/python3.10/site-packages/plotly/validators/layout/margin/__init__.py\": 1705054584.5187643, \"/Users/majerek/miniconda3/envs/tensorflow/lib/python3.10/site-packages/plotly/validators/layout/margin/_b.py\": 1705054584.5190642, \"/Users/majerek/miniconda3/envs/tensorflow/lib/python3.10/site-packages/plotly/validators/layout/margin/_l.py\": 1705054584.5192196, \"/Users/majerek/miniconda3/envs/tensorflow/lib/python3.10/site-packages/plotly/validators/layout/margin/_r.py\": 1705054584.5195189, \"/Users/majerek/miniconda3/envs/tensorflow/lib/python3.10/site-packages/plotly/validators/layout/margin/_t.py\": 1705054584.519666, \"/Users/majerek/miniconda3/envs/tensorflow/lib/python3.10/site-packages/plotly/validators/layout/template/_data.py\": 1705054584.6483448, \"/Users/majerek/miniconda3/envs/tensorflow/lib/python3.10/site-packages/plotly/graph_objs/layout/template/__init__.py\": 1705054583.6050184, \"/Users/majerek/miniconda3/envs/tensorflow/lib/python3.10/site-packages/plotly/graph_objs/layout/template/_data.py\": 1705054583.6052833, \"/Users/majerek/miniconda3/envs/tensorflow/lib/python3.10/site-packages/plotly/validators/layout/template/data/__init__.py\": 1705054584.6487036, \"/Users/majerek/miniconda3/envs/tensorflow/lib/python3.10/site-packages/plotly/validators/layout/template/data/_scatter.py\": 1705054584.6533375, \"/Users/majerek/miniconda3/envs/tensorflow/lib/python3.10/site-packages/plotly/graph_objs/layout/template/data/__init__.py\": 1705054583.6056557, \"/Users/majerek/miniconda3/envs/tensorflow/lib/python3.10/site-packages/plotly/graph_objs/_scatter.py\": 1705054583.456124, \"/Users/majerek/miniconda3/envs/tensorflow/lib/python3.10/site-packages/plotly/graph_objs/layout/template/data/_scatter.py\": 1705054583.610073, \"/Users/majerek/miniconda3/envs/tensorflow/lib/python3.10/site-packages/pytz/exceptions.py\": 1680088887.9117246, \"/Users/majerek/miniconda3/envs/tensorflow/lib/python3.10/site-packages/pytz/lazy.py\": 1680088887.9117246, \"/Users/majerek/miniconda3/envs/tensorflow/lib/python3.10/site-packages/pytz/tzinfo.py\": 1680088887.9117246, \"/Users/majerek/miniconda3/envs/tensorflow/lib/python3.10/site-packages/pytz/tzfile.py\": 1680088887.9117246, \"/Users/majerek/miniconda3/envs/tensorflow/lib/python3.10/site-packages/pytz/__init__.py\": 1680088887.9117246, \"/Users/majerek/miniconda3/envs/tensorflow/lib/python3.10/site-packages/pandas/compat/_constants.py\": 1705054592.9615853, \"/Users/majerek/miniconda3/envs/tensorflow/lib/python3.10/site-packages/pandas/compat/compressors.py\": 1705054592.9625435, \"/Users/majerek/miniconda3/envs/tensorflow/lib/python3.10/site-packages/pandas/util/__init__.py\": 1705054593.018104, \"/Users/majerek/miniconda3/envs/tensorflow/lib/python3.10/site-packages/pandas/util/version/__init__.py\": 1705054593.019124, \"/Users/majerek/miniconda3/envs/tensorflow/lib/python3.10/site-packages/pandas/compat/numpy/__init__.py\": 1705054592.9627364, \"/Users/majerek/miniconda3/envs/tensorflow/lib/python3.10/site-packages/pyarrow/_generated_version.py\": 1685387400.1078873, \"/Users/majerek/miniconda3/envs/tensorflow/lib/python3.10/site-packages/cloudpickle/compat.py\": 1682161477.4892178, \"/Users/majerek/miniconda3/envs/tensorflow/lib/python3.10/site-packages/typing_extensions.py\": 1705054579.0442028, \"/Users/majerek/miniconda3/envs/tensorflow/lib/python3.10/site-packages/cloudpickle/cloudpickle.py\": 1682161477.4889076, \"/Users/majerek/miniconda3/envs/tensorflow/lib/python3.10/site-packages/cloudpickle/cloudpickle_fast.py\": 1682161477.4891143, \"/Users/majerek/miniconda3/envs/tensorflow/lib/python3.10/site-packages/cloudpickle/__init__.py\": 1682161477.488692, \"/Users/majerek/miniconda3/envs/tensorflow/lib/python3.10/site-packages/pyarrow/util.py\": 1685387400.2952461, \"/Users/majerek/miniconda3/envs/tensorflow/lib/python3.10/site-packages/pyarrow/lib.cpython-310-darwin.so\": 1685387400.1296148, \"/Users/majerek/miniconda3/envs/tensorflow/lib/python3.10/site-packages/pyarrow/_hdfsio.cpython-310-darwin.so\": 1685387400.1093256, \"/Users/majerek/miniconda3/envs/tensorflow/lib/python3.10/site-packages/pyarrow/filesystem.py\": 1685387400.1184921, \"/Users/majerek/miniconda3/envs/tensorflow/lib/python3.10/site-packages/pyarrow/hdfs.py\": 1685387400.1190372, \"/Users/majerek/miniconda3/envs/tensorflow/lib/python3.10/site-packages/pyarrow/ipc.py\": 1685387400.1198263, \"/Users/majerek/miniconda3/envs/tensorflow/lib/python3.10/site-packages/pyarrow/types.py\": 1685387400.2951276, \"/Users/majerek/miniconda3/envs/tensorflow/lib/python3.10/site-packages/pyarrow/__init__.py\": 1685387400.0899498, \"/Users/majerek/miniconda3/envs/tensorflow/lib/python3.10/site-packages/pandas/compat/pyarrow.py\": 1705054592.9619684, \"/Users/majerek/miniconda3/envs/tensorflow/lib/python3.10/site-packages/pandas/compat/__init__.py\": 1705054592.9621558, \"/Users/majerek/miniconda3/envs/tensorflow/lib/python3.10/site-packages/pandas/_typing.py\": 1705054592.9602826, \"/Users/majerek/miniconda3/envs/tensorflow/lib/python3.10/site-packages/pandas/util/_exceptions.py\": 1705054593.0187109, \"/Users/majerek/miniconda3/envs/tensorflow/lib/python3.10/site-packages/pandas/_config/config.py\": 1705054593.399708, \"/Users/majerek/miniconda3/envs/tensorflow/lib/python3.10/site-packages/pandas/_config/dates.py\": 1705054593.400382, \"/Users/majerek/miniconda3/envs/tensorflow/lib/python3.10/site-packages/pandas/_config/display.py\": 1705054593.400022, \"/Users/majerek/miniconda3/envs/tensorflow/lib/python3.10/site-packages/pandas/_config/__init__.py\": 1705054593.3998663, \"/Users/majerek/miniconda3/envs/tensorflow/lib/python3.10/site-packages/pandas/core/__init__.py\": 1705054592.9698794, \"/Users/majerek/miniconda3/envs/tensorflow/lib/python3.10/site-packages/pandas/core/config_init.py\": 1705054592.965624, \"/Users/majerek/miniconda3/envs/tensorflow/lib/python3.10/site-packages/pandas/_libs/pandas_parser.cpython-310-darwin.so\": 1705054593.3573015, \"/Users/majerek/miniconda3/envs/tensorflow/lib/python3.10/site-packages/pandas/_libs/pandas_datetime.cpython-310-darwin.so\": 1705054593.333496, \"/Users/majerek/miniconda3/envs/tensorflow/lib/python3.10/site-packages/pandas/_libs/tslibs/np_datetime.cpython-310-darwin.so\": 1705054593.3628595, \"/Users/majerek/miniconda3/envs/tensorflow/lib/python3.10/site-packages/pandas/_libs/tslibs/dtypes.cpython-310-darwin.so\": 1705054593.3683164, \"/Users/majerek/miniconda3/envs/tensorflow/lib/python3.10/site-packages/pandas/_libs/tslibs/base.cpython-310-darwin.so\": 1705054593.370751, \"/Users/majerek/miniconda3/envs/tensorflow/lib/python3.10/site-packages/pandas/_libs/tslibs/nattype.cpython-310-darwin.so\": 1705054593.3846624, \"/Users/majerek/miniconda3/envs/tensorflow/lib/python3.10/site-packages/pandas/compat/_optional.py\": 1705054592.9618094, \"/Users/majerek/miniconda3/envs/tensorflow/lib/python3.10/zoneinfo/_tzpath.py\": 1679689198.9091952, \"/Users/majerek/miniconda3/envs/tensorflow/lib/python3.10/zoneinfo/_common.py\": 1679689198.9032152, \"/Users/majerek/miniconda3/envs/tensorflow/lib/python3.10/lib-dynload/_zoneinfo.cpython-310-darwin.so\": 1679689268.2431152, \"/Users/majerek/miniconda3/envs/tensorflow/lib/python3.10/zoneinfo/__init__.py\": 1679689198.8977876, \"/Users/majerek/miniconda3/envs/tensorflow/lib/python3.10/site-packages/pandas/_libs/tslibs/timezones.cpython-310-darwin.so\": 1705054593.3648627, \"/Users/majerek/miniconda3/envs/tensorflow/lib/python3.10/site-packages/pandas/_libs/tslibs/ccalendar.cpython-310-darwin.so\": 1705054593.379504, \"/Users/majerek/miniconda3/envs/tensorflow/lib/python3.10/site-packages/pandas/_config/localization.py\": 1705054593.40023, \"/Users/majerek/miniconda3/envs/tensorflow/lib/python3.10/site-packages/pandas/_libs/tslibs/fields.cpython-310-darwin.so\": 1705054593.3833895, \"/Users/majerek/miniconda3/envs/tensorflow/lib/python3.10/site-packages/pandas/_libs/tslibs/timedeltas.cpython-310-darwin.so\": 1705054593.3941598, \"/Users/majerek/miniconda3/envs/tensorflow/lib/python3.10/site-packages/pandas/_libs/tslibs/tzconversion.cpython-310-darwin.so\": 1705054593.3864198, \"/Users/majerek/miniconda3/envs/tensorflow/lib/python3.10/site-packages/pandas/_libs/tslibs/timestamps.cpython-310-darwin.so\": 1705054593.3785405, \"/Users/majerek/miniconda3/envs/tensorflow/lib/python3.10/site-packages/pandas/_libs/properties.cpython-310-darwin.so\": 1705054593.3305407, \"/Users/majerek/miniconda3/envs/tensorflow/lib/python3.10/site-packages/pandas/_libs/tslibs/offsets.cpython-310-darwin.so\": 1705054593.3911796, \"/Users/majerek/miniconda3/envs/tensorflow/lib/python3.10/site-packages/pandas/_libs/tslibs/strptime.cpython-310-darwin.so\": 1705054593.3702607, \"/Users/majerek/miniconda3/envs/tensorflow/lib/python3.10/site-packages/pandas/_libs/tslibs/parsing.cpython-310-darwin.so\": 1705054593.3730156, \"/Users/majerek/miniconda3/envs/tensorflow/lib/python3.10/site-packages/pandas/_libs/tslibs/conversion.cpython-310-darwin.so\": 1705054593.3816586, \"/Users/majerek/miniconda3/envs/tensorflow/lib/python3.10/site-packages/pandas/_libs/tslibs/period.cpython-310-darwin.so\": 1705054593.367204, \"/Users/majerek/miniconda3/envs/tensorflow/lib/python3.10/site-packages/pandas/_libs/tslibs/vectorized.cpython-310-darwin.so\": 1705054593.3750756, \"/Users/majerek/miniconda3/envs/tensorflow/lib/python3.10/site-packages/pandas/_libs/tslibs/__init__.py\": 1705054593.3790085, \"/Users/majerek/miniconda3/envs/tensorflow/lib/python3.10/site-packages/pandas/_libs/ops_dispatch.cpython-310-darwin.so\": 1705054593.3317826, \"/Users/majerek/miniconda3/envs/tensorflow/lib/python3.10/site-packages/pandas/_libs/missing.cpython-310-darwin.so\": 1705054593.2958205, \"/Users/majerek/miniconda3/envs/tensorflow/lib/python3.10/site-packages/pandas/_libs/hashtable.cpython-310-darwin.so\": 1705054593.3291807, \"/Users/majerek/miniconda3/envs/tensorflow/lib/python3.10/site-packages/pandas/_libs/algos.cpython-310-darwin.so\": 1705054593.3162398, \"/Users/majerek/miniconda3/envs/tensorflow/lib/python3.10/site-packages/pandas/_libs/interval.cpython-310-darwin.so\": 1705054593.3396814, \"/Users/majerek/miniconda3/envs/tensorflow/lib/python3.10/site-packages/pandas/_libs/__init__.py\": 1705054593.320772, \"/Users/majerek/miniconda3/envs/tensorflow/lib/python3.10/site-packages/pandas/core/dtypes/__init__.py\": 1705054592.9883122, \"/Users/majerek/miniconda3/envs/tensorflow/lib/python3.10/site-packages/pandas/_libs/lib.cpython-310-darwin.so\": 1705054593.344907, \"/Users/majerek/miniconda3/envs/tensorflow/lib/python3.10/site-packages/pandas/errors/__init__.py\": 1705054593.3993952, \"/Users/majerek/miniconda3/envs/tensorflow/lib/python3.10/site-packages/pandas/core/dtypes/generic.py\": 1705054592.9882154, \"/Users/majerek/miniconda3/envs/tensorflow/lib/python3.10/site-packages/pandas/core/dtypes/base.py\": 1705054592.989718, \"/Users/majerek/miniconda3/envs/tensorflow/lib/python3.10/site-packages/pandas/core/dtypes/inference.py\": 1705054592.9894607, \"/Users/majerek/miniconda3/envs/tensorflow/lib/python3.10/site-packages/pandas/core/dtypes/dtypes.py\": 1705054592.988761, \"/Users/majerek/miniconda3/envs/tensorflow/lib/python3.10/site-packages/pandas/core/dtypes/common.py\": 1705054592.9892385, \"/Users/majerek/miniconda3/envs/tensorflow/lib/python3.10/site-packages/pandas/core/dtypes/missing.py\": 1705054592.9877787, \"/Users/majerek/miniconda3/envs/tensorflow/lib/python3.10/site-packages/pandas/util/_decorators.py\": 1705054593.018339, \"/Users/majerek/miniconda3/envs/tensorflow/lib/python3.10/site-packages/pandas/io/__init__.py\": 1705054593.0214996, \"/Users/majerek/miniconda3/envs/tensorflow/lib/python3.10/site-packages/pandas/io/_util.py\": 1705054593.02235, \"/Users/majerek/miniconda3/envs/tensorflow/lib/python3.10/site-packages/pandas/core/dtypes/cast.py\": 1705054592.987524, \"/Users/majerek/miniconda3/envs/tensorflow/lib/python3.10/site-packages/pandas/core/dtypes/astype.py\": 1705054592.9871485, \"/Users/majerek/miniconda3/envs/tensorflow/lib/python3.10/site-packages/pandas/core/dtypes/concat.py\": 1705054592.988024, \"/Users/majerek/miniconda3/envs/tensorflow/lib/python3.10/site-packages/pandas/core/array_algos/__init__.py\": 1705054592.9845982, \"/Users/majerek/miniconda3/envs/tensorflow/lib/python3.10/site-packages/pandas/core/common.py\": 1705054592.970396, \"/Users/majerek/miniconda3/envs/tensorflow/lib/python3.10/site-packages/pandas/core/construction.py\": 1705054592.965383, \"/Users/majerek/miniconda3/envs/tensorflow/lib/python3.10/site-packages/pandas/core/array_algos/take.py\": 1705054592.9849875, \"/Users/majerek/miniconda3/envs/tensorflow/lib/python3.10/site-packages/pandas/core/indexers/utils.py\": 1705054592.9767873, \"/Users/majerek/miniconda3/envs/tensorflow/lib/python3.10/site-packages/pandas/core/indexers/__init__.py\": 1705054592.975625, \"/Users/majerek/miniconda3/envs/tensorflow/lib/python3.10/site-packages/pandas/core/algorithms.py\": 1705054592.9643874, \"/Users/majerek/miniconda3/envs/tensorflow/lib/python3.10/site-packages/pandas/util/_validators.py\": 1705054593.0177393, \"/Users/majerek/miniconda3/envs/tensorflow/lib/python3.10/site-packages/pandas/core/missing.py\": 1705054592.9640055, \"/Users/majerek/miniconda3/envs/tensorflow/lib/python3.10/site-packages/pandas/core/roperator.py\": 1705054592.9637074, \"/Users/majerek/miniconda3/envs/tensorflow/lib/python3.10/site-packages/pandas/_libs/ops.cpython-310-darwin.so\": 1705054593.294047, \"/Users/majerek/miniconda3/envs/tensorflow/lib/python3.10/site-packages/pandas/core/computation/__init__.py\": 1705054592.9970512, \"/Users/majerek/miniconda3/envs/tensorflow/lib/python3.10/site-packages/pandas/core/computation/check.py\": 1705054592.9961593, \"/Users/majerek/miniconda3/envs/tensorflow/lib/python3.10/site-packages/pandas/core/computation/expressions.py\": 1705054592.9969614, \"/Users/majerek/miniconda3/envs/tensorflow/lib/python3.10/site-packages/pandas/core/ops/missing.py\": 1705054593.0100782, \"/Users/majerek/miniconda3/envs/tensorflow/lib/python3.10/site-packages/pandas/core/ops/dispatch.py\": 1705054593.0102277, \"/Users/majerek/miniconda3/envs/tensorflow/lib/python3.10/site-packages/pandas/core/ops/invalid.py\": 1705054593.0103796, \"/Users/majerek/miniconda3/envs/tensorflow/lib/python3.10/site-packages/pandas/core/ops/array_ops.py\": 1705054593.0098825, \"/Users/majerek/miniconda3/envs/tensorflow/lib/python3.10/site-packages/pandas/core/ops/common.py\": 1705054593.0110943, \"/Users/majerek/miniconda3/envs/tensorflow/lib/python3.10/site-packages/pandas/core/ops/docstrings.py\": 1705054593.0107372, \"/Users/majerek/miniconda3/envs/tensorflow/lib/python3.10/site-packages/pandas/core/ops/mask_ops.py\": 1705054593.0109243, \"/Users/majerek/miniconda3/envs/tensorflow/lib/python3.10/site-packages/pandas/core/ops/__init__.py\": 1705054593.0105283, \"/Users/majerek/miniconda3/envs/tensorflow/lib/python3.10/site-packages/pandas/core/arraylike.py\": 1705054592.9651299, \"/Users/majerek/miniconda3/envs/tensorflow/lib/python3.10/site-packages/pyarrow/_compute.cpython-310-darwin.so\": 1685387400.0942194, \"/Users/majerek/miniconda3/envs/tensorflow/lib/python3.10/site-packages/pyarrow/_compute_docstrings.py\": 1685387400.0948482, \"/Users/majerek/miniconda3/envs/tensorflow/lib/python3.10/site-packages/pyarrow/vendored/__init__.py\": 1685387400.3771136, \"/Users/majerek/miniconda3/envs/tensorflow/lib/python3.10/site-packages/pyarrow/vendored/docscrape.py\": 1685387400.3772635, \"/Users/majerek/miniconda3/envs/tensorflow/lib/python3.10/site-packages/pyarrow/compute.py\": 1685387400.1174452, \"/Users/majerek/miniconda3/envs/tensorflow/lib/python3.10/site-packages/pandas/core/arrays/_arrow_string_mixins.py\": 1705054593.0031385, \"/Users/majerek/miniconda3/envs/tensorflow/lib/python3.10/site-packages/pandas/compat/numpy/function.py\": 1705054592.9629765, \"/Users/majerek/miniconda3/envs/tensorflow/lib/python3.10/site-packages/pandas/core/array_algos/quantile.py\": 1705054592.9844506, \"/Users/majerek/miniconda3/envs/tensorflow/lib/python3.10/site-packages/pandas/core/sorting.py\": 1705054592.9697518, \"/Users/majerek/miniconda3/envs/tensorflow/lib/python3.10/site-packages/pandas/core/arrays/base.py\": 1705054593.007277, \"/Users/majerek/miniconda3/envs/tensorflow/lib/python3.10/site-packages/pandas/core/nanops.py\": 1705054592.9635572, \"/Users/majerek/miniconda3/envs/tensorflow/lib/python3.10/site-packages/pandas/core/array_algos/masked_accumulations.py\": 1705054592.9842548, \"/Users/majerek/miniconda3/envs/tensorflow/lib/python3.10/site-packages/pandas/core/array_algos/masked_reductions.py\": 1705054592.9847782, \"/Users/majerek/miniconda3/envs/tensorflow/lib/python3.10/site-packages/pandas/core/arrays/masked.py\": 1705054593.005819, \"/Users/majerek/miniconda3/envs/tensorflow/lib/python3.10/site-packages/pandas/_libs/arrays.cpython-310-darwin.so\": 1705054593.2981706, \"/Users/majerek/miniconda3/envs/tensorflow/lib/python3.10/site-packages/pandas/core/arrays/numeric.py\": 1705054593.0063462, \"/Users/majerek/miniconda3/envs/tensorflow/lib/python3.10/site-packages/pandas/core/arrays/floating.py\": 1705054593.0019963, \"/Users/majerek/miniconda3/envs/tensorflow/lib/python3.10/site-packages/pandas/core/arrays/integer.py\": 1705054593.0054724, \"/Users/majerek/miniconda3/envs/tensorflow/lib/python3.10/site-packages/pandas/core/array_algos/transforms.py\": 1705054592.984093, \"/Users/majerek/miniconda3/envs/tensorflow/lib/python3.10/site-packages/pandas/core/arrays/_mixins.py\": 1705054593.007514, \"/Users/majerek/miniconda3/envs/tensorflow/lib/python3.10/site-packages/pandas/core/strings/__init__.py\": 1705054592.9812224, \"/Users/majerek/miniconda3/envs/tensorflow/lib/python3.10/site-packages/pandas/core/strings/base.py\": 1705054592.9814224, \"/Users/majerek/miniconda3/envs/tensorflow/lib/python3.10/site-packages/pandas/core/strings/object_array.py\": 1705054592.9810696, \"/Users/majerek/miniconda3/envs/tensorflow/lib/python3.10/site-packages/pandas/core/arrays/numpy_.py\": 1705054593.0045662, \"/Users/majerek/miniconda3/envs/tensorflow/lib/python3.10/site-packages/pandas/core/arrays/string_.py\": 1705054593.0041826, \"/Users/majerek/miniconda3/envs/tensorflow/lib/python3.10/site-packages/pandas/tseries/__init__.py\": 1705054593.036064, \"/Users/majerek/miniconda3/envs/tensorflow/lib/python3.10/site-packages/pandas/tseries/frequencies.py\": 1705054593.0365767, \"/Users/majerek/miniconda3/envs/tensorflow/lib/python3.10/site-packages/pandas/core/arrays/arrow/array.py\": 1705054593.0085318, \"/Users/majerek/miniconda3/envs/tensorflow/lib/python3.10/site-packages/pandas/core/arrays/arrow/__init__.py\": 1705054593.0078762, \"/Users/majerek/miniconda3/envs/tensorflow/lib/python3.10/site-packages/pandas/core/arrays/boolean.py\": 1705054593.0052557, \"/Users/majerek/miniconda3/envs/tensorflow/lib/python3.10/site-packages/pandas/core/accessor.py\": 1705054592.9632394, \"/Users/majerek/miniconda3/envs/tensorflow/lib/python3.10/site-packages/pandas/core/base.py\": 1705054592.9750166, \"/Users/majerek/miniconda3/envs/tensorflow/lib/python3.10/site-packages/pandas/io/formats/__init__.py\": 1705054593.02763, \"/Users/majerek/miniconda3/envs/tensorflow/lib/python3.10/site-packages/pandas/io/formats/console.py\": 1705054593.026237, \"/Users/majerek/miniconda3/envs/tensorflow/lib/python3.10/site-packages/pandas/core/arrays/categorical.py\": 1705054593.0025682, \"/Users/majerek/miniconda3/envs/tensorflow/lib/python3.10/site-packages/pandas/_libs/tslib.cpython-310-darwin.so\": 1705054593.3189654, \"/Users/majerek/miniconda3/envs/tensorflow/lib/python3.10/site-packages/pandas/core/array_algos/datetimelike_accumulations.py\": 1705054592.985155, \"/Users/majerek/miniconda3/envs/tensorflow/lib/python3.10/site-packages/pandas/core/arrays/datetimelike.py\": 1705054593.0068052, \"/Users/majerek/miniconda3/envs/tensorflow/lib/python3.10/site-packages/pandas/core/arrays/_ranges.py\": 1705054593.0047762, \"/Users/majerek/miniconda3/envs/tensorflow/lib/python3.10/site-packages/pandas/tseries/offsets.py\": 1705054593.0363567, \"/Users/majerek/miniconda3/envs/tensorflow/lib/python3.10/site-packages/pandas/core/arrays/datetimes.py\": 1705054593.003916, \"/Users/majerek/miniconda3/envs/tensorflow/lib/python3.10/site-packages/pandas/core/arrays/timedeltas.py\": 1705054593.0034308, \"/Users/majerek/miniconda3/envs/tensorflow/lib/python3.10/site-packages/pandas/core/arrays/interval.py\": 1705054593.0029676, \"/Users/majerek/miniconda3/envs/tensorflow/lib/python3.10/site-packages/pandas/core/arrays/period.py\": 1705054593.006129, \"/Users/majerek/miniconda3/envs/tensorflow/lib/python3.10/site-packages/pandas/_libs/sparse.cpython-310-darwin.so\": 1705054593.3019116, \"/Users/majerek/miniconda3/envs/tensorflow/lib/python3.10/site-packages/pandas/io/formats/printing.py\": 1705054593.030303, \"/Users/majerek/miniconda3/envs/tensorflow/lib/python3.10/site-packages/pandas/core/arrays/sparse/array.py\": 1705054593.0096056, \"/Users/majerek/miniconda3/envs/tensorflow/lib/python3.10/site-packages/pandas/core/arrays/sparse/accessor.py\": 1705054593.0088491, \"/Users/majerek/miniconda3/envs/tensorflow/lib/python3.10/site-packages/pandas/core/arrays/sparse/__init__.py\": 1705054593.0092256, \"/Users/majerek/miniconda3/envs/tensorflow/lib/python3.10/site-packages/pandas/core/arrays/arrow/_arrow_utils.py\": 1705054593.0077283, \"/Users/majerek/miniconda3/envs/tensorflow/lib/python3.10/site-packages/pandas/core/arrays/string_arrow.py\": 1705054593.0049987, \"/Users/majerek/miniconda3/envs/tensorflow/lib/python3.10/site-packages/pandas/core/arrays/__init__.py\": 1705054593.0043492, \"/Users/majerek/miniconda3/envs/tensorflow/lib/python3.10/site-packages/pandas/core/flags.py\": 1705054592.965786, \"/Users/majerek/miniconda3/envs/tensorflow/lib/python3.10/site-packages/pandas/core/apply.py\": 1705054592.9753983, \"/Users/majerek/miniconda3/envs/tensorflow/lib/python3.10/site-packages/pandas/_libs/indexing.cpython-310-darwin.so\": 1705054593.2945828, \"/Users/majerek/miniconda3/envs/tensorflow/lib/python3.10/site-packages/pandas/core/indexes/__init__.py\": 1705054593.013921, \"/Users/majerek/miniconda3/envs/tensorflow/lib/python3.10/site-packages/pandas/_libs/index.cpython-310-darwin.so\": 1705054593.3076906, \"/Users/majerek/miniconda3/envs/tensorflow/lib/python3.10/site-packages/pandas/_libs/internals.cpython-310-darwin.so\": 1705054593.3568215, \"/Users/majerek/miniconda3/envs/tensorflow/lib/python3.10/site-packages/pandas/_libs/join.cpython-310-darwin.so\": 1705054593.3535976, \"/Users/majerek/miniconda3/envs/tensorflow/lib/python3.10/site-packages/pandas/core/array_algos/putmask.py\": 1705054592.9853432, \"/Users/majerek/miniconda3/envs/tensorflow/lib/python3.10/site-packages/pandas/core/indexes/frozen.py\": 1705054593.014581, \"/Users/majerek/miniconda3/envs/tensorflow/lib/python3.10/site-packages/pandas/core/strings/accessor.py\": 1705054592.9807892, \"/Users/majerek/miniconda3/envs/tensorflow/lib/python3.10/site-packages/pandas/core/indexes/base.py\": 1705054593.016144, \"/Users/majerek/miniconda3/envs/tensorflow/lib/python3.10/site-packages/pandas/core/indexes/extension.py\": 1705054593.014776, \"/Users/majerek/miniconda3/envs/tensorflow/lib/python3.10/site-packages/pandas/core/indexes/category.py\": 1705054593.017196, \"/Users/majerek/miniconda3/envs/tensorflow/lib/python3.10/site-packages/pandas/core/indexes/range.py\": 1705054593.0127485, \"/Users/majerek/miniconda3/envs/tensorflow/lib/python3.10/site-packages/pandas/core/tools/__init__.py\": 1705054592.982116, \"/Users/majerek/miniconda3/envs/tensorflow/lib/python3.10/site-packages/pandas/core/tools/timedeltas.py\": 1705054592.9816859, \"/Users/majerek/miniconda3/envs/tensorflow/lib/python3.10/site-packages/pandas/core/indexes/datetimelike.py\": 1705054593.0150442, \"/Users/majerek/miniconda3/envs/tensorflow/lib/python3.10/site-packages/pandas/core/tools/times.py\": 1705054592.9823272, \"/Users/majerek/miniconda3/envs/tensorflow/lib/python3.10/site-packages/pandas/core/indexes/datetimes.py\": 1705054593.0131116, \"/Users/majerek/miniconda3/envs/tensorflow/lib/python3.10/site-packages/pandas/core/indexes/multi.py\": 1705054593.0137928, \"/Users/majerek/miniconda3/envs/tensorflow/lib/python3.10/site-packages/pandas/core/indexes/timedeltas.py\": 1705054593.012209, \"/Users/majerek/miniconda3/envs/tensorflow/lib/python3.10/site-packages/pandas/core/indexes/interval.py\": 1705054593.0119717, \"/Users/majerek/miniconda3/envs/tensorflow/lib/python3.10/site-packages/pandas/core/indexes/period.py\": 1705054593.0144067, \"/Users/majerek/miniconda3/envs/tensorflow/lib/python3.10/site-packages/pandas/core/indexes/api.py\": 1705054593.014176, \"/Users/majerek/miniconda3/envs/tensorflow/lib/python3.10/site-packages/pandas/core/indexing.py\": 1705054592.9745464, \"/Users/majerek/miniconda3/envs/tensorflow/lib/python3.10/site-packages/pandas/core/sample.py\": 1705054592.9737647, \"/Users/majerek/miniconda3/envs/tensorflow/lib/python3.10/site-packages/pandas/core/array_algos/replace.py\": 1705054592.9855192, \"/Users/majerek/miniconda3/envs/tensorflow/lib/python3.10/site-packages/pandas/_libs/writers.cpython-310-darwin.so\": 1705054593.3330183, \"/Users/majerek/miniconda3/envs/tensorflow/lib/python3.10/site-packages/pandas/core/internals/blocks.py\": 1705054592.9944942, \"/Users/majerek/miniconda3/envs/tensorflow/lib/python3.10/site-packages/pandas/core/internals/api.py\": 1705054592.993838, \"/Users/majerek/miniconda3/envs/tensorflow/lib/python3.10/site-packages/pandas/core/internals/base.py\": 1705054592.9951932, \"/Users/majerek/miniconda3/envs/tensorflow/lib/python3.10/site-packages/pandas/core/internals/ops.py\": 1705054592.9940302, \"/Users/majerek/miniconda3/envs/tensorflow/lib/python3.10/site-packages/pandas/core/internals/managers.py\": 1705054592.9957373, \"/Users/majerek/miniconda3/envs/tensorflow/lib/python3.10/site-packages/pandas/core/internals/array_manager.py\": 1705054592.9936507, \"/Users/majerek/miniconda3/envs/tensorflow/lib/python3.10/site-packages/pandas/core/internals/concat.py\": 1705054592.9929135, \"/Users/majerek/miniconda3/envs/tensorflow/lib/python3.10/site-packages/pandas/core/internals/__init__.py\": 1705054592.9933455, \"/Users/majerek/miniconda3/envs/tensorflow/lib/python3.10/site-packages/pandas/core/internals/construction.py\": 1705054592.9931912, \"/Users/majerek/miniconda3/envs/tensorflow/lib/python3.10/site-packages/pandas/core/methods/__init__.py\": 1705054592.9829233, \"/Users/majerek/miniconda3/envs/tensorflow/lib/python3.10/site-packages/pandas/core/reshape/__init__.py\": 1705054592.9795344, \"/Users/majerek/miniconda3/envs/tensorflow/lib/python3.10/site-packages/pandas/core/reshape/concat.py\": 1705054592.9789681, \"/Users/majerek/miniconda3/envs/tensorflow/lib/python3.10/lib-dynload/mmap.cpython-310-darwin.so\": 1679689255.754264, \"/Users/majerek/miniconda3/envs/tensorflow/lib/python3.10/lib-dynload/grp.cpython-310-darwin.so\": 1679689249.8651614, \"/Users/majerek/miniconda3/envs/tensorflow/lib/python3.10/tarfile.py\": 1679689194.697361, \"/Users/majerek/miniconda3/envs/tensorflow/lib/python3.10/site-packages/pandas/core/shared_docs.py\": 1705054592.973538, \"/Users/majerek/miniconda3/envs/tensorflow/lib/python3.10/site-packages/pandas/io/common.py\": 1705054593.0221925, \"/Users/majerek/miniconda3/envs/tensorflow/lib/python3.10/site-packages/pandas/io/formats/format.py\": 1705054593.0280683, \"/Users/majerek/miniconda3/envs/tensorflow/lib/python3.10/site-packages/pandas/core/methods/describe.py\": 1705054592.9828331, \"/Users/majerek/miniconda3/envs/tensorflow/lib/python3.10/site-packages/pandas/_libs/window/__init__.py\": 1705054593.3612945, \"/Users/majerek/miniconda3/envs/tensorflow/lib/python3.10/site-packages/pandas/_libs/window/aggregations.cpython-310-darwin.so\": 1705054593.3611562, \"/Users/majerek/miniconda3/envs/tensorflow/lib/python3.10/site-packages/pandas/_libs/window/indexers.cpython-310-darwin.so\": 1705054593.359175, \"/Users/majerek/miniconda3/envs/tensorflow/lib/python3.10/site-packages/pandas/core/indexers/objects.py\": 1705054592.9770603, \"/Users/majerek/miniconda3/envs/tensorflow/lib/python3.10/site-packages/pandas/core/util/__init__.py\": 1705054592.9834888, \"/Users/majerek/miniconda3/envs/tensorflow/lib/python3.10/site-packages/pandas/core/util/numba_.py\": 1705054592.9838839, \"/Users/majerek/miniconda3/envs/tensorflow/lib/python3.10/site-packages/pandas/core/window/common.py\": 1705054593.001104, \"/Users/majerek/miniconda3/envs/tensorflow/lib/python3.10/site-packages/pandas/core/window/doc.py\": 1705054593.0013025, \"/Users/majerek/miniconda3/envs/tensorflow/lib/python3.10/site-packages/pandas/core/window/numba_.py\": 1705054593.0015123, \"/Users/majerek/miniconda3/envs/tensorflow/lib/python3.10/site-packages/pandas/core/window/online.py\": 1705054593.0003057, \"/Users/majerek/miniconda3/envs/tensorflow/lib/python3.10/site-packages/pandas/core/_numba/__init__.py\": 1705054592.9985142, \"/Users/majerek/miniconda3/envs/tensorflow/lib/python3.10/site-packages/pandas/core/_numba/executor.py\": 1705054592.9987268, \"/Users/majerek/miniconda3/envs/tensorflow/lib/python3.10/site-packages/pandas/core/window/rolling.py\": 1705054593.0008886, \"/Users/majerek/miniconda3/envs/tensorflow/lib/python3.10/site-packages/pandas/core/window/ewm.py\": 1705054593.000142, \"/Users/majerek/miniconda3/envs/tensorflow/lib/python3.10/site-packages/pandas/core/window/expanding.py\": 1705054593.0017476, \"/Users/majerek/miniconda3/envs/tensorflow/lib/python3.10/site-packages/pandas/core/window/__init__.py\": 1705054593.000444, \"/Users/majerek/miniconda3/envs/tensorflow/lib/python3.10/site-packages/pandas/core/generic.py\": 1705054592.967609, \"/Users/majerek/miniconda3/envs/tensorflow/lib/python3.10/site-packages/pandas/core/methods/selectn.py\": 1705054592.983152, \"/Users/majerek/miniconda3/envs/tensorflow/lib/python3.10/site-packages/pandas/core/reshape/util.py\": 1705054592.9791422, \"/Users/majerek/miniconda3/envs/tensorflow/lib/python3.10/site-packages/pandas/core/tools/numeric.py\": 1705054592.982555, \"/Users/majerek/miniconda3/envs/tensorflow/lib/python3.10/site-packages/pandas/core/reshape/melt.py\": 1705054592.9799361, \"/Users/majerek/miniconda3/envs/tensorflow/lib/python3.10/site-packages/pandas/_libs/reshape.cpython-310-darwin.so\": 1705054593.341047, \"/Users/majerek/miniconda3/envs/tensorflow/lib/python3.10/site-packages/pandas/core/indexes/accessors.py\": 1705054593.0116725, \"/Users/majerek/miniconda3/envs/tensorflow/lib/python3.10/site-packages/pandas/arrays/__init__.py\": 1705054593.3979466, \"/Users/majerek/miniconda3/envs/tensorflow/lib/python3.10/site-packages/pandas/core/tools/datetimes.py\": 1705054592.9820182, \"/Users/majerek/miniconda3/envs/tensorflow/lib/python3.10/site-packages/pandas/io/formats/info.py\": 1705054593.0300333, \"/Users/majerek/miniconda3/envs/tensorflow/lib/python3.10/site-packages/pandas/plotting/_core.py\": 1705054593.3948603, \"/Users/majerek/miniconda3/envs/tensorflow/lib/python3.10/site-packages/pandas/plotting/_misc.py\": 1705054593.3951223, \"/Users/majerek/miniconda3/envs/tensorflow/lib/python3.10/site-packages/pandas/plotting/__init__.py\": 1705054593.3944557, \"/Users/majerek/miniconda3/envs/tensorflow/lib/python3.10/site-packages/pandas/core/series.py\": 1705054592.969413, \"/Users/majerek/miniconda3/envs/tensorflow/lib/python3.10/site-packages/pandas/core/frame.py\": 1705054592.9731328, \"/Users/majerek/miniconda3/envs/tensorflow/lib/python3.10/site-packages/pandas/core/groupby/base.py\": 1705054592.992643, \"/Users/majerek/miniconda3/envs/tensorflow/lib/python3.10/site-packages/pandas/_libs/groupby.cpython-310-darwin.so\": 1705054593.2887053, \"/Users/majerek/miniconda3/envs/tensorflow/lib/python3.10/site-packages/pandas/core/groupby/categorical.py\": 1705054592.9899335, \"/Users/majerek/miniconda3/envs/tensorflow/lib/python3.10/site-packages/pandas/core/groupby/grouper.py\": 1705054592.9912183, \"/Users/majerek/miniconda3/envs/tensorflow/lib/python3.10/site-packages/pandas/core/groupby/ops.py\": 1705054592.990918, \"/Users/majerek/miniconda3/envs/tensorflow/lib/python3.10/site-packages/pandas/core/groupby/numba_.py\": 1705054592.992473, \"/Users/majerek/miniconda3/envs/tensorflow/lib/python3.10/site-packages/pandas/core/groupby/indexing.py\": 1705054592.9914498, \"/Users/majerek/miniconda3/envs/tensorflow/lib/python3.10/site-packages/pandas/core/groupby/groupby.py\": 1705054592.992242, \"/Users/majerek/miniconda3/envs/tensorflow/lib/python3.10/site-packages/pandas/core/groupby/generic.py\": 1705054592.9904468, \"/Users/majerek/miniconda3/envs/tensorflow/lib/python3.10/site-packages/pandas/core/groupby/__init__.py\": 1705054592.9906268, \"/Users/majerek/miniconda3/envs/tensorflow/lib/python3.10/site-packages/pandas/core/api.py\": 1705054592.9701023, \"/Users/majerek/miniconda3/envs/tensorflow/lib/python3.10/site-packages/pandas/tseries/api.py\": 1705054593.036208, \"/Users/majerek/miniconda3/envs/tensorflow/lib/python3.10/site-packages/pandas/core/computation/common.py\": 1705054592.9976206, \"/Users/majerek/miniconda3/envs/tensorflow/lib/python3.10/site-packages/pandas/core/computation/align.py\": 1705054592.996358, \"/Users/majerek/miniconda3/envs/tensorflow/lib/python3.10/site-packages/pandas/core/computation/scope.py\": 1705054592.9981184, \"/Users/majerek/miniconda3/envs/tensorflow/lib/python3.10/site-packages/pandas/core/computation/ops.py\": 1705054592.9974666, \"/Users/majerek/miniconda3/envs/tensorflow/lib/python3.10/site-packages/pandas/core/computation/engines.py\": 1705054592.9967563, \"/Users/majerek/miniconda3/envs/tensorflow/lib/python3.10/site-packages/pandas/core/computation/parsing.py\": 1705054592.996004, \"/Users/majerek/miniconda3/envs/tensorflow/lib/python3.10/site-packages/pandas/core/computation/expr.py\": 1705054592.9983802, \"/Users/majerek/miniconda3/envs/tensorflow/lib/python3.10/site-packages/pandas/core/computation/eval.py\": 1705054592.9978857, \"/Users/majerek/miniconda3/envs/tensorflow/lib/python3.10/site-packages/pandas/core/computation/api.py\": 1705054592.9972122, \"/Users/majerek/miniconda3/envs/tensorflow/lib/python3.10/site-packages/pandas/core/reshape/encoding.py\": 1705054592.9784572, \"/Users/majerek/miniconda3/envs/tensorflow/lib/python3.10/site-packages/pandas/core/reshape/merge.py\": 1705054592.9779706, \"/Users/majerek/miniconda3/envs/tensorflow/lib/python3.10/site-packages/pandas/core/reshape/pivot.py\": 1705054592.9801912, \"/Users/majerek/miniconda3/envs/tensorflow/lib/python3.10/site-packages/pandas/core/reshape/tile.py\": 1705054592.9774582, \"/Users/majerek/miniconda3/envs/tensorflow/lib/python3.10/site-packages/pandas/core/reshape/api.py\": 1705054592.9797058, \"/Users/majerek/miniconda3/envs/tensorflow/lib/python3.10/site-packages/pandas/api/extensions/__init__.py\": 1705054593.398911, \"/Users/majerek/miniconda3/envs/tensorflow/lib/python3.10/site-packages/pandas/api/indexers/__init__.py\": 1705054593.398348, \"/Users/majerek/miniconda3/envs/tensorflow/lib/python3.10/site-packages/pandas/core/interchange/__init__.py\": 1705054592.9860332, \"/Users/majerek/miniconda3/envs/tensorflow/lib/python3.10/site-packages/pandas/core/interchange/dataframe_protocol.py\": 1705054592.986307, \"/Users/majerek/miniconda3/envs/tensorflow/lib/python3.10/site-packages/pandas/core/interchange/utils.py\": 1705054592.9864757, \"/Users/majerek/miniconda3/envs/tensorflow/lib/python3.10/site-packages/pandas/core/interchange/from_dataframe.py\": 1705054592.9857824, \"/Users/majerek/miniconda3/envs/tensorflow/lib/python3.10/site-packages/pandas/api/interchange/__init__.py\": 1705054593.3987215, \"/Users/majerek/miniconda3/envs/tensorflow/lib/python3.10/site-packages/pandas/core/dtypes/api.py\": 1705054592.988946, \"/Users/majerek/miniconda3/envs/tensorflow/lib/python3.10/site-packages/pandas/api/types/__init__.py\": 1705054593.3985362, \"/Users/majerek/miniconda3/envs/tensorflow/lib/python3.10/site-packages/pandas/core/resample.py\": 1705054592.9648697, \"/Users/majerek/miniconda3/envs/tensorflow/lib/python3.10/site-packages/pandas/_libs/json.cpython-310-darwin.so\": 1705054593.3203874, \"/Users/majerek/miniconda3/envs/tensorflow/lib/python3.10/site-packages/pandas/io/json/_normalize.py\": 1705054593.034076, \"/Users/majerek/miniconda3/envs/tensorflow/lib/python3.10/site-packages/pandas/io/json/_table_schema.py\": 1705054593.0343168, \"/Users/majerek/miniconda3/envs/tensorflow/lib/python3.10/site-packages/pandas/_libs/parsers.cpython-310-darwin.so\": 1705054593.2921486, \"/Users/majerek/miniconda3/envs/tensorflow/lib/python3.10/site-packages/pandas/io/parsers/base_parser.py\": 1705054593.0255685, \"/Users/majerek/miniconda3/envs/tensorflow/lib/python3.10/site-packages/pandas/io/parsers/arrow_parser_wrapper.py\": 1705054593.0257924, \"/Users/majerek/miniconda3/envs/tensorflow/lib/python3.10/site-packages/pandas/io/parsers/c_parser_wrapper.py\": 1705054593.0260386, \"/Users/majerek/miniconda3/envs/tensorflow/lib/python3.10/site-packages/pandas/io/parsers/python_parser.py\": 1705054593.0252423, \"/Users/majerek/miniconda3/envs/tensorflow/lib/python3.10/site-packages/pandas/io/parsers/readers.py\": 1705054593.0247478, \"/Users/majerek/miniconda3/envs/tensorflow/lib/python3.10/site-packages/pandas/io/parsers/__init__.py\": 1705054593.0249188, \"/Users/majerek/miniconda3/envs/tensorflow/lib/python3.10/site-packages/pandas/io/json/_json.py\": 1705054593.0338368, \"/Users/majerek/miniconda3/envs/tensorflow/lib/python3.10/site-packages/pandas/io/json/__init__.py\": 1705054593.0344796, \"/Users/majerek/miniconda3/envs/tensorflow/lib/python3.10/site-packages/pandas/io/stata.py\": 1705054593.0238576, \"/Users/majerek/miniconda3/envs/tensorflow/lib/python3.10/site-packages/pandas/api/typing/__init__.py\": 1705054593.399105, \"/Users/majerek/miniconda3/envs/tensorflow/lib/python3.10/site-packages/pandas/api/__init__.py\": 1705054593.3981524, \"/Users/majerek/miniconda3/envs/tensorflow/lib/python3.10/site-packages/pandas/_testing/contexts.py\": 1705054593.2810562, \"/Users/majerek/miniconda3/envs/tensorflow/lib/python3.10/site-packages/pandas/_testing/_io.py\": 1705054593.2758596, \"/Users/majerek/miniconda3/envs/tensorflow/lib/python3.10/site-packages/pandas/_testing/_warnings.py\": 1705054593.2805371, \"/Users/majerek/miniconda3/envs/tensorflow/lib/python3.10/lib-dynload/cmath.cpython-310-darwin.so\": 1679689257.706036, \"/Users/majerek/miniconda3/envs/tensorflow/lib/python3.10/site-packages/pandas/_libs/testing.cpython-310-darwin.so\": 1705054593.354804, \"/Users/majerek/miniconda3/envs/tensorflow/lib/python3.10/site-packages/pandas/_testing/asserters.py\": 1705054593.2808454, \"/Users/majerek/miniconda3/envs/tensorflow/lib/python3.10/site-packages/pandas/_testing/compat.py\": 1705054593.2756064, \"/Users/majerek/miniconda3/envs/tensorflow/lib/python3.10/site-packages/pandas/_testing/__init__.py\": 1705054593.2799175, \"/Users/majerek/miniconda3/envs/tensorflow/lib/python3.10/site-packages/pandas/testing.py\": 1705054592.961382, \"/Users/majerek/miniconda3/envs/tensorflow/lib/python3.10/site-packages/pandas/util/_print_versions.py\": 1705054593.0179448, \"/Users/majerek/miniconda3/envs/tensorflow/lib/python3.10/site-packages/pandas/io/clipboards.py\": 1705054593.021703, \"/Users/majerek/miniconda3/envs/tensorflow/lib/python3.10/site-packages/pandas/io/excel/_util.py\": 1705054593.0330207, \"/Users/majerek/miniconda3/envs/tensorflow/lib/python3.10/site-packages/pandas/io/excel/_odfreader.py\": 1705054593.0332382, \"/Users/majerek/miniconda3/envs/tensorflow/lib/python3.10/site-packages/pandas/io/excel/_openpyxl.py\": 1705054593.0316923, \"/Users/majerek/miniconda3/envs/tensorflow/lib/python3.10/site-packages/pandas/io/excel/_pyxlsb.py\": 1705054593.0325844, \"/Users/majerek/miniconda3/envs/tensorflow/lib/python3.10/site-packages/pandas/io/excel/_xlrd.py\": 1705054593.0322516, \"/Users/majerek/miniconda3/envs/tensorflow/lib/python3.10/site-packages/pandas/io/excel/_base.py\": 1705054593.0320637, \"/Users/majerek/miniconda3/envs/tensorflow/lib/python3.10/site-packages/pandas/io/excel/_odswriter.py\": 1705054593.0328088, \"/Users/majerek/miniconda3/envs/tensorflow/lib/python3.10/site-packages/pandas/io/excel/_xlsxwriter.py\": 1705054593.033471, \"/Users/majerek/miniconda3/envs/tensorflow/lib/python3.10/site-packages/pandas/io/excel/__init__.py\": 1705054593.0323956, \"/Users/majerek/miniconda3/envs/tensorflow/lib/python3.10/site-packages/pandas/io/feather_format.py\": 1705054593.0196087, \"/Users/majerek/miniconda3/envs/tensorflow/lib/python3.10/site-packages/pandas/io/gbq.py\": 1705054593.0241048, \"/Users/majerek/miniconda3/envs/tensorflow/lib/python3.10/site-packages/pandas/io/html.py\": 1705054593.0210457, \"/Users/majerek/miniconda3/envs/tensorflow/lib/python3.10/site-packages/pandas/io/orc.py\": 1705054593.0194094, \"/Users/majerek/miniconda3/envs/tensorflow/lib/python3.10/site-packages/pandas/io/parquet.py\": 1705054593.0198653, \"/Users/majerek/miniconda3/envs/tensorflow/lib/python3.10/site-packages/pandas/compat/pickle_compat.py\": 1705054592.9623804, \"/Users/majerek/miniconda3/envs/tensorflow/lib/python3.10/site-packages/pandas/io/pickle.py\": 1705054593.0225525, \"/Users/majerek/miniconda3/envs/tensorflow/lib/python3.10/site-packages/pandas/core/computation/pytables.py\": 1705054592.9965887, \"/Users/majerek/miniconda3/envs/tensorflow/lib/python3.10/site-packages/pandas/io/pytables.py\": 1705054593.0206828, \"/Users/majerek/miniconda3/envs/tensorflow/lib/python3.10/site-packages/pandas/io/sas/sasreader.py\": 1705054593.0351763, \"/Users/majerek/miniconda3/envs/tensorflow/lib/python3.10/site-packages/pandas/io/sas/__init__.py\": 1705054593.0353222, \"/Users/majerek/miniconda3/envs/tensorflow/lib/python3.10/site-packages/pandas/io/spss.py\": 1705054593.0242765, \"/Users/majerek/miniconda3/envs/tensorflow/lib/python3.10/site-packages/pandas/io/sql.py\": 1705054593.0229962, \"/Users/majerek/miniconda3/envs/tensorflow/lib/python3.10/site-packages/pandas/io/xml.py\": 1705054593.0213459, \"/Users/majerek/miniconda3/envs/tensorflow/lib/python3.10/site-packages/pandas/io/api.py\": 1705054593.021878, \"/Users/majerek/miniconda3/envs/tensorflow/lib/python3.10/site-packages/pandas/util/_tester.py\": 1705054593.018861, \"/Users/majerek/miniconda3/envs/tensorflow/lib/python3.10/site-packages/pandas/_version_meson.py\": 1705054592.961233, \"/Users/majerek/miniconda3/envs/tensorflow/lib/python3.10/site-packages/pandas/__init__.py\": 1705054592.9610868}\n"
     ]
    }
   ],
   "source": [
    "\n",
    "# imports\n",
    "import os\n",
    "import sys\n",
    "import types\n",
    "import json\n",
    "\n",
    "# figure size/format\n",
    "fig_width = 7\n",
    "fig_height = 5\n",
    "fig_format = 'retina'\n",
    "fig_dpi = 96\n",
    "interactivity = ''\n",
    "is_shiny = False\n",
    "is_dashboard = False\n",
    "plotly_connected = True\n",
    "\n",
    "# matplotlib defaults / format\n",
    "try:\n",
    "  import matplotlib.pyplot as plt\n",
    "  plt.rcParams['figure.figsize'] = (fig_width, fig_height)\n",
    "  plt.rcParams['figure.dpi'] = fig_dpi\n",
    "  plt.rcParams['savefig.dpi'] = fig_dpi\n",
    "  from IPython.display import set_matplotlib_formats\n",
    "  set_matplotlib_formats(fig_format)\n",
    "except Exception:\n",
    "  pass\n",
    "\n",
    "# plotly use connected mode\n",
    "try:\n",
    "  import plotly.io as pio\n",
    "  if plotly_connected:\n",
    "    pio.renderers.default = \"notebook_connected\"\n",
    "  else:\n",
    "    pio.renderers.default = \"notebook\"\n",
    "  for template in pio.templates.keys():\n",
    "    pio.templates[template].layout.margin = dict(t=30,r=0,b=0,l=0)\n",
    "except Exception:\n",
    "  pass\n",
    "\n",
    "# disable itables paging for dashboards\n",
    "if is_dashboard:\n",
    "  try:\n",
    "    from itables import options\n",
    "    options.dom = 'fiBrtlp'\n",
    "    options.maxBytes = 1024 * 1024\n",
    "    options.language = dict(info = \"Showing _TOTAL_ entries\")\n",
    "    options.classes = \"display nowrap compact\"\n",
    "    options.paging = False\n",
    "    options.searching = True\n",
    "    options.ordering = True\n",
    "    options.info = True\n",
    "    options.lengthChange = False\n",
    "    options.autoWidth = False\n",
    "    options.responsive = True\n",
    "    options.keys = True\n",
    "    options.buttons = []\n",
    "  except Exception:\n",
    "    pass\n",
    "  \n",
    "  try:\n",
    "    import altair as alt\n",
    "    # By default, dashboards will have container sized\n",
    "    # vega visualizations which allows them to flow reasonably\n",
    "    theme_sentinel = '_quarto-dashboard-internal'\n",
    "    def make_theme(name):\n",
    "        nonTheme = alt.themes._plugins[name]    \n",
    "        def patch_theme(*args, **kwargs):\n",
    "            existingTheme = nonTheme()\n",
    "            if 'height' not in existingTheme:\n",
    "              existingTheme['height'] = 'container'\n",
    "            if 'width' not in existingTheme:\n",
    "              existingTheme['width'] = 'container'\n",
    "\n",
    "            if 'config' not in existingTheme:\n",
    "              existingTheme['config'] = dict()\n",
    "            \n",
    "            # Configure the default font sizes\n",
    "            title_font_size = 15\n",
    "            header_font_size = 13\n",
    "            axis_font_size = 12\n",
    "            legend_font_size = 12\n",
    "            mark_font_size = 12\n",
    "            tooltip = False\n",
    "\n",
    "            config = existingTheme['config']\n",
    "\n",
    "            # The Axis\n",
    "            if 'axis' not in config:\n",
    "              config['axis'] = dict()\n",
    "            axis = config['axis']\n",
    "            if 'labelFontSize' not in axis:\n",
    "              axis['labelFontSize'] = axis_font_size\n",
    "            if 'titleFontSize' not in axis:\n",
    "              axis['titleFontSize'] = axis_font_size  \n",
    "\n",
    "            # The legend\n",
    "            if 'legend' not in config:\n",
    "              config['legend'] = dict()\n",
    "            legend = config['legend']\n",
    "            if 'labelFontSize' not in legend:\n",
    "              legend['labelFontSize'] = legend_font_size\n",
    "            if 'titleFontSize' not in legend:\n",
    "              legend['titleFontSize'] = legend_font_size  \n",
    "\n",
    "            # The header\n",
    "            if 'header' not in config:\n",
    "              config['header'] = dict()\n",
    "            header = config['header']\n",
    "            if 'labelFontSize' not in header:\n",
    "              header['labelFontSize'] = header_font_size\n",
    "            if 'titleFontSize' not in header:\n",
    "              header['titleFontSize'] = header_font_size    \n",
    "\n",
    "            # Title\n",
    "            if 'title' not in config:\n",
    "              config['title'] = dict()\n",
    "            title = config['title']\n",
    "            if 'fontSize' not in title:\n",
    "              title['fontSize'] = title_font_size\n",
    "\n",
    "            # Marks\n",
    "            if 'mark' not in config:\n",
    "              config['mark'] = dict()\n",
    "            mark = config['mark']\n",
    "            if 'fontSize' not in mark:\n",
    "              mark['fontSize'] = mark_font_size\n",
    "\n",
    "            # Mark tooltips\n",
    "            if tooltip and 'tooltip' not in mark:\n",
    "              mark['tooltip'] = dict(content=\"encoding\")\n",
    "\n",
    "            return existingTheme\n",
    "            \n",
    "        return patch_theme\n",
    "\n",
    "    # We can only do this once per session\n",
    "    if theme_sentinel not in alt.themes.names():\n",
    "      for name in alt.themes.names():\n",
    "        alt.themes.register(name, make_theme(name))\n",
    "      \n",
    "      # register a sentinel theme so we only do this once\n",
    "      alt.themes.register(theme_sentinel, make_theme('default'))\n",
    "      alt.themes.enable('default')\n",
    "\n",
    "  except Exception:\n",
    "    pass\n",
    "\n",
    "# enable pandas latex repr when targeting pdfs\n",
    "try:\n",
    "  import pandas as pd\n",
    "  if fig_format == 'pdf':\n",
    "    pd.set_option('display.latex.repr', True)\n",
    "except Exception:\n",
    "  pass\n",
    "\n",
    "# interactivity\n",
    "if interactivity:\n",
    "  from IPython.core.interactiveshell import InteractiveShell\n",
    "  InteractiveShell.ast_node_interactivity = interactivity\n",
    "\n",
    "# NOTE: the kernel_deps code is repeated in the cleanup.py file\n",
    "# (we can't easily share this code b/c of the way it is run).\n",
    "# If you edit this code also edit the same code in cleanup.py!\n",
    "\n",
    "# output kernel dependencies\n",
    "kernel_deps = dict()\n",
    "for module in list(sys.modules.values()):\n",
    "  # Some modules play games with sys.modules (e.g. email/__init__.py\n",
    "  # in the standard library), and occasionally this can cause strange\n",
    "  # failures in getattr.  Just ignore anything that's not an ordinary\n",
    "  # module.\n",
    "  if not isinstance(module, types.ModuleType):\n",
    "    continue\n",
    "  path = getattr(module, \"__file__\", None)\n",
    "  if not path:\n",
    "    continue\n",
    "  if path.endswith(\".pyc\") or path.endswith(\".pyo\"):\n",
    "    path = path[:-1]\n",
    "  if not os.path.exists(path):\n",
    "    continue\n",
    "  kernel_deps[path] = os.stat(path).st_mtime\n",
    "print(json.dumps(kernel_deps))\n",
    "\n",
    "# set run_path if requested\n",
    "if r'/Users/majerek/Desktop/Pollub/wyklady/AMLM':\n",
    "  os.chdir(r'/Users/majerek/Desktop/Pollub/wyklady/AMLM')\n",
    "\n",
    "# reset state\n",
    "%reset\n",
    "\n",
    "# shiny\n",
    "# Checking for shiny by using False directly because we're after the %reset. We don't want\n",
    "# to set a variable that stays in global scope.\n",
    "if False:\n",
    "  try:\n",
    "    import htmltools as _htmltools\n",
    "    import ast as _ast\n",
    "\n",
    "    _htmltools.html_dependency_render_mode = \"json\"\n",
    "\n",
    "    # This decorator will be added to all function definitions\n",
    "    def _display_if_has_repr_html(x):\n",
    "      try:\n",
    "        # IPython 7.14 preferred import\n",
    "        from IPython.display import display, HTML\n",
    "      except:\n",
    "        from IPython.core.display import display, HTML\n",
    "\n",
    "      if hasattr(x, '_repr_html_'):\n",
    "        display(HTML(x._repr_html_()))\n",
    "      return x\n",
    "\n",
    "    # ideally we would undo the call to ast_transformers.append\n",
    "    # at the end of this block whenver an error occurs, we do \n",
    "    # this for now as it will only be a problem if the user \n",
    "    # switches from shiny to not-shiny mode (and even then likely\n",
    "    # won't matter)\n",
    "    import builtins\n",
    "    builtins._display_if_has_repr_html = _display_if_has_repr_html\n",
    "\n",
    "    class _FunctionDefReprHtml(_ast.NodeTransformer):\n",
    "      def visit_FunctionDef(self, node):\n",
    "        node.decorator_list.insert(\n",
    "          0,\n",
    "          _ast.Name(id=\"_display_if_has_repr_html\", ctx=_ast.Load())\n",
    "        )\n",
    "        return node\n",
    "\n",
    "      def visit_AsyncFunctionDef(self, node):\n",
    "        node.decorator_list.insert(\n",
    "          0,\n",
    "          _ast.Name(id=\"_display_if_has_repr_html\", ctx=_ast.Load())\n",
    "        )\n",
    "        return node\n",
    "\n",
    "    ip = get_ipython()\n",
    "    ip.ast_transformers.append(_FunctionDefReprHtml())\n",
    "\n",
    "  except:\n",
    "    pass\n",
    "\n",
    "def ojs_define(**kwargs):\n",
    "  import json\n",
    "  try:\n",
    "    # IPython 7.14 preferred import\n",
    "    from IPython.display import display, HTML\n",
    "  except:\n",
    "    from IPython.core.display import display, HTML\n",
    "\n",
    "  # do some minor magic for convenience when handling pandas\n",
    "  # dataframes\n",
    "  def convert(v):\n",
    "    try:\n",
    "      import pandas as pd\n",
    "    except ModuleNotFoundError: # don't do the magic when pandas is not available\n",
    "      return v\n",
    "    if type(v) == pd.Series:\n",
    "      v = pd.DataFrame(v)\n",
    "    if type(v) == pd.DataFrame:\n",
    "      j = json.loads(v.T.to_json(orient='split'))\n",
    "      return dict((k,v) for (k,v) in zip(j[\"index\"], j[\"data\"]))\n",
    "    else:\n",
    "      return v\n",
    "\n",
    "  v = dict(contents=list(dict(name=key, value=convert(value)) for (key, value) in kwargs.items()))\n",
    "  display(HTML('<script type=\"ojs-define\">' + json.dumps(v) + '</script>'), metadata=dict(ojs_define = True))\n",
    "globals()[\"ojs_define\"] = ojs_define\n"
   ]
  },
  {
   "cell_type": "code",
   "execution_count": 2,
   "id": "892f1ce2",
   "metadata": {},
   "outputs": [],
   "source": [
    "import numpy as np\n",
    "import pandas as pd\n",
    "import matplotlib.pyplot as plt\n",
    "from sklearn.datasets import make_regression\n",
    "from sklearn.model_selection import RepeatedKFold\n",
    "from sklearn.metrics import mean_squared_error, r2_score\n",
    "from sklearn.model_selection import train_test_split\n",
    "from keras.models import Sequential\n",
    "from keras.layers import Dense, Dropout, BatchNormalization, ReLU, LeakyReLU, ELU\n",
    "from keras.callbacks import EarlyStopping\n",
    "import keras"
   ]
  },
  {
   "cell_type": "code",
   "execution_count": 3,
   "id": "5530ed08",
   "metadata": {},
   "outputs": [],
   "source": [
    "# generowanie danych do zadania\n",
    "X, y = make_regression(n_samples=700, n_features=10, n_informative = 8, n_targets=3, random_state=4)\n",
    "\n",
    "X_train, X_test, y_train, y_test = train_test_split(X, y, test_size = 0.3, random_state = 4)\n",
    "\n",
    "n_neurons = [10,20,50]"
   ]
  },
  {
   "cell_type": "code",
   "execution_count": 4,
   "id": "378ff23a",
   "metadata": {},
   "outputs": [],
   "source": [
    "def get_model(n_inputs, n_outputs, n_neurons):\n",
    "  model = Sequential()\n",
    "  model.add(Dense(int(n_neurons), input_dim=n_inputs, activation='relu'))\n",
    "  model.add(Dense(n_outputs, activation='linear'))\n",
    "  model.compile(loss='mse', optimizer='adam')\n",
    "  return model"
   ]
  },
  {
   "cell_type": "code",
   "execution_count": 5,
   "id": "fd007695",
   "metadata": {},
   "outputs": [],
   "source": [
    "# ocena dopasowania modelu z wykorzystaniem CV\n",
    "def evaluate_model(X, y, n_neurons):\n",
    "\tresults = list()\n",
    "\tn_inputs, n_outputs = X.shape[1], y.shape[1]\n",
    "\t# definicja CV\n",
    "\tcv = RepeatedKFold(n_splits=5, random_state=1)\n",
    "\t# pętla po foldach\n",
    "\tfor train_ix, test_ix in cv.split(X):\n",
    "\t\t# przygotowanie danych\n",
    "\t\tX_tr, X_te = X[train_ix], X[test_ix]\n",
    "\t\ty_tr, y_te = y[train_ix], y[test_ix]\n",
    "\t\t# określenie modelu\n",
    "\t\tmodel = get_model(n_inputs, n_outputs, n_neurons)\n",
    "\t\t# dopasowanie modelu\n",
    "\t\tmodel.fit(X_tr, y_tr, verbose=0, epochs=100)\n",
    "\t\t# ocena dopasowania na foldzie testowym\n",
    "\t\tmae = model.evaluate(X_te, y_te, verbose=0)\n",
    "\t\tresults.append(mae)\n",
    "\treturn results"
   ]
  },
  {
   "cell_type": "code",
   "execution_count": 6,
   "id": "71558da5",
   "metadata": {},
   "outputs": [],
   "source": [
    "#| eval: false\n",
    "\n",
    "results = []\n",
    "for i in n_neurons:\n",
    "  # dopasuj i oceń model na zbiorze uczącym\n",
    "  results.append(np.mean(evaluate_model(X_train, y_train, i)))"
   ]
  },
  {
   "cell_type": "code",
   "execution_count": 7,
   "id": "9279d7fb",
   "metadata": {},
   "outputs": [
    {
     "name": "stdout",
     "output_type": "stream",
     "text": [
      "Dla 10 neuronów MAE: 16409\n",
      "Dla 20 neuronów MAE: 9806\n",
      "Dla 50 neuronów MAE: 3779\n"
     ]
    }
   ],
   "source": [
    "results = np.load(\"./data/mlp_eval.npz\")\n",
    "results = results['arr_0'].tolist()\n",
    "for i in range(len(n_neurons)):\n",
    "  print(f\"Dla {n_neurons[i]} neuronów MAE: {results[i]:.0f}\")"
   ]
  },
  {
   "cell_type": "code",
   "execution_count": 8,
   "id": "45d7855a",
   "metadata": {},
   "outputs": [
    {
     "name": "stdout",
     "output_type": "stream",
     "text": [
      "Metal device set to: Apple M1\n"
     ]
    },
    {
     "name": "stderr",
     "output_type": "stream",
     "text": [
      "2024-01-13 21:55:30.408081: W tensorflow/tsl/platform/profile_utils/cpu_utils.cc:128] Failed to get CPU frequency: 0 Hz\n"
     ]
    }
   ],
   "source": [
    "my_callbacks = [\n",
    "    EarlyStopping(patience=2)\n",
    "]\n",
    "\n",
    "model = get_model(X_train.shape[1], y_train.shape[1], 50)\n",
    "history = model.fit(X_train, y_train, \n",
    "                    verbose=0, epochs=1000, \n",
    "                    validation_split=0.2, callbacks=my_callbacks)"
   ]
  },
  {
   "cell_type": "code",
   "execution_count": 9,
   "id": "63a2beb2",
   "metadata": {},
   "outputs": [
    {
     "data": {
      "image/png": "[encoded data removed]",
      "text/plain": [
       "<Figure size 672x480 with 1 Axes>"
      ]
     },
     "metadata": {
      "image/png": {
       "height": 449,
       "width": 610
      }
     },
     "output_type": "display_data"
    }
   ],
   "source": [
    "plt.plot(history.history['loss'])\n",
    "plt.plot(history.history['val_loss'])\n",
    "plt.title('model loss')\n",
    "plt.ylabel('loss')\n",
    "plt.xlabel('epoch')\n",
    "plt.legend(['train', 'validation'], loc='upper left')\n",
    "plt.show()"
   ]
  },
  {
   "cell_type": "code",
   "execution_count": 10,
   "id": "92efde65",
   "metadata": {},
   "outputs": [
    {
     "name": "stdout",
     "output_type": "stream",
     "text": [
      "R2 on test sample: 1.00\n",
      "RMSE on test sample: 5.1\n"
     ]
    }
   ],
   "source": [
    "y_pred = model.predict(X_test, verbose=0)\n",
    "rmse_mlp = mean_squared_error(y_test, y_pred, squared=False)\n",
    "r2_mlp = r2_score(y_test, y_pred)\n",
    "print(f\"R2 on test sample: {r2_mlp:.2f}\")\n",
    "print(f\"RMSE on test sample: {rmse_mlp:.1f}\")"
   ]
  },
  {
   "cell_type": "code",
   "execution_count": 11,
   "id": "8482c3bb",
   "metadata": {},
   "outputs": [],
   "source": [
    "from sklearn.preprocessing import StandardScaler\n",
    "dt = pd.read_csv(\"./data/original.csv\", index_col = \"id\")\n",
    "combinations = dt.loc[:,'EC1':'EC6'].value_counts().index.to_numpy()\n",
    "idx = dt.loc[:,'EC1':'EC6'].value_counts().to_numpy()\n",
    "bad_combinations = combinations[idx<10]\n",
    "idx = []\n",
    "for i in range(len(dt)):\n",
    "  idx.append(True)\n",
    "  for j in range(len(bad_combinations)):\n",
    "    if all(dt.iloc[i, 31:] == bad_combinations[j]):\n",
    "      idx[i]=False\n",
    "\n",
    "dt = dt.iloc[idx,:]\n",
    "\n",
    "y = dt.iloc[:,31:].to_numpy()\n",
    "X = dt.iloc[:,:31].to_numpy()\n",
    "X_train, X_test, y_train, y_test = train_test_split(X, y, test_size = 0.3, random_state = 44)\n",
    "\n",
    "scaler = StandardScaler().fit(X_train)\n",
    "X_test = scaler.transform(X_test)\n",
    "X_train = scaler.transform(X_train)"
   ]
  },
  {
   "cell_type": "code",
   "execution_count": 12,
   "id": "8848f3bf",
   "metadata": {},
   "outputs": [
    {
     "name": "stdout",
     "output_type": "stream",
     "text": [
      "Model: \"sequential_1\"\n"
     ]
    },
    {
     "name": "stdout",
     "output_type": "stream",
     "text": [
      "_________________________________________________________________\n"
     ]
    },
    {
     "name": "stdout",
     "output_type": "stream",
     "text": [
      " Layer (type)                Output Shape              Param #   \n"
     ]
    },
    {
     "name": "stdout",
     "output_type": "stream",
     "text": [
      "=================================================================\n"
     ]
    },
    {
     "name": "stdout",
     "output_type": "stream",
     "text": [
      " dense_2 (Dense)             (None, 15)                480       \n"
     ]
    },
    {
     "name": "stdout",
     "output_type": "stream",
     "text": [
      "                                                                 \n"
     ]
    },
    {
     "name": "stdout",
     "output_type": "stream",
     "text": [
      " re_lu (ReLU)                (None, 15)                0         \n"
     ]
    },
    {
     "name": "stdout",
     "output_type": "stream",
     "text": [
      "                                                                 \n"
     ]
    },
    {
     "name": "stdout",
     "output_type": "stream",
     "text": [
      " dropout (Dropout)           (None, 15)                0         \n"
     ]
    },
    {
     "name": "stdout",
     "output_type": "stream",
     "text": [
      "                                                                 \n"
     ]
    },
    {
     "name": "stdout",
     "output_type": "stream",
     "text": [
      " dense_3 (Dense)             (None, 6)                 96        \n"
     ]
    },
    {
     "name": "stdout",
     "output_type": "stream",
     "text": [
      "                                                                 \n"
     ]
    },
    {
     "name": "stdout",
     "output_type": "stream",
     "text": [
      "=================================================================\n"
     ]
    },
    {
     "name": "stdout",
     "output_type": "stream",
     "text": [
      "Total params: 576\n"
     ]
    },
    {
     "name": "stdout",
     "output_type": "stream",
     "text": [
      "Trainable params: 576\n"
     ]
    },
    {
     "name": "stdout",
     "output_type": "stream",
     "text": [
      "Non-trainable params: 0\n"
     ]
    },
    {
     "name": "stdout",
     "output_type": "stream",
     "text": [
      "_________________________________________________________________\n"
     ]
    }
   ],
   "source": [
    "model = Sequential()\n",
    "model.add(Dense(15, input_dim=X_train.shape[1]))\n",
    "model.add(ReLU())\n",
    "model.add(Dropout(0.2))\n",
    "model.add(Dense(y_train.shape[1], activation='sigmoid'))\n",
    "\n",
    "opt = keras.optimizers.Nadam(0.001)\n",
    "model.compile(loss='binary_crossentropy', optimizer=opt)\n",
    "model.summary()"
   ]
  },
  {
   "cell_type": "code",
   "execution_count": 13,
   "id": "3b9fc7d9",
   "metadata": {},
   "outputs": [
    {
     "name": "stdout",
     "output_type": "stream",
     "text": [
      "Epoch 1/1000\n"
     ]
    },
    {
     "name": "stderr",
     "output_type": "stream",
     "text": [
      "loc(\"mps_select\"(\"(mpsFileLoc): /AppleInternal/Library/BuildRoots/0032d1ee-80fd-11ee-8227-6aecfccc70fe/Library/Caches/com.apple.xbs/Sources/MetalPerformanceShadersGraph/mpsgraph/MetalPerformanceShadersGraph/Core/Files/MPSGraphUtilities.mm\":294:0)): error: 'anec.gain_offset_control' op result #0 must be 4D/5D memref of 16-bit float or 8-bit signed integer or 8-bit unsigned integer values, but got 'memref<1x32x1x15xi1>'\n"
     ]
    },
    {
     "name": "stderr",
     "output_type": "stream",
     "text": [
      "loc(\"mps_select\"(\"(mpsFileLoc): /AppleInternal/Library/BuildRoots/0032d1ee-80fd-11ee-8227-6aecfccc70fe/Library/Caches/com.apple.xbs/Sources/MetalPerformanceShadersGraph/mpsgraph/MetalPerformanceShadersGraph/Core/Files/MPSGraphUtilities.mm\":294:0)): error: 'anec.gain_offset_control' op result #0 must be 4D/5D memref of 16-bit float or 8-bit signed integer or 8-bit unsigned integer values, but got 'memref<1x32x1x6xi1>'\n",
      "loc(\"mps_select\"(\"(mpsFileLoc): /AppleInternal/Library/BuildRoots/0032d1ee-80fd-11ee-8227-6aecfccc70fe/Library/Caches/com.apple.xbs/Sources/MetalPerformanceShadersGraph/mpsgraph/MetalPerformanceShadersGraph/Core/Files/MPSGraphUtilities.mm\":294:0)): error: 'anec.gain_offset_control' op result #0 must be 4D/5D memref of 16-bit float or 8-bit signed integer or 8-bit unsigned integer values, but got 'memref<1x32x1x6xi1>'\n",
      "loc(\"mps_select\"(\"(mpsFileLoc): /AppleInternal/Library/BuildRoots/0032d1ee-80fd-11ee-8227-6aecfccc70fe/Library/Caches/com.apple.xbs/Sources/MetalPerformanceShadersGraph/mpsgraph/MetalPerformanceShadersGraph/Core/Files/MPSGraphUtilities.mm\":294:0)): error: 'anec.gain_offset_control' op result #0 must be 4D/5D memref of 16-bit float or 8-bit signed integer or 8-bit unsigned integer values, but got 'memref<1x32x1x6xi1>'\n",
      "loc(\"mps_select\"(\"(mpsFileLoc): /AppleInternal/Library/BuildRoots/0032d1ee-80fd-11ee-8227-6aecfccc70fe/Library/Caches/com.apple.xbs/Sources/MetalPerformanceShadersGraph/mpsgraph/MetalPerformanceShadersGraph/Core/Files/MPSGraphUtilities.mm\":294:0)): error: 'anec.gain_offset_control' op result #0 must be 4D/5D memref of 16-bit float or 8-bit signed integer or 8-bit unsigned integer values, but got 'memref<1x32x1x6xi1>'\n",
      "loc(\"mps_select\"(\"(mpsFileLoc): /AppleInternal/Library/BuildRoots/0032d1ee-80fd-11ee-8227-6aecfccc70fe/Library/Caches/com.apple.xbs/Sources/MetalPerformanceShadersGraph/mpsgraph/MetalPerformanceShadersGraph/Core/Files/MPSGraphUtilities.mm\":294:0)): error: 'anec.gain_offset_control' op result #0 must be 4D/5D memref of 16-bit float or 8-bit signed integer or 8-bit unsigned integer values, but got 'memref<1x32x1x6xi1>'\n"
     ]
    },
    {
     "name": "stderr",
     "output_type": "stream",
     "text": [
      "loc(\"mps_select\"(\"(mpsFileLoc): /AppleInternal/Library/BuildRoots/0032d1ee-80fd-11ee-8227-6aecfccc70fe/Library/Caches/com.apple.xbs/Sources/MetalPerformanceShadersGraph/mpsgraph/MetalPerformanceShadersGraph/Core/Files/MPSGraphUtilities.mm\":294:0)): error: 'anec.gain_offset_control' op result #0 must be 4D/5D memref of 16-bit float or 8-bit signed integer or 8-bit unsigned integer values, but got 'memref<1x32x1x15xi1>'\n"
     ]
    },
    {
     "name": "stdout",
     "output_type": "stream",
     "text": [
      "\r",
      " 1/12 [=>............................] - ETA: 20s - loss: 0.7379"
     ]
    },
    {
     "name": "stdout",
     "output_type": "stream",
     "text": [
      "\b\b\b\b\b\b\b\b\b\b\b\b\b\b\b\b\b\b\b\b\b\b\b\b\b\b\b\b\b\b\b\b\b\b\b\b\b\b\b\b\b\b\b\b\b\b\b\b\b\b\b\b\b\b\b\b\b\b\b\b\b\b\b\b\r",
      " 5/12 [===========>..................] - ETA: 0s - loss: 0.7970 "
     ]
    },
    {
     "name": "stdout",
     "output_type": "stream",
     "text": [
      "\b\b\b\b\b\b\b\b\b\b\b\b\b\b\b\b\b\b\b\b\b\b\b\b\b\b\b\b\b\b\b\b\b\b\b\b\b\b\b\b\b\b\b\b\b\b\b\b\b\b\b\b\b\b\b\b\b\b\b\b\b\b\b\r",
      "10/12 [========================>.....] - ETA: 0s - loss: 0.7768"
     ]
    },
    {
     "name": "stderr",
     "output_type": "stream",
     "text": [
      "loc(\"mps_select\"(\"(mpsFileLoc): /AppleInternal/Library/BuildRoots/0032d1ee-80fd-11ee-8227-6aecfccc70fe/Library/Caches/com.apple.xbs/Sources/MetalPerformanceShadersGraph/mpsgraph/MetalPerformanceShadersGraph/Core/Files/MPSGraphUtilities.mm\":294:0)): error: 'anec.gain_offset_control' op result #0 must be 4D/5D memref of 16-bit float or 8-bit signed integer or 8-bit unsigned integer values, but got 'memref<1x30x1x15xi1>'\n",
      "loc(\"mps_select\"(\"(mpsFileLoc): /AppleInternal/Library/BuildRoots/0032d1ee-80fd-11ee-8227-6aecfccc70fe/Library/Caches/com.apple.xbs/Sources/MetalPerformanceShadersGraph/mpsgraph/MetalPerformanceShadersGraph/Core/Files/MPSGraphUtilities.mm\":294:0)): error: 'anec.gain_offset_control' op result #0 must be 4D/5D memref of 16-bit float or 8-bit signed integer or 8-bit unsigned integer values, but got 'memref<1x30x1x6xi1>'\n",
      "loc(\"mps_select\"(\"(mpsFileLoc): /AppleInternal/Library/BuildRoots/0032d1ee-80fd-11ee-8227-6aecfccc70fe/Library/Caches/com.apple.xbs/Sources/MetalPerformanceShadersGraph/mpsgraph/MetalPerformanceShadersGraph/Core/Files/MPSGraphUtilities.mm\":294:0)): error: 'anec.gain_offset_control' op result #0 must be 4D/5D memref of 16-bit float or 8-bit signed integer or 8-bit unsigned integer values, but got 'memref<1x30x1x6xi1>'\n",
      "loc(\"mps_select\"(\"(mpsFileLoc): /AppleInternal/Library/BuildRoots/0032d1ee-80fd-11ee-8227-6aecfccc70fe/Library/Caches/com.apple.xbs/Sources/MetalPerformanceShadersGraph/mpsgraph/MetalPerformanceShadersGraph/Core/Files/MPSGraphUtilities.mm\":294:0)): error: 'anec.gain_offset_control' op result #0 must be 4D/5D memref of 16-bit float or 8-bit signed integer or 8-bit unsigned integer values, but got 'memref<1x30x1x6xi1>'\n",
      "loc(\"mps_select\"(\"(mpsFileLoc): /AppleInternal/Library/BuildRoots/0032d1ee-80fd-11ee-8227-6aecfccc70fe/Library/Caches/com.apple.xbs/Sources/MetalPerformanceShadersGraph/mpsgraph/MetalPerformanceShadersGraph/Core/Files/MPSGraphUtilities.mm\":294:0)): error: 'anec.gain_offset_control' op result #0 must be 4D/5D memref of 16-bit float or 8-bit signed integer or 8-bit unsigned integer values, but got 'memref<1x30x1x6xi1>'\n",
      "loc(\"mps_select\"(\"(mpsFileLoc): /AppleInternal/Library/BuildRoots/0032d1ee-80fd-11ee-8227-6aecfccc70fe/Library/Caches/com.apple.xbs/Sources/MetalPerformanceShadersGraph/mpsgraph/MetalPerformanceShadersGraph/Core/Files/MPSGraphUtilities.mm\":294:0)): error: 'anec.gain_offset_control' op result #0 must be 4D/5D memref of 16-bit float or 8-bit signed integer or 8-bit unsigned integer values, but got 'memref<1x30x1x6xi1>'\n",
      "loc(\"mps_select\"(\"(mpsFileLoc): /AppleInternal/Library/BuildRoots/0032d1ee-80fd-11ee-8227-6aecfccc70fe/Library/Caches/com.apple.xbs/Sources/MetalPerformanceShadersGraph/mpsgraph/MetalPerformanceShadersGraph/Core/Files/MPSGraphUtilities.mm\":294:0)): error: 'anec.gain_offset_control' op result #0 must be 4D/5D memref of 16-bit float or 8-bit signed integer or 8-bit unsigned integer values, but got 'memref<1x30x1x15xi1>'\n"
     ]
    },
    {
     "name": "stdout",
     "output_type": "stream",
     "text": [
      "\b\b\b\b\b\b\b\b\b\b\b\b\b\b\b\b\b\b\b\b\b\b\b\b\b\b\b\b\b\b\b\b\b\b\b\b\b\b\b\b\b\b\b\b\b\b\b\b\b\b\b\b\b\b\b\b\b\b\b\b\b\b\b\r",
      "12/12 [==============================] - ETA: 0s - loss: 0.7780"
     ]
    },
    {
     "name": "stdout",
     "output_type": "stream",
     "text": [
      "\b\b\b\b\b\b\b\b\b\b\b\b\b\b\b\b\b\b\b\b\b\b\b\b\b\b\b\b\b\b\b\b\b\b\b\b\b\b\b\b\b\b\b\b\b\b\b\b\b\b\b\b\b\b\b\b\b\b\b\b\b\b\b\r",
      "12/12 [==============================] - 2s 60ms/step - loss: 0.7780 - val_loss: 0.7309\n"
     ]
    },
    {
     "name": "stdout",
     "output_type": "stream",
     "text": [
      "Epoch 2/1000\n"
     ]
    },
    {
     "name": "stdout",
     "output_type": "stream",
     "text": [
      "\r",
      " 1/12 [=>............................] - ETA: 0s - loss: 0.7156"
     ]
    },
    {
     "name": "stdout",
     "output_type": "stream",
     "text": [
      "\b\b\b\b\b\b\b\b\b\b\b\b\b\b\b\b\b\b\b\b\b\b\b\b\b\b\b\b\b\b\b\b\b\b\b\b\b\b\b\b\b\b\b\b\b\b\b\b\b\b\b\b\b\b\b\b\b\b\b\b\b\b\b\r",
      " 5/12 [===========>..................] - ETA: 0s - loss: 0.7571"
     ]
    },
    {
     "name": "stderr",
     "output_type": "stream",
     "text": [
      "loc(\"mps_select\"(\"(mpsFileLoc): /AppleInternal/Library/BuildRoots/0032d1ee-80fd-11ee-8227-6aecfccc70fe/Library/Caches/com.apple.xbs/Sources/MetalPerformanceShadersGraph/mpsgraph/MetalPerformanceShadersGraph/Core/Files/MPSGraphUtilities.mm\":294:0)): error: 'anec.gain_offset_control' op result #0 must be 4D/5D memref of 16-bit float or 8-bit signed integer or 8-bit unsigned integer values, but got 'memref<1x32x1x6xi1>'\n",
      "loc(\"mps_select\"(\"(mpsFileLoc): /AppleInternal/Library/BuildRoots/0032d1ee-80fd-11ee-8227-6aecfccc70fe/Library/Caches/com.apple.xbs/Sources/MetalPerformanceShadersGraph/mpsgraph/MetalPerformanceShadersGraph/Core/Files/MPSGraphUtilities.mm\":294:0)): error: 'anec.gain_offset_control' op result #0 must be 4D/5D memref of 16-bit float or 8-bit signed integer or 8-bit unsigned integer values, but got 'memref<1x32x1x6xi1>'\n",
      "loc(\"mps_select\"(\"(mpsFileLoc): /AppleInternal/Library/BuildRoots/0032d1ee-80fd-11ee-8227-6aecfccc70fe/Library/Caches/com.apple.xbs/Sources/MetalPerformanceShadersGraph/mpsgraph/MetalPerformanceShadersGraph/Core/Files/MPSGraphUtilities.mm\":294:0)): error: 'anec.gain_offset_control' op result #0 must be 4D/5D memref of 16-bit float or 8-bit signed integer or 8-bit unsigned integer values, but got 'memref<1x31x1x6xi1>'\n",
      "loc(\"mps_select\"(\"(mpsFileLoc): /AppleInternal/Library/BuildRoots/0032d1ee-80fd-11ee-8227-6aecfccc70fe/Library/Caches/com.apple.xbs/Sources/MetalPerformanceShadersGraph/mpsgraph/MetalPerformanceShadersGraph/Core/Files/MPSGraphUtilities.mm\":294:0)): error: 'anec.gain_offset_control' op result #0 must be 4D/5D memref of 16-bit float or 8-bit signed integer or 8-bit unsigned integer values, but got 'memref<1x31x1x6xi1>'\n"
     ]
    },
    {
     "name": "stdout",
     "output_type": "stream",
     "text": [
      "\b\b\b\b\b\b\b\b\b\b\b\b\b\b\b\b\b\b\b\b\b\b\b\b\b\b\b\b\b\b\b\b\b\b\b\b\b\b\b\b\b\b\b\b\b\b\b\b\b\b\b\b\b\b\b\b\b\b\b\b\b\b\b\r",
      "10/12 [========================>.....] - ETA: 0s - loss: 0.7412"
     ]
    },
    {
     "name": "stdout",
     "output_type": "stream",
     "text": [
      "\b\b\b\b\b\b\b\b\b\b\b\b\b\b\b\b\b\b\b\b\b\b\b\b\b\b\b\b\b\b\b\b\b\b\b\b\b\b\b\b\b\b\b\b\b\b\b\b\b\b\b\b\b\b\b\b\b\b\b\b\b\b\b\r",
      "12/12 [==============================] - 0s 16ms/step - loss: 0.7343 - val_loss: 0.6912\n"
     ]
    },
    {
     "name": "stdout",
     "output_type": "stream",
     "text": [
      "Epoch 3/1000\n"
     ]
    },
    {
     "name": "stdout",
     "output_type": "stream",
     "text": [
      "\r",
      " 1/12 [=>............................] - ETA: 0s - loss: 0.7013"
     ]
    },
    {
     "name": "stdout",
     "output_type": "stream",
     "text": [
      "\b\b\b\b\b\b\b\b\b\b\b\b\b\b\b\b\b\b\b\b\b\b\b\b\b\b\b\b\b\b\b\b\b\b\b\b\b\b\b\b\b\b\b\b\b\b\b\b\b\b\b\b\b\b\b\b\b\b\b\b\b\b\b\r",
      " 6/12 [==============>...............] - ETA: 0s - loss: 0.6816"
     ]
    },
    {
     "name": "stdout",
     "output_type": "stream",
     "text": [
      "\b\b\b\b\b\b\b\b\b\b\b\b\b\b\b\b\b\b\b\b\b\b\b\b\b\b\b\b\b\b\b\b\b\b\b\b\b\b\b\b\b\b\b\b\b\b\b\b\b\b\b\b\b\b\b\b\b\b\b\b\b\b\b\r",
      "11/12 [==========================>...] - ETA: 0s - loss: 0.6760"
     ]
    },
    {
     "name": "stdout",
     "output_type": "stream",
     "text": [
      "\b\b\b\b\b\b\b\b\b\b\b\b\b\b\b\b\b\b\b\b\b\b\b\b\b\b\b\b\b\b\b\b\b\b\b\b\b\b\b\b\b\b\b\b\b\b\b\b\b\b\b\b\b\b\b\b\b\b\b\b\b\b\b\r",
      "12/12 [==============================] - 0s 14ms/step - loss: 0.6764 - val_loss: 0.6594\n"
     ]
    },
    {
     "name": "stdout",
     "output_type": "stream",
     "text": [
      "Epoch 4/1000\n"
     ]
    },
    {
     "name": "stdout",
     "output_type": "stream",
     "text": [
      "\r",
      " 1/12 [=>............................] - ETA: 0s - loss: 0.6821"
     ]
    },
    {
     "name": "stdout",
     "output_type": "stream",
     "text": [
      "\b\b\b\b\b\b\b\b\b\b\b\b\b\b\b\b\b\b\b\b\b\b\b\b\b\b\b\b\b\b\b\b\b\b\b\b\b\b\b\b\b\b\b\b\b\b\b\b\b\b\b\b\b\b\b\b\b\b\b\b\b\b\b\r",
      " 6/12 [==============>...............] - ETA: 0s - loss: 0.6551"
     ]
    },
    {
     "name": "stdout",
     "output_type": "stream",
     "text": [
      "\b\b\b\b\b\b\b\b\b\b\b\b\b\b\b\b\b\b\b\b\b\b\b\b\b\b\b\b\b\b\b\b\b\b\b\b\b\b\b\b\b\b\b\b\b\b\b\b\b\b\b\b\b\b\b\b\b\b\b\b\b\b\b\r",
      "11/12 [==========================>...] - ETA: 0s - loss: 0.6556"
     ]
    },
    {
     "name": "stdout",
     "output_type": "stream",
     "text": [
      "\b\b\b\b\b\b\b\b\b\b\b\b\b\b\b\b\b\b\b\b\b\b\b\b\b\b\b\b\b\b\b\b\b\b\b\b\b\b\b\b\b\b\b\b\b\b\b\b\b\b\b\b\b\b\b\b\b\b\b\b\b\b\b\r",
      "12/12 [==============================] - 0s 14ms/step - loss: 0.6498 - val_loss: 0.6347\n"
     ]
    },
    {
     "name": "stdout",
     "output_type": "stream",
     "text": [
      "Epoch 5/1000\n"
     ]
    },
    {
     "name": "stdout",
     "output_type": "stream",
     "text": [
      "\r",
      " 1/12 [=>............................] - ETA: 0s - loss: 0.6335"
     ]
    },
    {
     "name": "stdout",
     "output_type": "stream",
     "text": [
      "\b\b\b\b\b\b\b\b\b\b\b\b\b\b\b\b\b\b\b\b\b\b\b\b\b\b\b\b\b\b\b\b\b\b\b\b\b\b\b\b\b\b\b\b\b\b\b\b\b\b\b\b\b\b\b\b\b\b\b\b\b\b\b\r",
      " 6/12 [==============>...............] - ETA: 0s - loss: 0.6372"
     ]
    },
    {
     "name": "stdout",
     "output_type": "stream",
     "text": [
      "\b\b\b\b\b\b\b\b\b\b\b\b\b\b\b\b\b\b\b\b\b\b\b\b\b\b\b\b\b\b\b\b\b\b\b\b\b\b\b\b\b\b\b\b\b\b\b\b\b\b\b\b\b\b\b\b\b\b\b\b\b\b\b\r",
      "11/12 [==========================>...] - ETA: 0s - loss: 0.6300"
     ]
    },
    {
     "name": "stdout",
     "output_type": "stream",
     "text": [
      "\b\b\b\b\b\b\b\b\b\b\b\b\b\b\b\b\b\b\b\b\b\b\b\b\b\b\b\b\b\b\b\b\b\b\b\b\b\b\b\b\b\b\b\b\b\b\b\b\b\b\b\b\b\b\b\b\b\b\b\b\b\b\b\r",
      "12/12 [==============================] - 0s 14ms/step - loss: 0.6276 - val_loss: 0.6154\n"
     ]
    },
    {
     "name": "stdout",
     "output_type": "stream",
     "text": [
      "Epoch 6/1000\n"
     ]
    },
    {
     "name": "stdout",
     "output_type": "stream",
     "text": [
      "\r",
      " 1/12 [=>............................] - ETA: 0s - loss: 0.5903"
     ]
    },
    {
     "name": "stdout",
     "output_type": "stream",
     "text": [
      "\b\b\b\b\b\b\b\b\b\b\b\b\b\b\b\b\b\b\b\b\b\b\b\b\b\b\b\b\b\b\b\b\b\b\b\b\b\b\b\b\b\b\b\b\b\b\b\b\b\b\b\b\b\b\b\b\b\b\b\b\b\b\b\r",
      " 6/12 [==============>...............] - ETA: 0s - loss: 0.6029"
     ]
    },
    {
     "name": "stdout",
     "output_type": "stream",
     "text": [
      "\b\b\b\b\b\b\b\b\b\b\b\b\b\b\b\b\b\b\b\b\b\b\b\b\b\b\b\b\b\b\b\b\b\b\b\b\b\b\b\b\b\b\b\b\b\b\b\b\b\b\b\b\b\b\b\b\b\b\b\b\b\b\b\r",
      "11/12 [==========================>...] - ETA: 0s - loss: 0.6064"
     ]
    },
    {
     "name": "stdout",
     "output_type": "stream",
     "text": [
      "\b\b\b\b\b\b\b\b\b\b\b\b\b\b\b\b\b\b\b\b\b\b\b\b\b\b\b\b\b\b\b\b\b\b\b\b\b\b\b\b\b\b\b\b\b\b\b\b\b\b\b\b\b\b\b\b\b\b\b\b\b\b\b\r",
      "12/12 [==============================] - 0s 14ms/step - loss: 0.6021 - val_loss: 0.6002\n"
     ]
    },
    {
     "name": "stdout",
     "output_type": "stream",
     "text": [
      "Epoch 7/1000\n"
     ]
    },
    {
     "name": "stdout",
     "output_type": "stream",
     "text": [
      "\r",
      " 1/12 [=>............................] - ETA: 0s - loss: 0.5759"
     ]
    },
    {
     "name": "stdout",
     "output_type": "stream",
     "text": [
      "\b\b\b\b\b\b\b\b\b\b\b\b\b\b\b\b\b\b\b\b\b\b\b\b\b\b\b\b\b\b\b\b\b\b\b\b\b\b\b\b\b\b\b\b\b\b\b\b\b\b\b\b\b\b\b\b\b\b\b\b\b\b\b\r",
      " 6/12 [==============>...............] - ETA: 0s - loss: 0.6007"
     ]
    },
    {
     "name": "stdout",
     "output_type": "stream",
     "text": [
      "\b\b\b\b\b\b\b\b\b\b\b\b\b\b\b\b\b\b\b\b\b\b\b\b\b\b\b\b\b\b\b\b\b\b\b\b\b\b\b\b\b\b\b\b\b\b\b\b\b\b\b\b\b\b\b\b\b\b\b\b\b\b\b\r",
      "11/12 [==========================>...] - ETA: 0s - loss: 0.5907"
     ]
    },
    {
     "name": "stdout",
     "output_type": "stream",
     "text": [
      "\b\b\b\b\b\b\b\b\b\b\b\b\b\b\b\b\b\b\b\b\b\b\b\b\b\b\b\b\b\b\b\b\b\b\b\b\b\b\b\b\b\b\b\b\b\b\b\b\b\b\b\b\b\b\b\b\b\b\b\b\b\b\b\r",
      "12/12 [==============================] - 0s 14ms/step - loss: 0.5887 - val_loss: 0.5887\n"
     ]
    },
    {
     "name": "stdout",
     "output_type": "stream",
     "text": [
      "Epoch 8/1000\n"
     ]
    },
    {
     "name": "stdout",
     "output_type": "stream",
     "text": [
      "\r",
      " 1/12 [=>............................] - ETA: 0s - loss: 0.6046"
     ]
    },
    {
     "name": "stdout",
     "output_type": "stream",
     "text": [
      "\b\b\b\b\b\b\b\b\b\b\b\b\b\b\b\b\b\b\b\b\b\b\b\b\b\b\b\b\b\b\b\b\b\b\b\b\b\b\b\b\b\b\b\b\b\b\b\b\b\b\b\b\b\b\b\b\b\b\b\b\b\b\b\r",
      " 6/12 [==============>...............] - ETA: 0s - loss: 0.5850"
     ]
    },
    {
     "name": "stdout",
     "output_type": "stream",
     "text": [
      "\b\b\b\b\b\b\b\b\b\b\b\b\b\b\b\b\b\b\b\b\b\b\b\b\b\b\b\b\b\b\b\b\b\b\b\b\b\b\b\b\b\b\b\b\b\b\b\b\b\b\b\b\b\b\b\b\b\b\b\b\b\b\b\r",
      "11/12 [==========================>...] - ETA: 0s - loss: 0.5869"
     ]
    },
    {
     "name": "stdout",
     "output_type": "stream",
     "text": [
      "\b\b\b\b\b\b\b\b\b\b\b\b\b\b\b\b\b\b\b\b\b\b\b\b\b\b\b\b\b\b\b\b\b\b\b\b\b\b\b\b\b\b\b\b\b\b\b\b\b\b\b\b\b\b\b\b\b\b\b\b\b\b\b\r",
      "12/12 [==============================] - 0s 14ms/step - loss: 0.5850 - val_loss: 0.5795\n"
     ]
    },
    {
     "name": "stdout",
     "output_type": "stream",
     "text": [
      "Epoch 9/1000\n"
     ]
    },
    {
     "name": "stdout",
     "output_type": "stream",
     "text": [
      "\r",
      " 1/12 [=>............................] - ETA: 0s - loss: 0.5990"
     ]
    },
    {
     "name": "stdout",
     "output_type": "stream",
     "text": [
      "\b\b\b\b\b\b\b\b\b\b\b\b\b\b\b\b\b\b\b\b\b\b\b\b\b\b\b\b\b\b\b\b\b\b\b\b\b\b\b\b\b\b\b\b\b\b\b\b\b\b\b\b\b\b\b\b\b\b\b\b\b\b\b\r",
      " 6/12 [==============>...............] - ETA: 0s - loss: 0.5808"
     ]
    },
    {
     "name": "stdout",
     "output_type": "stream",
     "text": [
      "\b\b\b\b\b\b\b\b\b\b\b\b\b\b\b\b\b\b\b\b\b\b\b\b\b\b\b\b\b\b\b\b\b\b\b\b\b\b\b\b\b\b\b\b\b\b\b\b\b\b\b\b\b\b\b\b\b\b\b\b\b\b\b\r",
      "11/12 [==========================>...] - ETA: 0s - loss: 0.5728"
     ]
    },
    {
     "name": "stdout",
     "output_type": "stream",
     "text": [
      "\b\b\b\b\b\b\b\b\b\b\b\b\b\b\b\b\b\b\b\b\b\b\b\b\b\b\b\b\b\b\b\b\b\b\b\b\b\b\b\b\b\b\b\b\b\b\b\b\b\b\b\b\b\b\b\b\b\b\b\b\b\b\b\r",
      "12/12 [==============================] - 0s 14ms/step - loss: 0.5718 - val_loss: 0.5715\n"
     ]
    },
    {
     "name": "stdout",
     "output_type": "stream",
     "text": [
      "Epoch 10/1000\n"
     ]
    },
    {
     "name": "stdout",
     "output_type": "stream",
     "text": [
      "\r",
      " 1/12 [=>............................] - ETA: 0s - loss: 0.5631"
     ]
    },
    {
     "name": "stdout",
     "output_type": "stream",
     "text": [
      "\b\b\b\b\b\b\b\b\b\b\b\b\b\b\b\b\b\b\b\b\b\b\b\b\b\b\b\b\b\b\b\b\b\b\b\b\b\b\b\b\b\b\b\b\b\b\b\b\b\b\b\b\b\b\b\b\b\b\b\b\b\b\b\r",
      " 6/12 [==============>...............] - ETA: 0s - loss: 0.5456"
     ]
    },
    {
     "name": "stdout",
     "output_type": "stream",
     "text": [
      "\b\b\b\b\b\b\b\b\b\b\b\b\b\b\b\b\b\b\b\b\b\b\b\b\b\b\b\b\b\b\b\b\b\b\b\b\b\b\b\b\b\b\b\b\b\b\b\b\b\b\b\b\b\b\b\b\b\b\b\b\b\b\b\r",
      "11/12 [==========================>...] - ETA: 0s - loss: 0.5521"
     ]
    },
    {
     "name": "stdout",
     "output_type": "stream",
     "text": [
      "\b\b\b\b\b\b\b\b\b\b\b\b\b\b\b\b\b\b\b\b\b\b\b\b\b\b\b\b\b\b\b\b\b\b\b\b\b\b\b\b\b\b\b\b\b\b\b\b\b\b\b\b\b\b\b\b\b\b\b\b\b\b\b\r",
      "12/12 [==============================] - 0s 14ms/step - loss: 0.5510 - val_loss: 0.5647\n"
     ]
    },
    {
     "name": "stdout",
     "output_type": "stream",
     "text": [
      "Epoch 11/1000\n"
     ]
    },
    {
     "name": "stdout",
     "output_type": "stream",
     "text": [
      "\r",
      " 1/12 [=>............................] - ETA: 0s - loss: 0.5435"
     ]
    },
    {
     "name": "stdout",
     "output_type": "stream",
     "text": [
      "\b\b\b\b\b\b\b\b\b\b\b\b\b\b\b\b\b\b\b\b\b\b\b\b\b\b\b\b\b\b\b\b\b\b\b\b\b\b\b\b\b\b\b\b\b\b\b\b\b\b\b\b\b\b\b\b\b\b\b\b\b\b\b\r",
      " 6/12 [==============>...............] - ETA: 0s - loss: 0.5592"
     ]
    },
    {
     "name": "stdout",
     "output_type": "stream",
     "text": [
      "\b\b\b\b\b\b\b\b\b\b\b\b\b\b\b\b\b\b\b\b\b\b\b\b\b\b\b\b\b\b\b\b\b\b\b\b\b\b\b\b\b\b\b\b\b\b\b\b\b\b\b\b\b\b\b\b\b\b\b\b\b\b\b\r",
      "11/12 [==========================>...] - ETA: 0s - loss: 0.5478"
     ]
    },
    {
     "name": "stdout",
     "output_type": "stream",
     "text": [
      "\b\b\b\b\b\b\b\b\b\b\b\b\b\b\b\b\b\b\b\b\b\b\b\b\b\b\b\b\b\b\b\b\b\b\b\b\b\b\b\b\b\b\b\b\b\b\b\b\b\b\b\b\b\b\b\b\b\b\b\b\b\b\b\r",
      "12/12 [==============================] - 0s 14ms/step - loss: 0.5482 - val_loss: 0.5592\n"
     ]
    },
    {
     "name": "stdout",
     "output_type": "stream",
     "text": [
      "Epoch 12/1000\n"
     ]
    },
    {
     "name": "stdout",
     "output_type": "stream",
     "text": [
      "\r",
      " 1/12 [=>............................] - ETA: 0s - loss: 0.5536"
     ]
    },
    {
     "name": "stdout",
     "output_type": "stream",
     "text": [
      "\b\b\b\b\b\b\b\b\b\b\b\b\b\b\b\b\b\b\b\b\b\b\b\b\b\b\b\b\b\b\b\b\b\b\b\b\b\b\b\b\b\b\b\b\b\b\b\b\b\b\b\b\b\b\b\b\b\b\b\b\b\b\b\r",
      " 6/12 [==============>...............] - ETA: 0s - loss: 0.5441"
     ]
    },
    {
     "name": "stdout",
     "output_type": "stream",
     "text": [
      "\b\b\b\b\b\b\b\b\b\b\b\b\b\b\b\b\b\b\b\b\b\b\b\b\b\b\b\b\b\b\b\b\b\b\b\b\b\b\b\b\b\b\b\b\b\b\b\b\b\b\b\b\b\b\b\b\b\b\b\b\b\b\b\r",
      "11/12 [==========================>...] - ETA: 0s - loss: 0.5418"
     ]
    },
    {
     "name": "stdout",
     "output_type": "stream",
     "text": [
      "\b\b\b\b\b\b\b\b\b\b\b\b\b\b\b\b\b\b\b\b\b\b\b\b\b\b\b\b\b\b\b\b\b\b\b\b\b\b\b\b\b\b\b\b\b\b\b\b\b\b\b\b\b\b\b\b\b\b\b\b\b\b\b\r",
      "12/12 [==============================] - 0s 14ms/step - loss: 0.5432 - val_loss: 0.5544\n"
     ]
    },
    {
     "name": "stdout",
     "output_type": "stream",
     "text": [
      "Epoch 13/1000\n"
     ]
    },
    {
     "name": "stdout",
     "output_type": "stream",
     "text": [
      "\r",
      " 1/12 [=>............................] - ETA: 0s - loss: 0.5750"
     ]
    },
    {
     "name": "stdout",
     "output_type": "stream",
     "text": [
      "\b\b\b\b\b\b\b\b\b\b\b\b\b\b\b\b\b\b\b\b\b\b\b\b\b\b\b\b\b\b\b\b\b\b\b\b\b\b\b\b\b\b\b\b\b\b\b\b\b\b\b\b\b\b\b\b\b\b\b\b\b\b\b\r",
      " 6/12 [==============>...............] - ETA: 0s - loss: 0.5369"
     ]
    },
    {
     "name": "stdout",
     "output_type": "stream",
     "text": [
      "\b\b\b\b\b\b\b\b\b\b\b\b\b\b\b\b\b\b\b\b\b\b\b\b\b\b\b\b\b\b\b\b\b\b\b\b\b\b\b\b\b\b\b\b\b\b\b\b\b\b\b\b\b\b\b\b\b\b\b\b\b\b\b\r",
      "11/12 [==========================>...] - ETA: 0s - loss: 0.5437"
     ]
    },
    {
     "name": "stdout",
     "output_type": "stream",
     "text": [
      "\b\b\b\b\b\b\b\b\b\b\b\b\b\b\b\b\b\b\b\b\b\b\b\b\b\b\b\b\b\b\b\b\b\b\b\b\b\b\b\b\b\b\b\b\b\b\b\b\b\b\b\b\b\b\b\b\b\b\b\b\b\b\b\r",
      "12/12 [==============================] - 0s 14ms/step - loss: 0.5454 - val_loss: 0.5503\n"
     ]
    },
    {
     "name": "stdout",
     "output_type": "stream",
     "text": [
      "Epoch 14/1000\n"
     ]
    },
    {
     "name": "stdout",
     "output_type": "stream",
     "text": [
      "\r",
      " 1/12 [=>............................] - ETA: 0s - loss: 0.5451"
     ]
    },
    {
     "name": "stdout",
     "output_type": "stream",
     "text": [
      "\b\b\b\b\b\b\b\b\b\b\b\b\b\b\b\b\b\b\b\b\b\b\b\b\b\b\b\b\b\b\b\b\b\b\b\b\b\b\b\b\b\b\b\b\b\b\b\b\b\b\b\b\b\b\b\b\b\b\b\b\b\b\b\r",
      " 6/12 [==============>...............] - ETA: 0s - loss: 0.5402"
     ]
    },
    {
     "name": "stdout",
     "output_type": "stream",
     "text": [
      "\b\b\b\b\b\b\b\b\b\b\b\b\b\b\b\b\b\b\b\b\b\b\b\b\b\b\b\b\b\b\b\b\b\b\b\b\b\b\b\b\b\b\b\b\b\b\b\b\b\b\b\b\b\b\b\b\b\b\b\b\b\b\b\r",
      "11/12 [==========================>...] - ETA: 0s - loss: 0.5386"
     ]
    },
    {
     "name": "stdout",
     "output_type": "stream",
     "text": [
      "\b\b\b\b\b\b\b\b\b\b\b\b\b\b\b\b\b\b\b\b\b\b\b\b\b\b\b\b\b\b\b\b\b\b\b\b\b\b\b\b\b\b\b\b\b\b\b\b\b\b\b\b\b\b\b\b\b\b\b\b\b\b\b\r",
      "12/12 [==============================] - 0s 14ms/step - loss: 0.5391 - val_loss: 0.5466\n"
     ]
    },
    {
     "name": "stdout",
     "output_type": "stream",
     "text": [
      "Epoch 15/1000\n"
     ]
    },
    {
     "name": "stdout",
     "output_type": "stream",
     "text": [
      "\r",
      " 1/12 [=>............................] - ETA: 0s - loss: 0.4837"
     ]
    },
    {
     "name": "stdout",
     "output_type": "stream",
     "text": [
      "\b\b\b\b\b\b\b\b\b\b\b\b\b\b\b\b\b\b\b\b\b\b\b\b\b\b\b\b\b\b\b\b\b\b\b\b\b\b\b\b\b\b\b\b\b\b\b\b\b\b\b\b\b\b\b\b\b\b\b\b\b\b\b\r",
      " 6/12 [==============>...............] - ETA: 0s - loss: 0.5341"
     ]
    },
    {
     "name": "stdout",
     "output_type": "stream",
     "text": [
      "\b\b\b\b\b\b\b\b\b\b\b\b\b\b\b\b\b\b\b\b\b\b\b\b\b\b\b\b\b\b\b\b\b\b\b\b\b\b\b\b\b\b\b\b\b\b\b\b\b\b\b\b\b\b\b\b\b\b\b\b\b\b\b\r",
      "11/12 [==========================>...] - ETA: 0s - loss: 0.5283"
     ]
    },
    {
     "name": "stdout",
     "output_type": "stream",
     "text": [
      "\b\b\b\b\b\b\b\b\b\b\b\b\b\b\b\b\b\b\b\b\b\b\b\b\b\b\b\b\b\b\b\b\b\b\b\b\b\b\b\b\b\b\b\b\b\b\b\b\b\b\b\b\b\b\b\b\b\b\b\b\b\b\b\r",
      "12/12 [==============================] - 0s 14ms/step - loss: 0.5292 - val_loss: 0.5436\n"
     ]
    },
    {
     "name": "stdout",
     "output_type": "stream",
     "text": [
      "Epoch 16/1000\n"
     ]
    },
    {
     "name": "stdout",
     "output_type": "stream",
     "text": [
      "\r",
      " 1/12 [=>............................] - ETA: 0s - loss: 0.5668"
     ]
    },
    {
     "name": "stdout",
     "output_type": "stream",
     "text": [
      "\b\b\b\b\b\b\b\b\b\b\b\b\b\b\b\b\b\b\b\b\b\b\b\b\b\b\b\b\b\b\b\b\b\b\b\b\b\b\b\b\b\b\b\b\b\b\b\b\b\b\b\b\b\b\b\b\b\b\b\b\b\b\b\r",
      " 6/12 [==============>...............] - ETA: 0s - loss: 0.5391"
     ]
    },
    {
     "name": "stdout",
     "output_type": "stream",
     "text": [
      "\b\b\b\b\b\b\b\b\b\b\b\b\b\b\b\b\b\b\b\b\b\b\b\b\b\b\b\b\b\b\b\b\b\b\b\b\b\b\b\b\b\b\b\b\b\b\b\b\b\b\b\b\b\b\b\b\b\b\b\b\b\b\b\r",
      "11/12 [==========================>...] - ETA: 0s - loss: 0.5375"
     ]
    },
    {
     "name": "stdout",
     "output_type": "stream",
     "text": [
      "\b\b\b\b\b\b\b\b\b\b\b\b\b\b\b\b\b\b\b\b\b\b\b\b\b\b\b\b\b\b\b\b\b\b\b\b\b\b\b\b\b\b\b\b\b\b\b\b\b\b\b\b\b\b\b\b\b\b\b\b\b\b\b\r",
      "12/12 [==============================] - 0s 15ms/step - loss: 0.5345 - val_loss: 0.5405\n"
     ]
    },
    {
     "name": "stdout",
     "output_type": "stream",
     "text": [
      "Epoch 17/1000\n"
     ]
    },
    {
     "name": "stdout",
     "output_type": "stream",
     "text": [
      "\r",
      " 1/12 [=>............................] - ETA: 0s - loss: 0.5110"
     ]
    },
    {
     "name": "stdout",
     "output_type": "stream",
     "text": [
      "\b\b\b\b\b\b\b\b\b\b\b\b\b\b\b\b\b\b\b\b\b\b\b\b\b\b\b\b\b\b\b\b\b\b\b\b\b\b\b\b\b\b\b\b\b\b\b\b\b\b\b\b\b\b\b\b\b\b\b\b\b\b\b\r",
      " 6/12 [==============>...............] - ETA: 0s - loss: 0.5169"
     ]
    },
    {
     "name": "stdout",
     "output_type": "stream",
     "text": [
      "\b\b\b\b\b\b\b\b\b\b\b\b\b\b\b\b\b\b\b\b\b\b\b\b\b\b\b\b\b\b\b\b\b\b\b\b\b\b\b\b\b\b\b\b\b\b\b\b\b\b\b\b\b\b\b\b\b\b\b\b\b\b\b\r",
      "11/12 [==========================>...] - ETA: 0s - loss: 0.5348"
     ]
    },
    {
     "name": "stdout",
     "output_type": "stream",
     "text": [
      "\b\b\b\b\b\b\b\b\b\b\b\b\b\b\b\b\b\b\b\b\b\b\b\b\b\b\b\b\b\b\b\b\b\b\b\b\b\b\b\b\b\b\b\b\b\b\b\b\b\b\b\b\b\b\b\b\b\b\b\b\b\b\b\r",
      "12/12 [==============================] - 0s 14ms/step - loss: 0.5317 - val_loss: 0.5377\n"
     ]
    },
    {
     "name": "stdout",
     "output_type": "stream",
     "text": [
      "Epoch 18/1000\n"
     ]
    },
    {
     "name": "stdout",
     "output_type": "stream",
     "text": [
      "\r",
      " 1/12 [=>............................] - ETA: 0s - loss: 0.5282"
     ]
    },
    {
     "name": "stdout",
     "output_type": "stream",
     "text": [
      "\b\b\b\b\b\b\b\b\b\b\b\b\b\b\b\b\b\b\b\b\b\b\b\b\b\b\b\b\b\b\b\b\b\b\b\b\b\b\b\b\b\b\b\b\b\b\b\b\b\b\b\b\b\b\b\b\b\b\b\b\b\b\b\r",
      " 6/12 [==============>...............] - ETA: 0s - loss: 0.5473"
     ]
    },
    {
     "name": "stdout",
     "output_type": "stream",
     "text": [
      "\b\b\b\b\b\b\b\b\b\b\b\b\b\b\b\b\b\b\b\b\b\b\b\b\b\b\b\b\b\b\b\b\b\b\b\b\b\b\b\b\b\b\b\b\b\b\b\b\b\b\b\b\b\b\b\b\b\b\b\b\b\b\b\r",
      "11/12 [==========================>...] - ETA: 0s - loss: 0.5349"
     ]
    },
    {
     "name": "stdout",
     "output_type": "stream",
     "text": [
      "\b\b\b\b\b\b\b\b\b\b\b\b\b\b\b\b\b\b\b\b\b\b\b\b\b\b\b\b\b\b\b\b\b\b\b\b\b\b\b\b\b\b\b\b\b\b\b\b\b\b\b\b\b\b\b\b\b\b\b\b\b\b\b\r",
      "12/12 [==============================] - 0s 14ms/step - loss: 0.5292 - val_loss: 0.5352\n"
     ]
    },
    {
     "name": "stdout",
     "output_type": "stream",
     "text": [
      "Epoch 19/1000\n"
     ]
    },
    {
     "name": "stdout",
     "output_type": "stream",
     "text": [
      "\r",
      " 1/12 [=>............................] - ETA: 0s - loss: 0.4950"
     ]
    },
    {
     "name": "stdout",
     "output_type": "stream",
     "text": [
      "\b\b\b\b\b\b\b\b\b\b\b\b\b\b\b\b\b\b\b\b\b\b\b\b\b\b\b\b\b\b\b\b\b\b\b\b\b\b\b\b\b\b\b\b\b\b\b\b\b\b\b\b\b\b\b\b\b\b\b\b\b\b\b\r",
      " 6/12 [==============>...............] - ETA: 0s - loss: 0.5267"
     ]
    },
    {
     "name": "stdout",
     "output_type": "stream",
     "text": [
      "\b\b\b\b\b\b\b\b\b\b\b\b\b\b\b\b\b\b\b\b\b\b\b\b\b\b\b\b\b\b\b\b\b\b\b\b\b\b\b\b\b\b\b\b\b\b\b\b\b\b\b\b\b\b\b\b\b\b\b\b\b\b\b\r",
      "11/12 [==========================>...] - ETA: 0s - loss: 0.5197"
     ]
    },
    {
     "name": "stdout",
     "output_type": "stream",
     "text": [
      "\b\b\b\b\b\b\b\b\b\b\b\b\b\b\b\b\b\b\b\b\b\b\b\b\b\b\b\b\b\b\b\b\b\b\b\b\b\b\b\b\b\b\b\b\b\b\b\b\b\b\b\b\b\b\b\b\b\b\b\b\b\b\b\r",
      "12/12 [==============================] - 0s 15ms/step - loss: 0.5194 - val_loss: 0.5329\n"
     ]
    },
    {
     "name": "stdout",
     "output_type": "stream",
     "text": [
      "Epoch 20/1000\n"
     ]
    },
    {
     "name": "stdout",
     "output_type": "stream",
     "text": [
      "\r",
      " 1/12 [=>............................] - ETA: 0s - loss: 0.5193"
     ]
    },
    {
     "name": "stdout",
     "output_type": "stream",
     "text": [
      "\b\b\b\b\b\b\b\b\b\b\b\b\b\b\b\b\b\b\b\b\b\b\b\b\b\b\b\b\b\b\b\b\b\b\b\b\b\b\b\b\b\b\b\b\b\b\b\b\b\b\b\b\b\b\b\b\b\b\b\b\b\b\b\r",
      " 6/12 [==============>...............] - ETA: 0s - loss: 0.5291"
     ]
    },
    {
     "name": "stdout",
     "output_type": "stream",
     "text": [
      "\b\b\b\b\b\b\b\b\b\b\b\b\b\b\b\b\b\b\b\b\b\b\b\b\b\b\b\b\b\b\b\b\b\b\b\b\b\b\b\b\b\b\b\b\b\b\b\b\b\b\b\b\b\b\b\b\b\b\b\b\b\b\b\r",
      "11/12 [==========================>...] - ETA: 0s - loss: 0.5239"
     ]
    },
    {
     "name": "stdout",
     "output_type": "stream",
     "text": [
      "\b\b\b\b\b\b\b\b\b\b\b\b\b\b\b\b\b\b\b\b\b\b\b\b\b\b\b\b\b\b\b\b\b\b\b\b\b\b\b\b\b\b\b\b\b\b\b\b\b\b\b\b\b\b\b\b\b\b\b\b\b\b\b\r",
      "12/12 [==============================] - 0s 14ms/step - loss: 0.5226 - val_loss: 0.5314\n"
     ]
    },
    {
     "name": "stdout",
     "output_type": "stream",
     "text": [
      "Epoch 21/1000\n"
     ]
    },
    {
     "name": "stdout",
     "output_type": "stream",
     "text": [
      "\r",
      " 1/12 [=>............................] - ETA: 0s - loss: 0.5733"
     ]
    },
    {
     "name": "stdout",
     "output_type": "stream",
     "text": [
      "\b\b\b\b\b\b\b\b\b\b\b\b\b\b\b\b\b\b\b\b\b\b\b\b\b\b\b\b\b\b\b\b\b\b\b\b\b\b\b\b\b\b\b\b\b\b\b\b\b\b\b\b\b\b\b\b\b\b\b\b\b\b\b\r",
      " 6/12 [==============>...............] - ETA: 0s - loss: 0.5302"
     ]
    },
    {
     "name": "stdout",
     "output_type": "stream",
     "text": [
      "\b\b\b\b\b\b\b\b\b\b\b\b\b\b\b\b\b\b\b\b\b\b\b\b\b\b\b\b\b\b\b\b\b\b\b\b\b\b\b\b\b\b\b\b\b\b\b\b\b\b\b\b\b\b\b\b\b\b\b\b\b\b\b\r",
      "11/12 [==========================>...] - ETA: 0s - loss: 0.5227"
     ]
    },
    {
     "name": "stdout",
     "output_type": "stream",
     "text": [
      "\b\b\b\b\b\b\b\b\b\b\b\b\b\b\b\b\b\b\b\b\b\b\b\b\b\b\b\b\b\b\b\b\b\b\b\b\b\b\b\b\b\b\b\b\b\b\b\b\b\b\b\b\b\b\b\b\b\b\b\b\b\b\b\r",
      "12/12 [==============================] - 0s 14ms/step - loss: 0.5197 - val_loss: 0.5296\n"
     ]
    },
    {
     "name": "stdout",
     "output_type": "stream",
     "text": [
      "Epoch 22/1000\n"
     ]
    },
    {
     "name": "stdout",
     "output_type": "stream",
     "text": [
      "\r",
      " 1/12 [=>............................] - ETA: 0s - loss: 0.5432"
     ]
    },
    {
     "name": "stdout",
     "output_type": "stream",
     "text": [
      "\b\b\b\b\b\b\b\b\b\b\b\b\b\b\b\b\b\b\b\b\b\b\b\b\b\b\b\b\b\b\b\b\b\b\b\b\b\b\b\b\b\b\b\b\b\b\b\b\b\b\b\b\b\b\b\b\b\b\b\b\b\b\b\r",
      " 6/12 [==============>...............] - ETA: 0s - loss: 0.5118"
     ]
    },
    {
     "name": "stdout",
     "output_type": "stream",
     "text": [
      "\b\b\b\b\b\b\b\b\b\b\b\b\b\b\b\b\b\b\b\b\b\b\b\b\b\b\b\b\b\b\b\b\b\b\b\b\b\b\b\b\b\b\b\b\b\b\b\b\b\b\b\b\b\b\b\b\b\b\b\b\b\b\b\r",
      "11/12 [==========================>...] - ETA: 0s - loss: 0.5110"
     ]
    },
    {
     "name": "stdout",
     "output_type": "stream",
     "text": [
      "\b\b\b\b\b\b\b\b\b\b\b\b\b\b\b\b\b\b\b\b\b\b\b\b\b\b\b\b\b\b\b\b\b\b\b\b\b\b\b\b\b\b\b\b\b\b\b\b\b\b\b\b\b\b\b\b\b\b\b\b\b\b\b\r",
      "12/12 [==============================] - 0s 14ms/step - loss: 0.5103 - val_loss: 0.5279\n"
     ]
    },
    {
     "name": "stdout",
     "output_type": "stream",
     "text": [
      "Epoch 23/1000\n"
     ]
    },
    {
     "name": "stdout",
     "output_type": "stream",
     "text": [
      "\r",
      " 1/12 [=>............................] - ETA: 0s - loss: 0.5075"
     ]
    },
    {
     "name": "stdout",
     "output_type": "stream",
     "text": [
      "\b\b\b\b\b\b\b\b\b\b\b\b\b\b\b\b\b\b\b\b\b\b\b\b\b\b\b\b\b\b\b\b\b\b\b\b\b\b\b\b\b\b\b\b\b\b\b\b\b\b\b\b\b\b\b\b\b\b\b\b\b\b\b\r",
      " 6/12 [==============>...............] - ETA: 0s - loss: 0.5162"
     ]
    },
    {
     "name": "stdout",
     "output_type": "stream",
     "text": [
      "\b\b\b\b\b\b\b\b\b\b\b\b\b\b\b\b\b\b\b\b\b\b\b\b\b\b\b\b\b\b\b\b\b\b\b\b\b\b\b\b\b\b\b\b\b\b\b\b\b\b\b\b\b\b\b\b\b\b\b\b\b\b\b\r",
      "11/12 [==========================>...] - ETA: 0s - loss: 0.5114"
     ]
    },
    {
     "name": "stdout",
     "output_type": "stream",
     "text": [
      "\b\b\b\b\b\b\b\b\b\b\b\b\b\b\b\b\b\b\b\b\b\b\b\b\b\b\b\b\b\b\b\b\b\b\b\b\b\b\b\b\b\b\b\b\b\b\b\b\b\b\b\b\b\b\b\b\b\b\b\b\b\b\b\r",
      "12/12 [==============================] - 0s 14ms/step - loss: 0.5139 - val_loss: 0.5267\n"
     ]
    },
    {
     "name": "stdout",
     "output_type": "stream",
     "text": [
      "Epoch 24/1000\n"
     ]
    },
    {
     "name": "stdout",
     "output_type": "stream",
     "text": [
      "\r",
      " 1/12 [=>............................] - ETA: 0s - loss: 0.5231"
     ]
    },
    {
     "name": "stdout",
     "output_type": "stream",
     "text": [
      "\b\b\b\b\b\b\b\b\b\b\b\b\b\b\b\b\b\b\b\b\b\b\b\b\b\b\b\b\b\b\b\b\b\b\b\b\b\b\b\b\b\b\b\b\b\b\b\b\b\b\b\b\b\b\b\b\b\b\b\b\b\b\b\r",
      " 6/12 [==============>...............] - ETA: 0s - loss: 0.5005"
     ]
    },
    {
     "name": "stdout",
     "output_type": "stream",
     "text": [
      "\b\b\b\b\b\b\b\b\b\b\b\b\b\b\b\b\b\b\b\b\b\b\b\b\b\b\b\b\b\b\b\b\b\b\b\b\b\b\b\b\b\b\b\b\b\b\b\b\b\b\b\b\b\b\b\b\b\b\b\b\b\b\b\r",
      "11/12 [==========================>...] - ETA: 0s - loss: 0.5069"
     ]
    },
    {
     "name": "stdout",
     "output_type": "stream",
     "text": [
      "\b\b\b\b\b\b\b\b\b\b\b\b\b\b\b\b\b\b\b\b\b\b\b\b\b\b\b\b\b\b\b\b\b\b\b\b\b\b\b\b\b\b\b\b\b\b\b\b\b\b\b\b\b\b\b\b\b\b\b\b\b\b\b\r",
      "12/12 [==============================] - 0s 14ms/step - loss: 0.5112 - val_loss: 0.5257\n"
     ]
    },
    {
     "name": "stdout",
     "output_type": "stream",
     "text": [
      "Epoch 25/1000\n"
     ]
    },
    {
     "name": "stdout",
     "output_type": "stream",
     "text": [
      "\r",
      " 1/12 [=>............................] - ETA: 0s - loss: 0.5170"
     ]
    },
    {
     "name": "stdout",
     "output_type": "stream",
     "text": [
      "\b\b\b\b\b\b\b\b\b\b\b\b\b\b\b\b\b\b\b\b\b\b\b\b\b\b\b\b\b\b\b\b\b\b\b\b\b\b\b\b\b\b\b\b\b\b\b\b\b\b\b\b\b\b\b\b\b\b\b\b\b\b\b\r",
      " 6/12 [==============>...............] - ETA: 0s - loss: 0.5045"
     ]
    },
    {
     "name": "stdout",
     "output_type": "stream",
     "text": [
      "\b\b\b\b\b\b\b\b\b\b\b\b\b\b\b\b\b\b\b\b\b\b\b\b\b\b\b\b\b\b\b\b\b\b\b\b\b\b\b\b\b\b\b\b\b\b\b\b\b\b\b\b\b\b\b\b\b\b\b\b\b\b\b\r",
      "11/12 [==========================>...] - ETA: 0s - loss: 0.5087"
     ]
    },
    {
     "name": "stdout",
     "output_type": "stream",
     "text": [
      "\b\b\b\b\b\b\b\b\b\b\b\b\b\b\b\b\b\b\b\b\b\b\b\b\b\b\b\b\b\b\b\b\b\b\b\b\b\b\b\b\b\b\b\b\b\b\b\b\b\b\b\b\b\b\b\b\b\b\b\b\b\b\b\r",
      "12/12 [==============================] - 0s 14ms/step - loss: 0.5084 - val_loss: 0.5244\n"
     ]
    },
    {
     "name": "stdout",
     "output_type": "stream",
     "text": [
      "Epoch 26/1000\n"
     ]
    },
    {
     "name": "stdout",
     "output_type": "stream",
     "text": [
      "\r",
      " 1/12 [=>............................] - ETA: 0s - loss: 0.4575"
     ]
    },
    {
     "name": "stdout",
     "output_type": "stream",
     "text": [
      "\b\b\b\b\b\b\b\b\b\b\b\b\b\b\b\b\b\b\b\b\b\b\b\b\b\b\b\b\b\b\b\b\b\b\b\b\b\b\b\b\b\b\b\b\b\b\b\b\b\b\b\b\b\b\b\b\b\b\b\b\b\b\b\r",
      " 6/12 [==============>...............] - ETA: 0s - loss: 0.5066"
     ]
    },
    {
     "name": "stdout",
     "output_type": "stream",
     "text": [
      "\b\b\b\b\b\b\b\b\b\b\b\b\b\b\b\b\b\b\b\b\b\b\b\b\b\b\b\b\b\b\b\b\b\b\b\b\b\b\b\b\b\b\b\b\b\b\b\b\b\b\b\b\b\b\b\b\b\b\b\b\b\b\b\r",
      "11/12 [==========================>...] - ETA: 0s - loss: 0.5043"
     ]
    },
    {
     "name": "stdout",
     "output_type": "stream",
     "text": [
      "\b\b\b\b\b\b\b\b\b\b\b\b\b\b\b\b\b\b\b\b\b\b\b\b\b\b\b\b\b\b\b\b\b\b\b\b\b\b\b\b\b\b\b\b\b\b\b\b\b\b\b\b\b\b\b\b\b\b\b\b\b\b\b\r",
      "12/12 [==============================] - 0s 14ms/step - loss: 0.5017 - val_loss: 0.5232\n"
     ]
    },
    {
     "name": "stdout",
     "output_type": "stream",
     "text": [
      "Epoch 27/1000\n"
     ]
    },
    {
     "name": "stdout",
     "output_type": "stream",
     "text": [
      "\r",
      " 1/12 [=>............................] - ETA: 0s - loss: 0.5069"
     ]
    },
    {
     "name": "stdout",
     "output_type": "stream",
     "text": [
      "\b\b\b\b\b\b\b\b\b\b\b\b\b\b\b\b\b\b\b\b\b\b\b\b\b\b\b\b\b\b\b\b\b\b\b\b\b\b\b\b\b\b\b\b\b\b\b\b\b\b\b\b\b\b\b\b\b\b\b\b\b\b\b\r",
      " 6/12 [==============>...............] - ETA: 0s - loss: 0.5038"
     ]
    },
    {
     "name": "stdout",
     "output_type": "stream",
     "text": [
      "\b\b\b\b\b\b\b\b\b\b\b\b\b\b\b\b\b\b\b\b\b\b\b\b\b\b\b\b\b\b\b\b\b\b\b\b\b\b\b\b\b\b\b\b\b\b\b\b\b\b\b\b\b\b\b\b\b\b\b\b\b\b\b\r",
      "11/12 [==========================>...] - ETA: 0s - loss: 0.5072"
     ]
    },
    {
     "name": "stdout",
     "output_type": "stream",
     "text": [
      "\b\b\b\b\b\b\b\b\b\b\b\b\b\b\b\b\b\b\b\b\b\b\b\b\b\b\b\b\b\b\b\b\b\b\b\b\b\b\b\b\b\b\b\b\b\b\b\b\b\b\b\b\b\b\b\b\b\b\b\b\b\b\b\r",
      "12/12 [==============================] - 0s 14ms/step - loss: 0.5097 - val_loss: 0.5222\n"
     ]
    },
    {
     "name": "stdout",
     "output_type": "stream",
     "text": [
      "Epoch 28/1000\n"
     ]
    },
    {
     "name": "stdout",
     "output_type": "stream",
     "text": [
      "\r",
      " 1/12 [=>............................] - ETA: 0s - loss: 0.5287"
     ]
    },
    {
     "name": "stdout",
     "output_type": "stream",
     "text": [
      "\b\b\b\b\b\b\b\b\b\b\b\b\b\b\b\b\b\b\b\b\b\b\b\b\b\b\b\b\b\b\b\b\b\b\b\b\b\b\b\b\b\b\b\b\b\b\b\b\b\b\b\b\b\b\b\b\b\b\b\b\b\b\b\r",
      " 6/12 [==============>...............] - ETA: 0s - loss: 0.5138"
     ]
    },
    {
     "name": "stdout",
     "output_type": "stream",
     "text": [
      "\b\b\b\b\b\b\b\b\b\b\b\b\b\b\b\b\b\b\b\b\b\b\b\b\b\b\b\b\b\b\b\b\b\b\b\b\b\b\b\b\b\b\b\b\b\b\b\b\b\b\b\b\b\b\b\b\b\b\b\b\b\b\b\r",
      "11/12 [==========================>...] - ETA: 0s - loss: 0.5075"
     ]
    },
    {
     "name": "stdout",
     "output_type": "stream",
     "text": [
      "\b\b\b\b\b\b\b\b\b\b\b\b\b\b\b\b\b\b\b\b\b\b\b\b\b\b\b\b\b\b\b\b\b\b\b\b\b\b\b\b\b\b\b\b\b\b\b\b\b\b\b\b\b\b\b\b\b\b\b\b\b\b\b\r",
      "12/12 [==============================] - 0s 14ms/step - loss: 0.5077 - val_loss: 0.5213\n"
     ]
    },
    {
     "name": "stdout",
     "output_type": "stream",
     "text": [
      "Epoch 29/1000\n"
     ]
    },
    {
     "name": "stdout",
     "output_type": "stream",
     "text": [
      "\r",
      " 1/12 [=>............................] - ETA: 0s - loss: 0.4866"
     ]
    },
    {
     "name": "stdout",
     "output_type": "stream",
     "text": [
      "\b\b\b\b\b\b\b\b\b\b\b\b\b\b\b\b\b\b\b\b\b\b\b\b\b\b\b\b\b\b\b\b\b\b\b\b\b\b\b\b\b\b\b\b\b\b\b\b\b\b\b\b\b\b\b\b\b\b\b\b\b\b\b\r",
      " 6/12 [==============>...............] - ETA: 0s - loss: 0.4846"
     ]
    },
    {
     "name": "stdout",
     "output_type": "stream",
     "text": [
      "\b\b\b\b\b\b\b\b\b\b\b\b\b\b\b\b\b\b\b\b\b\b\b\b\b\b\b\b\b\b\b\b\b\b\b\b\b\b\b\b\b\b\b\b\b\b\b\b\b\b\b\b\b\b\b\b\b\b\b\b\b\b\b\r",
      "11/12 [==========================>...] - ETA: 0s - loss: 0.4963"
     ]
    },
    {
     "name": "stdout",
     "output_type": "stream",
     "text": [
      "\b\b\b\b\b\b\b\b\b\b\b\b\b\b\b\b\b\b\b\b\b\b\b\b\b\b\b\b\b\b\b\b\b\b\b\b\b\b\b\b\b\b\b\b\b\b\b\b\b\b\b\b\b\b\b\b\b\b\b\b\b\b\b\r",
      "12/12 [==============================] - 0s 14ms/step - loss: 0.4988 - val_loss: 0.5204\n"
     ]
    },
    {
     "name": "stdout",
     "output_type": "stream",
     "text": [
      "Epoch 30/1000\n"
     ]
    },
    {
     "name": "stdout",
     "output_type": "stream",
     "text": [
      "\r",
      " 1/12 [=>............................] - ETA: 0s - loss: 0.4713"
     ]
    },
    {
     "name": "stdout",
     "output_type": "stream",
     "text": [
      "\b\b\b\b\b\b\b\b\b\b\b\b\b\b\b\b\b\b\b\b\b\b\b\b\b\b\b\b\b\b\b\b\b\b\b\b\b\b\b\b\b\b\b\b\b\b\b\b\b\b\b\b\b\b\b\b\b\b\b\b\b\b\b\r",
      " 6/12 [==============>...............] - ETA: 0s - loss: 0.4968"
     ]
    },
    {
     "name": "stdout",
     "output_type": "stream",
     "text": [
      "\b\b\b\b\b\b\b\b\b\b\b\b\b\b\b\b\b\b\b\b\b\b\b\b\b\b\b\b\b\b\b\b\b\b\b\b\b\b\b\b\b\b\b\b\b\b\b\b\b\b\b\b\b\b\b\b\b\b\b\b\b\b\b\r",
      "11/12 [==========================>...] - ETA: 0s - loss: 0.5088"
     ]
    },
    {
     "name": "stdout",
     "output_type": "stream",
     "text": [
      "\b\b\b\b\b\b\b\b\b\b\b\b\b\b\b\b\b\b\b\b\b\b\b\b\b\b\b\b\b\b\b\b\b\b\b\b\b\b\b\b\b\b\b\b\b\b\b\b\b\b\b\b\b\b\b\b\b\b\b\b\b\b\b\r",
      "12/12 [==============================] - 0s 14ms/step - loss: 0.5038 - val_loss: 0.5198\n"
     ]
    },
    {
     "name": "stdout",
     "output_type": "stream",
     "text": [
      "Epoch 31/1000\n"
     ]
    },
    {
     "name": "stdout",
     "output_type": "stream",
     "text": [
      "\r",
      " 1/12 [=>............................] - ETA: 0s - loss: 0.4479"
     ]
    },
    {
     "name": "stdout",
     "output_type": "stream",
     "text": [
      "\b\b\b\b\b\b\b\b\b\b\b\b\b\b\b\b\b\b\b\b\b\b\b\b\b\b\b\b\b\b\b\b\b\b\b\b\b\b\b\b\b\b\b\b\b\b\b\b\b\b\b\b\b\b\b\b\b\b\b\b\b\b\b\r",
      " 6/12 [==============>...............] - ETA: 0s - loss: 0.5086"
     ]
    },
    {
     "name": "stdout",
     "output_type": "stream",
     "text": [
      "\b\b\b\b\b\b\b\b\b\b\b\b\b\b\b\b\b\b\b\b\b\b\b\b\b\b\b\b\b\b\b\b\b\b\b\b\b\b\b\b\b\b\b\b\b\b\b\b\b\b\b\b\b\b\b\b\b\b\b\b\b\b\b\r",
      "11/12 [==========================>...] - ETA: 0s - loss: 0.5009"
     ]
    },
    {
     "name": "stdout",
     "output_type": "stream",
     "text": [
      "\b\b\b\b\b\b\b\b\b\b\b\b\b\b\b\b\b\b\b\b\b\b\b\b\b\b\b\b\b\b\b\b\b\b\b\b\b\b\b\b\b\b\b\b\b\b\b\b\b\b\b\b\b\b\b\b\b\b\b\b\b\b\b\r",
      "12/12 [==============================] - 0s 14ms/step - loss: 0.5047 - val_loss: 0.5193\n"
     ]
    },
    {
     "name": "stdout",
     "output_type": "stream",
     "text": [
      "Epoch 32/1000\n"
     ]
    },
    {
     "name": "stdout",
     "output_type": "stream",
     "text": [
      "\r",
      " 1/12 [=>............................] - ETA: 0s - loss: 0.4664"
     ]
    },
    {
     "name": "stdout",
     "output_type": "stream",
     "text": [
      "\b\b\b\b\b\b\b\b\b\b\b\b\b\b\b\b\b\b\b\b\b\b\b\b\b\b\b\b\b\b\b\b\b\b\b\b\b\b\b\b\b\b\b\b\b\b\b\b\b\b\b\b\b\b\b\b\b\b\b\b\b\b\b\r",
      " 6/12 [==============>...............] - ETA: 0s - loss: 0.5056"
     ]
    },
    {
     "name": "stdout",
     "output_type": "stream",
     "text": [
      "\b\b\b\b\b\b\b\b\b\b\b\b\b\b\b\b\b\b\b\b\b\b\b\b\b\b\b\b\b\b\b\b\b\b\b\b\b\b\b\b\b\b\b\b\b\b\b\b\b\b\b\b\b\b\b\b\b\b\b\b\b\b\b\r",
      "11/12 [==========================>...] - ETA: 0s - loss: 0.4970"
     ]
    },
    {
     "name": "stdout",
     "output_type": "stream",
     "text": [
      "\b\b\b\b\b\b\b\b\b\b\b\b\b\b\b\b\b\b\b\b\b\b\b\b\b\b\b\b\b\b\b\b\b\b\b\b\b\b\b\b\b\b\b\b\b\b\b\b\b\b\b\b\b\b\b\b\b\b\b\b\b\b\b\r",
      "12/12 [==============================] - 0s 14ms/step - loss: 0.4993 - val_loss: 0.5186\n"
     ]
    },
    {
     "name": "stdout",
     "output_type": "stream",
     "text": [
      "Epoch 33/1000\n"
     ]
    },
    {
     "name": "stdout",
     "output_type": "stream",
     "text": [
      "\r",
      " 1/12 [=>............................] - ETA: 0s - loss: 0.4699"
     ]
    },
    {
     "name": "stdout",
     "output_type": "stream",
     "text": [
      "\b\b\b\b\b\b\b\b\b\b\b\b\b\b\b\b\b\b\b\b\b\b\b\b\b\b\b\b\b\b\b\b\b\b\b\b\b\b\b\b\b\b\b\b\b\b\b\b\b\b\b\b\b\b\b\b\b\b\b\b\b\b\b\r",
      " 6/12 [==============>...............] - ETA: 0s - loss: 0.4935"
     ]
    },
    {
     "name": "stdout",
     "output_type": "stream",
     "text": [
      "\b\b\b\b\b\b\b\b\b\b\b\b\b\b\b\b\b\b\b\b\b\b\b\b\b\b\b\b\b\b\b\b\b\b\b\b\b\b\b\b\b\b\b\b\b\b\b\b\b\b\b\b\b\b\b\b\b\b\b\b\b\b\b\r",
      "11/12 [==========================>...] - ETA: 0s - loss: 0.4913"
     ]
    },
    {
     "name": "stdout",
     "output_type": "stream",
     "text": [
      "\b\b\b\b\b\b\b\b\b\b\b\b\b\b\b\b\b\b\b\b\b\b\b\b\b\b\b\b\b\b\b\b\b\b\b\b\b\b\b\b\b\b\b\b\b\b\b\b\b\b\b\b\b\b\b\b\b\b\b\b\b\b\b\r",
      "12/12 [==============================] - 0s 14ms/step - loss: 0.4906 - val_loss: 0.5178\n"
     ]
    },
    {
     "name": "stdout",
     "output_type": "stream",
     "text": [
      "Epoch 34/1000\n"
     ]
    },
    {
     "name": "stdout",
     "output_type": "stream",
     "text": [
      "\r",
      " 1/12 [=>............................] - ETA: 0s - loss: 0.5224"
     ]
    },
    {
     "name": "stdout",
     "output_type": "stream",
     "text": [
      "\b\b\b\b\b\b\b\b\b\b\b\b\b\b\b\b\b\b\b\b\b\b\b\b\b\b\b\b\b\b\b\b\b\b\b\b\b\b\b\b\b\b\b\b\b\b\b\b\b\b\b\b\b\b\b\b\b\b\b\b\b\b\b\r",
      " 6/12 [==============>...............] - ETA: 0s - loss: 0.5037"
     ]
    },
    {
     "name": "stdout",
     "output_type": "stream",
     "text": [
      "\b\b\b\b\b\b\b\b\b\b\b\b\b\b\b\b\b\b\b\b\b\b\b\b\b\b\b\b\b\b\b\b\b\b\b\b\b\b\b\b\b\b\b\b\b\b\b\b\b\b\b\b\b\b\b\b\b\b\b\b\b\b\b\r",
      "11/12 [==========================>...] - ETA: 0s - loss: 0.5023"
     ]
    },
    {
     "name": "stdout",
     "output_type": "stream",
     "text": [
      "\b\b\b\b\b\b\b\b\b\b\b\b\b\b\b\b\b\b\b\b\b\b\b\b\b\b\b\b\b\b\b\b\b\b\b\b\b\b\b\b\b\b\b\b\b\b\b\b\b\b\b\b\b\b\b\b\b\b\b\b\b\b\b\r",
      "12/12 [==============================] - 0s 15ms/step - loss: 0.4993 - val_loss: 0.5168\n"
     ]
    },
    {
     "name": "stdout",
     "output_type": "stream",
     "text": [
      "Epoch 35/1000\n"
     ]
    },
    {
     "name": "stdout",
     "output_type": "stream",
     "text": [
      "\r",
      " 1/12 [=>............................] - ETA: 0s - loss: 0.4994"
     ]
    },
    {
     "name": "stdout",
     "output_type": "stream",
     "text": [
      "\b\b\b\b\b\b\b\b\b\b\b\b\b\b\b\b\b\b\b\b\b\b\b\b\b\b\b\b\b\b\b\b\b\b\b\b\b\b\b\b\b\b\b\b\b\b\b\b\b\b\b\b\b\b\b\b\b\b\b\b\b\b\b\r",
      " 6/12 [==============>...............] - ETA: 0s - loss: 0.4936"
     ]
    },
    {
     "name": "stdout",
     "output_type": "stream",
     "text": [
      "\b\b\b\b\b\b\b\b\b\b\b\b\b\b\b\b\b\b\b\b\b\b\b\b\b\b\b\b\b\b\b\b\b\b\b\b\b\b\b\b\b\b\b\b\b\b\b\b\b\b\b\b\b\b\b\b\b\b\b\b\b\b\b\r",
      "11/12 [==========================>...] - ETA: 0s - loss: 0.4916"
     ]
    },
    {
     "name": "stdout",
     "output_type": "stream",
     "text": [
      "\b\b\b\b\b\b\b\b\b\b\b\b\b\b\b\b\b\b\b\b\b\b\b\b\b\b\b\b\b\b\b\b\b\b\b\b\b\b\b\b\b\b\b\b\b\b\b\b\b\b\b\b\b\b\b\b\b\b\b\b\b\b\b\r",
      "12/12 [==============================] - 0s 14ms/step - loss: 0.4942 - val_loss: 0.5162\n"
     ]
    },
    {
     "name": "stdout",
     "output_type": "stream",
     "text": [
      "Epoch 36/1000\n"
     ]
    },
    {
     "name": "stdout",
     "output_type": "stream",
     "text": [
      "\r",
      " 1/12 [=>............................] - ETA: 0s - loss: 0.4814"
     ]
    },
    {
     "name": "stdout",
     "output_type": "stream",
     "text": [
      "\b\b\b\b\b\b\b\b\b\b\b\b\b\b\b\b\b\b\b\b\b\b\b\b\b\b\b\b\b\b\b\b\b\b\b\b\b\b\b\b\b\b\b\b\b\b\b\b\b\b\b\b\b\b\b\b\b\b\b\b\b\b\b\r",
      " 6/12 [==============>...............] - ETA: 0s - loss: 0.4814"
     ]
    },
    {
     "name": "stdout",
     "output_type": "stream",
     "text": [
      "\b\b\b\b\b\b\b\b\b\b\b\b\b\b\b\b\b\b\b\b\b\b\b\b\b\b\b\b\b\b\b\b\b\b\b\b\b\b\b\b\b\b\b\b\b\b\b\b\b\b\b\b\b\b\b\b\b\b\b\b\b\b\b\r",
      "11/12 [==========================>...] - ETA: 0s - loss: 0.4924"
     ]
    },
    {
     "name": "stdout",
     "output_type": "stream",
     "text": [
      "\b\b\b\b\b\b\b\b\b\b\b\b\b\b\b\b\b\b\b\b\b\b\b\b\b\b\b\b\b\b\b\b\b\b\b\b\b\b\b\b\b\b\b\b\b\b\b\b\b\b\b\b\b\b\b\b\b\b\b\b\b\b\b\r",
      "12/12 [==============================] - 0s 14ms/step - loss: 0.4925 - val_loss: 0.5156\n"
     ]
    },
    {
     "name": "stdout",
     "output_type": "stream",
     "text": [
      "Epoch 37/1000\n"
     ]
    },
    {
     "name": "stdout",
     "output_type": "stream",
     "text": [
      "\r",
      " 1/12 [=>............................] - ETA: 0s - loss: 0.4778"
     ]
    },
    {
     "name": "stdout",
     "output_type": "stream",
     "text": [
      "\b\b\b\b\b\b\b\b\b\b\b\b\b\b\b\b\b\b\b\b\b\b\b\b\b\b\b\b\b\b\b\b\b\b\b\b\b\b\b\b\b\b\b\b\b\b\b\b\b\b\b\b\b\b\b\b\b\b\b\b\b\b\b\r",
      " 6/12 [==============>...............] - ETA: 0s - loss: 0.4706"
     ]
    },
    {
     "name": "stdout",
     "output_type": "stream",
     "text": [
      "\b\b\b\b\b\b\b\b\b\b\b\b\b\b\b\b\b\b\b\b\b\b\b\b\b\b\b\b\b\b\b\b\b\b\b\b\b\b\b\b\b\b\b\b\b\b\b\b\b\b\b\b\b\b\b\b\b\b\b\b\b\b\b\r",
      "11/12 [==========================>...] - ETA: 0s - loss: 0.4848"
     ]
    },
    {
     "name": "stdout",
     "output_type": "stream",
     "text": [
      "\b\b\b\b\b\b\b\b\b\b\b\b\b\b\b\b\b\b\b\b\b\b\b\b\b\b\b\b\b\b\b\b\b\b\b\b\b\b\b\b\b\b\b\b\b\b\b\b\b\b\b\b\b\b\b\b\b\b\b\b\b\b\b\r",
      "12/12 [==============================] - 0s 14ms/step - loss: 0.4898 - val_loss: 0.5149\n"
     ]
    },
    {
     "name": "stdout",
     "output_type": "stream",
     "text": [
      "Epoch 38/1000\n"
     ]
    },
    {
     "name": "stdout",
     "output_type": "stream",
     "text": [
      "\r",
      " 1/12 [=>............................] - ETA: 0s - loss: 0.4625"
     ]
    },
    {
     "name": "stdout",
     "output_type": "stream",
     "text": [
      "\b\b\b\b\b\b\b\b\b\b\b\b\b\b\b\b\b\b\b\b\b\b\b\b\b\b\b\b\b\b\b\b\b\b\b\b\b\b\b\b\b\b\b\b\b\b\b\b\b\b\b\b\b\b\b\b\b\b\b\b\b\b\b\r",
      " 6/12 [==============>...............] - ETA: 0s - loss: 0.4793"
     ]
    },
    {
     "name": "stdout",
     "output_type": "stream",
     "text": [
      "\b\b\b\b\b\b\b\b\b\b\b\b\b\b\b\b\b\b\b\b\b\b\b\b\b\b\b\b\b\b\b\b\b\b\b\b\b\b\b\b\b\b\b\b\b\b\b\b\b\b\b\b\b\b\b\b\b\b\b\b\b\b\b\r",
      "11/12 [==========================>...] - ETA: 0s - loss: 0.4896"
     ]
    },
    {
     "name": "stdout",
     "output_type": "stream",
     "text": [
      "\b\b\b\b\b\b\b\b\b\b\b\b\b\b\b\b\b\b\b\b\b\b\b\b\b\b\b\b\b\b\b\b\b\b\b\b\b\b\b\b\b\b\b\b\b\b\b\b\b\b\b\b\b\b\b\b\b\b\b\b\b\b\b\r",
      "12/12 [==============================] - 0s 14ms/step - loss: 0.4883 - val_loss: 0.5145\n"
     ]
    },
    {
     "name": "stdout",
     "output_type": "stream",
     "text": [
      "Epoch 39/1000\n"
     ]
    },
    {
     "name": "stdout",
     "output_type": "stream",
     "text": [
      "\r",
      " 1/12 [=>............................] - ETA: 0s - loss: 0.5018"
     ]
    },
    {
     "name": "stdout",
     "output_type": "stream",
     "text": [
      "\b\b\b\b\b\b\b\b\b\b\b\b\b\b\b\b\b\b\b\b\b\b\b\b\b\b\b\b\b\b\b\b\b\b\b\b\b\b\b\b\b\b\b\b\b\b\b\b\b\b\b\b\b\b\b\b\b\b\b\b\b\b\b\r",
      " 6/12 [==============>...............] - ETA: 0s - loss: 0.4979"
     ]
    },
    {
     "name": "stdout",
     "output_type": "stream",
     "text": [
      "\b\b\b\b\b\b\b\b\b\b\b\b\b\b\b\b\b\b\b\b\b\b\b\b\b\b\b\b\b\b\b\b\b\b\b\b\b\b\b\b\b\b\b\b\b\b\b\b\b\b\b\b\b\b\b\b\b\b\b\b\b\b\b\r",
      "11/12 [==========================>...] - ETA: 0s - loss: 0.4940"
     ]
    },
    {
     "name": "stdout",
     "output_type": "stream",
     "text": [
      "\b\b\b\b\b\b\b\b\b\b\b\b\b\b\b\b\b\b\b\b\b\b\b\b\b\b\b\b\b\b\b\b\b\b\b\b\b\b\b\b\b\b\b\b\b\b\b\b\b\b\b\b\b\b\b\b\b\b\b\b\b\b\b\r",
      "12/12 [==============================] - 0s 14ms/step - loss: 0.4933 - val_loss: 0.5139\n"
     ]
    },
    {
     "name": "stdout",
     "output_type": "stream",
     "text": [
      "Epoch 40/1000\n"
     ]
    },
    {
     "name": "stdout",
     "output_type": "stream",
     "text": [
      "\r",
      " 1/12 [=>............................] - ETA: 0s - loss: 0.5194"
     ]
    },
    {
     "name": "stdout",
     "output_type": "stream",
     "text": [
      "\b\b\b\b\b\b\b\b\b\b\b\b\b\b\b\b\b\b\b\b\b\b\b\b\b\b\b\b\b\b\b\b\b\b\b\b\b\b\b\b\b\b\b\b\b\b\b\b\b\b\b\b\b\b\b\b\b\b\b\b\b\b\b\r",
      " 6/12 [==============>...............] - ETA: 0s - loss: 0.5008"
     ]
    },
    {
     "name": "stdout",
     "output_type": "stream",
     "text": [
      "\b\b\b\b\b\b\b\b\b\b\b\b\b\b\b\b\b\b\b\b\b\b\b\b\b\b\b\b\b\b\b\b\b\b\b\b\b\b\b\b\b\b\b\b\b\b\b\b\b\b\b\b\b\b\b\b\b\b\b\b\b\b\b\r",
      "11/12 [==========================>...] - ETA: 0s - loss: 0.4916"
     ]
    },
    {
     "name": "stdout",
     "output_type": "stream",
     "text": [
      "\b\b\b\b\b\b\b\b\b\b\b\b\b\b\b\b\b\b\b\b\b\b\b\b\b\b\b\b\b\b\b\b\b\b\b\b\b\b\b\b\b\b\b\b\b\b\b\b\b\b\b\b\b\b\b\b\b\b\b\b\b\b\b\r",
      "12/12 [==============================] - 0s 14ms/step - loss: 0.4927 - val_loss: 0.5134\n"
     ]
    },
    {
     "name": "stdout",
     "output_type": "stream",
     "text": [
      "Epoch 41/1000\n"
     ]
    },
    {
     "name": "stdout",
     "output_type": "stream",
     "text": [
      "\r",
      " 1/12 [=>............................] - ETA: 0s - loss: 0.4682"
     ]
    },
    {
     "name": "stdout",
     "output_type": "stream",
     "text": [
      "\b\b\b\b\b\b\b\b\b\b\b\b\b\b\b\b\b\b\b\b\b\b\b\b\b\b\b\b\b\b\b\b\b\b\b\b\b\b\b\b\b\b\b\b\b\b\b\b\b\b\b\b\b\b\b\b\b\b\b\b\b\b\b\r",
      " 6/12 [==============>...............] - ETA: 0s - loss: 0.4812"
     ]
    },
    {
     "name": "stdout",
     "output_type": "stream",
     "text": [
      "\b\b\b\b\b\b\b\b\b\b\b\b\b\b\b\b\b\b\b\b\b\b\b\b\b\b\b\b\b\b\b\b\b\b\b\b\b\b\b\b\b\b\b\b\b\b\b\b\b\b\b\b\b\b\b\b\b\b\b\b\b\b\b\r",
      "11/12 [==========================>...] - ETA: 0s - loss: 0.4830"
     ]
    },
    {
     "name": "stdout",
     "output_type": "stream",
     "text": [
      "\b\b\b\b\b\b\b\b\b\b\b\b\b\b\b\b\b\b\b\b\b\b\b\b\b\b\b\b\b\b\b\b\b\b\b\b\b\b\b\b\b\b\b\b\b\b\b\b\b\b\b\b\b\b\b\b\b\b\b\b\b\b\b\r",
      "12/12 [==============================] - 0s 14ms/step - loss: 0.4817 - val_loss: 0.5126\n"
     ]
    },
    {
     "name": "stdout",
     "output_type": "stream",
     "text": [
      "Epoch 42/1000\n"
     ]
    },
    {
     "name": "stdout",
     "output_type": "stream",
     "text": [
      "\r",
      " 1/12 [=>............................] - ETA: 0s - loss: 0.5112"
     ]
    },
    {
     "name": "stdout",
     "output_type": "stream",
     "text": [
      "\b\b\b\b\b\b\b\b\b\b\b\b\b\b\b\b\b\b\b\b\b\b\b\b\b\b\b\b\b\b\b\b\b\b\b\b\b\b\b\b\b\b\b\b\b\b\b\b\b\b\b\b\b\b\b\b\b\b\b\b\b\b\b\r",
      " 6/12 [==============>...............] - ETA: 0s - loss: 0.4825"
     ]
    },
    {
     "name": "stdout",
     "output_type": "stream",
     "text": [
      "\b\b\b\b\b\b\b\b\b\b\b\b\b\b\b\b\b\b\b\b\b\b\b\b\b\b\b\b\b\b\b\b\b\b\b\b\b\b\b\b\b\b\b\b\b\b\b\b\b\b\b\b\b\b\b\b\b\b\b\b\b\b\b\r",
      "11/12 [==========================>...] - ETA: 0s - loss: 0.4823"
     ]
    },
    {
     "name": "stdout",
     "output_type": "stream",
     "text": [
      "\b\b\b\b\b\b\b\b\b\b\b\b\b\b\b\b\b\b\b\b\b\b\b\b\b\b\b\b\b\b\b\b\b\b\b\b\b\b\b\b\b\b\b\b\b\b\b\b\b\b\b\b\b\b\b\b\b\b\b\b\b\b\b\r",
      "12/12 [==============================] - 0s 14ms/step - loss: 0.4880 - val_loss: 0.5121\n"
     ]
    },
    {
     "name": "stdout",
     "output_type": "stream",
     "text": [
      "Epoch 43/1000\n"
     ]
    },
    {
     "name": "stdout",
     "output_type": "stream",
     "text": [
      "\r",
      " 1/12 [=>............................] - ETA: 0s - loss: 0.4846"
     ]
    },
    {
     "name": "stdout",
     "output_type": "stream",
     "text": [
      "\b\b\b\b\b\b\b\b\b\b\b\b\b\b\b\b\b\b\b\b\b\b\b\b\b\b\b\b\b\b\b\b\b\b\b\b\b\b\b\b\b\b\b\b\b\b\b\b\b\b\b\b\b\b\b\b\b\b\b\b\b\b\b\r",
      " 6/12 [==============>...............] - ETA: 0s - loss: 0.4909"
     ]
    },
    {
     "name": "stdout",
     "output_type": "stream",
     "text": [
      "\b\b\b\b\b\b\b\b\b\b\b\b\b\b\b\b\b\b\b\b\b\b\b\b\b\b\b\b\b\b\b\b\b\b\b\b\b\b\b\b\b\b\b\b\b\b\b\b\b\b\b\b\b\b\b\b\b\b\b\b\b\b\b\r",
      "11/12 [==========================>...] - ETA: 0s - loss: 0.4785"
     ]
    },
    {
     "name": "stdout",
     "output_type": "stream",
     "text": [
      "\b\b\b\b\b\b\b\b\b\b\b\b\b\b\b\b\b\b\b\b\b\b\b\b\b\b\b\b\b\b\b\b\b\b\b\b\b\b\b\b\b\b\b\b\b\b\b\b\b\b\b\b\b\b\b\b\b\b\b\b\b\b\b\r",
      "12/12 [==============================] - 0s 14ms/step - loss: 0.4861 - val_loss: 0.5116\n"
     ]
    },
    {
     "name": "stdout",
     "output_type": "stream",
     "text": [
      "Epoch 44/1000\n"
     ]
    },
    {
     "name": "stdout",
     "output_type": "stream",
     "text": [
      "\r",
      " 1/12 [=>............................] - ETA: 0s - loss: 0.4405"
     ]
    },
    {
     "name": "stdout",
     "output_type": "stream",
     "text": [
      "\b\b\b\b\b\b\b\b\b\b\b\b\b\b\b\b\b\b\b\b\b\b\b\b\b\b\b\b\b\b\b\b\b\b\b\b\b\b\b\b\b\b\b\b\b\b\b\b\b\b\b\b\b\b\b\b\b\b\b\b\b\b\b\r",
      " 6/12 [==============>...............] - ETA: 0s - loss: 0.4775"
     ]
    },
    {
     "name": "stdout",
     "output_type": "stream",
     "text": [
      "\b\b\b\b\b\b\b\b\b\b\b\b\b\b\b\b\b\b\b\b\b\b\b\b\b\b\b\b\b\b\b\b\b\b\b\b\b\b\b\b\b\b\b\b\b\b\b\b\b\b\b\b\b\b\b\b\b\b\b\b\b\b\b\r",
      "11/12 [==========================>...] - ETA: 0s - loss: 0.4808"
     ]
    },
    {
     "name": "stdout",
     "output_type": "stream",
     "text": [
      "\b\b\b\b\b\b\b\b\b\b\b\b\b\b\b\b\b\b\b\b\b\b\b\b\b\b\b\b\b\b\b\b\b\b\b\b\b\b\b\b\b\b\b\b\b\b\b\b\b\b\b\b\b\b\b\b\b\b\b\b\b\b\b\r",
      "12/12 [==============================] - 0s 14ms/step - loss: 0.4816 - val_loss: 0.5111\n"
     ]
    },
    {
     "name": "stdout",
     "output_type": "stream",
     "text": [
      "Epoch 45/1000\n"
     ]
    },
    {
     "name": "stdout",
     "output_type": "stream",
     "text": [
      "\r",
      " 1/12 [=>............................] - ETA: 0s - loss: 0.4553"
     ]
    },
    {
     "name": "stdout",
     "output_type": "stream",
     "text": [
      "\b\b\b\b\b\b\b\b\b\b\b\b\b\b\b\b\b\b\b\b\b\b\b\b\b\b\b\b\b\b\b\b\b\b\b\b\b\b\b\b\b\b\b\b\b\b\b\b\b\b\b\b\b\b\b\b\b\b\b\b\b\b\b\r",
      " 6/12 [==============>...............] - ETA: 0s - loss: 0.4718"
     ]
    },
    {
     "name": "stdout",
     "output_type": "stream",
     "text": [
      "\b\b\b\b\b\b\b\b\b\b\b\b\b\b\b\b\b\b\b\b\b\b\b\b\b\b\b\b\b\b\b\b\b\b\b\b\b\b\b\b\b\b\b\b\b\b\b\b\b\b\b\b\b\b\b\b\b\b\b\b\b\b\b\r",
      "11/12 [==========================>...] - ETA: 0s - loss: 0.4840"
     ]
    },
    {
     "name": "stdout",
     "output_type": "stream",
     "text": [
      "\b\b\b\b\b\b\b\b\b\b\b\b\b\b\b\b\b\b\b\b\b\b\b\b\b\b\b\b\b\b\b\b\b\b\b\b\b\b\b\b\b\b\b\b\b\b\b\b\b\b\b\b\b\b\b\b\b\b\b\b\b\b\b\r",
      "12/12 [==============================] - 0s 14ms/step - loss: 0.4880 - val_loss: 0.5107\n"
     ]
    },
    {
     "name": "stdout",
     "output_type": "stream",
     "text": [
      "Epoch 46/1000\n"
     ]
    },
    {
     "name": "stdout",
     "output_type": "stream",
     "text": [
      "\r",
      " 1/12 [=>............................] - ETA: 0s - loss: 0.3993"
     ]
    },
    {
     "name": "stdout",
     "output_type": "stream",
     "text": [
      "\b\b\b\b\b\b\b\b\b\b\b\b\b\b\b\b\b\b\b\b\b\b\b\b\b\b\b\b\b\b\b\b\b\b\b\b\b\b\b\b\b\b\b\b\b\b\b\b\b\b\b\b\b\b\b\b\b\b\b\b\b\b\b\r",
      " 6/12 [==============>...............] - ETA: 0s - loss: 0.4663"
     ]
    },
    {
     "name": "stdout",
     "output_type": "stream",
     "text": [
      "\b\b\b\b\b\b\b\b\b\b\b\b\b\b\b\b\b\b\b\b\b\b\b\b\b\b\b\b\b\b\b\b\b\b\b\b\b\b\b\b\b\b\b\b\b\b\b\b\b\b\b\b\b\b\b\b\b\b\b\b\b\b\b\r",
      "11/12 [==========================>...] - ETA: 0s - loss: 0.4765"
     ]
    },
    {
     "name": "stdout",
     "output_type": "stream",
     "text": [
      "\b\b\b\b\b\b\b\b\b\b\b\b\b\b\b\b\b\b\b\b\b\b\b\b\b\b\b\b\b\b\b\b\b\b\b\b\b\b\b\b\b\b\b\b\b\b\b\b\b\b\b\b\b\b\b\b\b\b\b\b\b\b\b\r",
      "12/12 [==============================] - 0s 14ms/step - loss: 0.4767 - val_loss: 0.5103\n"
     ]
    },
    {
     "name": "stdout",
     "output_type": "stream",
     "text": [
      "Epoch 47/1000\n"
     ]
    },
    {
     "name": "stdout",
     "output_type": "stream",
     "text": [
      "\r",
      " 1/12 [=>............................] - ETA: 0s - loss: 0.4539"
     ]
    },
    {
     "name": "stdout",
     "output_type": "stream",
     "text": [
      "\b\b\b\b\b\b\b\b\b\b\b\b\b\b\b\b\b\b\b\b\b\b\b\b\b\b\b\b\b\b\b\b\b\b\b\b\b\b\b\b\b\b\b\b\b\b\b\b\b\b\b\b\b\b\b\b\b\b\b\b\b\b\b\r",
      " 6/12 [==============>...............] - ETA: 0s - loss: 0.4710"
     ]
    },
    {
     "name": "stdout",
     "output_type": "stream",
     "text": [
      "\b\b\b\b\b\b\b\b\b\b\b\b\b\b\b\b\b\b\b\b\b\b\b\b\b\b\b\b\b\b\b\b\b\b\b\b\b\b\b\b\b\b\b\b\b\b\b\b\b\b\b\b\b\b\b\b\b\b\b\b\b\b\b\r",
      "11/12 [==========================>...] - ETA: 0s - loss: 0.4794"
     ]
    },
    {
     "name": "stdout",
     "output_type": "stream",
     "text": [
      "\b\b\b\b\b\b\b\b\b\b\b\b\b\b\b\b\b\b\b\b\b\b\b\b\b\b\b\b\b\b\b\b\b\b\b\b\b\b\b\b\b\b\b\b\b\b\b\b\b\b\b\b\b\b\b\b\b\b\b\b\b\b\b\r",
      "12/12 [==============================] - 0s 14ms/step - loss: 0.4834 - val_loss: 0.5103\n"
     ]
    },
    {
     "name": "stdout",
     "output_type": "stream",
     "text": [
      "Epoch 48/1000\n"
     ]
    },
    {
     "name": "stdout",
     "output_type": "stream",
     "text": [
      "\r",
      " 1/12 [=>............................] - ETA: 0s - loss: 0.4980"
     ]
    },
    {
     "name": "stdout",
     "output_type": "stream",
     "text": [
      "\b\b\b\b\b\b\b\b\b\b\b\b\b\b\b\b\b\b\b\b\b\b\b\b\b\b\b\b\b\b\b\b\b\b\b\b\b\b\b\b\b\b\b\b\b\b\b\b\b\b\b\b\b\b\b\b\b\b\b\b\b\b\b\r",
      " 6/12 [==============>...............] - ETA: 0s - loss: 0.4770"
     ]
    },
    {
     "name": "stdout",
     "output_type": "stream",
     "text": [
      "\b\b\b\b\b\b\b\b\b\b\b\b\b\b\b\b\b\b\b\b\b\b\b\b\b\b\b\b\b\b\b\b\b\b\b\b\b\b\b\b\b\b\b\b\b\b\b\b\b\b\b\b\b\b\b\b\b\b\b\b\b\b\b\r",
      "11/12 [==========================>...] - ETA: 0s - loss: 0.4789"
     ]
    },
    {
     "name": "stdout",
     "output_type": "stream",
     "text": [
      "\b\b\b\b\b\b\b\b\b\b\b\b\b\b\b\b\b\b\b\b\b\b\b\b\b\b\b\b\b\b\b\b\b\b\b\b\b\b\b\b\b\b\b\b\b\b\b\b\b\b\b\b\b\b\b\b\b\b\b\b\b\b\b\r",
      "12/12 [==============================] - 0s 14ms/step - loss: 0.4824 - val_loss: 0.5099\n"
     ]
    },
    {
     "name": "stdout",
     "output_type": "stream",
     "text": [
      "Epoch 49/1000\n"
     ]
    },
    {
     "name": "stdout",
     "output_type": "stream",
     "text": [
      "\r",
      " 1/12 [=>............................] - ETA: 0s - loss: 0.4817"
     ]
    },
    {
     "name": "stdout",
     "output_type": "stream",
     "text": [
      "\b\b\b\b\b\b\b\b\b\b\b\b\b\b\b\b\b\b\b\b\b\b\b\b\b\b\b\b\b\b\b\b\b\b\b\b\b\b\b\b\b\b\b\b\b\b\b\b\b\b\b\b\b\b\b\b\b\b\b\b\b\b\b\r",
      " 6/12 [==============>...............] - ETA: 0s - loss: 0.4811"
     ]
    },
    {
     "name": "stdout",
     "output_type": "stream",
     "text": [
      "\b\b\b\b\b\b\b\b\b\b\b\b\b\b\b\b\b\b\b\b\b\b\b\b\b\b\b\b\b\b\b\b\b\b\b\b\b\b\b\b\b\b\b\b\b\b\b\b\b\b\b\b\b\b\b\b\b\b\b\b\b\b\b\r",
      "11/12 [==========================>...] - ETA: 0s - loss: 0.4734"
     ]
    },
    {
     "name": "stdout",
     "output_type": "stream",
     "text": [
      "\b\b\b\b\b\b\b\b\b\b\b\b\b\b\b\b\b\b\b\b\b\b\b\b\b\b\b\b\b\b\b\b\b\b\b\b\b\b\b\b\b\b\b\b\b\b\b\b\b\b\b\b\b\b\b\b\b\b\b\b\b\b\b\r",
      "12/12 [==============================] - 0s 14ms/step - loss: 0.4760 - val_loss: 0.5095\n"
     ]
    },
    {
     "name": "stdout",
     "output_type": "stream",
     "text": [
      "Epoch 50/1000\n"
     ]
    },
    {
     "name": "stdout",
     "output_type": "stream",
     "text": [
      "\r",
      " 1/12 [=>............................] - ETA: 0s - loss: 0.4907"
     ]
    },
    {
     "name": "stdout",
     "output_type": "stream",
     "text": [
      "\b\b\b\b\b\b\b\b\b\b\b\b\b\b\b\b\b\b\b\b\b\b\b\b\b\b\b\b\b\b\b\b\b\b\b\b\b\b\b\b\b\b\b\b\b\b\b\b\b\b\b\b\b\b\b\b\b\b\b\b\b\b\b\r",
      " 6/12 [==============>...............] - ETA: 0s - loss: 0.4855"
     ]
    },
    {
     "name": "stdout",
     "output_type": "stream",
     "text": [
      "\b\b\b\b\b\b\b\b\b\b\b\b\b\b\b\b\b\b\b\b\b\b\b\b\b\b\b\b\b\b\b\b\b\b\b\b\b\b\b\b\b\b\b\b\b\b\b\b\b\b\b\b\b\b\b\b\b\b\b\b\b\b\b\r",
      "11/12 [==========================>...] - ETA: 0s - loss: 0.4803"
     ]
    },
    {
     "name": "stdout",
     "output_type": "stream",
     "text": [
      "\b\b\b\b\b\b\b\b\b\b\b\b\b\b\b\b\b\b\b\b\b\b\b\b\b\b\b\b\b\b\b\b\b\b\b\b\b\b\b\b\b\b\b\b\b\b\b\b\b\b\b\b\b\b\b\b\b\b\b\b\b\b\b\r",
      "12/12 [==============================] - 0s 14ms/step - loss: 0.4794 - val_loss: 0.5090\n"
     ]
    },
    {
     "name": "stdout",
     "output_type": "stream",
     "text": [
      "Epoch 51/1000\n"
     ]
    },
    {
     "name": "stdout",
     "output_type": "stream",
     "text": [
      "\r",
      " 1/12 [=>............................] - ETA: 0s - loss: 0.4992"
     ]
    },
    {
     "name": "stdout",
     "output_type": "stream",
     "text": [
      "\b\b\b\b\b\b\b\b\b\b\b\b\b\b\b\b\b\b\b\b\b\b\b\b\b\b\b\b\b\b\b\b\b\b\b\b\b\b\b\b\b\b\b\b\b\b\b\b\b\b\b\b\b\b\b\b\b\b\b\b\b\b\b\r",
      " 6/12 [==============>...............] - ETA: 0s - loss: 0.4844"
     ]
    },
    {
     "name": "stdout",
     "output_type": "stream",
     "text": [
      "\b\b\b\b\b\b\b\b\b\b\b\b\b\b\b\b\b\b\b\b\b\b\b\b\b\b\b\b\b\b\b\b\b\b\b\b\b\b\b\b\b\b\b\b\b\b\b\b\b\b\b\b\b\b\b\b\b\b\b\b\b\b\b\r",
      "11/12 [==========================>...] - ETA: 0s - loss: 0.4768"
     ]
    },
    {
     "name": "stdout",
     "output_type": "stream",
     "text": [
      "\b\b\b\b\b\b\b\b\b\b\b\b\b\b\b\b\b\b\b\b\b\b\b\b\b\b\b\b\b\b\b\b\b\b\b\b\b\b\b\b\b\b\b\b\b\b\b\b\b\b\b\b\b\b\b\b\b\b\b\b\b\b\b\r",
      "12/12 [==============================] - 0s 14ms/step - loss: 0.4792 - val_loss: 0.5087\n"
     ]
    },
    {
     "name": "stdout",
     "output_type": "stream",
     "text": [
      "Epoch 52/1000\n"
     ]
    },
    {
     "name": "stdout",
     "output_type": "stream",
     "text": [
      "\r",
      " 1/12 [=>............................] - ETA: 0s - loss: 0.4982"
     ]
    },
    {
     "name": "stdout",
     "output_type": "stream",
     "text": [
      "\b\b\b\b\b\b\b\b\b\b\b\b\b\b\b\b\b\b\b\b\b\b\b\b\b\b\b\b\b\b\b\b\b\b\b\b\b\b\b\b\b\b\b\b\b\b\b\b\b\b\b\b\b\b\b\b\b\b\b\b\b\b\b\r",
      " 6/12 [==============>...............] - ETA: 0s - loss: 0.4655"
     ]
    },
    {
     "name": "stdout",
     "output_type": "stream",
     "text": [
      "\b\b\b\b\b\b\b\b\b\b\b\b\b\b\b\b\b\b\b\b\b\b\b\b\b\b\b\b\b\b\b\b\b\b\b\b\b\b\b\b\b\b\b\b\b\b\b\b\b\b\b\b\b\b\b\b\b\b\b\b\b\b\b\r",
      "11/12 [==========================>...] - ETA: 0s - loss: 0.4731"
     ]
    },
    {
     "name": "stdout",
     "output_type": "stream",
     "text": [
      "\b\b\b\b\b\b\b\b\b\b\b\b\b\b\b\b\b\b\b\b\b\b\b\b\b\b\b\b\b\b\b\b\b\b\b\b\b\b\b\b\b\b\b\b\b\b\b\b\b\b\b\b\b\b\b\b\b\b\b\b\b\b\b\r",
      "12/12 [==============================] - 0s 14ms/step - loss: 0.4749 - val_loss: 0.5083\n"
     ]
    },
    {
     "name": "stdout",
     "output_type": "stream",
     "text": [
      "Epoch 53/1000\n"
     ]
    },
    {
     "name": "stdout",
     "output_type": "stream",
     "text": [
      "\r",
      " 1/12 [=>............................] - ETA: 0s - loss: 0.4884"
     ]
    },
    {
     "name": "stdout",
     "output_type": "stream",
     "text": [
      "\b\b\b\b\b\b\b\b\b\b\b\b\b\b\b\b\b\b\b\b\b\b\b\b\b\b\b\b\b\b\b\b\b\b\b\b\b\b\b\b\b\b\b\b\b\b\b\b\b\b\b\b\b\b\b\b\b\b\b\b\b\b\b\r",
      " 6/12 [==============>...............] - ETA: 0s - loss: 0.4735"
     ]
    },
    {
     "name": "stdout",
     "output_type": "stream",
     "text": [
      "\b\b\b\b\b\b\b\b\b\b\b\b\b\b\b\b\b\b\b\b\b\b\b\b\b\b\b\b\b\b\b\b\b\b\b\b\b\b\b\b\b\b\b\b\b\b\b\b\b\b\b\b\b\b\b\b\b\b\b\b\b\b\b\r",
      "11/12 [==========================>...] - ETA: 0s - loss: 0.4825"
     ]
    },
    {
     "name": "stdout",
     "output_type": "stream",
     "text": [
      "\b\b\b\b\b\b\b\b\b\b\b\b\b\b\b\b\b\b\b\b\b\b\b\b\b\b\b\b\b\b\b\b\b\b\b\b\b\b\b\b\b\b\b\b\b\b\b\b\b\b\b\b\b\b\b\b\b\b\b\b\b\b\b\r",
      "12/12 [==============================] - 0s 14ms/step - loss: 0.4812 - val_loss: 0.5079\n"
     ]
    },
    {
     "name": "stdout",
     "output_type": "stream",
     "text": [
      "Epoch 54/1000\n"
     ]
    },
    {
     "name": "stdout",
     "output_type": "stream",
     "text": [
      "\r",
      " 1/12 [=>............................] - ETA: 0s - loss: 0.4617"
     ]
    },
    {
     "name": "stdout",
     "output_type": "stream",
     "text": [
      "\b\b\b\b\b\b\b\b\b\b\b\b\b\b\b\b\b\b\b\b\b\b\b\b\b\b\b\b\b\b\b\b\b\b\b\b\b\b\b\b\b\b\b\b\b\b\b\b\b\b\b\b\b\b\b\b\b\b\b\b\b\b\b\r",
      " 6/12 [==============>...............] - ETA: 0s - loss: 0.4626"
     ]
    },
    {
     "name": "stdout",
     "output_type": "stream",
     "text": [
      "\b\b\b\b\b\b\b\b\b\b\b\b\b\b\b\b\b\b\b\b\b\b\b\b\b\b\b\b\b\b\b\b\b\b\b\b\b\b\b\b\b\b\b\b\b\b\b\b\b\b\b\b\b\b\b\b\b\b\b\b\b\b\b\r",
      "11/12 [==========================>...] - ETA: 0s - loss: 0.4740"
     ]
    },
    {
     "name": "stdout",
     "output_type": "stream",
     "text": [
      "\b\b\b\b\b\b\b\b\b\b\b\b\b\b\b\b\b\b\b\b\b\b\b\b\b\b\b\b\b\b\b\b\b\b\b\b\b\b\b\b\b\b\b\b\b\b\b\b\b\b\b\b\b\b\b\b\b\b\b\b\b\b\b\r",
      "12/12 [==============================] - 0s 14ms/step - loss: 0.4747 - val_loss: 0.5076\n"
     ]
    },
    {
     "name": "stdout",
     "output_type": "stream",
     "text": [
      "Epoch 55/1000\n"
     ]
    },
    {
     "name": "stdout",
     "output_type": "stream",
     "text": [
      "\r",
      " 1/12 [=>............................] - ETA: 0s - loss: 0.5205"
     ]
    },
    {
     "name": "stdout",
     "output_type": "stream",
     "text": [
      "\b\b\b\b\b\b\b\b\b\b\b\b\b\b\b\b\b\b\b\b\b\b\b\b\b\b\b\b\b\b\b\b\b\b\b\b\b\b\b\b\b\b\b\b\b\b\b\b\b\b\b\b\b\b\b\b\b\b\b\b\b\b\b\r",
      " 6/12 [==============>...............] - ETA: 0s - loss: 0.4866"
     ]
    },
    {
     "name": "stdout",
     "output_type": "stream",
     "text": [
      "\b\b\b\b\b\b\b\b\b\b\b\b\b\b\b\b\b\b\b\b\b\b\b\b\b\b\b\b\b\b\b\b\b\b\b\b\b\b\b\b\b\b\b\b\b\b\b\b\b\b\b\b\b\b\b\b\b\b\b\b\b\b\b\r",
      "11/12 [==========================>...] - ETA: 0s - loss: 0.4751"
     ]
    },
    {
     "name": "stdout",
     "output_type": "stream",
     "text": [
      "\b\b\b\b\b\b\b\b\b\b\b\b\b\b\b\b\b\b\b\b\b\b\b\b\b\b\b\b\b\b\b\b\b\b\b\b\b\b\b\b\b\b\b\b\b\b\b\b\b\b\b\b\b\b\b\b\b\b\b\b\b\b\b\r",
      "12/12 [==============================] - 0s 14ms/step - loss: 0.4736 - val_loss: 0.5073\n"
     ]
    },
    {
     "name": "stdout",
     "output_type": "stream",
     "text": [
      "Epoch 56/1000\n"
     ]
    },
    {
     "name": "stdout",
     "output_type": "stream",
     "text": [
      "\r",
      " 1/12 [=>............................] - ETA: 0s - loss: 0.4294"
     ]
    },
    {
     "name": "stdout",
     "output_type": "stream",
     "text": [
      "\b\b\b\b\b\b\b\b\b\b\b\b\b\b\b\b\b\b\b\b\b\b\b\b\b\b\b\b\b\b\b\b\b\b\b\b\b\b\b\b\b\b\b\b\b\b\b\b\b\b\b\b\b\b\b\b\b\b\b\b\b\b\b\r",
      " 6/12 [==============>...............] - ETA: 0s - loss: 0.4894"
     ]
    },
    {
     "name": "stdout",
     "output_type": "stream",
     "text": [
      "\b\b\b\b\b\b\b\b\b\b\b\b\b\b\b\b\b\b\b\b\b\b\b\b\b\b\b\b\b\b\b\b\b\b\b\b\b\b\b\b\b\b\b\b\b\b\b\b\b\b\b\b\b\b\b\b\b\b\b\b\b\b\b\r",
      "11/12 [==========================>...] - ETA: 0s - loss: 0.4728"
     ]
    },
    {
     "name": "stdout",
     "output_type": "stream",
     "text": [
      "\b\b\b\b\b\b\b\b\b\b\b\b\b\b\b\b\b\b\b\b\b\b\b\b\b\b\b\b\b\b\b\b\b\b\b\b\b\b\b\b\b\b\b\b\b\b\b\b\b\b\b\b\b\b\b\b\b\b\b\b\b\b\b\r",
      "12/12 [==============================] - 0s 14ms/step - loss: 0.4754 - val_loss: 0.5069\n"
     ]
    },
    {
     "name": "stdout",
     "output_type": "stream",
     "text": [
      "Epoch 57/1000\n"
     ]
    },
    {
     "name": "stdout",
     "output_type": "stream",
     "text": [
      "\r",
      " 1/12 [=>............................] - ETA: 0s - loss: 0.4254"
     ]
    },
    {
     "name": "stdout",
     "output_type": "stream",
     "text": [
      "\b\b\b\b\b\b\b\b\b\b\b\b\b\b\b\b\b\b\b\b\b\b\b\b\b\b\b\b\b\b\b\b\b\b\b\b\b\b\b\b\b\b\b\b\b\b\b\b\b\b\b\b\b\b\b\b\b\b\b\b\b\b\b\r",
      " 6/12 [==============>...............] - ETA: 0s - loss: 0.4827"
     ]
    },
    {
     "name": "stdout",
     "output_type": "stream",
     "text": [
      "\b\b\b\b\b\b\b\b\b\b\b\b\b\b\b\b\b\b\b\b\b\b\b\b\b\b\b\b\b\b\b\b\b\b\b\b\b\b\b\b\b\b\b\b\b\b\b\b\b\b\b\b\b\b\b\b\b\b\b\b\b\b\b\r",
      "11/12 [==========================>...] - ETA: 0s - loss: 0.4732"
     ]
    },
    {
     "name": "stdout",
     "output_type": "stream",
     "text": [
      "\b\b\b\b\b\b\b\b\b\b\b\b\b\b\b\b\b\b\b\b\b\b\b\b\b\b\b\b\b\b\b\b\b\b\b\b\b\b\b\b\b\b\b\b\b\b\b\b\b\b\b\b\b\b\b\b\b\b\b\b\b\b\b\r",
      "12/12 [==============================] - 0s 14ms/step - loss: 0.4708 - val_loss: 0.5068\n"
     ]
    },
    {
     "name": "stdout",
     "output_type": "stream",
     "text": [
      "Epoch 58/1000\n"
     ]
    },
    {
     "name": "stdout",
     "output_type": "stream",
     "text": [
      "\r",
      " 1/12 [=>............................] - ETA: 0s - loss: 0.4760"
     ]
    },
    {
     "name": "stdout",
     "output_type": "stream",
     "text": [
      "\b\b\b\b\b\b\b\b\b\b\b\b\b\b\b\b\b\b\b\b\b\b\b\b\b\b\b\b\b\b\b\b\b\b\b\b\b\b\b\b\b\b\b\b\b\b\b\b\b\b\b\b\b\b\b\b\b\b\b\b\b\b\b\r",
      " 6/12 [==============>...............] - ETA: 0s - loss: 0.4642"
     ]
    },
    {
     "name": "stdout",
     "output_type": "stream",
     "text": [
      "\b\b\b\b\b\b\b\b\b\b\b\b\b\b\b\b\b\b\b\b\b\b\b\b\b\b\b\b\b\b\b\b\b\b\b\b\b\b\b\b\b\b\b\b\b\b\b\b\b\b\b\b\b\b\b\b\b\b\b\b\b\b\b\r",
      "11/12 [==========================>...] - ETA: 0s - loss: 0.4736"
     ]
    },
    {
     "name": "stdout",
     "output_type": "stream",
     "text": [
      "\b\b\b\b\b\b\b\b\b\b\b\b\b\b\b\b\b\b\b\b\b\b\b\b\b\b\b\b\b\b\b\b\b\b\b\b\b\b\b\b\b\b\b\b\b\b\b\b\b\b\b\b\b\b\b\b\b\b\b\b\b\b\b\r",
      "12/12 [==============================] - 0s 14ms/step - loss: 0.4765 - val_loss: 0.5067\n"
     ]
    },
    {
     "name": "stdout",
     "output_type": "stream",
     "text": [
      "Epoch 59/1000\n"
     ]
    },
    {
     "name": "stdout",
     "output_type": "stream",
     "text": [
      "\r",
      " 1/12 [=>............................] - ETA: 0s - loss: 0.4315"
     ]
    },
    {
     "name": "stdout",
     "output_type": "stream",
     "text": [
      "\b\b\b\b\b\b\b\b\b\b\b\b\b\b\b\b\b\b\b\b\b\b\b\b\b\b\b\b\b\b\b\b\b\b\b\b\b\b\b\b\b\b\b\b\b\b\b\b\b\b\b\b\b\b\b\b\b\b\b\b\b\b\b\r",
      " 6/12 [==============>...............] - ETA: 0s - loss: 0.4727"
     ]
    },
    {
     "name": "stdout",
     "output_type": "stream",
     "text": [
      "\b\b\b\b\b\b\b\b\b\b\b\b\b\b\b\b\b\b\b\b\b\b\b\b\b\b\b\b\b\b\b\b\b\b\b\b\b\b\b\b\b\b\b\b\b\b\b\b\b\b\b\b\b\b\b\b\b\b\b\b\b\b\b\r",
      "11/12 [==========================>...] - ETA: 0s - loss: 0.4777"
     ]
    },
    {
     "name": "stdout",
     "output_type": "stream",
     "text": [
      "\b\b\b\b\b\b\b\b\b\b\b\b\b\b\b\b\b\b\b\b\b\b\b\b\b\b\b\b\b\b\b\b\b\b\b\b\b\b\b\b\b\b\b\b\b\b\b\b\b\b\b\b\b\b\b\b\b\b\b\b\b\b\b\r",
      "12/12 [==============================] - 0s 15ms/step - loss: 0.4784 - val_loss: 0.5067\n"
     ]
    },
    {
     "name": "stdout",
     "output_type": "stream",
     "text": [
      "Epoch 60/1000\n"
     ]
    },
    {
     "name": "stdout",
     "output_type": "stream",
     "text": [
      "\r",
      " 1/12 [=>............................] - ETA: 0s - loss: 0.4478"
     ]
    },
    {
     "name": "stdout",
     "output_type": "stream",
     "text": [
      "\b\b\b\b\b\b\b\b\b\b\b\b\b\b\b\b\b\b\b\b\b\b\b\b\b\b\b\b\b\b\b\b\b\b\b\b\b\b\b\b\b\b\b\b\b\b\b\b\b\b\b\b\b\b\b\b\b\b\b\b\b\b\b\r",
      " 6/12 [==============>...............] - ETA: 0s - loss: 0.4645"
     ]
    },
    {
     "name": "stdout",
     "output_type": "stream",
     "text": [
      "\b\b\b\b\b\b\b\b\b\b\b\b\b\b\b\b\b\b\b\b\b\b\b\b\b\b\b\b\b\b\b\b\b\b\b\b\b\b\b\b\b\b\b\b\b\b\b\b\b\b\b\b\b\b\b\b\b\b\b\b\b\b\b\r",
      "11/12 [==========================>...] - ETA: 0s - loss: 0.4740"
     ]
    },
    {
     "name": "stdout",
     "output_type": "stream",
     "text": [
      "\b\b\b\b\b\b\b\b\b\b\b\b\b\b\b\b\b\b\b\b\b\b\b\b\b\b\b\b\b\b\b\b\b\b\b\b\b\b\b\b\b\b\b\b\b\b\b\b\b\b\b\b\b\b\b\b\b\b\b\b\b\b\b\r",
      "12/12 [==============================] - 0s 14ms/step - loss: 0.4711 - val_loss: 0.5070\n"
     ]
    },
    {
     "name": "stdout",
     "output_type": "stream",
     "text": [
      "Epoch 61/1000\n"
     ]
    },
    {
     "name": "stdout",
     "output_type": "stream",
     "text": [
      "\r",
      " 1/12 [=>............................] - ETA: 0s - loss: 0.4228"
     ]
    },
    {
     "name": "stdout",
     "output_type": "stream",
     "text": [
      "\b\b\b\b\b\b\b\b\b\b\b\b\b\b\b\b\b\b\b\b\b\b\b\b\b\b\b\b\b\b\b\b\b\b\b\b\b\b\b\b\b\b\b\b\b\b\b\b\b\b\b\b\b\b\b\b\b\b\b\b\b\b\b\r",
      " 6/12 [==============>...............] - ETA: 0s - loss: 0.4693"
     ]
    },
    {
     "name": "stdout",
     "output_type": "stream",
     "text": [
      "\b\b\b\b\b\b\b\b\b\b\b\b\b\b\b\b\b\b\b\b\b\b\b\b\b\b\b\b\b\b\b\b\b\b\b\b\b\b\b\b\b\b\b\b\b\b\b\b\b\b\b\b\b\b\b\b\b\b\b\b\b\b\b\r",
      "11/12 [==========================>...] - ETA: 0s - loss: 0.4630"
     ]
    },
    {
     "name": "stdout",
     "output_type": "stream",
     "text": [
      "\b\b\b\b\b\b\b\b\b\b\b\b\b\b\b\b\b\b\b\b\b\b\b\b\b\b\b\b\b\b\b\b\b\b\b\b\b\b\b\b\b\b\b\b\b\b\b\b\b\b\b\b\b\b\b\b\b\b\b\b\b\b\b\r",
      "12/12 [==============================] - 0s 14ms/step - loss: 0.4675 - val_loss: 0.5066\n"
     ]
    },
    {
     "name": "stdout",
     "output_type": "stream",
     "text": [
      "Epoch 62/1000\n"
     ]
    },
    {
     "name": "stdout",
     "output_type": "stream",
     "text": [
      "\r",
      " 1/12 [=>............................] - ETA: 0s - loss: 0.4196"
     ]
    },
    {
     "name": "stdout",
     "output_type": "stream",
     "text": [
      "\b\b\b\b\b\b\b\b\b\b\b\b\b\b\b\b\b\b\b\b\b\b\b\b\b\b\b\b\b\b\b\b\b\b\b\b\b\b\b\b\b\b\b\b\b\b\b\b\b\b\b\b\b\b\b\b\b\b\b\b\b\b\b\r",
      " 6/12 [==============>...............] - ETA: 0s - loss: 0.4544"
     ]
    },
    {
     "name": "stdout",
     "output_type": "stream",
     "text": [
      "\b\b\b\b\b\b\b\b\b\b\b\b\b\b\b\b\b\b\b\b\b\b\b\b\b\b\b\b\b\b\b\b\b\b\b\b\b\b\b\b\b\b\b\b\b\b\b\b\b\b\b\b\b\b\b\b\b\b\b\b\b\b\b\r",
      "11/12 [==========================>...] - ETA: 0s - loss: 0.4704"
     ]
    },
    {
     "name": "stdout",
     "output_type": "stream",
     "text": [
      "\b\b\b\b\b\b\b\b\b\b\b\b\b\b\b\b\b\b\b\b\b\b\b\b\b\b\b\b\b\b\b\b\b\b\b\b\b\b\b\b\b\b\b\b\b\b\b\b\b\b\b\b\b\b\b\b\b\b\b\b\b\b\b\r",
      "12/12 [==============================] - 0s 15ms/step - loss: 0.4690 - val_loss: 0.5061\n"
     ]
    },
    {
     "name": "stdout",
     "output_type": "stream",
     "text": [
      "Epoch 63/1000\n"
     ]
    },
    {
     "name": "stdout",
     "output_type": "stream",
     "text": [
      "\r",
      " 1/12 [=>............................] - ETA: 0s - loss: 0.5487"
     ]
    },
    {
     "name": "stdout",
     "output_type": "stream",
     "text": [
      "\b\b\b\b\b\b\b\b\b\b\b\b\b\b\b\b\b\b\b\b\b\b\b\b\b\b\b\b\b\b\b\b\b\b\b\b\b\b\b\b\b\b\b\b\b\b\b\b\b\b\b\b\b\b\b\b\b\b\b\b\b\b\b\r",
      " 6/12 [==============>...............] - ETA: 0s - loss: 0.4761"
     ]
    },
    {
     "name": "stdout",
     "output_type": "stream",
     "text": [
      "\b\b\b\b\b\b\b\b\b\b\b\b\b\b\b\b\b\b\b\b\b\b\b\b\b\b\b\b\b\b\b\b\b\b\b\b\b\b\b\b\b\b\b\b\b\b\b\b\b\b\b\b\b\b\b\b\b\b\b\b\b\b\b\r",
      "11/12 [==========================>...] - ETA: 0s - loss: 0.4728"
     ]
    },
    {
     "name": "stdout",
     "output_type": "stream",
     "text": [
      "\b\b\b\b\b\b\b\b\b\b\b\b\b\b\b\b\b\b\b\b\b\b\b\b\b\b\b\b\b\b\b\b\b\b\b\b\b\b\b\b\b\b\b\b\b\b\b\b\b\b\b\b\b\b\b\b\b\b\b\b\b\b\b\r",
      "12/12 [==============================] - 0s 14ms/step - loss: 0.4722 - val_loss: 0.5062\n"
     ]
    },
    {
     "name": "stdout",
     "output_type": "stream",
     "text": [
      "Epoch 64/1000\n"
     ]
    },
    {
     "name": "stdout",
     "output_type": "stream",
     "text": [
      "\r",
      " 1/12 [=>............................] - ETA: 0s - loss: 0.4270"
     ]
    },
    {
     "name": "stdout",
     "output_type": "stream",
     "text": [
      "\b\b\b\b\b\b\b\b\b\b\b\b\b\b\b\b\b\b\b\b\b\b\b\b\b\b\b\b\b\b\b\b\b\b\b\b\b\b\b\b\b\b\b\b\b\b\b\b\b\b\b\b\b\b\b\b\b\b\b\b\b\b\b\r",
      " 6/12 [==============>...............] - ETA: 0s - loss: 0.4617"
     ]
    },
    {
     "name": "stdout",
     "output_type": "stream",
     "text": [
      "\b\b\b\b\b\b\b\b\b\b\b\b\b\b\b\b\b\b\b\b\b\b\b\b\b\b\b\b\b\b\b\b\b\b\b\b\b\b\b\b\b\b\b\b\b\b\b\b\b\b\b\b\b\b\b\b\b\b\b\b\b\b\b\r",
      "11/12 [==========================>...] - ETA: 0s - loss: 0.4693"
     ]
    },
    {
     "name": "stdout",
     "output_type": "stream",
     "text": [
      "\b\b\b\b\b\b\b\b\b\b\b\b\b\b\b\b\b\b\b\b\b\b\b\b\b\b\b\b\b\b\b\b\b\b\b\b\b\b\b\b\b\b\b\b\b\b\b\b\b\b\b\b\b\b\b\b\b\b\b\b\b\b\b\r",
      "12/12 [==============================] - 0s 14ms/step - loss: 0.4745 - val_loss: 0.5064\n"
     ]
    },
    {
     "name": "stdout",
     "output_type": "stream",
     "text": [
      "Epoch 65/1000\n"
     ]
    },
    {
     "name": "stdout",
     "output_type": "stream",
     "text": [
      "\r",
      " 1/12 [=>............................] - ETA: 0s - loss: 0.4821"
     ]
    },
    {
     "name": "stdout",
     "output_type": "stream",
     "text": [
      "\b\b\b\b\b\b\b\b\b\b\b\b\b\b\b\b\b\b\b\b\b\b\b\b\b\b\b\b\b\b\b\b\b\b\b\b\b\b\b\b\b\b\b\b\b\b\b\b\b\b\b\b\b\b\b\b\b\b\b\b\b\b\b\r",
      " 6/12 [==============>...............] - ETA: 0s - loss: 0.4772"
     ]
    },
    {
     "name": "stdout",
     "output_type": "stream",
     "text": [
      "\b\b\b\b\b\b\b\b\b\b\b\b\b\b\b\b\b\b\b\b\b\b\b\b\b\b\b\b\b\b\b\b\b\b\b\b\b\b\b\b\b\b\b\b\b\b\b\b\b\b\b\b\b\b\b\b\b\b\b\b\b\b\b\r",
      "11/12 [==========================>...] - ETA: 0s - loss: 0.4676"
     ]
    },
    {
     "name": "stdout",
     "output_type": "stream",
     "text": [
      "\b\b\b\b\b\b\b\b\b\b\b\b\b\b\b\b\b\b\b\b\b\b\b\b\b\b\b\b\b\b\b\b\b\b\b\b\b\b\b\b\b\b\b\b\b\b\b\b\b\b\b\b\b\b\b\b\b\b\b\b\b\b\b\r",
      "12/12 [==============================] - 0s 14ms/step - loss: 0.4697 - val_loss: 0.5062\n"
     ]
    },
    {
     "name": "stdout",
     "output_type": "stream",
     "text": [
      "Epoch 66/1000\n"
     ]
    },
    {
     "name": "stdout",
     "output_type": "stream",
     "text": [
      "\r",
      " 1/12 [=>............................] - ETA: 0s - loss: 0.5521"
     ]
    },
    {
     "name": "stdout",
     "output_type": "stream",
     "text": [
      "\b\b\b\b\b\b\b\b\b\b\b\b\b\b\b\b\b\b\b\b\b\b\b\b\b\b\b\b\b\b\b\b\b\b\b\b\b\b\b\b\b\b\b\b\b\b\b\b\b\b\b\b\b\b\b\b\b\b\b\b\b\b\b\r",
      " 6/12 [==============>...............] - ETA: 0s - loss: 0.4854"
     ]
    },
    {
     "name": "stdout",
     "output_type": "stream",
     "text": [
      "\b\b\b\b\b\b\b\b\b\b\b\b\b\b\b\b\b\b\b\b\b\b\b\b\b\b\b\b\b\b\b\b\b\b\b\b\b\b\b\b\b\b\b\b\b\b\b\b\b\b\b\b\b\b\b\b\b\b\b\b\b\b\b\r",
      "11/12 [==========================>...] - ETA: 0s - loss: 0.4658"
     ]
    },
    {
     "name": "stdout",
     "output_type": "stream",
     "text": [
      "\b\b\b\b\b\b\b\b\b\b\b\b\b\b\b\b\b\b\b\b\b\b\b\b\b\b\b\b\b\b\b\b\b\b\b\b\b\b\b\b\b\b\b\b\b\b\b\b\b\b\b\b\b\b\b\b\b\b\b\b\b\b\b\r",
      "12/12 [==============================] - 0s 14ms/step - loss: 0.4681 - val_loss: 0.5061\n"
     ]
    },
    {
     "name": "stdout",
     "output_type": "stream",
     "text": [
      "Epoch 67/1000\n"
     ]
    },
    {
     "name": "stdout",
     "output_type": "stream",
     "text": [
      "\r",
      " 1/12 [=>............................] - ETA: 0s - loss: 0.4874"
     ]
    },
    {
     "name": "stdout",
     "output_type": "stream",
     "text": [
      "\b\b\b\b\b\b\b\b\b\b\b\b\b\b\b\b\b\b\b\b\b\b\b\b\b\b\b\b\b\b\b\b\b\b\b\b\b\b\b\b\b\b\b\b\b\b\b\b\b\b\b\b\b\b\b\b\b\b\b\b\b\b\b\r",
      " 6/12 [==============>...............] - ETA: 0s - loss: 0.4781"
     ]
    },
    {
     "name": "stdout",
     "output_type": "stream",
     "text": [
      "\b\b\b\b\b\b\b\b\b\b\b\b\b\b\b\b\b\b\b\b\b\b\b\b\b\b\b\b\b\b\b\b\b\b\b\b\b\b\b\b\b\b\b\b\b\b\b\b\b\b\b\b\b\b\b\b\b\b\b\b\b\b\b\r",
      "11/12 [==========================>...] - ETA: 0s - loss: 0.4699"
     ]
    },
    {
     "name": "stdout",
     "output_type": "stream",
     "text": [
      "\b\b\b\b\b\b\b\b\b\b\b\b\b\b\b\b\b\b\b\b\b\b\b\b\b\b\b\b\b\b\b\b\b\b\b\b\b\b\b\b\b\b\b\b\b\b\b\b\b\b\b\b\b\b\b\b\b\b\b\b\b\b\b\r",
      "12/12 [==============================] - 0s 14ms/step - loss: 0.4706 - val_loss: 0.5062\n"
     ]
    },
    {
     "name": "stdout",
     "output_type": "stream",
     "text": [
      "Epoch 68/1000\n"
     ]
    },
    {
     "name": "stdout",
     "output_type": "stream",
     "text": [
      "\r",
      " 1/12 [=>............................] - ETA: 0s - loss: 0.4986"
     ]
    },
    {
     "name": "stdout",
     "output_type": "stream",
     "text": [
      "\b\b\b\b\b\b\b\b\b\b\b\b\b\b\b\b\b\b\b\b\b\b\b\b\b\b\b\b\b\b\b\b\b\b\b\b\b\b\b\b\b\b\b\b\b\b\b\b\b\b\b\b\b\b\b\b\b\b\b\b\b\b\b\r",
      " 6/12 [==============>...............] - ETA: 0s - loss: 0.4636"
     ]
    },
    {
     "name": "stdout",
     "output_type": "stream",
     "text": [
      "\b\b\b\b\b\b\b\b\b\b\b\b\b\b\b\b\b\b\b\b\b\b\b\b\b\b\b\b\b\b\b\b\b\b\b\b\b\b\b\b\b\b\b\b\b\b\b\b\b\b\b\b\b\b\b\b\b\b\b\b\b\b\b\r",
      "11/12 [==========================>...] - ETA: 0s - loss: 0.4635"
     ]
    },
    {
     "name": "stdout",
     "output_type": "stream",
     "text": [
      "\b\b\b\b\b\b\b\b\b\b\b\b\b\b\b\b\b\b\b\b\b\b\b\b\b\b\b\b\b\b\b\b\b\b\b\b\b\b\b\b\b\b\b\b\b\b\b\b\b\b\b\b\b\b\b\b\b\b\b\b\b\b\b\r",
      "12/12 [==============================] - 0s 14ms/step - loss: 0.4670 - val_loss: 0.5067\n"
     ]
    },
    {
     "name": "stdout",
     "output_type": "stream",
     "text": [
      "Epoch 69/1000\n"
     ]
    },
    {
     "name": "stdout",
     "output_type": "stream",
     "text": [
      "\r",
      " 1/12 [=>............................] - ETA: 0s - loss: 0.4416"
     ]
    },
    {
     "name": "stdout",
     "output_type": "stream",
     "text": [
      "\b\b\b\b\b\b\b\b\b\b\b\b\b\b\b\b\b\b\b\b\b\b\b\b\b\b\b\b\b\b\b\b\b\b\b\b\b\b\b\b\b\b\b\b\b\b\b\b\b\b\b\b\b\b\b\b\b\b\b\b\b\b\b\r",
      " 6/12 [==============>...............] - ETA: 0s - loss: 0.4515"
     ]
    },
    {
     "name": "stdout",
     "output_type": "stream",
     "text": [
      "\b\b\b\b\b\b\b\b\b\b\b\b\b\b\b\b\b\b\b\b\b\b\b\b\b\b\b\b\b\b\b\b\b\b\b\b\b\b\b\b\b\b\b\b\b\b\b\b\b\b\b\b\b\b\b\b\b\b\b\b\b\b\b\r",
      "11/12 [==========================>...] - ETA: 0s - loss: 0.4658"
     ]
    },
    {
     "name": "stdout",
     "output_type": "stream",
     "text": [
      "\b\b\b\b\b\b\b\b\b\b\b\b\b\b\b\b\b\b\b\b\b\b\b\b\b\b\b\b\b\b\b\b\b\b\b\b\b\b\b\b\b\b\b\b\b\b\b\b\b\b\b\b\b\b\b\b\b\b\b\b\b\b\b\r",
      "12/12 [==============================] - 0s 14ms/step - loss: 0.4683 - val_loss: 0.5066\n"
     ]
    },
    {
     "name": "stdout",
     "output_type": "stream",
     "text": [
      "Epoch 70/1000\n"
     ]
    },
    {
     "name": "stdout",
     "output_type": "stream",
     "text": [
      "\r",
      " 1/12 [=>............................] - ETA: 0s - loss: 0.4828"
     ]
    },
    {
     "name": "stdout",
     "output_type": "stream",
     "text": [
      "\b\b\b\b\b\b\b\b\b\b\b\b\b\b\b\b\b\b\b\b\b\b\b\b\b\b\b\b\b\b\b\b\b\b\b\b\b\b\b\b\b\b\b\b\b\b\b\b\b\b\b\b\b\b\b\b\b\b\b\b\b\b\b\r",
      " 6/12 [==============>...............] - ETA: 0s - loss: 0.4611"
     ]
    },
    {
     "name": "stdout",
     "output_type": "stream",
     "text": [
      "\b\b\b\b\b\b\b\b\b\b\b\b\b\b\b\b\b\b\b\b\b\b\b\b\b\b\b\b\b\b\b\b\b\b\b\b\b\b\b\b\b\b\b\b\b\b\b\b\b\b\b\b\b\b\b\b\b\b\b\b\b\b\b\r",
      "11/12 [==========================>...] - ETA: 0s - loss: 0.4702"
     ]
    },
    {
     "name": "stdout",
     "output_type": "stream",
     "text": [
      "\b\b\b\b\b\b\b\b\b\b\b\b\b\b\b\b\b\b\b\b\b\b\b\b\b\b\b\b\b\b\b\b\b\b\b\b\b\b\b\b\b\b\b\b\b\b\b\b\b\b\b\b\b\b\b\b\b\b\b\b\b\b\b\r",
      "12/12 [==============================] - 0s 14ms/step - loss: 0.4697 - val_loss: 0.5064\n"
     ]
    },
    {
     "name": "stdout",
     "output_type": "stream",
     "text": [
      "Epoch 71/1000\n"
     ]
    },
    {
     "name": "stdout",
     "output_type": "stream",
     "text": [
      "\r",
      " 1/12 [=>............................] - ETA: 0s - loss: 0.4562"
     ]
    },
    {
     "name": "stdout",
     "output_type": "stream",
     "text": [
      "\b\b\b\b\b\b\b\b\b\b\b\b\b\b\b\b\b\b\b\b\b\b\b\b\b\b\b\b\b\b\b\b\b\b\b\b\b\b\b\b\b\b\b\b\b\b\b\b\b\b\b\b\b\b\b\b\b\b\b\b\b\b\b\r",
      " 6/12 [==============>...............] - ETA: 0s - loss: 0.4831"
     ]
    },
    {
     "name": "stdout",
     "output_type": "stream",
     "text": [
      "\b\b\b\b\b\b\b\b\b\b\b\b\b\b\b\b\b\b\b\b\b\b\b\b\b\b\b\b\b\b\b\b\b\b\b\b\b\b\b\b\b\b\b\b\b\b\b\b\b\b\b\b\b\b\b\b\b\b\b\b\b\b\b\r",
      "11/12 [==========================>...] - ETA: 0s - loss: 0.4687"
     ]
    },
    {
     "name": "stdout",
     "output_type": "stream",
     "text": [
      "\b\b\b\b\b\b\b\b\b\b\b\b\b\b\b\b\b\b\b\b\b\b\b\b\b\b\b\b\b\b\b\b\b\b\b\b\b\b\b\b\b\b\b\b\b\b\b\b\b\b\b\b\b\b\b\b\b\b\b\b\b\b\b\r",
      "12/12 [==============================] - 0s 14ms/step - loss: 0.4665 - val_loss: 0.5062\n"
     ]
    },
    {
     "name": "stdout",
     "output_type": "stream",
     "text": [
      "Epoch 72/1000\n"
     ]
    },
    {
     "name": "stdout",
     "output_type": "stream",
     "text": [
      "\r",
      " 1/12 [=>............................] - ETA: 0s - loss: 0.4557"
     ]
    },
    {
     "name": "stdout",
     "output_type": "stream",
     "text": [
      "\b\b\b\b\b\b\b\b\b\b\b\b\b\b\b\b\b\b\b\b\b\b\b\b\b\b\b\b\b\b\b\b\b\b\b\b\b\b\b\b\b\b\b\b\b\b\b\b\b\b\b\b\b\b\b\b\b\b\b\b\b\b\b\r",
      " 6/12 [==============>...............] - ETA: 0s - loss: 0.4594"
     ]
    },
    {
     "name": "stdout",
     "output_type": "stream",
     "text": [
      "\b\b\b\b\b\b\b\b\b\b\b\b\b\b\b\b\b\b\b\b\b\b\b\b\b\b\b\b\b\b\b\b\b\b\b\b\b\b\b\b\b\b\b\b\b\b\b\b\b\b\b\b\b\b\b\b\b\b\b\b\b\b\b\r",
      "11/12 [==========================>...] - ETA: 0s - loss: 0.4668"
     ]
    },
    {
     "name": "stdout",
     "output_type": "stream",
     "text": [
      "\b\b\b\b\b\b\b\b\b\b\b\b\b\b\b\b\b\b\b\b\b\b\b\b\b\b\b\b\b\b\b\b\b\b\b\b\b\b\b\b\b\b\b\b\b\b\b\b\b\b\b\b\b\b\b\b\b\b\b\b\b\b\b\r",
      "12/12 [==============================] - 0s 14ms/step - loss: 0.4699 - val_loss: 0.5061\n"
     ]
    },
    {
     "name": "stdout",
     "output_type": "stream",
     "text": [
      "Epoch 73/1000\n"
     ]
    },
    {
     "name": "stdout",
     "output_type": "stream",
     "text": [
      "\r",
      " 1/12 [=>............................] - ETA: 0s - loss: 0.3911"
     ]
    },
    {
     "name": "stdout",
     "output_type": "stream",
     "text": [
      "\b\b\b\b\b\b\b\b\b\b\b\b\b\b\b\b\b\b\b\b\b\b\b\b\b\b\b\b\b\b\b\b\b\b\b\b\b\b\b\b\b\b\b\b\b\b\b\b\b\b\b\b\b\b\b\b\b\b\b\b\b\b\b\r",
      " 6/12 [==============>...............] - ETA: 0s - loss: 0.4695"
     ]
    },
    {
     "name": "stdout",
     "output_type": "stream",
     "text": [
      "\b\b\b\b\b\b\b\b\b\b\b\b\b\b\b\b\b\b\b\b\b\b\b\b\b\b\b\b\b\b\b\b\b\b\b\b\b\b\b\b\b\b\b\b\b\b\b\b\b\b\b\b\b\b\b\b\b\b\b\b\b\b\b\r",
      "11/12 [==========================>...] - ETA: 0s - loss: 0.4660"
     ]
    },
    {
     "name": "stdout",
     "output_type": "stream",
     "text": [
      "\b\b\b\b\b\b\b\b\b\b\b\b\b\b\b\b\b\b\b\b\b\b\b\b\b\b\b\b\b\b\b\b\b\b\b\b\b\b\b\b\b\b\b\b\b\b\b\b\b\b\b\b\b\b\b\b\b\b\b\b\b\b\b\r",
      "12/12 [==============================] - 0s 14ms/step - loss: 0.4655 - val_loss: 0.5060\n"
     ]
    },
    {
     "name": "stdout",
     "output_type": "stream",
     "text": [
      "Epoch 74/1000\n"
     ]
    },
    {
     "name": "stdout",
     "output_type": "stream",
     "text": [
      "\r",
      " 1/12 [=>............................] - ETA: 0s - loss: 0.4155"
     ]
    },
    {
     "name": "stdout",
     "output_type": "stream",
     "text": [
      "\b\b\b\b\b\b\b\b\b\b\b\b\b\b\b\b\b\b\b\b\b\b\b\b\b\b\b\b\b\b\b\b\b\b\b\b\b\b\b\b\b\b\b\b\b\b\b\b\b\b\b\b\b\b\b\b\b\b\b\b\b\b\b\r",
      " 6/12 [==============>...............] - ETA: 0s - loss: 0.4605"
     ]
    },
    {
     "name": "stdout",
     "output_type": "stream",
     "text": [
      "\b\b\b\b\b\b\b\b\b\b\b\b\b\b\b\b\b\b\b\b\b\b\b\b\b\b\b\b\b\b\b\b\b\b\b\b\b\b\b\b\b\b\b\b\b\b\b\b\b\b\b\b\b\b\b\b\b\b\b\b\b\b\b\r",
      "11/12 [==========================>...] - ETA: 0s - loss: 0.4734"
     ]
    },
    {
     "name": "stdout",
     "output_type": "stream",
     "text": [
      "\b\b\b\b\b\b\b\b\b\b\b\b\b\b\b\b\b\b\b\b\b\b\b\b\b\b\b\b\b\b\b\b\b\b\b\b\b\b\b\b\b\b\b\b\b\b\b\b\b\b\b\b\b\b\b\b\b\b\b\b\b\b\b\r",
      "12/12 [==============================] - 0s 14ms/step - loss: 0.4714 - val_loss: 0.5061\n"
     ]
    },
    {
     "name": "stdout",
     "output_type": "stream",
     "text": [
      "Epoch 75/1000\n"
     ]
    },
    {
     "name": "stdout",
     "output_type": "stream",
     "text": [
      "\r",
      " 1/12 [=>............................] - ETA: 0s - loss: 0.5306"
     ]
    },
    {
     "name": "stdout",
     "output_type": "stream",
     "text": [
      "\b\b\b\b\b\b\b\b\b\b\b\b\b\b\b\b\b\b\b\b\b\b\b\b\b\b\b\b\b\b\b\b\b\b\b\b\b\b\b\b\b\b\b\b\b\b\b\b\b\b\b\b\b\b\b\b\b\b\b\b\b\b\b\r",
      " 6/12 [==============>...............] - ETA: 0s - loss: 0.4768"
     ]
    },
    {
     "name": "stdout",
     "output_type": "stream",
     "text": [
      "\b\b\b\b\b\b\b\b\b\b\b\b\b\b\b\b\b\b\b\b\b\b\b\b\b\b\b\b\b\b\b\b\b\b\b\b\b\b\b\b\b\b\b\b\b\b\b\b\b\b\b\b\b\b\b\b\b\b\b\b\b\b\b\r",
      "11/12 [==========================>...] - ETA: 0s - loss: 0.4737"
     ]
    },
    {
     "name": "stdout",
     "output_type": "stream",
     "text": [
      "\b\b\b\b\b\b\b\b\b\b\b\b\b\b\b\b\b\b\b\b\b\b\b\b\b\b\b\b\b\b\b\b\b\b\b\b\b\b\b\b\b\b\b\b\b\b\b\b\b\b\b\b\b\b\b\b\b\b\b\b\b\b\b\r",
      "12/12 [==============================] - 0s 14ms/step - loss: 0.4688 - val_loss: 0.5065\n"
     ]
    },
    {
     "name": "stdout",
     "output_type": "stream",
     "text": [
      "Epoch 76/1000\n"
     ]
    },
    {
     "name": "stdout",
     "output_type": "stream",
     "text": [
      "\r",
      " 1/12 [=>............................] - ETA: 0s - loss: 0.4074"
     ]
    },
    {
     "name": "stdout",
     "output_type": "stream",
     "text": [
      "\b\b\b\b\b\b\b\b\b\b\b\b\b\b\b\b\b\b\b\b\b\b\b\b\b\b\b\b\b\b\b\b\b\b\b\b\b\b\b\b\b\b\b\b\b\b\b\b\b\b\b\b\b\b\b\b\b\b\b\b\b\b\b\r",
      " 6/12 [==============>...............] - ETA: 0s - loss: 0.4492"
     ]
    },
    {
     "name": "stdout",
     "output_type": "stream",
     "text": [
      "\b\b\b\b\b\b\b\b\b\b\b\b\b\b\b\b\b\b\b\b\b\b\b\b\b\b\b\b\b\b\b\b\b\b\b\b\b\b\b\b\b\b\b\b\b\b\b\b\b\b\b\b\b\b\b\b\b\b\b\b\b\b\b\r",
      "11/12 [==========================>...] - ETA: 0s - loss: 0.4636"
     ]
    },
    {
     "name": "stdout",
     "output_type": "stream",
     "text": [
      "\b\b\b\b\b\b\b\b\b\b\b\b\b\b\b\b\b\b\b\b\b\b\b\b\b\b\b\b\b\b\b\b\b\b\b\b\b\b\b\b\b\b\b\b\b\b\b\b\b\b\b\b\b\b\b\b\b\b\b\b\b\b\b\r",
      "12/12 [==============================] - 0s 14ms/step - loss: 0.4646 - val_loss: 0.5063\n"
     ]
    },
    {
     "name": "stdout",
     "output_type": "stream",
     "text": [
      "Epoch 77/1000\n"
     ]
    },
    {
     "name": "stdout",
     "output_type": "stream",
     "text": [
      "\r",
      " 1/12 [=>............................] - ETA: 0s - loss: 0.4487"
     ]
    },
    {
     "name": "stdout",
     "output_type": "stream",
     "text": [
      "\b\b\b\b\b\b\b\b\b\b\b\b\b\b\b\b\b\b\b\b\b\b\b\b\b\b\b\b\b\b\b\b\b\b\b\b\b\b\b\b\b\b\b\b\b\b\b\b\b\b\b\b\b\b\b\b\b\b\b\b\b\b\b\r",
      " 6/12 [==============>...............] - ETA: 0s - loss: 0.4746"
     ]
    },
    {
     "name": "stdout",
     "output_type": "stream",
     "text": [
      "\b\b\b\b\b\b\b\b\b\b\b\b\b\b\b\b\b\b\b\b\b\b\b\b\b\b\b\b\b\b\b\b\b\b\b\b\b\b\b\b\b\b\b\b\b\b\b\b\b\b\b\b\b\b\b\b\b\b\b\b\b\b\b\r",
      "11/12 [==========================>...] - ETA: 0s - loss: 0.4638"
     ]
    },
    {
     "name": "stdout",
     "output_type": "stream",
     "text": [
      "\b\b\b\b\b\b\b\b\b\b\b\b\b\b\b\b\b\b\b\b\b\b\b\b\b\b\b\b\b\b\b\b\b\b\b\b\b\b\b\b\b\b\b\b\b\b\b\b\b\b\b\b\b\b\b\b\b\b\b\b\b\b\b\r",
      "12/12 [==============================] - 0s 14ms/step - loss: 0.4649 - val_loss: 0.5062\n"
     ]
    },
    {
     "name": "stdout",
     "output_type": "stream",
     "text": [
      "Epoch 78/1000\n"
     ]
    },
    {
     "name": "stdout",
     "output_type": "stream",
     "text": [
      "\r",
      " 1/12 [=>............................] - ETA: 0s - loss: 0.4848"
     ]
    },
    {
     "name": "stdout",
     "output_type": "stream",
     "text": [
      "\b\b\b\b\b\b\b\b\b\b\b\b\b\b\b\b\b\b\b\b\b\b\b\b\b\b\b\b\b\b\b\b\b\b\b\b\b\b\b\b\b\b\b\b\b\b\b\b\b\b\b\b\b\b\b\b\b\b\b\b\b\b\b\r",
      " 6/12 [==============>...............] - ETA: 0s - loss: 0.4775"
     ]
    },
    {
     "name": "stdout",
     "output_type": "stream",
     "text": [
      "\b\b\b\b\b\b\b\b\b\b\b\b\b\b\b\b\b\b\b\b\b\b\b\b\b\b\b\b\b\b\b\b\b\b\b\b\b\b\b\b\b\b\b\b\b\b\b\b\b\b\b\b\b\b\b\b\b\b\b\b\b\b\b\r",
      "11/12 [==========================>...] - ETA: 0s - loss: 0.4588"
     ]
    },
    {
     "name": "stdout",
     "output_type": "stream",
     "text": [
      "\b\b\b\b\b\b\b\b\b\b\b\b\b\b\b\b\b\b\b\b\b\b\b\b\b\b\b\b\b\b\b\b\b\b\b\b\b\b\b\b\b\b\b\b\b\b\b\b\b\b\b\b\b\b\b\b\b\b\b\b\b\b\b\r",
      "12/12 [==============================] - 0s 14ms/step - loss: 0.4633 - val_loss: 0.5060\n"
     ]
    },
    {
     "name": "stdout",
     "output_type": "stream",
     "text": [
      "Epoch 79/1000\n"
     ]
    },
    {
     "name": "stdout",
     "output_type": "stream",
     "text": [
      "\r",
      " 1/12 [=>............................] - ETA: 0s - loss: 0.4825"
     ]
    },
    {
     "name": "stdout",
     "output_type": "stream",
     "text": [
      "\b\b\b\b\b\b\b\b\b\b\b\b\b\b\b\b\b\b\b\b\b\b\b\b\b\b\b\b\b\b\b\b\b\b\b\b\b\b\b\b\b\b\b\b\b\b\b\b\b\b\b\b\b\b\b\b\b\b\b\b\b\b\b\r",
      " 6/12 [==============>...............] - ETA: 0s - loss: 0.4610"
     ]
    },
    {
     "name": "stdout",
     "output_type": "stream",
     "text": [
      "\b\b\b\b\b\b\b\b\b\b\b\b\b\b\b\b\b\b\b\b\b\b\b\b\b\b\b\b\b\b\b\b\b\b\b\b\b\b\b\b\b\b\b\b\b\b\b\b\b\b\b\b\b\b\b\b\b\b\b\b\b\b\b\r",
      "11/12 [==========================>...] - ETA: 0s - loss: 0.4643"
     ]
    },
    {
     "name": "stdout",
     "output_type": "stream",
     "text": [
      "\b\b\b\b\b\b\b\b\b\b\b\b\b\b\b\b\b\b\b\b\b\b\b\b\b\b\b\b\b\b\b\b\b\b\b\b\b\b\b\b\b\b\b\b\b\b\b\b\b\b\b\b\b\b\b\b\b\b\b\b\b\b\b\r",
      "12/12 [==============================] - 0s 14ms/step - loss: 0.4653 - val_loss: 0.5060\n"
     ]
    },
    {
     "name": "stdout",
     "output_type": "stream",
     "text": [
      "Epoch 80/1000\n"
     ]
    },
    {
     "name": "stdout",
     "output_type": "stream",
     "text": [
      "\r",
      " 1/12 [=>............................] - ETA: 0s - loss: 0.4529"
     ]
    },
    {
     "name": "stdout",
     "output_type": "stream",
     "text": [
      "\b\b\b\b\b\b\b\b\b\b\b\b\b\b\b\b\b\b\b\b\b\b\b\b\b\b\b\b\b\b\b\b\b\b\b\b\b\b\b\b\b\b\b\b\b\b\b\b\b\b\b\b\b\b\b\b\b\b\b\b\b\b\b\r",
      " 6/12 [==============>...............] - ETA: 0s - loss: 0.4586"
     ]
    },
    {
     "name": "stdout",
     "output_type": "stream",
     "text": [
      "\b\b\b\b\b\b\b\b\b\b\b\b\b\b\b\b\b\b\b\b\b\b\b\b\b\b\b\b\b\b\b\b\b\b\b\b\b\b\b\b\b\b\b\b\b\b\b\b\b\b\b\b\b\b\b\b\b\b\b\b\b\b\b\r",
      "11/12 [==========================>...] - ETA: 0s - loss: 0.4627"
     ]
    },
    {
     "name": "stdout",
     "output_type": "stream",
     "text": [
      "\b\b\b\b\b\b\b\b\b\b\b\b\b\b\b\b\b\b\b\b\b\b\b\b\b\b\b\b\b\b\b\b\b\b\b\b\b\b\b\b\b\b\b\b\b\b\b\b\b\b\b\b\b\b\b\b\b\b\b\b\b\b\b\r",
      "12/12 [==============================] - 0s 14ms/step - loss: 0.4602 - val_loss: 0.5057\n"
     ]
    },
    {
     "name": "stdout",
     "output_type": "stream",
     "text": [
      "Epoch 81/1000\n"
     ]
    },
    {
     "name": "stdout",
     "output_type": "stream",
     "text": [
      "\r",
      " 1/12 [=>............................] - ETA: 0s - loss: 0.4433"
     ]
    },
    {
     "name": "stdout",
     "output_type": "stream",
     "text": [
      "\b\b\b\b\b\b\b\b\b\b\b\b\b\b\b\b\b\b\b\b\b\b\b\b\b\b\b\b\b\b\b\b\b\b\b\b\b\b\b\b\b\b\b\b\b\b\b\b\b\b\b\b\b\b\b\b\b\b\b\b\b\b\b\r",
      " 6/12 [==============>...............] - ETA: 0s - loss: 0.4615"
     ]
    },
    {
     "name": "stdout",
     "output_type": "stream",
     "text": [
      "\b\b\b\b\b\b\b\b\b\b\b\b\b\b\b\b\b\b\b\b\b\b\b\b\b\b\b\b\b\b\b\b\b\b\b\b\b\b\b\b\b\b\b\b\b\b\b\b\b\b\b\b\b\b\b\b\b\b\b\b\b\b\b\r",
      "11/12 [==========================>...] - ETA: 0s - loss: 0.4645"
     ]
    },
    {
     "name": "stdout",
     "output_type": "stream",
     "text": [
      "\b\b\b\b\b\b\b\b\b\b\b\b\b\b\b\b\b\b\b\b\b\b\b\b\b\b\b\b\b\b\b\b\b\b\b\b\b\b\b\b\b\b\b\b\b\b\b\b\b\b\b\b\b\b\b\b\b\b\b\b\b\b\b\r",
      "12/12 [==============================] - 0s 14ms/step - loss: 0.4621 - val_loss: 0.5059\n"
     ]
    },
    {
     "name": "stdout",
     "output_type": "stream",
     "text": [
      "Epoch 82/1000\n"
     ]
    },
    {
     "name": "stdout",
     "output_type": "stream",
     "text": [
      "\r",
      " 1/12 [=>............................] - ETA: 0s - loss: 0.4350"
     ]
    },
    {
     "name": "stdout",
     "output_type": "stream",
     "text": [
      "\b\b\b\b\b\b\b\b\b\b\b\b\b\b\b\b\b\b\b\b\b\b\b\b\b\b\b\b\b\b\b\b\b\b\b\b\b\b\b\b\b\b\b\b\b\b\b\b\b\b\b\b\b\b\b\b\b\b\b\b\b\b\b\r",
      " 6/12 [==============>...............] - ETA: 0s - loss: 0.4694"
     ]
    },
    {
     "name": "stdout",
     "output_type": "stream",
     "text": [
      "\b\b\b\b\b\b\b\b\b\b\b\b\b\b\b\b\b\b\b\b\b\b\b\b\b\b\b\b\b\b\b\b\b\b\b\b\b\b\b\b\b\b\b\b\b\b\b\b\b\b\b\b\b\b\b\b\b\b\b\b\b\b\b\r",
      "11/12 [==========================>...] - ETA: 0s - loss: 0.4663"
     ]
    },
    {
     "name": "stdout",
     "output_type": "stream",
     "text": [
      "\b\b\b\b\b\b\b\b\b\b\b\b\b\b\b\b\b\b\b\b\b\b\b\b\b\b\b\b\b\b\b\b\b\b\b\b\b\b\b\b\b\b\b\b\b\b\b\b\b\b\b\b\b\b\b\b\b\b\b\b\b\b\b\r",
      "12/12 [==============================] - 0s 14ms/step - loss: 0.4644 - val_loss: 0.5061\n"
     ]
    },
    {
     "name": "stdout",
     "output_type": "stream",
     "text": [
      "Epoch 83/1000\n"
     ]
    },
    {
     "name": "stdout",
     "output_type": "stream",
     "text": [
      "\r",
      " 1/12 [=>............................] - ETA: 0s - loss: 0.4153"
     ]
    },
    {
     "name": "stdout",
     "output_type": "stream",
     "text": [
      "\b\b\b\b\b\b\b\b\b\b\b\b\b\b\b\b\b\b\b\b\b\b\b\b\b\b\b\b\b\b\b\b\b\b\b\b\b\b\b\b\b\b\b\b\b\b\b\b\b\b\b\b\b\b\b\b\b\b\b\b\b\b\b\r",
      " 6/12 [==============>...............] - ETA: 0s - loss: 0.4530"
     ]
    },
    {
     "name": "stdout",
     "output_type": "stream",
     "text": [
      "\b\b\b\b\b\b\b\b\b\b\b\b\b\b\b\b\b\b\b\b\b\b\b\b\b\b\b\b\b\b\b\b\b\b\b\b\b\b\b\b\b\b\b\b\b\b\b\b\b\b\b\b\b\b\b\b\b\b\b\b\b\b\b\r",
      "11/12 [==========================>...] - ETA: 0s - loss: 0.4621"
     ]
    },
    {
     "name": "stdout",
     "output_type": "stream",
     "text": [
      "\b\b\b\b\b\b\b\b\b\b\b\b\b\b\b\b\b\b\b\b\b\b\b\b\b\b\b\b\b\b\b\b\b\b\b\b\b\b\b\b\b\b\b\b\b\b\b\b\b\b\b\b\b\b\b\b\b\b\b\b\b\b\b\r",
      "12/12 [==============================] - 0s 14ms/step - loss: 0.4608 - val_loss: 0.5063\n"
     ]
    },
    {
     "name": "stdout",
     "output_type": "stream",
     "text": [
      "Epoch 84/1000\n"
     ]
    },
    {
     "name": "stdout",
     "output_type": "stream",
     "text": [
      "\r",
      " 1/12 [=>............................] - ETA: 0s - loss: 0.3970"
     ]
    },
    {
     "name": "stdout",
     "output_type": "stream",
     "text": [
      "\b\b\b\b\b\b\b\b\b\b\b\b\b\b\b\b\b\b\b\b\b\b\b\b\b\b\b\b\b\b\b\b\b\b\b\b\b\b\b\b\b\b\b\b\b\b\b\b\b\b\b\b\b\b\b\b\b\b\b\b\b\b\b\r",
      " 6/12 [==============>...............] - ETA: 0s - loss: 0.4599"
     ]
    },
    {
     "name": "stdout",
     "output_type": "stream",
     "text": [
      "\b\b\b\b\b\b\b\b\b\b\b\b\b\b\b\b\b\b\b\b\b\b\b\b\b\b\b\b\b\b\b\b\b\b\b\b\b\b\b\b\b\b\b\b\b\b\b\b\b\b\b\b\b\b\b\b\b\b\b\b\b\b\b\r",
      "11/12 [==========================>...] - ETA: 0s - loss: 0.4615"
     ]
    },
    {
     "name": "stdout",
     "output_type": "stream",
     "text": [
      "\b\b\b\b\b\b\b\b\b\b\b\b\b\b\b\b\b\b\b\b\b\b\b\b\b\b\b\b\b\b\b\b\b\b\b\b\b\b\b\b\b\b\b\b\b\b\b\b\b\b\b\b\b\b\b\b\b\b\b\b\b\b\b\r",
      "12/12 [==============================] - 0s 14ms/step - loss: 0.4600 - val_loss: 0.5065\n"
     ]
    },
    {
     "name": "stdout",
     "output_type": "stream",
     "text": [
      "Epoch 85/1000\n"
     ]
    },
    {
     "name": "stdout",
     "output_type": "stream",
     "text": [
      "\r",
      " 1/12 [=>............................] - ETA: 0s - loss: 0.4605"
     ]
    },
    {
     "name": "stdout",
     "output_type": "stream",
     "text": [
      "\b\b\b\b\b\b\b\b\b\b\b\b\b\b\b\b\b\b\b\b\b\b\b\b\b\b\b\b\b\b\b\b\b\b\b\b\b\b\b\b\b\b\b\b\b\b\b\b\b\b\b\b\b\b\b\b\b\b\b\b\b\b\b\r",
      " 6/12 [==============>...............] - ETA: 0s - loss: 0.4644"
     ]
    },
    {
     "name": "stdout",
     "output_type": "stream",
     "text": [
      "\b\b\b\b\b\b\b\b\b\b\b\b\b\b\b\b\b\b\b\b\b\b\b\b\b\b\b\b\b\b\b\b\b\b\b\b\b\b\b\b\b\b\b\b\b\b\b\b\b\b\b\b\b\b\b\b\b\b\b\b\b\b\b\r",
      "11/12 [==========================>...] - ETA: 0s - loss: 0.4587"
     ]
    },
    {
     "name": "stdout",
     "output_type": "stream",
     "text": [
      "\b\b\b\b\b\b\b\b\b\b\b\b\b\b\b\b\b\b\b\b\b\b\b\b\b\b\b\b\b\b\b\b\b\b\b\b\b\b\b\b\b\b\b\b\b\b\b\b\b\b\b\b\b\b\b\b\b\b\b\b\b\b\b\r",
      "12/12 [==============================] - 0s 14ms/step - loss: 0.4619 - val_loss: 0.5066\n"
     ]
    },
    {
     "name": "stdout",
     "output_type": "stream",
     "text": [
      "Epoch 86/1000\n"
     ]
    },
    {
     "name": "stdout",
     "output_type": "stream",
     "text": [
      "\r",
      " 1/12 [=>............................] - ETA: 0s - loss: 0.5031"
     ]
    },
    {
     "name": "stdout",
     "output_type": "stream",
     "text": [
      "\b\b\b\b\b\b\b\b\b\b\b\b\b\b\b\b\b\b\b\b\b\b\b\b\b\b\b\b\b\b\b\b\b\b\b\b\b\b\b\b\b\b\b\b\b\b\b\b\b\b\b\b\b\b\b\b\b\b\b\b\b\b\b\r",
      " 6/12 [==============>...............] - ETA: 0s - loss: 0.4773"
     ]
    },
    {
     "name": "stdout",
     "output_type": "stream",
     "text": [
      "\b\b\b\b\b\b\b\b\b\b\b\b\b\b\b\b\b\b\b\b\b\b\b\b\b\b\b\b\b\b\b\b\b\b\b\b\b\b\b\b\b\b\b\b\b\b\b\b\b\b\b\b\b\b\b\b\b\b\b\b\b\b\b\r",
      "11/12 [==========================>...] - ETA: 0s - loss: 0.4626"
     ]
    },
    {
     "name": "stdout",
     "output_type": "stream",
     "text": [
      "\b\b\b\b\b\b\b\b\b\b\b\b\b\b\b\b\b\b\b\b\b\b\b\b\b\b\b\b\b\b\b\b\b\b\b\b\b\b\b\b\b\b\b\b\b\b\b\b\b\b\b\b\b\b\b\b\b\b\b\b\b\b\b\r",
      "12/12 [==============================] - 0s 14ms/step - loss: 0.4633 - val_loss: 0.5066\n"
     ]
    },
    {
     "name": "stdout",
     "output_type": "stream",
     "text": [
      "Epoch 87/1000\n"
     ]
    },
    {
     "name": "stdout",
     "output_type": "stream",
     "text": [
      "\r",
      " 1/12 [=>............................] - ETA: 0s - loss: 0.4935"
     ]
    },
    {
     "name": "stdout",
     "output_type": "stream",
     "text": [
      "\b\b\b\b\b\b\b\b\b\b\b\b\b\b\b\b\b\b\b\b\b\b\b\b\b\b\b\b\b\b\b\b\b\b\b\b\b\b\b\b\b\b\b\b\b\b\b\b\b\b\b\b\b\b\b\b\b\b\b\b\b\b\b\r",
      " 6/12 [==============>...............] - ETA: 0s - loss: 0.4572"
     ]
    },
    {
     "name": "stdout",
     "output_type": "stream",
     "text": [
      "\b\b\b\b\b\b\b\b\b\b\b\b\b\b\b\b\b\b\b\b\b\b\b\b\b\b\b\b\b\b\b\b\b\b\b\b\b\b\b\b\b\b\b\b\b\b\b\b\b\b\b\b\b\b\b\b\b\b\b\b\b\b\b\r",
      "11/12 [==========================>...] - ETA: 0s - loss: 0.4592"
     ]
    },
    {
     "name": "stdout",
     "output_type": "stream",
     "text": [
      "\b\b\b\b\b\b\b\b\b\b\b\b\b\b\b\b\b\b\b\b\b\b\b\b\b\b\b\b\b\b\b\b\b\b\b\b\b\b\b\b\b\b\b\b\b\b\b\b\b\b\b\b\b\b\b\b\b\b\b\b\b\b\b\r",
      "12/12 [==============================] - 0s 15ms/step - loss: 0.4593 - val_loss: 0.5064\n"
     ]
    },
    {
     "name": "stdout",
     "output_type": "stream",
     "text": [
      "Epoch 88/1000\n"
     ]
    },
    {
     "name": "stdout",
     "output_type": "stream",
     "text": [
      "\r",
      " 1/12 [=>............................] - ETA: 0s - loss: 0.5105"
     ]
    },
    {
     "name": "stdout",
     "output_type": "stream",
     "text": [
      "\b\b\b\b\b\b\b\b\b\b\b\b\b\b\b\b\b\b\b\b\b\b\b\b\b\b\b\b\b\b\b\b\b\b\b\b\b\b\b\b\b\b\b\b\b\b\b\b\b\b\b\b\b\b\b\b\b\b\b\b\b\b\b\r",
      " 6/12 [==============>...............] - ETA: 0s - loss: 0.4767"
     ]
    },
    {
     "name": "stdout",
     "output_type": "stream",
     "text": [
      "\b\b\b\b\b\b\b\b\b\b\b\b\b\b\b\b\b\b\b\b\b\b\b\b\b\b\b\b\b\b\b\b\b\b\b\b\b\b\b\b\b\b\b\b\b\b\b\b\b\b\b\b\b\b\b\b\b\b\b\b\b\b\b\r",
      "11/12 [==========================>...] - ETA: 0s - loss: 0.4625"
     ]
    },
    {
     "name": "stdout",
     "output_type": "stream",
     "text": [
      "\b\b\b\b\b\b\b\b\b\b\b\b\b\b\b\b\b\b\b\b\b\b\b\b\b\b\b\b\b\b\b\b\b\b\b\b\b\b\b\b\b\b\b\b\b\b\b\b\b\b\b\b\b\b\b\b\b\b\b\b\b\b\b\r",
      "12/12 [==============================] - 0s 14ms/step - loss: 0.4596 - val_loss: 0.5065\n"
     ]
    },
    {
     "name": "stdout",
     "output_type": "stream",
     "text": [
      "Epoch 89/1000\n"
     ]
    },
    {
     "name": "stdout",
     "output_type": "stream",
     "text": [
      "\r",
      " 1/12 [=>............................] - ETA: 0s - loss: 0.4389"
     ]
    },
    {
     "name": "stdout",
     "output_type": "stream",
     "text": [
      "\b\b\b\b\b\b\b\b\b\b\b\b\b\b\b\b\b\b\b\b\b\b\b\b\b\b\b\b\b\b\b\b\b\b\b\b\b\b\b\b\b\b\b\b\b\b\b\b\b\b\b\b\b\b\b\b\b\b\b\b\b\b\b\r",
      " 6/12 [==============>...............] - ETA: 0s - loss: 0.4735"
     ]
    },
    {
     "name": "stdout",
     "output_type": "stream",
     "text": [
      "\b\b\b\b\b\b\b\b\b\b\b\b\b\b\b\b\b\b\b\b\b\b\b\b\b\b\b\b\b\b\b\b\b\b\b\b\b\b\b\b\b\b\b\b\b\b\b\b\b\b\b\b\b\b\b\b\b\b\b\b\b\b\b\r",
      "11/12 [==========================>...] - ETA: 0s - loss: 0.4657"
     ]
    },
    {
     "name": "stdout",
     "output_type": "stream",
     "text": [
      "\b\b\b\b\b\b\b\b\b\b\b\b\b\b\b\b\b\b\b\b\b\b\b\b\b\b\b\b\b\b\b\b\b\b\b\b\b\b\b\b\b\b\b\b\b\b\b\b\b\b\b\b\b\b\b\b\b\b\b\b\b\b\b\r",
      "12/12 [==============================] - 0s 14ms/step - loss: 0.4618 - val_loss: 0.5065\n"
     ]
    },
    {
     "name": "stdout",
     "output_type": "stream",
     "text": [
      "Epoch 90/1000\n"
     ]
    },
    {
     "name": "stdout",
     "output_type": "stream",
     "text": [
      "\r",
      " 1/12 [=>............................] - ETA: 0s - loss: 0.4063"
     ]
    },
    {
     "name": "stdout",
     "output_type": "stream",
     "text": [
      "\b\b\b\b\b\b\b\b\b\b\b\b\b\b\b\b\b\b\b\b\b\b\b\b\b\b\b\b\b\b\b\b\b\b\b\b\b\b\b\b\b\b\b\b\b\b\b\b\b\b\b\b\b\b\b\b\b\b\b\b\b\b\b\r",
      " 6/12 [==============>...............] - ETA: 0s - loss: 0.4548"
     ]
    },
    {
     "name": "stdout",
     "output_type": "stream",
     "text": [
      "\b\b\b\b\b\b\b\b\b\b\b\b\b\b\b\b\b\b\b\b\b\b\b\b\b\b\b\b\b\b\b\b\b\b\b\b\b\b\b\b\b\b\b\b\b\b\b\b\b\b\b\b\b\b\b\b\b\b\b\b\b\b\b\r",
      "11/12 [==========================>...] - ETA: 0s - loss: 0.4611"
     ]
    },
    {
     "name": "stdout",
     "output_type": "stream",
     "text": [
      "\b\b\b\b\b\b\b\b\b\b\b\b\b\b\b\b\b\b\b\b\b\b\b\b\b\b\b\b\b\b\b\b\b\b\b\b\b\b\b\b\b\b\b\b\b\b\b\b\b\b\b\b\b\b\b\b\b\b\b\b\b\b\b\r",
      "12/12 [==============================] - 0s 14ms/step - loss: 0.4626 - val_loss: 0.5066\n"
     ]
    }
   ],
   "source": [
    "my_callbacks = [\n",
    "    EarlyStopping(patience=10)\n",
    "]\n",
    "history = model.fit(X_train, y_train, epochs=1000,  validation_split=0.4, verbose=1,\n",
    "callbacks=my_callbacks)"
   ]
  },
  {
   "cell_type": "code",
   "execution_count": 14,
   "id": "5aea1322",
   "metadata": {},
   "outputs": [
    {
     "data": {
      "image/png": "[encoded data removed]",
      "text/plain": [
       "<Figure size 672x480 with 1 Axes>"
      ]
     },
     "metadata": {
      "image/png": {
       "height": 449,
       "width": 597
      }
     },
     "output_type": "display_data"
    }
   ],
   "source": [
    "plt.plot(history.history['loss'])\n",
    "plt.plot(history.history['val_loss'])\n",
    "plt.title('model loss')\n",
    "plt.ylabel('loss')\n",
    "plt.xlabel('epoch')\n",
    "plt.legend(['train', 'validation'], loc='upper left')\n",
    "plt.show()"
   ]
  },
  {
   "cell_type": "code",
   "execution_count": 15,
   "id": "9f55b219",
   "metadata": {},
   "outputs": [
    {
     "name": "stdout",
     "output_type": "stream",
     "text": [
      "ACC on test sample: 0.183\n"
     ]
    }
   ],
   "source": [
    "from sklearn.metrics import accuracy_score\n",
    "y_pred = model.predict(X_test, verbose=0)\n",
    "y_class = y_pred.round()\n",
    "acc = accuracy_score(y_test, y_class)\n",
    "print(f\"ACC on test sample: {acc:.3f}\")"
   ]
  }
 ],
 "metadata": {
  "kernelspec": {
   "display_name": "Python 3 (ipykernel)",
   "language": "python",
   "name": "python3"
  },
  "language_info": {
   "codemirror_mode": {
    "name": "ipython",
    "version": 3
   },
   "file_extension": ".py",
   "mimetype": "text/x-python",
   "name": "python",
   "nbconvert_exporter": "python",
   "pygments_lexer": "ipython3",
   "version": "3.10.10"
  }
 },
 "nbformat": 4,
 "nbformat_minor": 5
}